{
 "cells": [
  {
   "cell_type": "code",
   "execution_count": 1,
   "metadata": {
    "collapsed": false
   },
   "outputs": [
    {
     "name": "stderr",
     "output_type": "stream",
     "text": [
      "Using TensorFlow backend.\n"
     ]
    }
   ],
   "source": [
    "from keras.models import Sequential\n",
    "from keras.layers.core import Dense, Activation, Merge, Reshape, Dropout\n",
    "from keras.layers.embeddings import Embedding\n",
    "from keras.optimizers import SGD\n",
    "from keras.layers.normalization import BatchNormalization"
   ]
  },
  {
   "cell_type": "code",
   "execution_count": 4,
   "metadata": {
    "collapsed": false
   },
   "outputs": [
    {
     "name": "stdout",
     "output_type": "stream",
     "text": [
      "Populating the interactive namespace from numpy and matplotlib\n"
     ]
    }
   ],
   "source": [
    "import pandas as pd\n",
    "import numpy as np\n",
    "import xgboost as xgb\n",
    "from sklearn.preprocessing import LabelEncoder\n",
    "from scripts.kaggle.helpers import make_submission\n",
    "import datetime\n",
    "from tqdm import tqdm\n",
    "import gc\n",
    "import itertools\n",
    "from multiprocessing import Pool\n",
    "import pickle\n",
    "\n",
    "%matplotlib inline\n",
    "import matplotlib.pyplot as plt\n",
    "import seaborn as sns\n",
    "\n",
    "%pylab inline\n",
    "pylab.rcParams['figure.figsize'] = (12, 16)\n",
    "\n",
    "%load_ext autotime"
   ]
  },
  {
   "cell_type": "code",
   "execution_count": 7,
   "metadata": {
    "collapsed": false
   },
   "outputs": [
    {
     "name": "stdout",
     "output_type": "stream",
     "text": [
      "time: 1.37 ms\n"
     ]
    }
   ],
   "source": [
    "import sys\n",
    "import numpy as np\n",
    "import pandas as pd\n",
    "from sklearn import preprocessing"
   ]
  },
  {
   "cell_type": "code",
   "execution_count": 73,
   "metadata": {
    "collapsed": false
   },
   "outputs": [
    {
     "name": "stdout",
     "output_type": "stream",
     "text": [
      "time: 4.88 ms\n"
     ]
    }
   ],
   "source": [
    "def keras_model():\n",
    "    # keras model architecture #\n",
    "    final_model = Sequential()\n",
    "    final_model.add(Dense(50, input_dim=train.shape[1], init='he_uniform'))\n",
    "    final_model.add(Activation('relu'))\n",
    "    final_model.add(Dense(train_y.shape[1], init='zero'))\n",
    "    final_model.add(Activation('sigmoid'))\n",
    "    final_model.compile(loss='binary_crossentropy', optimizer='adam')\n",
    "    return final_model"
   ]
  },
  {
   "cell_type": "code",
   "execution_count": 5,
   "metadata": {
    "collapsed": false
   },
   "outputs": [
    {
     "name": "stdout",
     "output_type": "stream",
     "text": [
      "time: 32.2 s\n"
     ]
    }
   ],
   "source": [
    "description, train, added_products, label_encoder, encoders = pickle.load(open('/home/ubuntu/old_machine/home/ubuntu/santander/data/train_data.train_data', 'rb'))"
   ]
  },
  {
   "cell_type": "code",
   "execution_count": 28,
   "metadata": {
    "collapsed": false
   },
   "outputs": [
    {
     "name": "stdout",
     "output_type": "stream",
     "text": [
      "time: 1.36 ms\n"
     ]
    }
   ],
   "source": [
    "encoder_cols = ['sexo', 'indrel_1mes', 'pais_residencia', 'ind_empleado',\n",
    "                'segmento', 'tiprel_1mes', 'indresi', 'indext', 'conyuemp',\n",
    "                'canal_entrada', 'indfall', 'nomprov']"
   ]
  },
  {
   "cell_type": "code",
   "execution_count": 44,
   "metadata": {
    "collapsed": false
   },
   "outputs": [
    {
     "name": "stdout",
     "output_type": "stream",
     "text": [
      "time: 4.32 s\n"
     ]
    }
   ],
   "source": [
    "for col in encoder_cols:\n",
    "    train[col] = encoder_dict[col].inverse_transform(train[col])\n",
    "    \n",
    "\n",
    "for col in encoder_cols:\n",
    "    temp = pd.get_dummies(train[col])\n",
    "    temp.columns = [col + '_' + x for x in temp.columns]\n",
    "    train = pd.concat((train, temp), axis=1, join_axes=[train.index])\n",
    "\n",
    "for col in encoder_cols:\n",
    "    del train[col]"
   ]
  },
  {
   "cell_type": "code",
   "execution_count": 53,
   "metadata": {
    "collapsed": false
   },
   "outputs": [
    {
     "name": "stdout",
     "output_type": "stream",
     "text": [
      "time: 79.9 ms\n"
     ]
    }
   ],
   "source": [
    "train_y = pd.get_dummies(added_products.added_product)"
   ]
  },
  {
   "cell_type": "code",
   "execution_count": 80,
   "metadata": {
    "collapsed": false
   },
   "outputs": [
    {
     "name": "stdout",
     "output_type": "stream",
     "text": [
      "time: 1.31 ms\n"
     ]
    }
   ],
   "source": [
    "train_index = train.index\n",
    "train_y_index = train_y.index"
   ]
  },
  {
   "cell_type": "code",
   "execution_count": 69,
   "metadata": {
    "collapsed": false
   },
   "outputs": [
    {
     "name": "stdout",
     "output_type": "stream",
     "text": [
      "time: 2.26 s\n"
     ]
    }
   ],
   "source": [
    "train.fillna(0, inplace=True)\n",
    "\n",
    "train.reset_index(inplace=True)\n",
    "train_y.reset_index(inplace=True)\n",
    "del train['ncodpers'], train_y['ncodpers']\n",
    "\n",
    "train_np = np.array(train)\n",
    "\n",
    "train_y_np = np.array(train_y)"
   ]
  },
  {
   "cell_type": "code",
   "execution_count": 75,
   "metadata": {
    "collapsed": false
   },
   "outputs": [
    {
     "name": "stdout",
     "output_type": "stream",
     "text": [
      "time: 139 ms\n"
     ]
    }
   ],
   "source": [
    "model = keras_model()"
   ]
  },
  {
   "cell_type": "code",
   "execution_count": 88,
   "metadata": {
    "collapsed": false
   },
   "outputs": [
    {
     "name": "stdout",
     "output_type": "stream",
     "text": [
      "time: 955 µs\n"
     ]
    }
   ],
   "source": [
    "import time"
   ]
  },
  {
   "cell_type": "code",
   "execution_count": 132,
   "metadata": {
    "collapsed": false
   },
   "outputs": [
    {
     "name": "stdout",
     "output_type": "stream",
     "text": [
      "Epoch 1/50\n",
      "441652/441652 [==============================] - 5s - loss: 0.6718\n",
      "Epoch 2/50\n",
      "441652/441652 [==============================] - 5s - loss: 0.6718\n",
      "Epoch 3/50\n",
      "441652/441652 [==============================] - 5s - loss: 0.6718\n",
      "Epoch 4/50\n",
      "441652/441652 [==============================] - 5s - loss: 0.6718\n",
      "Epoch 5/50\n",
      "441652/441652 [==============================] - 5s - loss: 0.6718\n",
      "Epoch 6/50\n",
      "441652/441652 [==============================] - 5s - loss: 0.6718\n",
      "Epoch 7/50\n",
      "441652/441652 [==============================] - 5s - loss: 0.6718\n",
      "Epoch 8/50\n",
      "441652/441652 [==============================] - 5s - loss: 0.6718\n",
      "Epoch 9/50\n",
      "441652/441652 [==============================] - 5s - loss: 0.6718\n",
      "Epoch 10/50\n",
      "441652/441652 [==============================] - 5s - loss: 0.6718\n",
      "Epoch 11/50\n",
      "441652/441652 [==============================] - 7s - loss: 0.6718\n",
      "Epoch 12/50\n",
      "441652/441652 [==============================] - 7s - loss: 0.6718\n",
      "Epoch 13/50\n",
      "441652/441652 [==============================] - 7s - loss: 0.6718\n",
      "Epoch 14/50\n",
      "441652/441652 [==============================] - 6s - loss: 0.6718\n",
      "Epoch 15/50\n",
      "441652/441652 [==============================] - 7s - loss: 0.6718\n",
      "Epoch 16/50\n",
      "441652/441652 [==============================] - 7s - loss: 0.6718\n",
      "Epoch 17/50\n",
      "441652/441652 [==============================] - 6s - loss: 0.6718\n",
      "Epoch 18/50\n",
      "441652/441652 [==============================] - 6s - loss: 0.6718\n",
      "Epoch 19/50\n",
      "441652/441652 [==============================] - 7s - loss: 0.6718\n",
      "Epoch 20/50\n",
      "441652/441652 [==============================] - 7s - loss: 0.6718\n",
      "Epoch 21/50\n",
      "441652/441652 [==============================] - 7s - loss: 0.6718\n",
      "Epoch 22/50\n",
      "441652/441652 [==============================] - 6s - loss: 0.6718\n",
      "Epoch 23/50\n",
      "441652/441652 [==============================] - 7s - loss: 0.6718\n",
      "Epoch 24/50\n",
      "441652/441652 [==============================] - 6s - loss: 0.6718\n",
      "Epoch 25/50\n",
      "441652/441652 [==============================] - 6s - loss: 0.6718\n",
      "Epoch 26/50\n"
     ]
    },
    {
     "ename": "KeyboardInterrupt",
     "evalue": "",
     "output_type": "error",
     "traceback": [
      "\u001b[1;31m---------------------------------------------------------------------------\u001b[0m",
      "\u001b[1;31mKeyboardInterrupt\u001b[0m                         Traceback (most recent call last)",
      "\u001b[1;32m<ipython-input-132-6de646d4337b>\u001b[0m in \u001b[0;36m<module>\u001b[1;34m()\u001b[0m\n\u001b[0;32m      8\u001b[0m \u001b[1;31m#               )\u001b[0m\u001b[1;33m\u001b[0m\u001b[1;33m\u001b[0m\u001b[0m\n\u001b[0;32m      9\u001b[0m \u001b[1;33m\u001b[0m\u001b[0m\n\u001b[1;32m---> 10\u001b[1;33m \u001b[0mhist\u001b[0m\u001b[1;33m=\u001b[0m \u001b[0mmodel\u001b[0m\u001b[1;33m.\u001b[0m\u001b[0mfit\u001b[0m\u001b[1;33m(\u001b[0m\u001b[0mtrain_np\u001b[0m\u001b[1;33m,\u001b[0m \u001b[0mtrain_y_np\u001b[0m\u001b[1;33m,\u001b[0m \u001b[0mnb_epoch\u001b[0m\u001b[1;33m=\u001b[0m\u001b[1;36m50\u001b[0m\u001b[1;33m,\u001b[0m \u001b[0mbatch_size\u001b[0m\u001b[1;33m=\u001b[0m\u001b[0mtrain_np\u001b[0m\u001b[1;33m.\u001b[0m\u001b[0mshape\u001b[0m\u001b[1;33m[\u001b[0m\u001b[1;36m0\u001b[0m\u001b[1;33m]\u001b[0m\u001b[1;33m)\u001b[0m\u001b[1;33m\u001b[0m\u001b[0m\n\u001b[0m\u001b[0;32m     11\u001b[0m \u001b[0mtime\u001b[0m\u001b[1;33m.\u001b[0m\u001b[0msleep\u001b[0m\u001b[1;33m(\u001b[0m\u001b[1;36m0.1\u001b[0m\u001b[1;33m)\u001b[0m\u001b[1;33m\u001b[0m\u001b[0m\n",
      "\u001b[1;32m/usr/local/lib/python2.7/dist-packages/keras/models.pyc\u001b[0m in \u001b[0;36mfit\u001b[1;34m(self, x, y, batch_size, nb_epoch, verbose, callbacks, validation_split, validation_data, shuffle, class_weight, sample_weight, **kwargs)\u001b[0m\n\u001b[0;32m    650\u001b[0m                               \u001b[0mshuffle\u001b[0m\u001b[1;33m=\u001b[0m\u001b[0mshuffle\u001b[0m\u001b[1;33m,\u001b[0m\u001b[1;33m\u001b[0m\u001b[0m\n\u001b[0;32m    651\u001b[0m                               \u001b[0mclass_weight\u001b[0m\u001b[1;33m=\u001b[0m\u001b[0mclass_weight\u001b[0m\u001b[1;33m,\u001b[0m\u001b[1;33m\u001b[0m\u001b[0m\n\u001b[1;32m--> 652\u001b[1;33m                               sample_weight=sample_weight)\n\u001b[0m\u001b[0;32m    653\u001b[0m \u001b[1;33m\u001b[0m\u001b[0m\n\u001b[0;32m    654\u001b[0m     def evaluate(self, x, y, batch_size=32, verbose=1,\n",
      "\u001b[1;32m/usr/local/lib/python2.7/dist-packages/keras/engine/training.pyc\u001b[0m in \u001b[0;36mfit\u001b[1;34m(self, x, y, batch_size, nb_epoch, verbose, callbacks, validation_split, validation_data, shuffle, class_weight, sample_weight, initial_epoch)\u001b[0m\n\u001b[0;32m   1109\u001b[0m                               \u001b[0mval_f\u001b[0m\u001b[1;33m=\u001b[0m\u001b[0mval_f\u001b[0m\u001b[1;33m,\u001b[0m \u001b[0mval_ins\u001b[0m\u001b[1;33m=\u001b[0m\u001b[0mval_ins\u001b[0m\u001b[1;33m,\u001b[0m \u001b[0mshuffle\u001b[0m\u001b[1;33m=\u001b[0m\u001b[0mshuffle\u001b[0m\u001b[1;33m,\u001b[0m\u001b[1;33m\u001b[0m\u001b[0m\n\u001b[0;32m   1110\u001b[0m                               \u001b[0mcallback_metrics\u001b[0m\u001b[1;33m=\u001b[0m\u001b[0mcallback_metrics\u001b[0m\u001b[1;33m,\u001b[0m\u001b[1;33m\u001b[0m\u001b[0m\n\u001b[1;32m-> 1111\u001b[1;33m                               initial_epoch=initial_epoch)\n\u001b[0m\u001b[0;32m   1112\u001b[0m \u001b[1;33m\u001b[0m\u001b[0m\n\u001b[0;32m   1113\u001b[0m     \u001b[1;32mdef\u001b[0m \u001b[0mevaluate\u001b[0m\u001b[1;33m(\u001b[0m\u001b[0mself\u001b[0m\u001b[1;33m,\u001b[0m \u001b[0mx\u001b[0m\u001b[1;33m,\u001b[0m \u001b[0my\u001b[0m\u001b[1;33m,\u001b[0m \u001b[0mbatch_size\u001b[0m\u001b[1;33m=\u001b[0m\u001b[1;36m32\u001b[0m\u001b[1;33m,\u001b[0m \u001b[0mverbose\u001b[0m\u001b[1;33m=\u001b[0m\u001b[1;36m1\u001b[0m\u001b[1;33m,\u001b[0m \u001b[0msample_weight\u001b[0m\u001b[1;33m=\u001b[0m\u001b[0mNone\u001b[0m\u001b[1;33m)\u001b[0m\u001b[1;33m:\u001b[0m\u001b[1;33m\u001b[0m\u001b[0m\n",
      "\u001b[1;32m/usr/local/lib/python2.7/dist-packages/keras/engine/training.pyc\u001b[0m in \u001b[0;36m_fit_loop\u001b[1;34m(self, f, ins, out_labels, batch_size, nb_epoch, verbose, callbacks, val_f, val_ins, shuffle, callback_metrics, initial_epoch)\u001b[0m\n\u001b[0;32m    815\u001b[0m                         \u001b[0mins_batch\u001b[0m \u001b[1;33m=\u001b[0m \u001b[0mslice_X\u001b[0m\u001b[1;33m(\u001b[0m\u001b[0mins\u001b[0m\u001b[1;33m[\u001b[0m\u001b[1;33m:\u001b[0m\u001b[1;33m-\u001b[0m\u001b[1;36m1\u001b[0m\u001b[1;33m]\u001b[0m\u001b[1;33m,\u001b[0m \u001b[0mbatch_ids\u001b[0m\u001b[1;33m)\u001b[0m \u001b[1;33m+\u001b[0m \u001b[1;33m[\u001b[0m\u001b[0mins\u001b[0m\u001b[1;33m[\u001b[0m\u001b[1;33m-\u001b[0m\u001b[1;36m1\u001b[0m\u001b[1;33m]\u001b[0m\u001b[1;33m]\u001b[0m\u001b[1;33m\u001b[0m\u001b[0m\n\u001b[0;32m    816\u001b[0m                     \u001b[1;32melse\u001b[0m\u001b[1;33m:\u001b[0m\u001b[1;33m\u001b[0m\u001b[0m\n\u001b[1;32m--> 817\u001b[1;33m                         \u001b[0mins_batch\u001b[0m \u001b[1;33m=\u001b[0m \u001b[0mslice_X\u001b[0m\u001b[1;33m(\u001b[0m\u001b[0mins\u001b[0m\u001b[1;33m,\u001b[0m \u001b[0mbatch_ids\u001b[0m\u001b[1;33m)\u001b[0m\u001b[1;33m\u001b[0m\u001b[0m\n\u001b[0m\u001b[0;32m    818\u001b[0m                 \u001b[1;32mexcept\u001b[0m \u001b[0mTypeError\u001b[0m\u001b[1;33m:\u001b[0m\u001b[1;33m\u001b[0m\u001b[0m\n\u001b[0;32m    819\u001b[0m                     raise Exception('TypeError while preparing batch. '\n",
      "\u001b[1;32m/usr/local/lib/python2.7/dist-packages/keras/engine/training.pyc\u001b[0m in \u001b[0;36mslice_X\u001b[1;34m(X, start, stop)\u001b[0m\n\u001b[0;32m    282\u001b[0m             \u001b[1;32mif\u001b[0m \u001b[0mhasattr\u001b[0m\u001b[1;33m(\u001b[0m\u001b[0mstart\u001b[0m\u001b[1;33m,\u001b[0m \u001b[1;34m'shape'\u001b[0m\u001b[1;33m)\u001b[0m\u001b[1;33m:\u001b[0m\u001b[1;33m\u001b[0m\u001b[0m\n\u001b[0;32m    283\u001b[0m                 \u001b[0mstart\u001b[0m \u001b[1;33m=\u001b[0m \u001b[0mstart\u001b[0m\u001b[1;33m.\u001b[0m\u001b[0mtolist\u001b[0m\u001b[1;33m(\u001b[0m\u001b[1;33m)\u001b[0m\u001b[1;33m\u001b[0m\u001b[0m\n\u001b[1;32m--> 284\u001b[1;33m             \u001b[1;32mreturn\u001b[0m \u001b[1;33m[\u001b[0m\u001b[0mx\u001b[0m\u001b[1;33m[\u001b[0m\u001b[0mstart\u001b[0m\u001b[1;33m]\u001b[0m \u001b[1;32mfor\u001b[0m \u001b[0mx\u001b[0m \u001b[1;32min\u001b[0m \u001b[0mX\u001b[0m\u001b[1;33m]\u001b[0m\u001b[1;33m\u001b[0m\u001b[0m\n\u001b[0m\u001b[0;32m    285\u001b[0m         \u001b[1;32melse\u001b[0m\u001b[1;33m:\u001b[0m\u001b[1;33m\u001b[0m\u001b[0m\n\u001b[0;32m    286\u001b[0m             \u001b[1;32mreturn\u001b[0m \u001b[1;33m[\u001b[0m\u001b[0mx\u001b[0m\u001b[1;33m[\u001b[0m\u001b[0mstart\u001b[0m\u001b[1;33m:\u001b[0m\u001b[0mstop\u001b[0m\u001b[1;33m]\u001b[0m \u001b[1;32mfor\u001b[0m \u001b[0mx\u001b[0m \u001b[1;32min\u001b[0m \u001b[0mX\u001b[0m\u001b[1;33m]\u001b[0m\u001b[1;33m\u001b[0m\u001b[0m\n",
      "\u001b[1;31mKeyboardInterrupt\u001b[0m: "
     ]
    },
    {
     "name": "stdout",
     "output_type": "stream",
     "text": [
      "time: 2min 47s\n"
     ]
    }
   ],
   "source": [
    "# hist = model.fit(train_np, train_y_np, verbose=1)\n",
    "# time.sleep(0.1)\n",
    "\n",
    "# fit_generator(\n",
    "# \t\t\tgenerator = batch_generator(train, 500, False), \n",
    "# \t\t\tnb_epoch = 1,\n",
    "# \t\t\tsamples_per_epoch = train_size\n",
    "# \t\t)\n",
    "\n",
    "hist= model.fit(train_np, train_y_np, nb_epoch=50, batch_size=train_np.shape[0])\n",
    "time.sleep(0.1)"
   ]
  },
  {
   "cell_type": "code",
   "execution_count": 130,
   "metadata": {
    "collapsed": false
   },
   "outputs": [
    {
     "name": "stdout",
     "output_type": "stream",
     "text": [
      "time: 3.36 ms\n"
     ]
    }
   ],
   "source": [
    "hist= model.fit_generator?"
   ]
  },
  {
   "cell_type": "code",
   "execution_count": null,
   "metadata": {
    "collapsed": true
   },
   "outputs": [],
   "source": [
    "hist= model.fit_generator"
   ]
  },
  {
   "cell_type": "code",
   "execution_count": null,
   "metadata": {
    "collapsed": true
   },
   "outputs": [],
   "source": [
    "hist= model.fit"
   ]
  },
  {
   "cell_type": "code",
   "execution_count": 91,
   "metadata": {
    "collapsed": false
   },
   "outputs": [
    {
     "name": "stdout",
     "output_type": "stream",
     "text": [
      "time: 33 s\n"
     ]
    }
   ],
   "source": [
    "description, test1 = pickle.load(open('/home/ubuntu/old_machine/home/ubuntu/santander/data/13.test_data1.test_data1', 'rb'))\n",
    "# test1.drop([500000], inplace=True)\n",
    "# description, test2 = pickle.load(open('/home/ubuntu/old_machine/home/ubuntu/santander/data/13.test_data2.test_data2', 'rb'))\n",
    "# test = pd.concat((test1, test2))\n",
    "# test.set_index('ncodpers', inplace=True)\n",
    "# del test1, test2\n",
    "# gc.collect()\n",
    "# test.reset_index(inplace=True)"
   ]
  },
  {
   "cell_type": "code",
   "execution_count": 92,
   "metadata": {
    "collapsed": false
   },
   "outputs": [
    {
     "name": "stdout",
     "output_type": "stream",
     "text": [
      "time: 24.1 s\n"
     ]
    }
   ],
   "source": [
    "for col in encoder_cols:\n",
    "    test1[col] = encoder_dict[col].inverse_transform(test1[col])\n",
    "    \n",
    "\n",
    "# for col in encoder_cols:\n",
    "    temp = pd.get_dummies(test1[col])\n",
    "    temp.columns = [col + '_' + x for x in temp.columns]\n",
    "    test1 = pd.concat((test1, temp), axis=1, join_axes=[test1.index])\n",
    "\n",
    "# for col in encoder_cols:\n",
    "    del test1[col]"
   ]
  },
  {
   "cell_type": "code",
   "execution_count": 93,
   "metadata": {
    "collapsed": false
   },
   "outputs": [
    {
     "name": "stdout",
     "output_type": "stream",
     "text": [
      "time: 849 µs\n"
     ]
    }
   ],
   "source": [
    "test1_index = test1.index"
   ]
  },
  {
   "cell_type": "code",
   "execution_count": 94,
   "metadata": {
    "collapsed": false
   },
   "outputs": [
    {
     "name": "stdout",
     "output_type": "stream",
     "text": [
      "time: 4.97 s\n"
     ]
    }
   ],
   "source": [
    "test1.fillna(0, inplace=True)\n",
    "\n",
    "test1.reset_index(inplace=True)\n",
    "del test1['ncodpers']\n",
    "\n",
    "non_existent_test_cols = list(set(train.columns).difference(set(test1.columns)))\n",
    "\n",
    "for col in non_existent_test_cols:\n",
    "    test1[col] = [0.0]*test1.shape[0]\n",
    "\n",
    "test1 = test1[train.columns]\n",
    "\n",
    "test1_np = np.array(test1)\n"
   ]
  },
  {
   "cell_type": "code",
   "execution_count": 116,
   "metadata": {
    "collapsed": false
   },
   "outputs": [
    {
     "name": "stdout",
     "output_type": "stream",
     "text": [
      "499904/500001 [============================>.] - ETA: 0stime: 10.7 s\n"
     ]
    }
   ],
   "source": [
    "preds = model.predict_proba(test1_np)"
   ]
  },
  {
   "cell_type": "code",
   "execution_count": 117,
   "metadata": {
    "collapsed": false
   },
   "outputs": [
    {
     "data": {
      "text/plain": [
       "(500001, 24)"
      ]
     },
     "execution_count": 117,
     "metadata": {},
     "output_type": "execute_result"
    },
    {
     "name": "stdout",
     "output_type": "stream",
     "text": [
      "time: 2.9 ms\n"
     ]
    }
   ],
   "source": [
    "preds.shape"
   ]
  },
  {
   "cell_type": "code",
   "execution_count": 120,
   "metadata": {
    "collapsed": false
   },
   "outputs": [
    {
     "data": {
      "text/plain": [
       "array([ 0.,  0.,  0.,  0.,  0.,  0.,  0.,  0.,  0.,  0.,  0.,  0.,  0.,\n",
       "        0.,  0.,  0.,  0.,  0.,  0.,  0.,  0.,  0.,  0.,  0.], dtype=float32)"
      ]
     },
     "execution_count": 120,
     "metadata": {},
     "output_type": "execute_result"
    },
    {
     "name": "stdout",
     "output_type": "stream",
     "text": [
      "time: 3.61 ms\n"
     ]
    }
   ],
   "source": [
    "preds[3566]"
   ]
  },
  {
   "cell_type": "code",
   "execution_count": 121,
   "metadata": {
    "collapsed": false
   },
   "outputs": [
    {
     "name": "stdout",
     "output_type": "stream",
     "text": [
      "441600/441652 [============================>.] - ETA: 0stime: 9.24 s\n"
     ]
    }
   ],
   "source": [
    "preds_tr = model.predict_proba(train_np)"
   ]
  },
  {
   "cell_type": "code",
   "execution_count": 123,
   "metadata": {
    "collapsed": false
   },
   "outputs": [
    {
     "name": "stdout",
     "output_type": "stream",
     "text": [
      "499776/500001 [============================>.] - ETA: 0stime: 10.7 s\n"
     ]
    }
   ],
   "source": [
    "preds_classes = model.predict_classes(test1_np)"
   ]
  },
  {
   "cell_type": "code",
   "execution_count": 124,
   "metadata": {
    "collapsed": false
   },
   "outputs": [
    {
     "data": {
      "text/plain": [
       "(500001,)"
      ]
     },
     "execution_count": 124,
     "metadata": {},
     "output_type": "execute_result"
    },
    {
     "name": "stdout",
     "output_type": "stream",
     "text": [
      "time: 2.69 ms\n"
     ]
    }
   ],
   "source": [
    "preds_classes.shape"
   ]
  },
  {
   "cell_type": "code",
   "execution_count": null,
   "metadata": {
    "collapsed": false
   },
   "outputs": [],
   "source": [
    "l = list(preds_classes)"
   ]
  },
  {
   "cell_type": "code",
   "execution_count": 133,
   "metadata": {
    "collapsed": false
   },
   "outputs": [
    {
     "name": "stdout",
     "output_type": "stream",
     "text": [
      "time: 1 ms\n"
     ]
    }
   ],
   "source": [
    "from sklearn.datasets import load_iris"
   ]
  },
  {
   "cell_type": "code",
   "execution_count": 135,
   "metadata": {
    "collapsed": false
   },
   "outputs": [
    {
     "name": "stdout",
     "output_type": "stream",
     "text": [
      "time: 150 ms\n"
     ]
    }
   ],
   "source": [
    "iris = load_iris()"
   ]
  },
  {
   "cell_type": "code",
   "execution_count": 137,
   "metadata": {
    "collapsed": false
   },
   "outputs": [
    {
     "data": {
      "text/plain": [
       "array([[ 5.1,  3.5,  1.4,  0.2],\n",
       "       [ 4.9,  3. ,  1.4,  0.2],\n",
       "       [ 4.7,  3.2,  1.3,  0.2],\n",
       "       [ 4.6,  3.1,  1.5,  0.2],\n",
       "       [ 5. ,  3.6,  1.4,  0.2],\n",
       "       [ 5.4,  3.9,  1.7,  0.4],\n",
       "       [ 4.6,  3.4,  1.4,  0.3],\n",
       "       [ 5. ,  3.4,  1.5,  0.2],\n",
       "       [ 4.4,  2.9,  1.4,  0.2],\n",
       "       [ 4.9,  3.1,  1.5,  0.1],\n",
       "       [ 5.4,  3.7,  1.5,  0.2],\n",
       "       [ 4.8,  3.4,  1.6,  0.2],\n",
       "       [ 4.8,  3. ,  1.4,  0.1],\n",
       "       [ 4.3,  3. ,  1.1,  0.1],\n",
       "       [ 5.8,  4. ,  1.2,  0.2],\n",
       "       [ 5.7,  4.4,  1.5,  0.4],\n",
       "       [ 5.4,  3.9,  1.3,  0.4],\n",
       "       [ 5.1,  3.5,  1.4,  0.3],\n",
       "       [ 5.7,  3.8,  1.7,  0.3],\n",
       "       [ 5.1,  3.8,  1.5,  0.3],\n",
       "       [ 5.4,  3.4,  1.7,  0.2],\n",
       "       [ 5.1,  3.7,  1.5,  0.4],\n",
       "       [ 4.6,  3.6,  1. ,  0.2],\n",
       "       [ 5.1,  3.3,  1.7,  0.5],\n",
       "       [ 4.8,  3.4,  1.9,  0.2],\n",
       "       [ 5. ,  3. ,  1.6,  0.2],\n",
       "       [ 5. ,  3.4,  1.6,  0.4],\n",
       "       [ 5.2,  3.5,  1.5,  0.2],\n",
       "       [ 5.2,  3.4,  1.4,  0.2],\n",
       "       [ 4.7,  3.2,  1.6,  0.2],\n",
       "       [ 4.8,  3.1,  1.6,  0.2],\n",
       "       [ 5.4,  3.4,  1.5,  0.4],\n",
       "       [ 5.2,  4.1,  1.5,  0.1],\n",
       "       [ 5.5,  4.2,  1.4,  0.2],\n",
       "       [ 4.9,  3.1,  1.5,  0.1],\n",
       "       [ 5. ,  3.2,  1.2,  0.2],\n",
       "       [ 5.5,  3.5,  1.3,  0.2],\n",
       "       [ 4.9,  3.1,  1.5,  0.1],\n",
       "       [ 4.4,  3. ,  1.3,  0.2],\n",
       "       [ 5.1,  3.4,  1.5,  0.2],\n",
       "       [ 5. ,  3.5,  1.3,  0.3],\n",
       "       [ 4.5,  2.3,  1.3,  0.3],\n",
       "       [ 4.4,  3.2,  1.3,  0.2],\n",
       "       [ 5. ,  3.5,  1.6,  0.6],\n",
       "       [ 5.1,  3.8,  1.9,  0.4],\n",
       "       [ 4.8,  3. ,  1.4,  0.3],\n",
       "       [ 5.1,  3.8,  1.6,  0.2],\n",
       "       [ 4.6,  3.2,  1.4,  0.2],\n",
       "       [ 5.3,  3.7,  1.5,  0.2],\n",
       "       [ 5. ,  3.3,  1.4,  0.2],\n",
       "       [ 7. ,  3.2,  4.7,  1.4],\n",
       "       [ 6.4,  3.2,  4.5,  1.5],\n",
       "       [ 6.9,  3.1,  4.9,  1.5],\n",
       "       [ 5.5,  2.3,  4. ,  1.3],\n",
       "       [ 6.5,  2.8,  4.6,  1.5],\n",
       "       [ 5.7,  2.8,  4.5,  1.3],\n",
       "       [ 6.3,  3.3,  4.7,  1.6],\n",
       "       [ 4.9,  2.4,  3.3,  1. ],\n",
       "       [ 6.6,  2.9,  4.6,  1.3],\n",
       "       [ 5.2,  2.7,  3.9,  1.4],\n",
       "       [ 5. ,  2. ,  3.5,  1. ],\n",
       "       [ 5.9,  3. ,  4.2,  1.5],\n",
       "       [ 6. ,  2.2,  4. ,  1. ],\n",
       "       [ 6.1,  2.9,  4.7,  1.4],\n",
       "       [ 5.6,  2.9,  3.6,  1.3],\n",
       "       [ 6.7,  3.1,  4.4,  1.4],\n",
       "       [ 5.6,  3. ,  4.5,  1.5],\n",
       "       [ 5.8,  2.7,  4.1,  1. ],\n",
       "       [ 6.2,  2.2,  4.5,  1.5],\n",
       "       [ 5.6,  2.5,  3.9,  1.1],\n",
       "       [ 5.9,  3.2,  4.8,  1.8],\n",
       "       [ 6.1,  2.8,  4. ,  1.3],\n",
       "       [ 6.3,  2.5,  4.9,  1.5],\n",
       "       [ 6.1,  2.8,  4.7,  1.2],\n",
       "       [ 6.4,  2.9,  4.3,  1.3],\n",
       "       [ 6.6,  3. ,  4.4,  1.4],\n",
       "       [ 6.8,  2.8,  4.8,  1.4],\n",
       "       [ 6.7,  3. ,  5. ,  1.7],\n",
       "       [ 6. ,  2.9,  4.5,  1.5],\n",
       "       [ 5.7,  2.6,  3.5,  1. ],\n",
       "       [ 5.5,  2.4,  3.8,  1.1],\n",
       "       [ 5.5,  2.4,  3.7,  1. ],\n",
       "       [ 5.8,  2.7,  3.9,  1.2],\n",
       "       [ 6. ,  2.7,  5.1,  1.6],\n",
       "       [ 5.4,  3. ,  4.5,  1.5],\n",
       "       [ 6. ,  3.4,  4.5,  1.6],\n",
       "       [ 6.7,  3.1,  4.7,  1.5],\n",
       "       [ 6.3,  2.3,  4.4,  1.3],\n",
       "       [ 5.6,  3. ,  4.1,  1.3],\n",
       "       [ 5.5,  2.5,  4. ,  1.3],\n",
       "       [ 5.5,  2.6,  4.4,  1.2],\n",
       "       [ 6.1,  3. ,  4.6,  1.4],\n",
       "       [ 5.8,  2.6,  4. ,  1.2],\n",
       "       [ 5. ,  2.3,  3.3,  1. ],\n",
       "       [ 5.6,  2.7,  4.2,  1.3],\n",
       "       [ 5.7,  3. ,  4.2,  1.2],\n",
       "       [ 5.7,  2.9,  4.2,  1.3],\n",
       "       [ 6.2,  2.9,  4.3,  1.3],\n",
       "       [ 5.1,  2.5,  3. ,  1.1],\n",
       "       [ 5.7,  2.8,  4.1,  1.3],\n",
       "       [ 6.3,  3.3,  6. ,  2.5],\n",
       "       [ 5.8,  2.7,  5.1,  1.9],\n",
       "       [ 7.1,  3. ,  5.9,  2.1],\n",
       "       [ 6.3,  2.9,  5.6,  1.8],\n",
       "       [ 6.5,  3. ,  5.8,  2.2],\n",
       "       [ 7.6,  3. ,  6.6,  2.1],\n",
       "       [ 4.9,  2.5,  4.5,  1.7],\n",
       "       [ 7.3,  2.9,  6.3,  1.8],\n",
       "       [ 6.7,  2.5,  5.8,  1.8],\n",
       "       [ 7.2,  3.6,  6.1,  2.5],\n",
       "       [ 6.5,  3.2,  5.1,  2. ],\n",
       "       [ 6.4,  2.7,  5.3,  1.9],\n",
       "       [ 6.8,  3. ,  5.5,  2.1],\n",
       "       [ 5.7,  2.5,  5. ,  2. ],\n",
       "       [ 5.8,  2.8,  5.1,  2.4],\n",
       "       [ 6.4,  3.2,  5.3,  2.3],\n",
       "       [ 6.5,  3. ,  5.5,  1.8],\n",
       "       [ 7.7,  3.8,  6.7,  2.2],\n",
       "       [ 7.7,  2.6,  6.9,  2.3],\n",
       "       [ 6. ,  2.2,  5. ,  1.5],\n",
       "       [ 6.9,  3.2,  5.7,  2.3],\n",
       "       [ 5.6,  2.8,  4.9,  2. ],\n",
       "       [ 7.7,  2.8,  6.7,  2. ],\n",
       "       [ 6.3,  2.7,  4.9,  1.8],\n",
       "       [ 6.7,  3.3,  5.7,  2.1],\n",
       "       [ 7.2,  3.2,  6. ,  1.8],\n",
       "       [ 6.2,  2.8,  4.8,  1.8],\n",
       "       [ 6.1,  3. ,  4.9,  1.8],\n",
       "       [ 6.4,  2.8,  5.6,  2.1],\n",
       "       [ 7.2,  3. ,  5.8,  1.6],\n",
       "       [ 7.4,  2.8,  6.1,  1.9],\n",
       "       [ 7.9,  3.8,  6.4,  2. ],\n",
       "       [ 6.4,  2.8,  5.6,  2.2],\n",
       "       [ 6.3,  2.8,  5.1,  1.5],\n",
       "       [ 6.1,  2.6,  5.6,  1.4],\n",
       "       [ 7.7,  3. ,  6.1,  2.3],\n",
       "       [ 6.3,  3.4,  5.6,  2.4],\n",
       "       [ 6.4,  3.1,  5.5,  1.8],\n",
       "       [ 6. ,  3. ,  4.8,  1.8],\n",
       "       [ 6.9,  3.1,  5.4,  2.1],\n",
       "       [ 6.7,  3.1,  5.6,  2.4],\n",
       "       [ 6.9,  3.1,  5.1,  2.3],\n",
       "       [ 5.8,  2.7,  5.1,  1.9],\n",
       "       [ 6.8,  3.2,  5.9,  2.3],\n",
       "       [ 6.7,  3.3,  5.7,  2.5],\n",
       "       [ 6.7,  3. ,  5.2,  2.3],\n",
       "       [ 6.3,  2.5,  5. ,  1.9],\n",
       "       [ 6.5,  3. ,  5.2,  2. ],\n",
       "       [ 6.2,  3.4,  5.4,  2.3],\n",
       "       [ 5.9,  3. ,  5.1,  1.8]])"
      ]
     },
     "execution_count": 137,
     "metadata": {},
     "output_type": "execute_result"
    },
    {
     "name": "stdout",
     "output_type": "stream",
     "text": [
      "time: 20.4 ms\n"
     ]
    }
   ],
   "source": [
    "iris.data"
   ]
  },
  {
   "cell_type": "code",
   "execution_count": 139,
   "metadata": {
    "collapsed": false
   },
   "outputs": [
    {
     "data": {
      "text/plain": [
       "array([0, 0, 0, 0, 0, 0, 0, 0, 0, 0, 0, 0, 0, 0, 0, 0, 0, 0, 0, 0, 0, 0, 0,\n",
       "       0, 0, 0, 0, 0, 0, 0, 0, 0, 0, 0, 0, 0, 0, 0, 0, 0, 0, 0, 0, 0, 0, 0,\n",
       "       0, 0, 0, 0, 1, 1, 1, 1, 1, 1, 1, 1, 1, 1, 1, 1, 1, 1, 1, 1, 1, 1, 1,\n",
       "       1, 1, 1, 1, 1, 1, 1, 1, 1, 1, 1, 1, 1, 1, 1, 1, 1, 1, 1, 1, 1, 1, 1,\n",
       "       1, 1, 1, 1, 1, 1, 1, 1, 2, 2, 2, 2, 2, 2, 2, 2, 2, 2, 2, 2, 2, 2, 2,\n",
       "       2, 2, 2, 2, 2, 2, 2, 2, 2, 2, 2, 2, 2, 2, 2, 2, 2, 2, 2, 2, 2, 2, 2,\n",
       "       2, 2, 2, 2, 2, 2, 2, 2, 2, 2, 2, 2])"
      ]
     },
     "execution_count": 139,
     "metadata": {},
     "output_type": "execute_result"
    },
    {
     "name": "stdout",
     "output_type": "stream",
     "text": [
      "time: 3.88 ms\n"
     ]
    }
   ],
   "source": [
    "iris.target"
   ]
  },
  {
   "cell_type": "code",
   "execution_count": 140,
   "metadata": {
    "collapsed": false
   },
   "outputs": [
    {
     "name": "stdout",
     "output_type": "stream",
     "text": [
      "time: 5.67 ms\n"
     ]
    }
   ],
   "source": [
    "def baseline_model():\n",
    "\t# create model\n",
    "\tmodel = Sequential()\n",
    "\tmodel.add(Dense(4, input_dim=4, init='normal', activation='relu'))\n",
    "\tmodel.add(Dense(3, init='normal', activation='sigmoid'))\n",
    "\t# Compile model\n",
    "\tmodel.compile(loss='categorical_crossentropy', optimizer='adam', metrics=['accuracy'])\n",
    "\treturn model"
   ]
  },
  {
   "cell_type": "code",
   "execution_count": 141,
   "metadata": {
    "collapsed": false
   },
   "outputs": [
    {
     "name": "stdout",
     "output_type": "stream",
     "text": [
      "time: 143 ms\n"
     ]
    }
   ],
   "source": [
    "iris_model = baseline_model()"
   ]
  },
  {
   "cell_type": "code",
   "execution_count": 152,
   "metadata": {
    "collapsed": false
   },
   "outputs": [
    {
     "name": "stdout",
     "output_type": "stream",
     "text": [
      "time: 4.59 ms\n"
     ]
    }
   ],
   "source": [
    "iris_ohe = preprocessing.OneHotEncoder()\n",
    "iris_ohe.fit(iris.target.reshape(-1,1))\n",
    "iris_traget = iris_ohe.transform(iris.target.reshape(-1,1))"
   ]
  },
  {
   "cell_type": "code",
   "execution_count": 154,
   "metadata": {
    "collapsed": false
   },
   "outputs": [
    {
     "name": "stdout",
     "output_type": "stream",
     "text": [
      "(150, 3)\n",
      "(150, 4)\n",
      "time: 1.63 ms\n"
     ]
    }
   ],
   "source": [
    "print iris_traget.shape\n",
    "print iris.data.shape"
   ]
  },
  {
   "cell_type": "code",
   "execution_count": 157,
   "metadata": {
    "collapsed": false
   },
   "outputs": [
    {
     "name": "stdout",
     "output_type": "stream",
     "text": [
      "time: 2.22 ms\n"
     ]
    }
   ],
   "source": [
    "iris_traget = iris_traget.todense()"
   ]
  },
  {
   "cell_type": "code",
   "execution_count": 158,
   "metadata": {
    "collapsed": false
   },
   "outputs": [
    {
     "name": "stdout",
     "output_type": "stream",
     "text": [
      "Epoch 1/10\n",
      "150/150 [==============================] - 0s - loss: 1.0979 - acc: 0.3333     \n",
      "Epoch 2/10\n",
      "150/150 [==============================] - 0s - loss: 1.0975 - acc: 0.3333     \n",
      "Epoch 3/10\n",
      "150/150 [==============================] - 0s - loss: 1.0972 - acc: 0.3467     \n",
      "Epoch 4/10\n",
      "150/150 [==============================] - 0s - loss: 1.0967 - acc: 0.3667     \n",
      "Epoch 5/10\n",
      "150/150 [==============================] - 0s - loss: 1.0963 - acc: 0.5067     \n",
      "Epoch 6/10\n",
      "150/150 [==============================] - 0s - loss: 1.0959 - acc: 0.5333     \n",
      "Epoch 7/10\n",
      "150/150 [==============================] - 0s - loss: 1.0953 - acc: 0.5333     \n",
      "Epoch 8/10\n",
      "150/150 [==============================] - 0s - loss: 1.0948 - acc: 0.4733     \n",
      "Epoch 9/10\n",
      "150/150 [==============================] - 0s - loss: 1.0941 - acc: 0.4267     \n",
      "Epoch 10/10\n",
      "150/150 [==============================] - 0s - loss: 1.0934 - acc: 0.3867     \n",
      "time: 300 ms\n"
     ]
    }
   ],
   "source": [
    "hist = iris_model.fit(iris.data, iris_traget)"
   ]
  },
  {
   "cell_type": "code",
   "execution_count": 159,
   "metadata": {
    "collapsed": false
   },
   "outputs": [
    {
     "name": "stdout",
     "output_type": "stream",
     "text": [
      "150/150 [==============================] - 0s     \n"
     ]
    },
    {
     "data": {
      "text/plain": [
       "array([0, 0, 0, 0, 0, 0, 0, 0, 0, 0, 0, 0, 0, 0, 0, 0, 0, 0, 0, 0, 0, 0, 0,\n",
       "       0, 0, 0, 0, 0, 0, 0, 0, 0, 0, 0, 0, 0, 0, 0, 0, 0, 0, 0, 0, 0, 0, 0,\n",
       "       0, 0, 0, 0, 0, 0, 0, 1, 0, 0, 0, 0, 0, 0, 1, 0, 0, 0, 0, 0, 0, 0, 1,\n",
       "       0, 0, 0, 1, 0, 0, 0, 0, 1, 0, 0, 0, 0, 0, 1, 0, 0, 0, 1, 0, 0, 1, 0,\n",
       "       0, 0, 0, 0, 0, 0, 0, 0, 1, 1, 1, 1, 1, 1, 1, 1, 1, 1, 1, 1, 1, 1, 1,\n",
       "       1, 1, 1, 1, 1, 1, 1, 1, 1, 1, 1, 1, 1, 1, 1, 1, 1, 1, 1, 1, 1, 1, 1,\n",
       "       1, 1, 1, 1, 1, 1, 1, 1, 1, 1, 1, 1])"
      ]
     },
     "execution_count": 159,
     "metadata": {},
     "output_type": "execute_result"
    },
    {
     "name": "stdout",
     "output_type": "stream",
     "text": [
      "time: 52.7 ms\n"
     ]
    }
   ],
   "source": [
    "iris_model.predict_classes(iris.data)"
   ]
  },
  {
   "cell_type": "code",
   "execution_count": 160,
   "metadata": {
    "collapsed": false
   },
   "outputs": [
    {
     "name": "stdout",
     "output_type": "stream",
     "text": [
      "\r",
      " 32/150 [=====>........................] - ETA: 0s"
     ]
    },
    {
     "data": {
      "text/plain": [
       "array([[ 0.51247084,  0.4967038 ,  0.49845058],\n",
       "       [ 0.51057971,  0.49730912,  0.4985933 ],\n",
       "       [ 0.51137215,  0.4970555 ,  0.49853352],\n",
       "       [ 0.51039195,  0.49736926,  0.49860746],\n",
       "       [ 0.51272935,  0.4966211 ,  0.49843103],\n",
       "       [ 0.51303113,  0.49652445,  0.49840823],\n",
       "       [ 0.51157624,  0.4969902 ,  0.49851811],\n",
       "       [ 0.51176602,  0.49692944,  0.49850377],\n",
       "       [ 0.50980812,  0.49755606,  0.49865156],\n",
       "       [ 0.51077163,  0.49724767,  0.49857879],\n",
       "       [ 0.51313996,  0.49648967,  0.49839997],\n",
       "       [ 0.51131976,  0.49707231,  0.49853742],\n",
       "       [ 0.51061738,  0.49729708,  0.49859047],\n",
       "       [ 0.51101583,  0.49716952,  0.4985604 ],\n",
       "       [ 0.51533931,  0.49578553,  0.49823391],\n",
       "       [ 0.51555759,  0.49571559,  0.4982174 ],\n",
       "       [ 0.51413208,  0.49617204,  0.49832514],\n",
       "       [ 0.5123477 ,  0.4967432 ,  0.49845982],\n",
       "       [ 0.51306677,  0.49651307,  0.49840555],\n",
       "       [ 0.51310438,  0.49650106,  0.49840271],\n",
       "       [ 0.51155746,  0.49699619,  0.49851954],\n",
       "       [ 0.51263726,  0.49665052,  0.498438  ],\n",
       "       [ 0.51348841,  0.49637809,  0.49837369],\n",
       "       [ 0.51058745,  0.49730662,  0.4985927 ],\n",
       "       [ 0.51049381,  0.4973366 ,  0.49859977],\n",
       "       [ 0.51011461,  0.49745798,  0.49862847],\n",
       "       [ 0.51124448,  0.49709633,  0.49854311],\n",
       "       [ 0.512281  ,  0.49676457,  0.49846491],\n",
       "       [ 0.51221234,  0.49678656,  0.49847007],\n",
       "       [ 0.51054621,  0.49731985,  0.49859586],\n",
       "       [ 0.51028764,  0.49740264,  0.49861535],\n",
       "       [ 0.51186174,  0.4968988 ,  0.49849653],\n",
       "       [ 0.51446795,  0.49606454,  0.49829975],\n",
       "       [ 0.51522034,  0.49582362,  0.49824291],\n",
       "       [ 0.51077163,  0.49724767,  0.49857879],\n",
       "       [ 0.51190388,  0.49688527,  0.49849334],\n",
       "       [ 0.51308805,  0.49650624,  0.49840391],\n",
       "       [ 0.51077163,  0.49724767,  0.49857879],\n",
       "       [ 0.51042753,  0.49735782,  0.4986048 ],\n",
       "       [ 0.51185155,  0.49690205,  0.49849725],\n",
       "       [ 0.51253748,  0.49668252,  0.49844548],\n",
       "       [ 0.50798124,  0.49814072,  0.49878946],\n",
       "       [ 0.51111561,  0.49713758,  0.49855283],\n",
       "       [ 0.51134217,  0.4970651 ,  0.49853575],\n",
       "       [ 0.51188016,  0.49689293,  0.4984951 ],\n",
       "       [ 0.51037109,  0.49737588,  0.49860907],\n",
       "       [ 0.51295227,  0.49654973,  0.49841419],\n",
       "       [ 0.5110113 ,  0.49717098,  0.49856076],\n",
       "       [ 0.51305449,  0.496517  ,  0.4984065 ],\n",
       "       [ 0.51169735,  0.49695146,  0.49850893],\n",
       "       [ 0.50249779,  0.49989513,  0.49920329],\n",
       "       [ 0.5024122 ,  0.49992251,  0.4992097 ],\n",
       "       [ 0.50139397,  0.50024825,  0.49928659],\n",
       "       [ 0.50016814,  0.50064039,  0.49937904],\n",
       "       [ 0.50084549,  0.50042373,  0.49932796],\n",
       "       [ 0.50068307,  0.5004757 ,  0.49934021],\n",
       "       [ 0.50199676,  0.50005543,  0.49924108],\n",
       "       [ 0.50229686,  0.49995935,  0.49921843],\n",
       "       [ 0.50152165,  0.50020736,  0.49927691],\n",
       "       [ 0.50144058,  0.50023335,  0.49928305],\n",
       "       [ 0.50045472,  0.50054872,  0.49935746],\n",
       "       [ 0.50212246,  0.5000152 ,  0.49923158],\n",
       "       [ 0.50062132,  0.50049543,  0.49934486],\n",
       "       [ 0.50069535,  0.50047171,  0.49933925],\n",
       "       [ 0.50342065,  0.4995999 ,  0.49913365],\n",
       "       [ 0.50272334,  0.49982297,  0.49918625],\n",
       "       [ 0.50103951,  0.50036162,  0.49931335],\n",
       "       [ 0.50189584,  0.50008768,  0.49924868],\n",
       "       [ 0.49958906,  0.50082564,  0.49942273],\n",
       "       [ 0.50146401,  0.50022584,  0.49928126],\n",
       "       [ 0.50078851,  0.50044197,  0.49933225],\n",
       "       [ 0.50240242,  0.49992561,  0.49921042],\n",
       "       [ 0.49958906,  0.50082564,  0.49942273],\n",
       "       [ 0.50059754,  0.500503  ,  0.49934664],\n",
       "       [ 0.50217694,  0.49999774,  0.49922746],\n",
       "       [ 0.50229359,  0.49996042,  0.49921867],\n",
       "       [ 0.50067449,  0.50047845,  0.4993408 ],\n",
       "       [ 0.50035679,  0.50058007,  0.49936482],\n",
       "       [ 0.50103748,  0.50036228,  0.49931347],\n",
       "       [ 0.50311869,  0.49969643,  0.49915642],\n",
       "       [ 0.50130969,  0.50027525,  0.49929291],\n",
       "       [ 0.50170839,  0.5001477 ,  0.49926284],\n",
       "       [ 0.50220025,  0.49999034,  0.49922574],\n",
       "       [ 0.49958906,  0.50082564,  0.49942273],\n",
       "       [ 0.50086838,  0.5004164 ,  0.4993262 ],\n",
       "       [ 0.50263524,  0.49985114,  0.49919289],\n",
       "       [ 0.50177377,  0.50012678,  0.49925789],\n",
       "       [ 0.49975073,  0.50077397,  0.49941054],\n",
       "       [ 0.50238764,  0.49993032,  0.49921161],\n",
       "       [ 0.50085658,  0.50042015,  0.49932712],\n",
       "       [ 0.50022227,  0.50062311,  0.49937493],\n",
       "       [ 0.501315  ,  0.50027353,  0.49929255],\n",
       "       [ 0.50158066,  0.50018853,  0.49927247],\n",
       "       [ 0.50203824,  0.50004214,  0.49923792],\n",
       "       [ 0.50107968,  0.50034881,  0.49931026],\n",
       "       [ 0.502321  ,  0.49995166,  0.49921659],\n",
       "       [ 0.50185359,  0.50010121,  0.4992519 ],\n",
       "       [ 0.50200582,  0.50005251,  0.49924037],\n",
       "       [ 0.50351524,  0.49956959,  0.49912646],\n",
       "       [ 0.50178486,  0.5001232 ,  0.49925706],\n",
       "       [ 0.49958906,  0.50082564,  0.49942273],\n",
       "       [ 0.49958906,  0.50082564,  0.49942273],\n",
       "       [ 0.49958906,  0.50082564,  0.49942273],\n",
       "       [ 0.49958906,  0.50082564,  0.49942273],\n",
       "       [ 0.49958906,  0.50082564,  0.49942273],\n",
       "       [ 0.49958906,  0.50082564,  0.49942273],\n",
       "       [ 0.49958906,  0.50082564,  0.49942273],\n",
       "       [ 0.49958906,  0.50082564,  0.49942273],\n",
       "       [ 0.49958906,  0.50082564,  0.49942273],\n",
       "       [ 0.49958906,  0.50082564,  0.49942273],\n",
       "       [ 0.500229  ,  0.50062096,  0.49937445],\n",
       "       [ 0.49958906,  0.50082564,  0.49942273],\n",
       "       [ 0.49958906,  0.50082564,  0.49942273],\n",
       "       [ 0.49958906,  0.50082564,  0.49942273],\n",
       "       [ 0.49958906,  0.50082564,  0.49942273],\n",
       "       [ 0.49958906,  0.50082564,  0.49942273],\n",
       "       [ 0.49958906,  0.50082564,  0.49942273],\n",
       "       [ 0.49958906,  0.50082564,  0.49942273],\n",
       "       [ 0.49958906,  0.50082564,  0.49942273],\n",
       "       [ 0.49958906,  0.50082564,  0.49942273],\n",
       "       [ 0.49958906,  0.50082564,  0.49942273],\n",
       "       [ 0.49958906,  0.50082564,  0.49942273],\n",
       "       [ 0.49958906,  0.50082564,  0.49942273],\n",
       "       [ 0.49958906,  0.50082564,  0.49942273],\n",
       "       [ 0.49958906,  0.50082564,  0.49942273],\n",
       "       [ 0.49958906,  0.50082564,  0.49942273],\n",
       "       [ 0.49966833,  0.50080031,  0.4994168 ],\n",
       "       [ 0.49999577,  0.50069553,  0.49939206],\n",
       "       [ 0.49958906,  0.50082564,  0.49942273],\n",
       "       [ 0.49958906,  0.50082564,  0.49942273],\n",
       "       [ 0.49958906,  0.50082564,  0.49942273],\n",
       "       [ 0.4999111 ,  0.50072265,  0.49939847],\n",
       "       [ 0.49958906,  0.50082564,  0.49942273],\n",
       "       [ 0.49958906,  0.50082564,  0.49942273],\n",
       "       [ 0.49958906,  0.50082564,  0.49942273],\n",
       "       [ 0.49958906,  0.50082564,  0.49942273],\n",
       "       [ 0.49958906,  0.50082564,  0.49942273],\n",
       "       [ 0.49958906,  0.50082564,  0.49942273],\n",
       "       [ 0.50018567,  0.50063485,  0.49937773],\n",
       "       [ 0.49958906,  0.50082564,  0.49942273],\n",
       "       [ 0.49958906,  0.50082564,  0.49942273],\n",
       "       [ 0.49985734,  0.50073981,  0.49940252],\n",
       "       [ 0.49958906,  0.50082564,  0.49942273],\n",
       "       [ 0.49958906,  0.50082564,  0.49942273],\n",
       "       [ 0.49958906,  0.50082564,  0.49942273],\n",
       "       [ 0.49958906,  0.50082564,  0.49942273],\n",
       "       [ 0.49958906,  0.50082564,  0.49942273],\n",
       "       [ 0.49958906,  0.50082564,  0.49942273],\n",
       "       [ 0.49958906,  0.50082564,  0.49942273],\n",
       "       [ 0.49958906,  0.50082564,  0.49942273]], dtype=float32)"
      ]
     },
     "execution_count": 160,
     "metadata": {},
     "output_type": "execute_result"
    },
    {
     "name": "stdout",
     "output_type": "stream",
     "text": [
      "time: 27.8 ms\n"
     ]
    }
   ],
   "source": [
    "iris_model.predict_proba(iris.data)"
   ]
  },
  {
   "cell_type": "code",
   "execution_count": null,
   "metadata": {
    "collapsed": true
   },
   "outputs": [],
   "source": []
  }
 ],
 "metadata": {
  "kernelspec": {
   "display_name": "Python 2",
   "language": "python",
   "name": "python2"
  },
  "language_info": {
   "codemirror_mode": {
    "name": "ipython",
    "version": 2
   },
   "file_extension": ".py",
   "mimetype": "text/x-python",
   "name": "python",
   "nbconvert_exporter": "python",
   "pygments_lexer": "ipython2",
   "version": "2.7.6"
  }
 },
 "nbformat": 4,
 "nbformat_minor": 0
}
