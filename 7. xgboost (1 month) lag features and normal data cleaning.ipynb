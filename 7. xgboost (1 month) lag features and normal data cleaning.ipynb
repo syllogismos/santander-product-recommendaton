{
 "cells": [
  {
   "cell_type": "markdown",
   "metadata": {},
   "source": [
    "### Model description and features\n",
    "XGB model on all users that added product on July 2016,  \n",
    "\n",
    "Features:\n",
    "------------\n",
    "* June 2015, user attributes\n",
    "* July 2015, user attributes\n",
    "* June 2015, product subscription information"
   ]
  },
  {
   "cell_type": "code",
   "execution_count": 1,
   "metadata": {
    "collapsed": false
   },
   "outputs": [
    {
     "name": "stdout",
     "output_type": "stream",
     "text": [
      "Populating the interactive namespace from numpy and matplotlib\n"
     ]
    }
   ],
   "source": [
    "import pandas as pd\n",
    "import numpy as np\n",
    "import xgboost as xgb\n",
    "from sklearn.preprocessing import LabelEncoder\n",
    "from scripts.kaggle.helpers import make_submission\n",
    "import datetime\n",
    "from tqdm import tqdm\n",
    "import gc\n",
    "import itertools\n",
    "from multiprocessing import Pool\n",
    "\n",
    "%matplotlib inline\n",
    "import matplotlib.pyplot as plt\n",
    "import seaborn as sns\n",
    "\n",
    "%pylab inline\n",
    "pylab.rcParams['figure.figsize'] = (12, 16)"
   ]
  },
  {
   "cell_type": "code",
   "execution_count": 2,
   "metadata": {
    "collapsed": true
   },
   "outputs": [],
   "source": [
    "def test_train_split(df, wt_col, test_frac):\n",
    "    n = int(len(df)*test_frac)\n",
    "    rows = df.sample(n, weights=wt_col.apply(lambda x: wt_col.value_counts()[x])).index\n",
    "    test = df.ix[rows]\n",
    "    train = df.drop(rows)\n",
    "    return test, train, rows"
   ]
  },
  {
   "cell_type": "code",
   "execution_count": 3,
   "metadata": {
    "collapsed": false
   },
   "outputs": [],
   "source": [
    "TRAIN_MONTH_OLD = '2015_05_28'\n",
    "TRAIN_MONTH_NEW = '2015_06_28'\n",
    "\n",
    "TEST_MONTH_OLD = '2016_05_28'\n",
    "#TEST_MONTH_NEW = '2016_06_28'\n",
    "\n",
    "TRAIN_FILE_OLD = 'data/train_' + TRAIN_MONTH_OLD + '.csv'\n",
    "TRAIN_FILE_NEW = 'data/train_' + TRAIN_MONTH_NEW + '.csv'\n",
    "\n",
    "ADDED_PRODUCTS_FILE = 'data/added_product_' + TRAIN_MONTH_OLD + '.csv'\n",
    "\n",
    "TEST_FILE_OLD = 'data/train_' + TEST_MONTH_OLD + '.csv'\n",
    "TEST_FILE_NEW = 'data/test_ver2.csv'\n",
    "\n",
    "HEADER = [\"fecha_dato\", \"ncodpers\", \"ind_empleado\",\n",
    "          \"pais_residencia\", \"sexo\", \"age\", \"fecha_alta\",\n",
    "          \"ind_nuevo\", \"antiguedad\", \"indrel\", \"ult_fec_cli_1t\",\n",
    "          \"indrel_1mes\", \"tiprel_1mes\", \"indresi\", \"indext\",\n",
    "          \"conyuemp\", \"canal_entrada\", \"indfall\", \"tipodom\",\n",
    "          \"cod_prov\", \"nomprov\", \"ind_actividad_cliente\",\n",
    "          \"renta\", \"segmento\", \"ind_ahor_fin_ult1\",\n",
    "          \"ind_aval_fin_ult1\", \"ind_cco_fin_ult1\",\n",
    "          \"ind_cder_fin_ult1\", \"ind_cno_fin_ult1\",\n",
    "          \"ind_ctju_fin_ult1\", \"ind_ctma_fin_ult1\",\n",
    "          \"ind_ctop_fin_ult1\", \"ind_ctpp_fin_ult1\",\n",
    "          \"ind_deco_fin_ult1\", \"ind_deme_fin_ult1\",\n",
    "          \"ind_dela_fin_ult1\", \"ind_ecue_fin_ult1\",\n",
    "          \"ind_fond_fin_ult1\", \"ind_hip_fin_ult1\",\n",
    "          \"ind_plan_fin_ult1\", \"ind_pres_fin_ult1\",\n",
    "          \"ind_reca_fin_ult1\", \"ind_tjcr_fin_ult1\",\n",
    "          \"ind_valo_fin_ult1\", \"ind_viv_fin_ult1\",\n",
    "          \"ind_nomina_ult1\", \"ind_nom_pens_ult1\",\n",
    "          \"ind_recibo_ult1\"]"
   ]
  },
  {
   "cell_type": "code",
   "execution_count": 4,
   "metadata": {
    "collapsed": false
   },
   "outputs": [
    {
     "name": "stderr",
     "output_type": "stream",
     "text": [
      "/usr/local/lib/python2.7/site-packages/IPython/core/interactiveshell.py:2705: DtypeWarning: Columns (15) have mixed types. Specify dtype option on import or set low_memory=False.\n",
      "  interactivity=interactivity, compiler=compiler, result=result)\n",
      "/usr/local/lib/python2.7/site-packages/IPython/core/interactiveshell.py:2705: DtypeWarning: Columns (11,15) have mixed types. Specify dtype option on import or set low_memory=False.\n",
      "  interactivity=interactivity, compiler=compiler, result=result)\n"
     ]
    }
   ],
   "source": [
    "train_old = pd.read_csv(TRAIN_FILE_OLD, header=None, names=HEADER)\n",
    "train_new = pd.read_csv(TRAIN_FILE_NEW, header=None, names=HEADER)\n",
    "test_old = pd.read_csv(TEST_FILE_OLD, header=None, names=HEADER)\n",
    "test_new = pd.read_csv(TEST_FILE_NEW)\n",
    "\n",
    "added_products = pd.read_csv(ADDED_PRODUCTS_FILE)"
   ]
  },
  {
   "cell_type": "code",
   "execution_count": 5,
   "metadata": {
    "collapsed": false
   },
   "outputs": [],
   "source": [
    "for col in HEADER[24:]:\n",
    "    test_new[col] = [0]*test_new.shape[0]"
   ]
  },
  {
   "cell_type": "code",
   "execution_count": 6,
   "metadata": {
    "collapsed": true
   },
   "outputs": [],
   "source": [
    "combined = pd.concat((train_old, train_new, test_old, test_new)).reset_index(drop=True)"
   ]
  },
  {
   "cell_type": "code",
   "execution_count": 7,
   "metadata": {
    "collapsed": true
   },
   "outputs": [],
   "source": [
    "def process_data_from_original_dataframe(combined):\n",
    "    # fixing age\n",
    "    combined['age'] = pd.to_numeric(combined['age'], errors='coerce')\n",
    "\n",
    "    combined.loc[combined.age < 18, \"age\"] = \\\n",
    "        combined.loc[(combined.age > 18) &\n",
    "                     (combined.age <= 30), \"age\"].mean(skipna=True)\n",
    "    combined.loc[combined.age > 100, \"age\"] = \\\n",
    "        combined.loc[(combined.age > 30) &\n",
    "                     (combined.age <= 100), \"age\"].mean(skipna=True)\n",
    "    combined['age'].fillna(combined['age'].mean(), inplace=True)\n",
    "    combined['age'] = combined['age'].astype(int)\n",
    "\n",
    "    # fix ind_nuevo..\n",
    "    combined.loc[combined.ind_nuevo.isnull(), 'ind_nuevo'] = 1\n",
    "\n",
    "    # fix antiguedad\n",
    "    combined['antiguedad'] = pd.to_numeric(combined['antiguedad'],\n",
    "                                           errors='coerce')\n",
    "    combined.loc[combined.antiguedad.isnull(), 'antiguedad'] = \\\n",
    "        combined.antiguedad.min()\n",
    "    combined.loc[combined.antiguedad < 0, 'antiguedad'] = 0\n",
    "\n",
    "    # fix indrel\n",
    "    combined.loc[combined.indrel.isnull(), 'indrel'] = 1\n",
    "\n",
    "    # drop useless cols\n",
    "    combined.drop(['tipodom', 'cod_prov'], axis=1, inplace=True)\n",
    "\n",
    "    # fix ind_actividad_cliente\n",
    "    combined.loc[combined.ind_actividad_cliente.isnull(),\n",
    "                 \"ind_actividad_cliente\"] = \\\n",
    "        combined.ind_actividad_cliente.median()\n",
    "\n",
    "    # fix city name\n",
    "    combined.loc[combined.nomprov ==\n",
    "                 \"CORU\\xc3\\x91A, A\", \"nomprov\"] = \"CORUNA, A\"\n",
    "    combined.loc[combined.nomprov.isnull(), 'nomprov'] = 'UNKNOWN'\n",
    "\n",
    "    # fix incomes\n",
    "    # combined.renta = pd.to_numeric(combined.renta, errors='coerce')\n",
    "    combined['renta'] = pd.to_numeric(combined['renta'], errors='coerce')\n",
    "\n",
    "    grouped = combined.groupby('nomprov').\\\n",
    "        agg({'renta': lambda x: x.median(skipna=True)}).reset_index()\n",
    "    new_incomes = pd.merge(combined, grouped,\n",
    "                           how='inner',\n",
    "                           on='nomprov').loc[:, ['nomprov', 'renta_y']]\n",
    "\n",
    "    new_incomes = new_incomes.\\\n",
    "        rename(columns={\"renta_y\": \"renta\"}).\\\n",
    "        sort_values(\"renta\").sort_values(\"nomprov\")\n",
    "\n",
    "    combined.sort_values(\"nomprov\", inplace=True)\n",
    "    combined = combined.reset_index()\n",
    "    new_incomes = new_incomes.reset_index()\n",
    "    combined.loc[combined.renta.isnull(), \"renta\"] = \\\n",
    "        new_incomes.loc[combined.renta.isnull(), \"renta\"].median()\n",
    "    combined.sort_values(by='fecha_dato', inplace=True)\n",
    "\n",
    "    # rest of the columns\n",
    "    string_data = combined.select_dtypes(include=[\"object\"])\n",
    "    missing_columns = [col for col in string_data\n",
    "                       if string_data[col].isnull().any()]\n",
    "    del string_data\n",
    "\n",
    "    combined.loc[combined.indfall.isnull(), 'indfall'] = 'N'\n",
    "    combined.loc[combined.tiprel_1mes.isnull(), 'tiprel_1mes'] = 'A'\n",
    "    combined.tiprel_1mes = combined.tiprel_1mes.astype('category')\n",
    "\n",
    "    map_dict = {\n",
    "        '1.0': '1',\n",
    "        '1': '1',\n",
    "        '3.0': '3',\n",
    "        'P': 'P',\n",
    "        3.0: '3',\n",
    "        2.0: '2',\n",
    "        '3': '3',\n",
    "        '2.0': '2',\n",
    "        '4.0': '4',\n",
    "        '4': '4',\n",
    "        '2': '2',\n",
    "        1.0: '1',\n",
    "        4.0: '4'\n",
    "    }\n",
    "\n",
    "    combined.indrel_1mes.fillna('P', inplace=True)\n",
    "    combined.indrel_1mes = combined.indrel_1mes.apply(lambda x: map_dict[x])\n",
    "    combined.indrel_1mes = combined.indrel_1mes.astype('category')\n",
    "\n",
    "    unknown_cols = [col for col in missing_columns if\n",
    "                    col not in ['indfall', 'tiprel_1mes', 'indrel_1mes']]\n",
    "    for col in unknown_cols:\n",
    "        combined.loc[combined[col].isnull(), col] = \"UNKNOWN\"\n",
    "\n",
    "    # feature cols\n",
    "    feature_cols = combined.iloc[:1, ].filter(regex=\"ind_+.*ult.*\").\\\n",
    "        columns.values\n",
    "    for col in feature_cols:\n",
    "        combined.loc[combined[col].isnull(), col] = 0\n",
    "        combined[col] = combined[col].astype(int)\n",
    "\n",
    "    del combined['ult_fec_cli_1t'], combined['fecha_alta']\n",
    "\n",
    "    encoders = []\n",
    "    for col in ['sexo', 'indrel_1mes', 'pais_residencia', 'ind_empleado',\n",
    "                'segmento', 'tiprel_1mes', 'indresi', 'indext', 'conyuemp',\n",
    "                'canal_entrada', 'indfall', 'nomprov']:\n",
    "        temp_enc = LabelEncoder()\n",
    "        temp_enc.fit(combined[col])\n",
    "        combined[col] = temp_enc.transform(combined[col])\n",
    "        encoders.append(temp_enc)\n",
    "    return combined, encoders\n",
    "\n"
   ]
  },
  {
   "cell_type": "code",
   "execution_count": 8,
   "metadata": {
    "collapsed": false
   },
   "outputs": [],
   "source": [
    "combined, encoders = process_data_from_original_dataframe(combined)"
   ]
  },
  {
   "cell_type": "code",
   "execution_count": 9,
   "metadata": {
    "collapsed": false
   },
   "outputs": [],
   "source": [
    "train_old = combined.loc[combined.fecha_dato == '2015-05-28', :].reset_index(drop=True)\n",
    "train_new = combined.loc[combined.fecha_dato == '2015-06-28', :].reset_index(drop=True)\n",
    "test_old = combined.loc[combined.fecha_dato == '2016-05-28', :].reset_index(drop=True)\n",
    "test_new = combined.loc[combined.fecha_dato == '2016-06-28', :].reset_index(drop=True)"
   ]
  },
  {
   "cell_type": "code",
   "execution_count": 10,
   "metadata": {
    "collapsed": false
   },
   "outputs": [],
   "source": [
    "del train_old['index'], train_new['index'], test_old['index'], test_new['index']\n",
    "del train_old['fecha_dato'], train_new['fecha_dato'], test_old['fecha_dato'], test_new['fecha_dato']"
   ]
  },
  {
   "cell_type": "code",
   "execution_count": 11,
   "metadata": {
    "collapsed": false
   },
   "outputs": [
    {
     "name": "stdout",
     "output_type": "stream",
     "text": [
      "(631957, 43)\n",
      "(632110, 43)\n",
      "(931453, 43)\n",
      "(929615, 43)\n"
     ]
    }
   ],
   "source": [
    "print train_old.shape\n",
    "print train_new.shape\n",
    "print test_old.shape\n",
    "print test_new.shape"
   ]
  },
  {
   "cell_type": "code",
   "execution_count": 12,
   "metadata": {
    "collapsed": false
   },
   "outputs": [],
   "source": [
    "train_old.set_index('ncodpers', inplace=True)\n",
    "train_new.set_index('ncodpers', inplace=True)\n",
    "test_old.set_index('ncodpers', inplace=True)\n",
    "test_new.set_index('ncodpers', inplace=True)"
   ]
  },
  {
   "cell_type": "code",
   "execution_count": 15,
   "metadata": {
    "collapsed": false
   },
   "outputs": [
    {
     "name": "stdout",
     "output_type": "stream",
     "text": [
      "(41745, 1)\n"
     ]
    },
    {
     "data": {
      "text/html": [
       "<div>\n",
       "<table border=\"1\" class=\"dataframe\">\n",
       "  <thead>\n",
       "    <tr style=\"text-align: right;\">\n",
       "      <th></th>\n",
       "      <th>added_product</th>\n",
       "    </tr>\n",
       "    <tr>\n",
       "      <th>ncodpers</th>\n",
       "      <th></th>\n",
       "    </tr>\n",
       "  </thead>\n",
       "  <tbody>\n",
       "    <tr>\n",
       "      <th>15892</th>\n",
       "      <td>ind_cco_fin_ult1</td>\n",
       "    </tr>\n",
       "    <tr>\n",
       "      <th>15897</th>\n",
       "      <td>ind_nom_pens_ult1</td>\n",
       "    </tr>\n",
       "    <tr>\n",
       "      <th>15906</th>\n",
       "      <td>ind_nom_pens_ult1</td>\n",
       "    </tr>\n",
       "    <tr>\n",
       "      <th>15925</th>\n",
       "      <td>ind_recibo_ult1</td>\n",
       "    </tr>\n",
       "    <tr>\n",
       "      <th>15927</th>\n",
       "      <td>ind_cco_fin_ult1</td>\n",
       "    </tr>\n",
       "  </tbody>\n",
       "</table>\n",
       "</div>"
      ],
      "text/plain": [
       "              added_product\n",
       "ncodpers                   \n",
       "15892      ind_cco_fin_ult1\n",
       "15897     ind_nom_pens_ult1\n",
       "15906     ind_nom_pens_ult1\n",
       "15925       ind_recibo_ult1\n",
       "15927      ind_cco_fin_ult1"
      ]
     },
     "execution_count": 15,
     "metadata": {},
     "output_type": "execute_result"
    }
   ],
   "source": [
    "# added_products.set_index('ncodpers', inplace=True)\n",
    "print added_products.shape\n",
    "added_products.head()"
   ]
  },
  {
   "cell_type": "code",
   "execution_count": 16,
   "metadata": {
    "collapsed": false
   },
   "outputs": [
    {
     "data": {
      "text/plain": [
       "Index([u'ind_empleado', u'pais_residencia', u'sexo', u'age', u'ind_nuevo',\n",
       "       u'antiguedad', u'indrel', u'indrel_1mes', u'tiprel_1mes', u'indresi',\n",
       "       u'indext', u'conyuemp', u'canal_entrada', u'indfall', u'nomprov',\n",
       "       u'ind_actividad_cliente', u'renta', u'segmento', u'ind_ahor_fin_ult1',\n",
       "       u'ind_aval_fin_ult1', u'ind_cco_fin_ult1', u'ind_cder_fin_ult1',\n",
       "       u'ind_cno_fin_ult1', u'ind_ctju_fin_ult1', u'ind_ctma_fin_ult1',\n",
       "       u'ind_ctop_fin_ult1', u'ind_ctpp_fin_ult1', u'ind_deco_fin_ult1',\n",
       "       u'ind_deme_fin_ult1', u'ind_dela_fin_ult1', u'ind_ecue_fin_ult1',\n",
       "       u'ind_fond_fin_ult1', u'ind_hip_fin_ult1', u'ind_plan_fin_ult1',\n",
       "       u'ind_pres_fin_ult1', u'ind_reca_fin_ult1', u'ind_tjcr_fin_ult1',\n",
       "       u'ind_valo_fin_ult1', u'ind_viv_fin_ult1', u'ind_nomina_ult1',\n",
       "       u'ind_nom_pens_ult1', u'ind_recibo_ult1'],\n",
       "      dtype='object')"
      ]
     },
     "execution_count": 16,
     "metadata": {},
     "output_type": "execute_result"
    }
   ],
   "source": [
    "train_new.columns"
   ]
  },
  {
   "cell_type": "code",
   "execution_count": 27,
   "metadata": {
    "collapsed": false
   },
   "outputs": [],
   "source": [
    "# just create 1 month old lag features from the past month\n",
    "train = pd.DataFrame()\n",
    "test = pd.DataFrame()\n",
    "test['ncodpers'] = test_new.index\n",
    "train['ncodpers'] = added_products.index\n",
    "test.set_index('ncodpers', inplace=True)\n",
    "train.set_index('ncodpers', inplace=True)\n",
    "for col in train_old.columns:\n",
    "    train['old_' + col] = train_old.loc[added_products.index, col]\n",
    "    test['old_' + col] = test_old.loc[test_new.index, col]"
   ]
  },
  {
   "cell_type": "code",
   "execution_count": 33,
   "metadata": {
    "collapsed": false
   },
   "outputs": [],
   "source": [
    "for col in train_old.columns[:18]:\n",
    "    train['current_' + col] = train_new.loc[added_products.index, col]\n",
    "    test['current_' + col] = test_new.loc[:, col]"
   ]
  },
  {
   "cell_type": "code",
   "execution_count": 34,
   "metadata": {
    "collapsed": false
   },
   "outputs": [],
   "source": [
    "label_encoder = LabelEncoder()\n",
    "label_encoder.fit(added_products.added_product)\n",
    "added_products['encoded_products'] = label_encoder.\\\n",
    "    transform(added_products['added_product'])"
   ]
  },
  {
   "cell_type": "code",
   "execution_count": 37,
   "metadata": {
    "collapsed": false
   },
   "outputs": [
    {
     "name": "stdout",
     "output_type": "stream",
     "text": [
      "(929615, 60)\n",
      "(41745, 60)\n"
     ]
    }
   ],
   "source": [
    "print test.shape\n",
    "print train.shape"
   ]
  },
  {
   "cell_type": "code",
   "execution_count": 38,
   "metadata": {
    "collapsed": false
   },
   "outputs": [],
   "source": [
    "xgb_main = xgb.DMatrix(train, label=added_products.encoded_products)"
   ]
  },
  {
   "cell_type": "code",
   "execution_count": 39,
   "metadata": {
    "collapsed": true
   },
   "outputs": [],
   "source": [
    "def map7eval(preds, dtrain):\n",
    "    actual = dtrain.get_label()\n",
    "    predicted = preds.argsort(axis=1)[:,-np.arange(1,8)]\n",
    "    metric = 0.\n",
    "    for i in range(7):\n",
    "        metric += np.sum(actual==predicted[:,i])/(i+1)\n",
    "    metric /= actual.shape[0]\n",
    "    return 'MAP@7', metric"
   ]
  },
  {
   "cell_type": "code",
   "execution_count": 40,
   "metadata": {
    "collapsed": true
   },
   "outputs": [],
   "source": [
    "param = {}\n",
    "param['objective'] = 'multi:softprob'\n",
    "param['eta'] = 0.05\n",
    "param['max_depth'] = 6\n",
    "param['silent'] = 0\n",
    "param['num_class'] = len(label_encoder.classes_)\n",
    "param['eval_metric'] = \"mlogloss\"\n",
    "param['min_child_weight'] = 2\n",
    "param['subsample'] = 0.9\n",
    "param['colsample_bytree'] = 0.9\n",
    "param['seed'] = 1428\n",
    "num_rounds = 100\n",
    "plist = param.items()\n",
    "\n",
    "evallist = [(xgb_main, 'train')]"
   ]
  },
  {
   "cell_type": "code",
   "execution_count": 41,
   "metadata": {
    "collapsed": false
   },
   "outputs": [
    {
     "name": "stdout",
     "output_type": "stream",
     "text": [
      "[0]\ttrain-MAP@7:0.691604\n",
      "[1]\ttrain-MAP@7:0.696586\n",
      "[2]\ttrain-MAP@7:0.701306\n",
      "[3]\ttrain-MAP@7:0.703054\n",
      "[4]\ttrain-MAP@7:0.70339\n",
      "[5]\ttrain-MAP@7:0.703893\n",
      "[6]\ttrain-MAP@7:0.704803\n",
      "[7]\ttrain-MAP@7:0.705186\n",
      "[8]\ttrain-MAP@7:0.705761\n",
      "[9]\ttrain-MAP@7:0.706624\n",
      "[10]\ttrain-MAP@7:0.706648\n",
      "[11]\ttrain-MAP@7:0.706815\n",
      "[12]\ttrain-MAP@7:0.707079\n",
      "[13]\ttrain-MAP@7:0.707462\n",
      "[14]\ttrain-MAP@7:0.707725\n",
      "[15]\ttrain-MAP@7:0.708085\n",
      "[16]\ttrain-MAP@7:0.708133\n",
      "[17]\ttrain-MAP@7:0.708444\n",
      "[18]\ttrain-MAP@7:0.70866\n",
      "[19]\ttrain-MAP@7:0.709091\n",
      "[20]\ttrain-MAP@7:0.709354\n",
      "[21]\ttrain-MAP@7:0.709618\n",
      "[22]\ttrain-MAP@7:0.709666\n",
      "[23]\ttrain-MAP@7:0.709905\n",
      "[24]\ttrain-MAP@7:0.710073\n",
      "[25]\ttrain-MAP@7:0.710408\n",
      "[26]\ttrain-MAP@7:0.71048\n",
      "[27]\ttrain-MAP@7:0.71072\n",
      "[28]\ttrain-MAP@7:0.710888\n",
      "[29]\ttrain-MAP@7:0.711007\n",
      "[30]\ttrain-MAP@7:0.711151\n",
      "[31]\ttrain-MAP@7:0.711199\n",
      "[32]\ttrain-MAP@7:0.711486\n",
      "[33]\ttrain-MAP@7:0.711486\n",
      "[34]\ttrain-MAP@7:0.711654\n",
      "[35]\ttrain-MAP@7:0.711798\n",
      "[36]\ttrain-MAP@7:0.712061\n",
      "[37]\ttrain-MAP@7:0.712253\n",
      "[38]\ttrain-MAP@7:0.712373\n",
      "[39]\ttrain-MAP@7:0.712612\n",
      "[40]\ttrain-MAP@7:0.712708\n",
      "[41]\ttrain-MAP@7:0.712852\n",
      "[42]\ttrain-MAP@7:0.712996\n",
      "[43]\ttrain-MAP@7:0.713091\n",
      "[44]\ttrain-MAP@7:0.713283\n",
      "[45]\ttrain-MAP@7:0.713331\n",
      "[46]\ttrain-MAP@7:0.71357\n",
      "[47]\ttrain-MAP@7:0.713762\n",
      "[48]\ttrain-MAP@7:0.713906\n",
      "[49]\ttrain-MAP@7:0.714002\n",
      "[50]\ttrain-MAP@7:0.713954\n",
      "[51]\ttrain-MAP@7:0.714145\n",
      "[52]\ttrain-MAP@7:0.714217\n",
      "[53]\ttrain-MAP@7:0.714433\n",
      "[54]\ttrain-MAP@7:0.714529\n",
      "[55]\ttrain-MAP@7:0.714553\n",
      "[56]\ttrain-MAP@7:0.71472\n",
      "[57]\ttrain-MAP@7:0.71484\n",
      "[58]\ttrain-MAP@7:0.714936\n",
      "[59]\ttrain-MAP@7:0.715032\n",
      "[60]\ttrain-MAP@7:0.715223\n",
      "[61]\ttrain-MAP@7:0.715463\n",
      "[62]\ttrain-MAP@7:0.715583\n",
      "[63]\ttrain-MAP@7:0.715655\n",
      "[64]\ttrain-MAP@7:0.71575\n",
      "[65]\ttrain-MAP@7:0.715918\n",
      "[66]\ttrain-MAP@7:0.715966\n",
      "[67]\ttrain-MAP@7:0.716062\n",
      "[68]\ttrain-MAP@7:0.716134\n",
      "[69]\ttrain-MAP@7:0.716253\n",
      "[70]\ttrain-MAP@7:0.716421\n",
      "[71]\ttrain-MAP@7:0.716445\n",
      "[72]\ttrain-MAP@7:0.716469\n",
      "[73]\ttrain-MAP@7:0.716565\n",
      "[74]\ttrain-MAP@7:0.716565\n",
      "[75]\ttrain-MAP@7:0.716756\n",
      "[76]\ttrain-MAP@7:0.716828\n",
      "[77]\ttrain-MAP@7:0.7169\n",
      "[78]\ttrain-MAP@7:0.71702\n",
      "[79]\ttrain-MAP@7:0.717068\n",
      "[80]\ttrain-MAP@7:0.717164\n",
      "[81]\ttrain-MAP@7:0.71726\n",
      "[82]\ttrain-MAP@7:0.717379\n",
      "[83]\ttrain-MAP@7:0.717523\n",
      "[84]\ttrain-MAP@7:0.717595\n",
      "[85]\ttrain-MAP@7:0.717619\n",
      "[86]\ttrain-MAP@7:0.717834\n",
      "[87]\ttrain-MAP@7:0.717954\n",
      "[88]\ttrain-MAP@7:0.71805\n",
      "[89]\ttrain-MAP@7:0.718074\n",
      "[90]\ttrain-MAP@7:0.71817\n",
      "[91]\ttrain-MAP@7:0.718338\n",
      "[92]\ttrain-MAP@7:0.718433\n",
      "[93]\ttrain-MAP@7:0.718505\n",
      "[94]\ttrain-MAP@7:0.718697\n",
      "[95]\ttrain-MAP@7:0.718841\n",
      "[96]\ttrain-MAP@7:0.718984\n",
      "[97]\ttrain-MAP@7:0.719128\n",
      "[98]\ttrain-MAP@7:0.719152\n",
      "[99]\ttrain-MAP@7:0.719296\n"
     ]
    }
   ],
   "source": [
    "xgb_model = xgb.train(plist, xgb_main, num_rounds, evallist, feval=map7eval)"
   ]
  },
  {
   "cell_type": "code",
   "execution_count": 42,
   "metadata": {
    "collapsed": false
   },
   "outputs": [
    {
     "data": {
      "text/plain": [
       "1498"
      ]
     },
     "execution_count": 42,
     "metadata": {},
     "output_type": "execute_result"
    }
   ],
   "source": [
    "del combined, test_old, test_new, train_old, train_new\n",
    "gc.collect()"
   ]
  },
  {
   "cell_type": "code",
   "execution_count": 44,
   "metadata": {
    "collapsed": false
   },
   "outputs": [
    {
     "data": {
      "text/html": [
       "<div>\n",
       "<table border=\"1\" class=\"dataframe\">\n",
       "  <thead>\n",
       "    <tr style=\"text-align: right;\">\n",
       "      <th></th>\n",
       "      <th>old_ind_empleado</th>\n",
       "      <th>old_pais_residencia</th>\n",
       "      <th>old_sexo</th>\n",
       "      <th>old_age</th>\n",
       "      <th>old_ind_nuevo</th>\n",
       "      <th>old_antiguedad</th>\n",
       "      <th>old_indrel</th>\n",
       "      <th>old_indrel_1mes</th>\n",
       "      <th>old_tiprel_1mes</th>\n",
       "      <th>old_indresi</th>\n",
       "      <th>...</th>\n",
       "      <th>current_indext</th>\n",
       "      <th>current_conyuemp</th>\n",
       "      <th>current_canal_entrada</th>\n",
       "      <th>current_indfall</th>\n",
       "      <th>current_nomprov</th>\n",
       "      <th>current_ind_actividad_cliente</th>\n",
       "      <th>current_renta</th>\n",
       "      <th>current_segmento</th>\n",
       "      <th>xgb_preds</th>\n",
       "      <th>added_products</th>\n",
       "    </tr>\n",
       "    <tr>\n",
       "      <th>ncodpers</th>\n",
       "      <th></th>\n",
       "      <th></th>\n",
       "      <th></th>\n",
       "      <th></th>\n",
       "      <th></th>\n",
       "      <th></th>\n",
       "      <th></th>\n",
       "      <th></th>\n",
       "      <th></th>\n",
       "      <th></th>\n",
       "      <th></th>\n",
       "      <th></th>\n",
       "      <th></th>\n",
       "      <th></th>\n",
       "      <th></th>\n",
       "      <th></th>\n",
       "      <th></th>\n",
       "      <th></th>\n",
       "      <th></th>\n",
       "      <th></th>\n",
       "      <th></th>\n",
       "    </tr>\n",
       "  </thead>\n",
       "  <tbody>\n",
       "    <tr>\n",
       "      <th>441607</th>\n",
       "      <td>3</td>\n",
       "      <td>36</td>\n",
       "      <td>2</td>\n",
       "      <td>59</td>\n",
       "      <td>0.0</td>\n",
       "      <td>151.0</td>\n",
       "      <td>1.0</td>\n",
       "      <td>0</td>\n",
       "      <td>1</td>\n",
       "      <td>1</td>\n",
       "      <td>...</td>\n",
       "      <td>0</td>\n",
       "      <td>2</td>\n",
       "      <td>10</td>\n",
       "      <td>0</td>\n",
       "      <td>43</td>\n",
       "      <td>0.0</td>\n",
       "      <td>113217.78</td>\n",
       "      <td>1</td>\n",
       "      <td>ind_cco_fin_ult1 ind_ctop_fin_ult1 ind_recibo_...</td>\n",
       "      <td>ind_recibo_ult1</td>\n",
       "    </tr>\n",
       "    <tr>\n",
       "      <th>70507</th>\n",
       "      <td>3</td>\n",
       "      <td>36</td>\n",
       "      <td>2</td>\n",
       "      <td>63</td>\n",
       "      <td>0.0</td>\n",
       "      <td>225.0</td>\n",
       "      <td>1.0</td>\n",
       "      <td>0</td>\n",
       "      <td>0</td>\n",
       "      <td>1</td>\n",
       "      <td>...</td>\n",
       "      <td>0</td>\n",
       "      <td>2</td>\n",
       "      <td>24</td>\n",
       "      <td>0</td>\n",
       "      <td>8</td>\n",
       "      <td>1.0</td>\n",
       "      <td>147590.25</td>\n",
       "      <td>1</td>\n",
       "      <td>ind_tjcr_fin_ult1 ind_reca_fin_ult1 ind_ecue_f...</td>\n",
       "      <td>ind_recibo_ult1</td>\n",
       "    </tr>\n",
       "    <tr>\n",
       "      <th>1115883</th>\n",
       "      <td>3</td>\n",
       "      <td>36</td>\n",
       "      <td>2</td>\n",
       "      <td>35</td>\n",
       "      <td>0.0</td>\n",
       "      <td>40.0</td>\n",
       "      <td>1.0</td>\n",
       "      <td>0</td>\n",
       "      <td>1</td>\n",
       "      <td>1</td>\n",
       "      <td>...</td>\n",
       "      <td>0</td>\n",
       "      <td>2</td>\n",
       "      <td>122</td>\n",
       "      <td>0</td>\n",
       "      <td>41</td>\n",
       "      <td>1.0</td>\n",
       "      <td>145177.71</td>\n",
       "      <td>1</td>\n",
       "      <td>ind_cco_fin_ult1 ind_cno_fin_ult1 ind_nom_pens...</td>\n",
       "      <td>ind_recibo_ult1</td>\n",
       "    </tr>\n",
       "    <tr>\n",
       "      <th>59103</th>\n",
       "      <td>3</td>\n",
       "      <td>36</td>\n",
       "      <td>2</td>\n",
       "      <td>51</td>\n",
       "      <td>0.0</td>\n",
       "      <td>230.0</td>\n",
       "      <td>1.0</td>\n",
       "      <td>0</td>\n",
       "      <td>1</td>\n",
       "      <td>1</td>\n",
       "      <td>...</td>\n",
       "      <td>0</td>\n",
       "      <td>2</td>\n",
       "      <td>24</td>\n",
       "      <td>0</td>\n",
       "      <td>8</td>\n",
       "      <td>0.0</td>\n",
       "      <td>111447.18</td>\n",
       "      <td>1</td>\n",
       "      <td>ind_recibo_ult1 ind_tjcr_fin_ult1 ind_reca_fin...</td>\n",
       "      <td>ind_recibo_ult1</td>\n",
       "    </tr>\n",
       "    <tr>\n",
       "      <th>444815</th>\n",
       "      <td>3</td>\n",
       "      <td>36</td>\n",
       "      <td>2</td>\n",
       "      <td>50</td>\n",
       "      <td>0.0</td>\n",
       "      <td>150.0</td>\n",
       "      <td>1.0</td>\n",
       "      <td>0</td>\n",
       "      <td>0</td>\n",
       "      <td>1</td>\n",
       "      <td>...</td>\n",
       "      <td>0</td>\n",
       "      <td>2</td>\n",
       "      <td>118</td>\n",
       "      <td>0</td>\n",
       "      <td>12</td>\n",
       "      <td>1.0</td>\n",
       "      <td>78892.26</td>\n",
       "      <td>1</td>\n",
       "      <td>ind_recibo_ult1 ind_tjcr_fin_ult1 ind_dela_fin...</td>\n",
       "      <td>ind_recibo_ult1</td>\n",
       "    </tr>\n",
       "  </tbody>\n",
       "</table>\n",
       "<p>5 rows × 62 columns</p>\n",
       "</div>"
      ],
      "text/plain": [
       "          old_ind_empleado  old_pais_residencia  old_sexo  old_age  \\\n",
       "ncodpers                                                             \n",
       "441607                   3                   36         2       59   \n",
       "70507                    3                   36         2       63   \n",
       "1115883                  3                   36         2       35   \n",
       "59103                    3                   36         2       51   \n",
       "444815                   3                   36         2       50   \n",
       "\n",
       "          old_ind_nuevo  old_antiguedad  old_indrel  old_indrel_1mes  \\\n",
       "ncodpers                                                               \n",
       "441607              0.0           151.0         1.0                0   \n",
       "70507               0.0           225.0         1.0                0   \n",
       "1115883             0.0            40.0         1.0                0   \n",
       "59103               0.0           230.0         1.0                0   \n",
       "444815              0.0           150.0         1.0                0   \n",
       "\n",
       "          old_tiprel_1mes  old_indresi       ...         current_indext  \\\n",
       "ncodpers                                     ...                          \n",
       "441607                  1            1       ...                      0   \n",
       "70507                   0            1       ...                      0   \n",
       "1115883                 1            1       ...                      0   \n",
       "59103                   1            1       ...                      0   \n",
       "444815                  0            1       ...                      0   \n",
       "\n",
       "          current_conyuemp  current_canal_entrada  current_indfall  \\\n",
       "ncodpers                                                             \n",
       "441607                   2                     10                0   \n",
       "70507                    2                     24                0   \n",
       "1115883                  2                    122                0   \n",
       "59103                    2                     24                0   \n",
       "444815                   2                    118                0   \n",
       "\n",
       "          current_nomprov  current_ind_actividad_cliente  current_renta  \\\n",
       "ncodpers                                                                  \n",
       "441607                 43                            0.0      113217.78   \n",
       "70507                   8                            1.0      147590.25   \n",
       "1115883                41                            1.0      145177.71   \n",
       "59103                   8                            0.0      111447.18   \n",
       "444815                 12                            1.0       78892.26   \n",
       "\n",
       "          current_segmento                                          xgb_preds  \\\n",
       "ncodpers                                                                        \n",
       "441607                   1  ind_cco_fin_ult1 ind_ctop_fin_ult1 ind_recibo_...   \n",
       "70507                    1  ind_tjcr_fin_ult1 ind_reca_fin_ult1 ind_ecue_f...   \n",
       "1115883                  1  ind_cco_fin_ult1 ind_cno_fin_ult1 ind_nom_pens...   \n",
       "59103                    1  ind_recibo_ult1 ind_tjcr_fin_ult1 ind_reca_fin...   \n",
       "444815                   1  ind_recibo_ult1 ind_tjcr_fin_ult1 ind_dela_fin...   \n",
       "\n",
       "           added_products  \n",
       "ncodpers                   \n",
       "441607    ind_recibo_ult1  \n",
       "70507     ind_recibo_ult1  \n",
       "1115883   ind_recibo_ult1  \n",
       "59103     ind_recibo_ult1  \n",
       "444815    ind_recibo_ult1  \n",
       "\n",
       "[5 rows x 62 columns]"
      ]
     },
     "execution_count": 44,
     "metadata": {},
     "output_type": "execute_result"
    }
   ],
   "source": [
    "test.head()"
   ]
  },
  {
   "cell_type": "code",
   "execution_count": 45,
   "metadata": {
    "collapsed": false
   },
   "outputs": [
    {
     "name": "stderr",
     "output_type": "stream",
     "text": [
      "100%|██████████| 929615/929615 [14:23<00:00, 1075.97it/s]\n"
     ]
    }
   ],
   "source": [
    "final_test = xgb.DMatrix(test)\n",
    "preds = xgb_model.predict(final_test)\n",
    "top_t_products = label_encoder.inverse_transform(np.argsort(preds, axis=1)\n",
    "                                                 [:, ::-1][:, :])\n",
    "\n",
    "test['xgb_preds'] = [' '.join(x) for x in top_t_products]\n",
    "test['added_products'] = ['ind_recibo_ult1']*test.shape[0]\n",
    "for i in tqdm(test.index):\n",
    "    zipped = zip(HEADER[24:],\n",
    "                 test.loc[i, 'old_ind_ahor_fin_ult1':'old_ind_recibo_ult1'])\n",
    "    products = [x[0] for x in\n",
    "                [y for y in zipped if y[1] == 1]]\n",
    "    pred_products = test.loc[i, 'xgb_preds'].split()\n",
    "    prod_string = ' '.join(filter(lambda x: x not in products, pred_products))\n",
    "    test.set_value(i, 'added_products', prod_string)"
   ]
  },
  {
   "cell_type": "code",
   "execution_count": 47,
   "metadata": {
    "collapsed": false
   },
   "outputs": [
    {
     "name": "stdout",
     "output_type": "stream",
     "text": [
      "Compressing file\n",
      "Compression done\n",
      "Uploading submission data/submissions/7.xgb_trained_on_jun_2015_only_added_users_1_month_lag_features.csv.zip\n",
      "Upload done\n"
     ]
    }
   ],
   "source": [
    "submission = pd.read_csv('data/test_ver2.csv', usecols=[1])\n",
    "submission['added_products'] = ['ind_recibo_ult1']*submission.shape[0]\n",
    "submission.set_index('ncodpers', inplace=True)\n",
    "submission.added_products = test.loc[submission.index, 'added_products']\n",
    "\n",
    "filename = 'data/submissions/7.xgb_trained_on_jun_2015_only_added_users_1_month_lag_features.csv'\n",
    "description = '7. xgb model trained on june 2015 on added products and more features\\\n",
    "               and one month old lag features of all columns and current month user attributes:\\n' + str(param)\n",
    "submission.to_csv(filename, columns=['added_products'])\n",
    "make_submission(filename, description=description, submit=True, compress=True)"
   ]
  },
  {
   "cell_type": "code",
   "execution_count": 48,
   "metadata": {
    "collapsed": false
   },
   "outputs": [
    {
     "data": {
      "image/png": "[encoded data removed]",
      "text/plain": [
       "<matplotlib.figure.Figure at 0x12529be10>"
      ]
     },
     "metadata": {},
     "output_type": "display_data"
    }
   ],
   "source": [
    "xgb.plot_importance(xgb_model)\n",
    "# plt.xticks(rotation=90)\n",
    "plt.tick_params(labelsize=16, labelcolor=\"#ffc400\")\n",
    "# plt.ylabel(\"Median Income\", size=32, color=\"#ffc400\")\n",
    "# plt.xlabel(\"City\", size=32, color=\"#ffc400\")\n",
    "# plt.title(\"Income Distribution by City\", size=40, color=\"#ffc400\")\n",
    "# plt.ylim(0, 200000)\n",
    "# plt.yticks(range(0, 200000, 40000))"
   ]
  }
 ],
 "metadata": {
  "kernelspec": {
   "display_name": "Python 2",
   "language": "python",
   "name": "python2"
  },
  "language_info": {
   "codemirror_mode": {
    "name": "ipython",
    "version": 2
   },
   "file_extension": ".py",
   "mimetype": "text/x-python",
   "name": "python",
   "nbconvert_exporter": "python",
   "pygments_lexer": "ipython2",
   "version": "2.7.12"
  }
 },
 "nbformat": 4,
 "nbformat_minor": 0
}
