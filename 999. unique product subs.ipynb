{
 "cells": [
  {
   "cell_type": "code",
   "execution_count": 42,
   "metadata": {
    "collapsed": true
   },
   "outputs": [],
   "source": [
    "import pandas as pd\n",
    "import itertools\n",
    "import collections\n",
    "from tqdm import tqdm"
   ]
  },
  {
   "cell_type": "code",
   "execution_count": 2,
   "metadata": {
    "collapsed": true
   },
   "outputs": [],
   "source": [
    "HEADER = [\"ind_ahor_fin_ult1\",\n",
    "          \"ind_aval_fin_ult1\", \"ind_cco_fin_ult1\",\n",
    "          \"ind_cder_fin_ult1\", \"ind_cno_fin_ult1\",\n",
    "          \"ind_ctju_fin_ult1\", \"ind_ctma_fin_ult1\",\n",
    "          \"ind_ctop_fin_ult1\", \"ind_ctpp_fin_ult1\",\n",
    "          \"ind_deco_fin_ult1\", \"ind_deme_fin_ult1\",\n",
    "          \"ind_dela_fin_ult1\", \"ind_ecue_fin_ult1\",\n",
    "          \"ind_fond_fin_ult1\", \"ind_hip_fin_ult1\",\n",
    "          \"ind_plan_fin_ult1\", \"ind_pres_fin_ult1\",\n",
    "          \"ind_reca_fin_ult1\", \"ind_tjcr_fin_ult1\",\n",
    "          \"ind_valo_fin_ult1\", \"ind_viv_fin_ult1\",\n",
    "          \"ind_nomina_ult1\", \"ind_nom_pens_ult1\",\n",
    "          \"ind_recibo_ult1\"]"
   ]
  },
  {
   "cell_type": "code",
   "execution_count": 3,
   "metadata": {
    "collapsed": true
   },
   "outputs": [],
   "source": [
    "tr = pd.read_csv('data/train_2015_01_28.csv', header=None, names=HEADER, usecols=range(24,48))"
   ]
  },
  {
   "cell_type": "code",
   "execution_count": 9,
   "metadata": {
    "collapsed": false
   },
   "outputs": [],
   "source": [
    "tr.fillna(0, inplace=True)\n",
    "for col in tr.columns:\n",
    "    tr[col] = tr[col].astype(int)\n",
    "for col in tr.columns:\n",
    "    tr[col] = tr[col].astype(str)"
   ]
  },
  {
   "cell_type": "code",
   "execution_count": 18,
   "metadata": {
    "collapsed": false
   },
   "outputs": [],
   "source": [
    "del tr['subs_string']"
   ]
  },
  {
   "cell_type": "code",
   "execution_count": 20,
   "metadata": {
    "collapsed": false
   },
   "outputs": [],
   "source": [
    "tr['subs_string'] = tr.apply(lambda x: ''.join(x), axis=1)"
   ]
  },
  {
   "cell_type": "code",
   "execution_count": 25,
   "metadata": {
    "collapsed": false
   },
   "outputs": [],
   "source": [
    "un1 = list(tr.subs_string.unique())"
   ]
  },
  {
   "cell_type": "code",
   "execution_count": 26,
   "metadata": {
    "collapsed": false
   },
   "outputs": [
    {
     "data": {
      "text/plain": [
       "6797"
      ]
     },
     "execution_count": 26,
     "metadata": {},
     "output_type": "execute_result"
    }
   ],
   "source": [
    "len(un1)"
   ]
  },
  {
   "cell_type": "code",
   "execution_count": 45,
   "metadata": {
    "collapsed": true
   },
   "outputs": [],
   "source": [
    "file_names = ['data/train_2015_01_28.csv',\n",
    "              'data/train_2015_02_28.csv',\n",
    "              'data/train_2015_03_28.csv',\n",
    "              'data/train_2015_04_28.csv',\n",
    "              'data/train_2015_05_28.csv',\n",
    "              'data/train_2015_06_28.csv',\n",
    "              'data/train_2015_07_28.csv',\n",
    "              'data/train_2015_08_28.csv',\n",
    "              'data/train_2015_09_28.csv',\n",
    "              'data/train_2015_10_28.csv',\n",
    "              'data/train_2015_11_28.csv',\n",
    "              'data/train_2015_12_28.csv',\n",
    "              'data/train_2016_01_28.csv',\n",
    "              'data/train_2016_02_28.csv',\n",
    "              'data/train_2016_03_28.csv',\n",
    "              'data/train_2016_04_28.csv',\n",
    "              'data/train_2016_05_28.csv']\n",
    "\n",
    "def get_unique_shit(file_name):\n",
    "    tr = pd.read_csv(file_name, header=None, names=HEADER, usecols=range(24, 48))\n",
    "    tr.fillna(0, inplace=True)\n",
    "    for col in HEADER:\n",
    "        tr[col] = tr[col].astype(int)\n",
    "        tr[col] = tr[col].astype(str)\n",
    "    tr['subs_string'] = tr.apply(lambda x: ''.join(x), axis=1)\n",
    "    uq = tr.subs_string.unique()\n",
    "    print len(uq), file_name\n",
    "    return list(uq)\n",
    "\n",
    "def get_unique_counter_shit(file_name):\n",
    "    tr = pd.read_csv(file_name, header=None, names=HEADER, usecols=range(24, 48))\n",
    "    tr.fillna(0, inplace=True)\n",
    "    for col in HEADER:\n",
    "        tr[col] = tr[col].astype(int)\n",
    "        tr[col] = tr[col].astype(str)\n",
    "    tr['subs_string'] = tr.apply(lambda x: ''.join(x), axis=1)\n",
    "    c = get_counts_from_list(tr['subs_string'])\n",
    "    return c"
   ]
  },
  {
   "cell_type": "code",
   "execution_count": 29,
   "metadata": {
    "collapsed": false
   },
   "outputs": [
    {
     "name": "stdout",
     "output_type": "stream",
     "text": [
      "6797 data/train_2015_01_28.csv\n",
      "6742 data/train_2015_02_28.csv\n",
      "6523 data/train_2015_03_28.csv\n",
      "6722 data/train_2015_04_28.csv\n",
      "6461 data/train_2015_05_28.csv\n",
      "6705 data/train_2015_06_28.csv\n",
      "6707 data/train_2015_07_28.csv\n",
      "6827 data/train_2015_08_28.csv\n",
      "7000 data/train_2015_09_28.csv\n",
      "6925 data/train_2015_10_28.csv\n",
      "7009 data/train_2015_11_28.csv\n",
      "6875 data/train_2015_12_28.csv\n",
      "6539 data/train_2016_01_28.csv\n",
      "6705 data/train_2016_02_28.csv\n",
      "6599 data/train_2016_03_28.csv\n",
      "6591 data/train_2016_04_28.csv\n",
      "6510 data/train_2016_05_28.csv\n"
     ]
    }
   ],
   "source": [
    "unique_strings = set()\n",
    "results = map(get_unique_shit, file_names)"
   ]
  },
  {
   "cell_type": "code",
   "execution_count": 32,
   "metadata": {
    "collapsed": true
   },
   "outputs": [],
   "source": [
    "for s in results:\n",
    "    unique_strings = unique_strings.union(s)"
   ]
  },
  {
   "cell_type": "code",
   "execution_count": 46,
   "metadata": {
    "collapsed": false
   },
   "outputs": [
    {
     "name": "stderr",
     "output_type": "stream",
     "text": [
      "100%|██████████| 625457/625457 [00:00<00:00, 946208.63it/s]\n",
      "100%|██████████| 627394/627394 [00:00<00:00, 842262.64it/s]\n",
      "100%|██████████| 629209/629209 [00:00<00:00, 1160998.62it/s]\n",
      "100%|██████████| 630367/630367 [00:00<00:00, 1009320.67it/s]\n",
      "100%|██████████| 631957/631957 [00:00<00:00, 998671.05it/s] \n",
      "100%|██████████| 632110/632110 [00:00<00:00, 994445.20it/s]\n",
      "100%|██████████| 829817/829817 [00:01<00:00, 700492.76it/s]\n",
      "100%|██████████| 843201/843201 [00:00<00:00, 1108513.83it/s]\n",
      "100%|██████████| 865440/865440 [00:00<00:00, 1169463.01it/s]\n",
      "100%|██████████| 892251/892251 [00:00<00:00, 1220006.75it/s]\n",
      "100%|██████████| 906109/906109 [00:00<00:00, 1223616.51it/s]\n",
      "100%|██████████| 912021/912021 [00:00<00:00, 1389881.61it/s]\n",
      "100%|██████████| 916269/916269 [00:00<00:00, 1351391.24it/s]\n",
      "100%|██████████| 920904/920904 [00:00<00:00, 1278651.37it/s]\n",
      "100%|██████████| 925076/925076 [00:00<00:00, 1309267.63it/s]\n",
      "100%|██████████| 928274/928274 [00:00<00:00, 1342187.11it/s]\n",
      "100%|██████████| 931453/931453 [00:00<00:00, 1220023.87it/s]\n"
     ]
    }
   ],
   "source": [
    "results2 = map(get_unique_counter_shit, file_names)"
   ]
  },
  {
   "cell_type": "code",
   "execution_count": 43,
   "metadata": {
    "collapsed": true
   },
   "outputs": [],
   "source": [
    "def get_counts_from_list(l):\n",
    "    c = collections.Counter()\n",
    "    for x in tqdm(l):\n",
    "        c[x] += 1\n",
    "    return c"
   ]
  },
  {
   "cell_type": "code",
   "execution_count": 44,
   "metadata": {
    "collapsed": false
   },
   "outputs": [
    {
     "name": "stderr",
     "output_type": "stream",
     "text": [
      "100%|██████████| 6/6 [00:00<00:00, 71291.29it/s]\n"
     ]
    },
    {
     "data": {
      "text/plain": [
       "Counter({1: 2, 2: 1, 3: 1, 4: 1, 5: 1})"
      ]
     },
     "execution_count": 44,
     "metadata": {},
     "output_type": "execute_result"
    }
   ],
   "source": [
    "get_counts_from_list([1,2,3,1,4,5])"
   ]
  },
  {
   "cell_type": "code",
   "execution_count": 47,
   "metadata": {
    "collapsed": true
   },
   "outputs": [],
   "source": [
    "keys = set()\n",
    "for c in results2:\n",
    "    keys = keys.union(set(c.keys()))"
   ]
  },
  {
   "cell_type": "code",
   "execution_count": 52,
   "metadata": {
    "collapsed": false
   },
   "outputs": [],
   "source": [
    "unique_str_counter = collections.Counter()\n",
    "for k in list(keys):\n",
    "    for c in results2:\n",
    "        unique_str_counter[k] += c[k]\n",
    "        "
   ]
  },
  {
   "cell_type": "code",
   "execution_count": 61,
   "metadata": {
    "collapsed": false
   },
   "outputs": [
    {
     "name": "stdout",
     "output_type": "stream",
     "text": [
      "0 12198\n",
      "1 10378\n",
      "2 9379\n",
      "10 6096\n",
      "20 4025\n",
      "50 2325\n",
      "70 1901\n",
      "100 1521\n",
      "150 1198\n",
      "200 970\n"
     ]
    }
   ],
   "source": [
    "for th in [0, 1, 2, 10, 20, 50, 70, 100, 150, 200]:\n",
    "    print th, len([x for x in unique_str_counter.items() if x[1] > th])"
   ]
  },
  {
   "cell_type": "code",
   "execution_count": 58,
   "metadata": {
    "collapsed": false
   },
   "outputs": [
    {
     "data": {
      "text/plain": [
       "[('000000000000100001001001', 2),\n",
       " ('000000000000100001001000', 16),\n",
       " ('001010000000000000001001', 3),\n",
       " ('001010000000000000001000', 4),\n",
       " ('000000001001000101100001', 1)]"
      ]
     },
     "execution_count": 58,
     "metadata": {},
     "output_type": "execute_result"
    }
   ],
   "source": [
    "unique_str_counter.items()[:5]"
   ]
  },
  {
   "cell_type": "code",
   "execution_count": null,
   "metadata": {
    "collapsed": true
   },
   "outputs": [],
   "source": []
  }
 ],
 "metadata": {
  "kernelspec": {
   "display_name": "Python 2",
   "language": "python",
   "name": "python2"
  },
  "language_info": {
   "codemirror_mode": {
    "name": "ipython",
    "version": 2
   },
   "file_extension": ".py",
   "mimetype": "text/x-python",
   "name": "python",
   "nbconvert_exporter": "python",
   "pygments_lexer": "ipython2",
   "version": "2.7.12"
  }
 },
 "nbformat": 4,
 "nbformat_minor": 0
}
