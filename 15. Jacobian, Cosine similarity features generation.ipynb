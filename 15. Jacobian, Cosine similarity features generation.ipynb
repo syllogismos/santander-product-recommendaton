{
 "cells": [
  {
   "cell_type": "code",
   "execution_count": 1,
   "metadata": {
    "collapsed": false
   },
   "outputs": [
    {
     "data": {
      "text/plain": [
       "<matplotlib.figure.Figure at 0x7fbf70412510>"
      ]
     },
     "metadata": {},
     "output_type": "display_data"
    }
   ],
   "source": [
    "import pandas as pd\n",
    "import numpy as np\n",
    "import xgboost as xgb\n",
    "from sklearn.preprocessing import LabelEncoder\n",
    "from scripts.kaggle.helpers import make_submission\n",
    "import datetime\n",
    "from tqdm import tqdm\n",
    "import gc\n",
    "import itertools\n",
    "from multiprocessing import Pool\n",
    "import pickle\n",
    "import collections\n",
    "import math\n",
    "\n",
    "%matplotlib inline\n",
    "import matplotlib.pyplot as plt\n",
    "import seaborn as sns\n",
    "\n",
    "# %pylab inline\n",
    "# pylab.rcParams['figure.figsize'] = (12, 16)\n",
    "plt.figure(figsize=(12,16))\n",
    "\n",
    "%load_ext autotime"
   ]
  },
  {
   "cell_type": "code",
   "execution_count": 2,
   "metadata": {
    "collapsed": false
   },
   "outputs": [
    {
     "name": "stdout",
     "output_type": "stream",
     "text": [
      "time: 7.44 ms\n"
     ]
    }
   ],
   "source": [
    "HEADER = [\"fecha_dato\", \"ncodpers\", \"ind_empleado\",\n",
    "          \"pais_residencia\", \"sexo\", \"age\", \"fecha_alta\",\n",
    "          \"ind_nuevo\", \"antiguedad\", \"indrel\", \"ult_fec_cli_1t\",\n",
    "          \"indrel_1mes\", \"tiprel_1mes\", \"indresi\", \"indext\",\n",
    "          \"conyuemp\", \"canal_entrada\", \"indfall\", \"tipodom\",\n",
    "          \"cod_prov\", \"nomprov\", \"ind_actividad_cliente\",\n",
    "          \"renta\", \"segmento\", \"ind_ahor_fin_ult1\",\n",
    "          \"ind_aval_fin_ult1\", \"ind_cco_fin_ult1\",\n",
    "          \"ind_cder_fin_ult1\", \"ind_cno_fin_ult1\",\n",
    "          \"ind_ctju_fin_ult1\", \"ind_ctma_fin_ult1\",\n",
    "          \"ind_ctop_fin_ult1\", \"ind_ctpp_fin_ult1\",\n",
    "          \"ind_deco_fin_ult1\", \"ind_deme_fin_ult1\",\n",
    "          \"ind_dela_fin_ult1\", \"ind_ecue_fin_ult1\",\n",
    "          \"ind_fond_fin_ult1\", \"ind_hip_fin_ult1\",\n",
    "          \"ind_plan_fin_ult1\", \"ind_pres_fin_ult1\",\n",
    "          \"ind_reca_fin_ult1\", \"ind_tjcr_fin_ult1\",\n",
    "          \"ind_valo_fin_ult1\", \"ind_viv_fin_ult1\",\n",
    "          \"ind_nomina_ult1\", \"ind_nom_pens_ult1\",\n",
    "          \"ind_recibo_ult1\"]"
   ]
  },
  {
   "cell_type": "code",
   "execution_count": 3,
   "metadata": {
    "collapsed": false
   },
   "outputs": [
    {
     "name": "stdout",
     "output_type": "stream",
     "text": [
      "time: 2.97 ms\n"
     ]
    }
   ],
   "source": [
    "def get_persons_of_feature(train):\n",
    "    persons_of_feature = dict()\n",
    "    for feat in HEADER[24:]:\n",
    "        persons_of_feature[feat] = set(train.loc[train[feat] == 1][\"ncodpers\"])\n",
    "    return persons_of_feature\n",
    "# for feat in header[24:]:\n",
    "#     print feat, len(persons_of_feature[feat])"
   ]
  },
  {
   "cell_type": "code",
   "execution_count": 4,
   "metadata": {
    "collapsed": false
   },
   "outputs": [
    {
     "name": "stdout",
     "output_type": "stream",
     "text": [
      "time: 9.51 ms\n"
     ]
    }
   ],
   "source": [
    "def jacobian_similarity(persons_of_feature, featur1, featur2):\n",
    "    feat1 = persons_of_feature[featur1]\n",
    "    feat2 = persons_of_feature[featur2]\n",
    "    len1 = len(feat1)\n",
    "    len2 = len(feat2)\n",
    "    intersection = len(feat1.intersection(feat2))\n",
    "    union = len1 + len2 - intersection\n",
    "    if len1 == 0 or len1 == 0:\n",
    "        return 0.0\n",
    "    return intersection * 1.0 / union\n",
    "\n",
    "def cosine_similarity(persons_of_feature, featur1, featur2):\n",
    "    feat1 = persons_of_feature[featur1]\n",
    "    feat2 = persons_of_feature[featur2]\n",
    "    len1 = len(feat1)\n",
    "    len2 = len(feat2)\n",
    "    intersection = len(feat1.intersection(feat2))\n",
    "    # union = len1 + len2 - intersection\n",
    "    if len1 == 0 or len2 == 0:\n",
    "        return 0.0\n",
    "    return intersection * 1.0 / math.sqrt(len1*len2)"
   ]
  },
  {
   "cell_type": "code",
   "execution_count": 5,
   "metadata": {
    "collapsed": false
   },
   "outputs": [
    {
     "name": "stdout",
     "output_type": "stream",
     "text": [
      "time: 9.14 ms\n"
     ]
    }
   ],
   "source": [
    "def get_similarity_matrices(train_df):\n",
    "    persons_of_feature = get_persons_of_feature(train_df)\n",
    "    jacob_matrix = collections.defaultdict(dict)\n",
    "    cosine_matrix = collections.defaultdict(dict)\n",
    "    for i in range(24):\n",
    "        jacob_matrix[i][i] = 1.0\n",
    "        cosine_matrix[i][i] = 1.0\n",
    "        for j in range(i + 1, 24):\n",
    "            temp = jacobian_similarity(persons_of_feature, HEADER[i + 24], HEADER[j+24])\n",
    "            jacob_matrix[i][j] = temp\n",
    "            jacob_matrix[j][i] = temp\n",
    "\n",
    "            temp1 = cosine_similarity(persons_of_feature, HEADER[i+24], HEADER[j+24])\n",
    "            cosine_matrix[i][j] = temp1\n",
    "            cosine_matrix[j][i] = temp1\n",
    "    cosine_pd = pd.DataFrame(cosine_matrix)\n",
    "    jacob_pd = pd.DataFrame(jacob_matrix)\n",
    "    return jacob_pd, cosine_pd\n"
   ]
  },
  {
   "cell_type": "code",
   "execution_count": 6,
   "metadata": {
    "collapsed": false
   },
   "outputs": [
    {
     "name": "stdout",
     "output_type": "stream",
     "text": [
      "time: 2.16 ms\n"
     ]
    }
   ],
   "source": [
    "def get_wts_from_mat(df, row):\n",
    "    brow = map(bool, row)\n",
    "    wts = df.loc[brow, :].apply(sum)\n",
    "    wts[brow] = 0\n",
    "    return wts"
   ]
  },
  {
   "cell_type": "code",
   "execution_count": 7,
   "metadata": {
    "collapsed": false
   },
   "outputs": [
    {
     "name": "stdout",
     "output_type": "stream",
     "text": [
      "time: 18.4 ms\n"
     ]
    }
   ],
   "source": [
    "def get_similarity_features(file_names): #train_file, added_file):\n",
    "    train_file = file_names[0]\n",
    "    added_file = file_names[1]\n",
    "    print added_file\n",
    "    train = pd.read_csv(train_file, header=None, names=HEADER[1:2] + HEADER[24:], usecols=[1]+range(24,48))\n",
    "    train.fillna(0, inplace=True)\n",
    "    for col in HEADER[24:]:\n",
    "        train[col] = train[col].astype(int)\n",
    "    if added_file == 'data/test_ver2.csv':\n",
    "        added_products = pd.read_csv(added_file, usecols=[1])\n",
    "    else:\n",
    "        added_products = pd.read_csv(added_file, usecols=[0])\n",
    "    jacob_pd, cosine_pd = get_similarity_matrices(train)\n",
    "    train.set_index('ncodpers', inplace=True)\n",
    "    train_final = pd.DataFrame()\n",
    "    train_final['ncodpers'] = added_products['ncodpers']\n",
    "    train_final.set_index('ncodpers', inplace=True)\n",
    "    for col in HEADER[24:]:\n",
    "        train_final['jacob_' + col] = [0.0]*train_final.shape[0]\n",
    "        train_final['cosine_' + col] = [0.0]*train_final.shape[0]\n",
    "\n",
    "    for i in tqdm(train_final.index):\n",
    "        row = list(train.loc[i, HEADER[24:]])\n",
    "        jwts = get_wts_from_mat(jacob_pd, row)\n",
    "        cwts = get_wts_from_mat(cosine_pd, row)\n",
    "        train_final.loc[i, ['jacob_' + h for h in HEADER[24:]]] = list(jwts)\n",
    "        train_final.loc[i, ['cosine_' + h for h in HEADER[24:]]] = list(cwts)\n",
    "    return train_final, file_names[2]"
   ]
  },
  {
   "cell_type": "code",
   "execution_count": 8,
   "metadata": {
    "collapsed": false
   },
   "outputs": [
    {
     "name": "stdout",
     "output_type": "stream",
     "text": [
      "time: 5.86 ms\n"
     ]
    }
   ],
   "source": [
    "file_names_list = [('data/train_2015_05_28.csv', 'data/added_product_2015_05_28.csv', 1),\n",
    "                   ('data/train_2015_06_28.csv', 'data/added_product_2015_06_28.csv', 2),\n",
    "                   ('data/train_2015_07_28.csv', 'data/added_product_2015_07_28.csv', 3),\n",
    "                   ('data/train_2015_08_28.csv', 'data/added_product_2015_08_28.csv', 4),\n",
    "                   ('data/train_2015_09_28.csv', 'data/added_product_2015_09_28.csv', 5),\n",
    "                   ('data/train_2015_10_28.csv', 'data/added_product_2015_10_28.csv', 6),\n",
    "                   ('data/train_2015_11_28.csv', 'data/added_product_2015_11_28.csv', 7),\n",
    "                   ('data/train_2015_12_28.csv', 'data/added_product_2015_12_28.csv', 8),\n",
    "                   ('data/train_2016_01_28.csv', 'data/added_product_2016_01_28.csv', 9),\n",
    "                   ('data/train_2016_02_28.csv', 'data/added_product_2016_02_28.csv', 10),\n",
    "                   ('data/train_2016_03_28.csv', 'data/added_product_2016_03_28.csv', 11),\n",
    "                   ('data/train_2016_04_28.csv', 'data/added_product_2016_04_28.csv', 12)\n",
    "                  ]\n",
    "\n",
    "test_file_data = ('data/train_2016_05_28.csv', 'data/test_ver2.csv', 13)"
   ]
  },
  {
   "cell_type": "code",
   "execution_count": 9,
   "metadata": {
    "collapsed": false
   },
   "outputs": [
    {
     "name": "stdout",
     "output_type": "stream",
     "text": [
      "data/added_product_2015_07_28.csv\n",
      "data/added_product_2015_09_28.csv\n",
      "data/added_product_2015_05_28.csv\n",
      "data/added_product_2015_06_28.csv\n",
      "data/added_product_2015_08_28.csv\n"
     ]
    },
    {
     "name": "stderr",
     "output_type": "stream",
     "text": [
      "100%|██████████| 29490/29490 [01:45<00:00, 278.22it/s]\n"
     ]
    },
    {
     "name": "stdout",
     "output_type": "stream",
     "text": [
      "data/added_product_2015_10_28.csv\n"
     ]
    },
    {
     "name": "stderr",
     "output_type": "stream",
     "text": [
      "100%|██████████| 33362/33362 [02:04<00:00, 268.59it/s]\n",
      " 85%|████████▌ | 33994/39803 [02:03<00:21, 265.03it/s]"
     ]
    },
    {
     "name": "stdout",
     "output_type": "stream",
     "text": [
      "data/added_product_2015_11_28.csv\n"
     ]
    },
    {
     "name": "stderr",
     "output_type": "stream",
     "text": [
      "100%|██████████| 35696/35696 [02:09<00:00, 274.61it/s]\n"
     ]
    },
    {
     "name": "stdout",
     "output_type": "stream",
     "text": [
      "data/added_product_2015_12_28.csv\n"
     ]
    },
    {
     "name": "stderr",
     "output_type": "stream",
     "text": [
      "100%|██████████| 39803/39803 [02:22<00:00, 278.71it/s]\n",
      " 25%|██▌       | 8969/35215 [00:33<01:38, 267.31it/s]"
     ]
    },
    {
     "name": "stdout",
     "output_type": "stream",
     "text": [
      "data/added_product_2016_01_28.csv\n"
     ]
    },
    {
     "name": "stderr",
     "output_type": "stream",
     "text": [
      "100%|██████████| 41745/41745 [02:34<00:00, 271.02it/s]\n",
      " 16%|█▋        | 6983/42353 [00:26<02:14, 262.76it/s]"
     ]
    },
    {
     "name": "stdout",
     "output_type": "stream",
     "text": [
      "data/added_product_2016_02_28.csv\n"
     ]
    },
    {
     "name": "stderr",
     "output_type": "stream",
     "text": [
      "100%|██████████| 35215/35215 [02:13<00:00, 264.72it/s]\n",
      " 66%|██████▋   | 23380/35203 [01:25<00:43, 269.77it/s]"
     ]
    },
    {
     "name": "stdout",
     "output_type": "stream",
     "text": [
      "data/added_product_2016_03_28.csv\n"
     ]
    },
    {
     "name": "stderr",
     "output_type": "stream",
     "text": [
      "100%|██████████| 30956/30956 [01:52<00:00, 276.05it/s]\n",
      " 69%|██████▊   | 24145/35203 [01:28<00:41, 265.75it/s]"
     ]
    },
    {
     "name": "stdout",
     "output_type": "stream",
     "text": [
      "data/added_product_2016_04_28.csv\n"
     ]
    },
    {
     "name": "stderr",
     "output_type": "stream",
     "text": [
      "100%|██████████| 35203/35203 [02:07<00:00, 275.08it/s]\n",
      "100%|██████████| 42353/42353 [02:41<00:00, 261.47it/s]\n",
      "100%|██████████| 49024/49024 [03:01<00:00, 269.46it/s]\n",
      "100%|██████████| 32962/32962 [01:58<00:00, 277.61it/s]\n",
      "100%|██████████| 35843/35843 [02:11<00:00, 273.07it/s]\n"
     ]
    },
    {
     "name": "stdout",
     "output_type": "stream",
     "text": [
      "time: 6min 24s\n"
     ]
    }
   ],
   "source": [
    "p = Pool(5)\n",
    "results = p.map(get_similarity_features, file_names_list)\n",
    "p.close()\n",
    "p.join()"
   ]
  },
  {
   "cell_type": "code",
   "execution_count": 10,
   "metadata": {
    "collapsed": false
   },
   "outputs": [
    {
     "data": {
      "text/plain": [
       "[1, 2, 3, 4, 5, 6, 7, 8, 9, 10, 11, 12]"
      ]
     },
     "execution_count": 10,
     "metadata": {},
     "output_type": "execute_result"
    },
    {
     "name": "stdout",
     "output_type": "stream",
     "text": [
      "time: 3.21 ms\n"
     ]
    }
   ],
   "source": [
    "[x[1] for x in results]"
   ]
  },
  {
   "cell_type": "code",
   "execution_count": 11,
   "metadata": {
    "collapsed": false
   },
   "outputs": [
    {
     "name": "stdout",
     "output_type": "stream",
     "text": [
      "time: 78.7 ms\n"
     ]
    }
   ],
   "source": [
    "jacob_train = pd.concat(tuple([x[0] for x in results]))"
   ]
  },
  {
   "cell_type": "code",
   "execution_count": 12,
   "metadata": {
    "collapsed": false
   },
   "outputs": [
    {
     "data": {
      "text/plain": [
       "(441652, 48)"
      ]
     },
     "execution_count": 12,
     "metadata": {},
     "output_type": "execute_result"
    },
    {
     "name": "stdout",
     "output_type": "stream",
     "text": [
      "time: 2.17 ms\n"
     ]
    }
   ],
   "source": [
    "jacob_train.shape"
   ]
  },
  {
   "cell_type": "code",
   "execution_count": 14,
   "metadata": {
    "collapsed": false
   },
   "outputs": [
    {
     "name": "stdout",
     "output_type": "stream",
     "text": [
      "Compressing file\n",
      "Compression done\n",
      "Uploading file to s3 data/15.Jacobian_similarity_features.train_data.zip\n",
      "uploading to s3 done\n",
      "time: 28.7 s\n"
     ]
    }
   ],
   "source": [
    "pickle.dump(jacob_train, open('data/15.Jacobian_similarity_features.train_data', 'wb'))\n",
    "make_submission('data/15.Jacobian_similarity_features.train_data', upload_to_s3=True)"
   ]
  },
  {
   "cell_type": "code",
   "execution_count": 15,
   "metadata": {
    "collapsed": false
   },
   "outputs": [
    {
     "name": "stdout",
     "output_type": "stream",
     "text": [
      "data/test_ver2.csv\n"
     ]
    },
    {
     "name": "stderr",
     "output_type": "stream",
     "text": [
      "100%|██████████| 929615/929615 [1:01:53<00:00, 250.32it/s]"
     ]
    },
    {
     "name": "stdout",
     "output_type": "stream",
     "text": [
      "time: 1h 1min 59s\n"
     ]
    },
    {
     "name": "stderr",
     "output_type": "stream",
     "text": [
      "\n"
     ]
    }
   ],
   "source": [
    "jacob_test, ind = get_similarity_features(test_file_data)"
   ]
  },
  {
   "cell_type": "code",
   "execution_count": 16,
   "metadata": {
    "collapsed": false
   },
   "outputs": [
    {
     "data": {
      "text/plain": [
       "(929615, 48)"
      ]
     },
     "execution_count": 16,
     "metadata": {},
     "output_type": "execute_result"
    },
    {
     "name": "stdout",
     "output_type": "stream",
     "text": [
      "time: 2.53 ms\n"
     ]
    }
   ],
   "source": [
    "jacob_test.shape"
   ]
  },
  {
   "cell_type": "code",
   "execution_count": 18,
   "metadata": {
    "collapsed": false
   },
   "outputs": [
    {
     "name": "stdout",
     "output_type": "stream",
     "text": [
      "Compressing file\n",
      "Compression done\n",
      "Uploading file to s3 data/15.Jacobian_similarity_features.test_data.zip\n",
      "uploading to s3 done\n",
      "time: 4min 17s\n"
     ]
    }
   ],
   "source": [
    "pickle.dump(jacob_test, open('data/15.Jacobian_similarity_features.test_data', 'wb'))\n",
    "make_submission('data/15.Jacobian_similarity_features.test_data', upload_to_s3=True)"
   ]
  },
  {
   "cell_type": "code",
   "execution_count": 20,
   "metadata": {
    "collapsed": false
   },
   "outputs": [
    {
     "name": "stdout",
     "output_type": "stream",
     "text": [
      "time: 9.52 s\n"
     ]
    }
   ],
   "source": [
    "desc, test_ncodpers, preds, label_encoder = pickle.load(open('data/11.xgb_trained_on_all_months_only_added_users_product_features_generated_from_last_4_months.csv.pickle', 'rb'))"
   ]
  },
  {
   "cell_type": "code",
   "execution_count": 21,
   "metadata": {
    "collapsed": false
   },
   "outputs": [
    {
     "data": {
      "text/plain": [
       "24"
      ]
     },
     "execution_count": 21,
     "metadata": {},
     "output_type": "execute_result"
    },
    {
     "name": "stdout",
     "output_type": "stream",
     "text": [
      "time: 2.72 ms\n"
     ]
    }
   ],
   "source": [
    "len(label_encoder.classes_)"
   ]
  },
  {
   "cell_type": "code",
   "execution_count": 24,
   "metadata": {
    "collapsed": false
   },
   "outputs": [
    {
     "name": "stdout",
     "output_type": "stream",
     "text": [
      "time: 71.4 ms\n"
     ]
    }
   ],
   "source": [
    "jacobs = pd.DataFrame()\n",
    "jacobs['ncodpers'] = jacob_test.index\n",
    "jacobs.set_index('ncodpers', inplace=True)"
   ]
  },
  {
   "cell_type": "code",
   "execution_count": 25,
   "metadata": {
    "collapsed": false
   },
   "outputs": [
    {
     "name": "stdout",
     "output_type": "stream",
     "text": [
      "time: 85.1 ms\n"
     ]
    }
   ],
   "source": [
    "for col in HEADER[24:]:\n",
    "    jacobs[col] = jacob_test['jacob_'+col]"
   ]
  },
  {
   "cell_type": "code",
   "execution_count": 27,
   "metadata": {
    "collapsed": false
   },
   "outputs": [
    {
     "data": {
      "text/plain": [
       "(929615, 24)"
      ]
     },
     "execution_count": 27,
     "metadata": {},
     "output_type": "execute_result"
    },
    {
     "name": "stdout",
     "output_type": "stream",
     "text": [
      "time: 2.57 ms\n"
     ]
    }
   ],
   "source": [
    "preds.shape"
   ]
  },
  {
   "cell_type": "code",
   "execution_count": 30,
   "metadata": {
    "collapsed": false
   },
   "outputs": [
    {
     "name": "stdout",
     "output_type": "stream",
     "text": [
      "time: 1.64 ms\n"
     ]
    }
   ],
   "source": [
    "jacobs.columns = label_encoder.transform(jacobs.columns)"
   ]
  },
  {
   "cell_type": "code",
   "execution_count": 31,
   "metadata": {
    "collapsed": false
   },
   "outputs": [
    {
     "data": {
      "text/html": [
       "<div>\n",
       "<table border=\"1\" class=\"dataframe\">\n",
       "  <thead>\n",
       "    <tr style=\"text-align: right;\">\n",
       "      <th></th>\n",
       "      <th>0</th>\n",
       "      <th>1</th>\n",
       "      <th>2</th>\n",
       "      <th>3</th>\n",
       "      <th>4</th>\n",
       "      <th>5</th>\n",
       "      <th>6</th>\n",
       "      <th>7</th>\n",
       "      <th>8</th>\n",
       "      <th>9</th>\n",
       "      <th>...</th>\n",
       "      <th>14</th>\n",
       "      <th>17</th>\n",
       "      <th>18</th>\n",
       "      <th>19</th>\n",
       "      <th>21</th>\n",
       "      <th>22</th>\n",
       "      <th>23</th>\n",
       "      <th>16</th>\n",
       "      <th>15</th>\n",
       "      <th>20</th>\n",
       "    </tr>\n",
       "    <tr>\n",
       "      <th>ncodpers</th>\n",
       "      <th></th>\n",
       "      <th></th>\n",
       "      <th></th>\n",
       "      <th></th>\n",
       "      <th></th>\n",
       "      <th></th>\n",
       "      <th></th>\n",
       "      <th></th>\n",
       "      <th></th>\n",
       "      <th></th>\n",
       "      <th></th>\n",
       "      <th></th>\n",
       "      <th></th>\n",
       "      <th></th>\n",
       "      <th></th>\n",
       "      <th></th>\n",
       "      <th></th>\n",
       "      <th></th>\n",
       "      <th></th>\n",
       "      <th></th>\n",
       "      <th></th>\n",
       "    </tr>\n",
       "  </thead>\n",
       "  <tbody>\n",
       "    <tr>\n",
       "      <th>15889</th>\n",
       "      <td>0.000884</td>\n",
       "      <td>0.000769</td>\n",
       "      <td>0.0</td>\n",
       "      <td>0.006847</td>\n",
       "      <td>0.415941</td>\n",
       "      <td>0.000005</td>\n",
       "      <td>0.028505</td>\n",
       "      <td>0.275887</td>\n",
       "      <td>0.000000</td>\n",
       "      <td>0.005102</td>\n",
       "      <td>...</td>\n",
       "      <td>0.094846</td>\n",
       "      <td>0.148436</td>\n",
       "      <td>0.012952</td>\n",
       "      <td>0.400850</td>\n",
       "      <td>0.00000</td>\n",
       "      <td>0.000000</td>\n",
       "      <td>0.043409</td>\n",
       "      <td>0.414067</td>\n",
       "      <td>0.434003</td>\n",
       "      <td>0.497496</td>\n",
       "    </tr>\n",
       "    <tr>\n",
       "      <th>1170544</th>\n",
       "      <td>0.000082</td>\n",
       "      <td>0.000014</td>\n",
       "      <td>0.0</td>\n",
       "      <td>0.000409</td>\n",
       "      <td>0.011386</td>\n",
       "      <td>0.000005</td>\n",
       "      <td>0.007710</td>\n",
       "      <td>0.110624</td>\n",
       "      <td>0.031354</td>\n",
       "      <td>0.000463</td>\n",
       "      <td>...</td>\n",
       "      <td>0.002969</td>\n",
       "      <td>0.006558</td>\n",
       "      <td>0.001393</td>\n",
       "      <td>0.037283</td>\n",
       "      <td>0.02669</td>\n",
       "      <td>0.026649</td>\n",
       "      <td>0.003207</td>\n",
       "      <td>0.011827</td>\n",
       "      <td>0.012634</td>\n",
       "      <td>0.105950</td>\n",
       "    </tr>\n",
       "    <tr>\n",
       "      <th>1170545</th>\n",
       "      <td>0.000082</td>\n",
       "      <td>0.000014</td>\n",
       "      <td>0.0</td>\n",
       "      <td>0.000409</td>\n",
       "      <td>0.011386</td>\n",
       "      <td>0.000005</td>\n",
       "      <td>0.007710</td>\n",
       "      <td>0.110624</td>\n",
       "      <td>0.031354</td>\n",
       "      <td>0.000463</td>\n",
       "      <td>...</td>\n",
       "      <td>0.002969</td>\n",
       "      <td>0.006558</td>\n",
       "      <td>0.001393</td>\n",
       "      <td>0.037283</td>\n",
       "      <td>0.02669</td>\n",
       "      <td>0.026649</td>\n",
       "      <td>0.003207</td>\n",
       "      <td>0.011827</td>\n",
       "      <td>0.012634</td>\n",
       "      <td>0.105950</td>\n",
       "    </tr>\n",
       "    <tr>\n",
       "      <th>1170547</th>\n",
       "      <td>0.000082</td>\n",
       "      <td>0.000014</td>\n",
       "      <td>0.0</td>\n",
       "      <td>0.000409</td>\n",
       "      <td>0.011386</td>\n",
       "      <td>0.000005</td>\n",
       "      <td>0.007710</td>\n",
       "      <td>0.110624</td>\n",
       "      <td>0.031354</td>\n",
       "      <td>0.000463</td>\n",
       "      <td>...</td>\n",
       "      <td>0.002969</td>\n",
       "      <td>0.006558</td>\n",
       "      <td>0.001393</td>\n",
       "      <td>0.037283</td>\n",
       "      <td>0.02669</td>\n",
       "      <td>0.026649</td>\n",
       "      <td>0.003207</td>\n",
       "      <td>0.011827</td>\n",
       "      <td>0.012634</td>\n",
       "      <td>0.105950</td>\n",
       "    </tr>\n",
       "    <tr>\n",
       "      <th>1170548</th>\n",
       "      <td>0.000082</td>\n",
       "      <td>0.000014</td>\n",
       "      <td>0.0</td>\n",
       "      <td>0.000409</td>\n",
       "      <td>0.011386</td>\n",
       "      <td>0.000005</td>\n",
       "      <td>0.007710</td>\n",
       "      <td>0.110624</td>\n",
       "      <td>0.031354</td>\n",
       "      <td>0.000463</td>\n",
       "      <td>...</td>\n",
       "      <td>0.002969</td>\n",
       "      <td>0.006558</td>\n",
       "      <td>0.001393</td>\n",
       "      <td>0.037283</td>\n",
       "      <td>0.02669</td>\n",
       "      <td>0.026649</td>\n",
       "      <td>0.003207</td>\n",
       "      <td>0.011827</td>\n",
       "      <td>0.012634</td>\n",
       "      <td>0.105950</td>\n",
       "    </tr>\n",
       "  </tbody>\n",
       "</table>\n",
       "<p>5 rows × 24 columns</p>\n",
       "</div>"
      ],
      "text/plain": [
       "                0         1    2         3         4         5         6   \\\n",
       "ncodpers                                                                    \n",
       "15889     0.000884  0.000769  0.0  0.006847  0.415941  0.000005  0.028505   \n",
       "1170544   0.000082  0.000014  0.0  0.000409  0.011386  0.000005  0.007710   \n",
       "1170545   0.000082  0.000014  0.0  0.000409  0.011386  0.000005  0.007710   \n",
       "1170547   0.000082  0.000014  0.0  0.000409  0.011386  0.000005  0.007710   \n",
       "1170548   0.000082  0.000014  0.0  0.000409  0.011386  0.000005  0.007710   \n",
       "\n",
       "                7         8         9     ...           14        17  \\\n",
       "ncodpers                                  ...                          \n",
       "15889     0.275887  0.000000  0.005102    ...     0.094846  0.148436   \n",
       "1170544   0.110624  0.031354  0.000463    ...     0.002969  0.006558   \n",
       "1170545   0.110624  0.031354  0.000463    ...     0.002969  0.006558   \n",
       "1170547   0.110624  0.031354  0.000463    ...     0.002969  0.006558   \n",
       "1170548   0.110624  0.031354  0.000463    ...     0.002969  0.006558   \n",
       "\n",
       "                18        19       21        22        23        16        15  \\\n",
       "ncodpers                                                                        \n",
       "15889     0.012952  0.400850  0.00000  0.000000  0.043409  0.414067  0.434003   \n",
       "1170544   0.001393  0.037283  0.02669  0.026649  0.003207  0.011827  0.012634   \n",
       "1170545   0.001393  0.037283  0.02669  0.026649  0.003207  0.011827  0.012634   \n",
       "1170547   0.001393  0.037283  0.02669  0.026649  0.003207  0.011827  0.012634   \n",
       "1170548   0.001393  0.037283  0.02669  0.026649  0.003207  0.011827  0.012634   \n",
       "\n",
       "                20  \n",
       "ncodpers            \n",
       "15889     0.497496  \n",
       "1170544   0.105950  \n",
       "1170545   0.105950  \n",
       "1170547   0.105950  \n",
       "1170548   0.105950  \n",
       "\n",
       "[5 rows x 24 columns]"
      ]
     },
     "execution_count": 31,
     "metadata": {},
     "output_type": "execute_result"
    },
    {
     "name": "stdout",
     "output_type": "stream",
     "text": [
      "time: 41 ms\n"
     ]
    }
   ],
   "source": [
    "jacobs.head()"
   ]
  },
  {
   "cell_type": "code",
   "execution_count": 32,
   "metadata": {
    "collapsed": false
   },
   "outputs": [
    {
     "name": "stdout",
     "output_type": "stream",
     "text": [
      "time: 168 ms\n"
     ]
    }
   ],
   "source": [
    "jacobs_1 = jacobs[[0,1,2,3,4,5,6,7,8,9,10,11,12,13,14,15,16,17,18,19,20,21,22,23]]"
   ]
  },
  {
   "cell_type": "code",
   "execution_count": 33,
   "metadata": {
    "collapsed": false
   },
   "outputs": [
    {
     "data": {
      "text/html": [
       "<div>\n",
       "<table border=\"1\" class=\"dataframe\">\n",
       "  <thead>\n",
       "    <tr style=\"text-align: right;\">\n",
       "      <th></th>\n",
       "      <th>0</th>\n",
       "      <th>1</th>\n",
       "      <th>2</th>\n",
       "      <th>3</th>\n",
       "      <th>4</th>\n",
       "      <th>5</th>\n",
       "      <th>6</th>\n",
       "      <th>7</th>\n",
       "      <th>8</th>\n",
       "      <th>9</th>\n",
       "      <th>...</th>\n",
       "      <th>14</th>\n",
       "      <th>15</th>\n",
       "      <th>16</th>\n",
       "      <th>17</th>\n",
       "      <th>18</th>\n",
       "      <th>19</th>\n",
       "      <th>20</th>\n",
       "      <th>21</th>\n",
       "      <th>22</th>\n",
       "      <th>23</th>\n",
       "    </tr>\n",
       "    <tr>\n",
       "      <th>ncodpers</th>\n",
       "      <th></th>\n",
       "      <th></th>\n",
       "      <th></th>\n",
       "      <th></th>\n",
       "      <th></th>\n",
       "      <th></th>\n",
       "      <th></th>\n",
       "      <th></th>\n",
       "      <th></th>\n",
       "      <th></th>\n",
       "      <th></th>\n",
       "      <th></th>\n",
       "      <th></th>\n",
       "      <th></th>\n",
       "      <th></th>\n",
       "      <th></th>\n",
       "      <th></th>\n",
       "      <th></th>\n",
       "      <th></th>\n",
       "      <th></th>\n",
       "      <th></th>\n",
       "    </tr>\n",
       "  </thead>\n",
       "  <tbody>\n",
       "    <tr>\n",
       "      <th>15889</th>\n",
       "      <td>0.000884</td>\n",
       "      <td>0.000769</td>\n",
       "      <td>0.0</td>\n",
       "      <td>0.006847</td>\n",
       "      <td>0.415941</td>\n",
       "      <td>0.000005</td>\n",
       "      <td>0.028505</td>\n",
       "      <td>0.275887</td>\n",
       "      <td>0.000000</td>\n",
       "      <td>0.005102</td>\n",
       "      <td>...</td>\n",
       "      <td>0.094846</td>\n",
       "      <td>0.434003</td>\n",
       "      <td>0.414067</td>\n",
       "      <td>0.148436</td>\n",
       "      <td>0.012952</td>\n",
       "      <td>0.400850</td>\n",
       "      <td>0.497496</td>\n",
       "      <td>0.00000</td>\n",
       "      <td>0.000000</td>\n",
       "      <td>0.043409</td>\n",
       "    </tr>\n",
       "    <tr>\n",
       "      <th>1170544</th>\n",
       "      <td>0.000082</td>\n",
       "      <td>0.000014</td>\n",
       "      <td>0.0</td>\n",
       "      <td>0.000409</td>\n",
       "      <td>0.011386</td>\n",
       "      <td>0.000005</td>\n",
       "      <td>0.007710</td>\n",
       "      <td>0.110624</td>\n",
       "      <td>0.031354</td>\n",
       "      <td>0.000463</td>\n",
       "      <td>...</td>\n",
       "      <td>0.002969</td>\n",
       "      <td>0.012634</td>\n",
       "      <td>0.011827</td>\n",
       "      <td>0.006558</td>\n",
       "      <td>0.001393</td>\n",
       "      <td>0.037283</td>\n",
       "      <td>0.105950</td>\n",
       "      <td>0.02669</td>\n",
       "      <td>0.026649</td>\n",
       "      <td>0.003207</td>\n",
       "    </tr>\n",
       "    <tr>\n",
       "      <th>1170545</th>\n",
       "      <td>0.000082</td>\n",
       "      <td>0.000014</td>\n",
       "      <td>0.0</td>\n",
       "      <td>0.000409</td>\n",
       "      <td>0.011386</td>\n",
       "      <td>0.000005</td>\n",
       "      <td>0.007710</td>\n",
       "      <td>0.110624</td>\n",
       "      <td>0.031354</td>\n",
       "      <td>0.000463</td>\n",
       "      <td>...</td>\n",
       "      <td>0.002969</td>\n",
       "      <td>0.012634</td>\n",
       "      <td>0.011827</td>\n",
       "      <td>0.006558</td>\n",
       "      <td>0.001393</td>\n",
       "      <td>0.037283</td>\n",
       "      <td>0.105950</td>\n",
       "      <td>0.02669</td>\n",
       "      <td>0.026649</td>\n",
       "      <td>0.003207</td>\n",
       "    </tr>\n",
       "    <tr>\n",
       "      <th>1170547</th>\n",
       "      <td>0.000082</td>\n",
       "      <td>0.000014</td>\n",
       "      <td>0.0</td>\n",
       "      <td>0.000409</td>\n",
       "      <td>0.011386</td>\n",
       "      <td>0.000005</td>\n",
       "      <td>0.007710</td>\n",
       "      <td>0.110624</td>\n",
       "      <td>0.031354</td>\n",
       "      <td>0.000463</td>\n",
       "      <td>...</td>\n",
       "      <td>0.002969</td>\n",
       "      <td>0.012634</td>\n",
       "      <td>0.011827</td>\n",
       "      <td>0.006558</td>\n",
       "      <td>0.001393</td>\n",
       "      <td>0.037283</td>\n",
       "      <td>0.105950</td>\n",
       "      <td>0.02669</td>\n",
       "      <td>0.026649</td>\n",
       "      <td>0.003207</td>\n",
       "    </tr>\n",
       "    <tr>\n",
       "      <th>1170548</th>\n",
       "      <td>0.000082</td>\n",
       "      <td>0.000014</td>\n",
       "      <td>0.0</td>\n",
       "      <td>0.000409</td>\n",
       "      <td>0.011386</td>\n",
       "      <td>0.000005</td>\n",
       "      <td>0.007710</td>\n",
       "      <td>0.110624</td>\n",
       "      <td>0.031354</td>\n",
       "      <td>0.000463</td>\n",
       "      <td>...</td>\n",
       "      <td>0.002969</td>\n",
       "      <td>0.012634</td>\n",
       "      <td>0.011827</td>\n",
       "      <td>0.006558</td>\n",
       "      <td>0.001393</td>\n",
       "      <td>0.037283</td>\n",
       "      <td>0.105950</td>\n",
       "      <td>0.02669</td>\n",
       "      <td>0.026649</td>\n",
       "      <td>0.003207</td>\n",
       "    </tr>\n",
       "  </tbody>\n",
       "</table>\n",
       "<p>5 rows × 24 columns</p>\n",
       "</div>"
      ],
      "text/plain": [
       "                0         1    2         3         4         5         6   \\\n",
       "ncodpers                                                                    \n",
       "15889     0.000884  0.000769  0.0  0.006847  0.415941  0.000005  0.028505   \n",
       "1170544   0.000082  0.000014  0.0  0.000409  0.011386  0.000005  0.007710   \n",
       "1170545   0.000082  0.000014  0.0  0.000409  0.011386  0.000005  0.007710   \n",
       "1170547   0.000082  0.000014  0.0  0.000409  0.011386  0.000005  0.007710   \n",
       "1170548   0.000082  0.000014  0.0  0.000409  0.011386  0.000005  0.007710   \n",
       "\n",
       "                7         8         9     ...           14        15  \\\n",
       "ncodpers                                  ...                          \n",
       "15889     0.275887  0.000000  0.005102    ...     0.094846  0.434003   \n",
       "1170544   0.110624  0.031354  0.000463    ...     0.002969  0.012634   \n",
       "1170545   0.110624  0.031354  0.000463    ...     0.002969  0.012634   \n",
       "1170547   0.110624  0.031354  0.000463    ...     0.002969  0.012634   \n",
       "1170548   0.110624  0.031354  0.000463    ...     0.002969  0.012634   \n",
       "\n",
       "                16        17        18        19        20       21        22  \\\n",
       "ncodpers                                                                        \n",
       "15889     0.414067  0.148436  0.012952  0.400850  0.497496  0.00000  0.000000   \n",
       "1170544   0.011827  0.006558  0.001393  0.037283  0.105950  0.02669  0.026649   \n",
       "1170545   0.011827  0.006558  0.001393  0.037283  0.105950  0.02669  0.026649   \n",
       "1170547   0.011827  0.006558  0.001393  0.037283  0.105950  0.02669  0.026649   \n",
       "1170548   0.011827  0.006558  0.001393  0.037283  0.105950  0.02669  0.026649   \n",
       "\n",
       "                23  \n",
       "ncodpers            \n",
       "15889     0.043409  \n",
       "1170544   0.003207  \n",
       "1170545   0.003207  \n",
       "1170547   0.003207  \n",
       "1170548   0.003207  \n",
       "\n",
       "[5 rows x 24 columns]"
      ]
     },
     "execution_count": 33,
     "metadata": {},
     "output_type": "execute_result"
    },
    {
     "name": "stdout",
     "output_type": "stream",
     "text": [
      "time: 42.7 ms\n"
     ]
    }
   ],
   "source": [
    "jacobs_1.head()"
   ]
  },
  {
   "cell_type": "code",
   "execution_count": 34,
   "metadata": {
    "collapsed": false
   },
   "outputs": [
    {
     "name": "stdout",
     "output_type": "stream",
     "text": [
      "time: 1.28 ms\n"
     ]
    }
   ],
   "source": [
    "mat = jacobs_1.as_matrix()"
   ]
  },
  {
   "cell_type": "code",
   "execution_count": 35,
   "metadata": {
    "collapsed": false
   },
   "outputs": [
    {
     "data": {
      "text/plain": [
       "(929615, 24)"
      ]
     },
     "execution_count": 35,
     "metadata": {},
     "output_type": "execute_result"
    },
    {
     "name": "stdout",
     "output_type": "stream",
     "text": [
      "time: 2.92 ms\n"
     ]
    }
   ],
   "source": [
    "mat.shape"
   ]
  },
  {
   "cell_type": "code",
   "execution_count": 36,
   "metadata": {
    "collapsed": false
   },
   "outputs": [
    {
     "data": {
      "text/plain": [
       "array([[  8.83835818e-04,   7.68736655e-04,   0.00000000e+00, ...,\n",
       "          0.00000000e+00,   0.00000000e+00,   4.34094628e-02],\n",
       "       [  8.19019776e-05,   1.42444309e-05,   0.00000000e+00, ...,\n",
       "          2.66898708e-02,   2.66487295e-02,   3.20735506e-03],\n",
       "       [  8.19019776e-05,   1.42444309e-05,   0.00000000e+00, ...,\n",
       "          2.66898708e-02,   2.66487295e-02,   3.20735506e-03],\n",
       "       ..., \n",
       "       [  4.29703870e-04,   5.40054670e-05,   0.00000000e+00, ...,\n",
       "          8.61278040e-02,   8.35131729e-02,   1.66351659e-02],\n",
       "       [  8.19019776e-05,   1.42444309e-05,   0.00000000e+00, ...,\n",
       "          2.66898708e-02,   2.66487295e-02,   3.20735506e-03],\n",
       "       [  3.47801892e-04,   3.97610362e-05,   1.10623988e-01, ...,\n",
       "          5.94379332e-02,   5.68644435e-02,   1.34278108e-02]])"
      ]
     },
     "execution_count": 36,
     "metadata": {},
     "output_type": "execute_result"
    },
    {
     "name": "stdout",
     "output_type": "stream",
     "text": [
      "time: 4.2 ms\n"
     ]
    }
   ],
   "source": [
    "mat"
   ]
  },
  {
   "cell_type": "code",
   "execution_count": 38,
   "metadata": {
    "collapsed": false
   },
   "outputs": [
    {
     "data": {
      "text/plain": [
       "(929615, 24)"
      ]
     },
     "execution_count": 38,
     "metadata": {},
     "output_type": "execute_result"
    },
    {
     "name": "stdout",
     "output_type": "stream",
     "text": [
      "time: 2.51 ms\n"
     ]
    }
   ],
   "source": [
    "preds.shape"
   ]
  },
  {
   "cell_type": "code",
   "execution_count": 39,
   "metadata": {
    "collapsed": false
   },
   "outputs": [
    {
     "name": "stdout",
     "output_type": "stream",
     "text": [
      "time: 159 ms\n"
     ]
    }
   ],
   "source": [
    "new_preds = np.multiply(mat, preds)"
   ]
  },
  {
   "cell_type": "code",
   "execution_count": 65,
   "metadata": {
    "collapsed": false
   },
   "outputs": [
    {
     "name": "stdout",
     "output_type": "stream",
     "text": [
      "time: 1.3 s\n"
     ]
    }
   ],
   "source": [
    "top_t_products = label_encoder.inverse_transform(np.argsort(new_preds, axis=1)\n",
    "                                                 [:, ::-1][:, :])"
   ]
  },
  {
   "cell_type": "code",
   "execution_count": 60,
   "metadata": {
    "collapsed": false
   },
   "outputs": [
    {
     "name": "stdout",
     "output_type": "stream",
     "text": [
      "time: 57 ms\n"
     ]
    }
   ],
   "source": [
    "submission = pd.DataFrame()\n",
    "submission['ncodpers'] = test.index\n",
    "submission['added_products'] = ['ind_recibo_ult1']*submission.shape[0]\n",
    "submission.set_index('ncodpers', inplace=True)"
   ]
  },
  {
   "cell_type": "code",
   "execution_count": 42,
   "metadata": {
    "collapsed": false
   },
   "outputs": [
    {
     "name": "stderr",
     "output_type": "stream",
     "text": [
      "/usr/local/lib/python2.7/dist-packages/IPython/core/interactiveshell.py:2723: DtypeWarning: Columns (15) have mixed types. Specify dtype option on import or set low_memory=False.\n",
      "  interactivity=interactivity, compiler=compiler, result=result)\n"
     ]
    },
    {
     "name": "stdout",
     "output_type": "stream",
     "text": [
      "time: 3 s\n"
     ]
    }
   ],
   "source": [
    "test = pd.read_csv('data/test_ver2.csv')"
   ]
  },
  {
   "cell_type": "code",
   "execution_count": 43,
   "metadata": {
    "collapsed": false
   },
   "outputs": [
    {
     "name": "stdout",
     "output_type": "stream",
     "text": [
      "time: 620 ms\n"
     ]
    }
   ],
   "source": [
    "test.fillna(0, inplace=True)"
   ]
  },
  {
   "cell_type": "code",
   "execution_count": 44,
   "metadata": {
    "collapsed": false
   },
   "outputs": [
    {
     "name": "stdout",
     "output_type": "stream",
     "text": [
      "time: 22.2 ms\n"
     ]
    }
   ],
   "source": [
    "test.set_index('ncodpers', inplace=True)"
   ]
  },
  {
   "cell_type": "code",
   "execution_count": 54,
   "metadata": {
    "collapsed": false
   },
   "outputs": [
    {
     "name": "stdout",
     "output_type": "stream",
     "text": [
      "time: 1.77 s\n"
     ]
    }
   ],
   "source": [
    "test_copy = test.loc[test_ncodpers, :]"
   ]
  },
  {
   "cell_type": "code",
   "execution_count": 57,
   "metadata": {
    "collapsed": false
   },
   "outputs": [
    {
     "name": "stdout",
     "output_type": "stream",
     "text": [
      "time: 3.12 s\n"
     ]
    },
    {
     "name": "stderr",
     "output_type": "stream",
     "text": [
      "/usr/local/lib/python2.7/dist-packages/IPython/core/interactiveshell.py:2723: DtypeWarning: Columns (11,15) have mixed types. Specify dtype option on import or set low_memory=False.\n",
      "  interactivity=interactivity, compiler=compiler, result=result)\n"
     ]
    }
   ],
   "source": [
    "test_old = pd.read_csv('data/train_2016_05_28.csv', header=None, names=HEADER)"
   ]
  },
  {
   "cell_type": "code",
   "execution_count": 58,
   "metadata": {
    "collapsed": false
   },
   "outputs": [
    {
     "name": "stdout",
     "output_type": "stream",
     "text": [
      "time: 585 ms\n"
     ]
    }
   ],
   "source": [
    "test_old.fillna(0, inplace=True)\n",
    "test_old.set_index('ncodpers', inplace=True)"
   ]
  },
  {
   "cell_type": "code",
   "execution_count": 55,
   "metadata": {
    "collapsed": false
   },
   "outputs": [
    {
     "data": {
      "text/html": [
       "<div>\n",
       "<table border=\"1\" class=\"dataframe\">\n",
       "  <thead>\n",
       "    <tr style=\"text-align: right;\">\n",
       "      <th></th>\n",
       "      <th>fecha_dato</th>\n",
       "      <th>ind_empleado</th>\n",
       "      <th>pais_residencia</th>\n",
       "      <th>sexo</th>\n",
       "      <th>age</th>\n",
       "      <th>fecha_alta</th>\n",
       "      <th>ind_nuevo</th>\n",
       "      <th>antiguedad</th>\n",
       "      <th>indrel</th>\n",
       "      <th>ult_fec_cli_1t</th>\n",
       "      <th>...</th>\n",
       "      <th>indext</th>\n",
       "      <th>conyuemp</th>\n",
       "      <th>canal_entrada</th>\n",
       "      <th>indfall</th>\n",
       "      <th>tipodom</th>\n",
       "      <th>cod_prov</th>\n",
       "      <th>nomprov</th>\n",
       "      <th>ind_actividad_cliente</th>\n",
       "      <th>renta</th>\n",
       "      <th>segmento</th>\n",
       "    </tr>\n",
       "    <tr>\n",
       "      <th>ncodpers</th>\n",
       "      <th></th>\n",
       "      <th></th>\n",
       "      <th></th>\n",
       "      <th></th>\n",
       "      <th></th>\n",
       "      <th></th>\n",
       "      <th></th>\n",
       "      <th></th>\n",
       "      <th></th>\n",
       "      <th></th>\n",
       "      <th></th>\n",
       "      <th></th>\n",
       "      <th></th>\n",
       "      <th></th>\n",
       "      <th></th>\n",
       "      <th></th>\n",
       "      <th></th>\n",
       "      <th></th>\n",
       "      <th></th>\n",
       "      <th></th>\n",
       "      <th></th>\n",
       "    </tr>\n",
       "  </thead>\n",
       "  <tbody>\n",
       "    <tr>\n",
       "      <th>869505</th>\n",
       "      <td>2016-06-28</td>\n",
       "      <td>N</td>\n",
       "      <td>ES</td>\n",
       "      <td>H</td>\n",
       "      <td>26</td>\n",
       "      <td>2010-04-13</td>\n",
       "      <td>0</td>\n",
       "      <td>75</td>\n",
       "      <td>1</td>\n",
       "      <td>0</td>\n",
       "      <td>...</td>\n",
       "      <td>N</td>\n",
       "      <td>0</td>\n",
       "      <td>KAT</td>\n",
       "      <td>N</td>\n",
       "      <td>1</td>\n",
       "      <td>4.0</td>\n",
       "      <td>ALMERIA</td>\n",
       "      <td>1</td>\n",
       "      <td>112771.23</td>\n",
       "      <td>02 - PARTICULARES</td>\n",
       "    </tr>\n",
       "    <tr>\n",
       "      <th>1477437</th>\n",
       "      <td>2016-06-28</td>\n",
       "      <td>N</td>\n",
       "      <td>ES</td>\n",
       "      <td>H</td>\n",
       "      <td>22</td>\n",
       "      <td>2015-10-13</td>\n",
       "      <td>0</td>\n",
       "      <td>8</td>\n",
       "      <td>1</td>\n",
       "      <td>0</td>\n",
       "      <td>...</td>\n",
       "      <td>N</td>\n",
       "      <td>0</td>\n",
       "      <td>KHQ</td>\n",
       "      <td>N</td>\n",
       "      <td>1</td>\n",
       "      <td>28.0</td>\n",
       "      <td>MADRID</td>\n",
       "      <td>1</td>\n",
       "      <td>NA</td>\n",
       "      <td>03 - UNIVERSITARIO</td>\n",
       "    </tr>\n",
       "    <tr>\n",
       "      <th>1533309</th>\n",
       "      <td>2016-06-28</td>\n",
       "      <td>N</td>\n",
       "      <td>ES</td>\n",
       "      <td>H</td>\n",
       "      <td>52</td>\n",
       "      <td>2016-02-19</td>\n",
       "      <td>1</td>\n",
       "      <td>4</td>\n",
       "      <td>1</td>\n",
       "      <td>0</td>\n",
       "      <td>...</td>\n",
       "      <td>N</td>\n",
       "      <td>0</td>\n",
       "      <td>KHN</td>\n",
       "      <td>N</td>\n",
       "      <td>1</td>\n",
       "      <td>12.0</td>\n",
       "      <td>CASTELLON</td>\n",
       "      <td>1</td>\n",
       "      <td>NA</td>\n",
       "      <td>02 - PARTICULARES</td>\n",
       "    </tr>\n",
       "    <tr>\n",
       "      <th>1484304</th>\n",
       "      <td>2016-06-28</td>\n",
       "      <td>N</td>\n",
       "      <td>ES</td>\n",
       "      <td>H</td>\n",
       "      <td>25</td>\n",
       "      <td>2015-10-20</td>\n",
       "      <td>0</td>\n",
       "      <td>8</td>\n",
       "      <td>1</td>\n",
       "      <td>0</td>\n",
       "      <td>...</td>\n",
       "      <td>N</td>\n",
       "      <td>0</td>\n",
       "      <td>KHQ</td>\n",
       "      <td>N</td>\n",
       "      <td>1</td>\n",
       "      <td>28.0</td>\n",
       "      <td>MADRID</td>\n",
       "      <td>0</td>\n",
       "      <td>NA</td>\n",
       "      <td>03 - UNIVERSITARIO</td>\n",
       "    </tr>\n",
       "    <tr>\n",
       "      <th>1484306</th>\n",
       "      <td>2016-06-28</td>\n",
       "      <td>N</td>\n",
       "      <td>ES</td>\n",
       "      <td>H</td>\n",
       "      <td>22</td>\n",
       "      <td>2015-10-20</td>\n",
       "      <td>0</td>\n",
       "      <td>8</td>\n",
       "      <td>1</td>\n",
       "      <td>0</td>\n",
       "      <td>...</td>\n",
       "      <td>N</td>\n",
       "      <td>0</td>\n",
       "      <td>KHQ</td>\n",
       "      <td>N</td>\n",
       "      <td>1</td>\n",
       "      <td>28.0</td>\n",
       "      <td>MADRID</td>\n",
       "      <td>0</td>\n",
       "      <td>NA</td>\n",
       "      <td>03 - UNIVERSITARIO</td>\n",
       "    </tr>\n",
       "  </tbody>\n",
       "</table>\n",
       "<p>5 rows × 23 columns</p>\n",
       "</div>"
      ],
      "text/plain": [
       "          fecha_dato ind_empleado pais_residencia sexo  age  fecha_alta  \\\n",
       "ncodpers                                                                  \n",
       "869505    2016-06-28            N              ES    H   26  2010-04-13   \n",
       "1477437   2016-06-28            N              ES    H   22  2015-10-13   \n",
       "1533309   2016-06-28            N              ES    H   52  2016-02-19   \n",
       "1484304   2016-06-28            N              ES    H   25  2015-10-20   \n",
       "1484306   2016-06-28            N              ES    H   22  2015-10-20   \n",
       "\n",
       "          ind_nuevo  antiguedad  indrel ult_fec_cli_1t         ...          \\\n",
       "ncodpers                                                       ...           \n",
       "869505            0          75       1              0         ...           \n",
       "1477437           0           8       1              0         ...           \n",
       "1533309           1           4       1              0         ...           \n",
       "1484304           0           8       1              0         ...           \n",
       "1484306           0           8       1              0         ...           \n",
       "\n",
       "          indext conyuemp canal_entrada indfall tipodom cod_prov    nomprov  \\\n",
       "ncodpers                                                                      \n",
       "869505         N        0           KAT       N       1      4.0    ALMERIA   \n",
       "1477437        N        0           KHQ       N       1     28.0     MADRID   \n",
       "1533309        N        0           KHN       N       1     12.0  CASTELLON   \n",
       "1484304        N        0           KHQ       N       1     28.0     MADRID   \n",
       "1484306        N        0           KHQ       N       1     28.0     MADRID   \n",
       "\n",
       "          ind_actividad_cliente        renta            segmento  \n",
       "ncodpers                                                          \n",
       "869505                        1    112771.23   02 - PARTICULARES  \n",
       "1477437                       1           NA  03 - UNIVERSITARIO  \n",
       "1533309                       1           NA   02 - PARTICULARES  \n",
       "1484304                       0           NA  03 - UNIVERSITARIO  \n",
       "1484306                       0           NA  03 - UNIVERSITARIO  \n",
       "\n",
       "[5 rows x 23 columns]"
      ]
     },
     "execution_count": 55,
     "metadata": {},
     "output_type": "execute_result"
    },
    {
     "name": "stdout",
     "output_type": "stream",
     "text": [
      "time: 51.6 ms\n"
     ]
    }
   ],
   "source": [
    "test_copy.head()"
   ]
  },
  {
   "cell_type": "code",
   "execution_count": 66,
   "metadata": {
    "collapsed": false
   },
   "outputs": [
    {
     "name": "stderr",
     "output_type": "stream",
     "text": [
      "100%|██████████| 929615/929615 [08:45<00:00, 1769.25it/s]"
     ]
    },
    {
     "name": "stdout",
     "output_type": "stream",
     "text": [
      "time: 8min 48s\n"
     ]
    },
    {
     "name": "stderr",
     "output_type": "stream",
     "text": [
      "\n"
     ]
    }
   ],
   "source": [
    "test_copy['xgb_preds'] = [' '.join(x) for x in top_t_products]\n",
    "test_copy['added_products'] = ['ind_recibo_ult1']*test_copy.shape[0]\n",
    "for i in tqdm(test_copy.index):\n",
    "    zipped = zip(HEADER[24:],\n",
    "                 test_old.loc[i, 'ind_ahor_fin_ult1':'ind_recibo_ult1'])\n",
    "    products = [x[0] for x in\n",
    "                [y for y in zipped if y[1] == 1]]\n",
    "    pred_products = test_copy.loc[i, 'xgb_preds'].split()\n",
    "    prod_string = ' '.join(filter(lambda x: x not in products, pred_products))\n",
    "    test_copy.set_value(i, 'added_products', prod_string)"
   ]
  },
  {
   "cell_type": "code",
   "execution_count": 61,
   "metadata": {
    "collapsed": false
   },
   "outputs": [
    {
     "data": {
      "text/html": [
       "<div>\n",
       "<table border=\"1\" class=\"dataframe\">\n",
       "  <thead>\n",
       "    <tr style=\"text-align: right;\">\n",
       "      <th></th>\n",
       "      <th>added_products</th>\n",
       "    </tr>\n",
       "    <tr>\n",
       "      <th>ncodpers</th>\n",
       "      <th></th>\n",
       "    </tr>\n",
       "  </thead>\n",
       "  <tbody>\n",
       "    <tr>\n",
       "      <th>15889</th>\n",
       "      <td>ind_recibo_ult1</td>\n",
       "    </tr>\n",
       "    <tr>\n",
       "      <th>1170544</th>\n",
       "      <td>ind_recibo_ult1</td>\n",
       "    </tr>\n",
       "    <tr>\n",
       "      <th>1170545</th>\n",
       "      <td>ind_recibo_ult1</td>\n",
       "    </tr>\n",
       "    <tr>\n",
       "      <th>1170547</th>\n",
       "      <td>ind_recibo_ult1</td>\n",
       "    </tr>\n",
       "    <tr>\n",
       "      <th>1170548</th>\n",
       "      <td>ind_recibo_ult1</td>\n",
       "    </tr>\n",
       "  </tbody>\n",
       "</table>\n",
       "</div>"
      ],
      "text/plain": [
       "           added_products\n",
       "ncodpers                 \n",
       "15889     ind_recibo_ult1\n",
       "1170544   ind_recibo_ult1\n",
       "1170545   ind_recibo_ult1\n",
       "1170547   ind_recibo_ult1\n",
       "1170548   ind_recibo_ult1"
      ]
     },
     "execution_count": 61,
     "metadata": {},
     "output_type": "execute_result"
    },
    {
     "name": "stdout",
     "output_type": "stream",
     "text": [
      "time: 5.63 ms\n"
     ]
    }
   ],
   "source": [
    "submission.head()"
   ]
  },
  {
   "cell_type": "code",
   "execution_count": 67,
   "metadata": {
    "collapsed": false
   },
   "outputs": [
    {
     "name": "stdout",
     "output_type": "stream",
     "text": [
      "time: 289 ms\n"
     ]
    }
   ],
   "source": [
    "submission.added_products = test_copy.loc[submission.index, 'added_products']"
   ]
  },
  {
   "cell_type": "code",
   "execution_count": 63,
   "metadata": {
    "collapsed": false
   },
   "outputs": [
    {
     "data": {
      "text/html": [
       "<div>\n",
       "<table border=\"1\" class=\"dataframe\">\n",
       "  <thead>\n",
       "    <tr style=\"text-align: right;\">\n",
       "      <th></th>\n",
       "      <th>added_products</th>\n",
       "    </tr>\n",
       "    <tr>\n",
       "      <th>ncodpers</th>\n",
       "      <th></th>\n",
       "    </tr>\n",
       "  </thead>\n",
       "  <tbody>\n",
       "    <tr>\n",
       "      <th>15889</th>\n",
       "      <td>ind_recibo_ult1 ind_reca_fin_ult1 ind_dela_fin...</td>\n",
       "    </tr>\n",
       "    <tr>\n",
       "      <th>1170544</th>\n",
       "      <td>ind_recibo_ult1 ind_reca_fin_ult1 ind_cno_fin_...</td>\n",
       "    </tr>\n",
       "    <tr>\n",
       "      <th>1170545</th>\n",
       "      <td>ind_recibo_ult1 ind_nomina_ult1 ind_nom_pens_u...</td>\n",
       "    </tr>\n",
       "    <tr>\n",
       "      <th>1170547</th>\n",
       "      <td>ind_recibo_ult1 ind_reca_fin_ult1 ind_cno_fin_...</td>\n",
       "    </tr>\n",
       "    <tr>\n",
       "      <th>1170548</th>\n",
       "      <td>ind_recibo_ult1 ind_reca_fin_ult1 ind_cno_fin_...</td>\n",
       "    </tr>\n",
       "  </tbody>\n",
       "</table>\n",
       "</div>"
      ],
      "text/plain": [
       "                                             added_products\n",
       "ncodpers                                                   \n",
       "15889     ind_recibo_ult1 ind_reca_fin_ult1 ind_dela_fin...\n",
       "1170544   ind_recibo_ult1 ind_reca_fin_ult1 ind_cno_fin_...\n",
       "1170545   ind_recibo_ult1 ind_nomina_ult1 ind_nom_pens_u...\n",
       "1170547   ind_recibo_ult1 ind_reca_fin_ult1 ind_cno_fin_...\n",
       "1170548   ind_recibo_ult1 ind_reca_fin_ult1 ind_cno_fin_..."
      ]
     },
     "execution_count": 63,
     "metadata": {},
     "output_type": "execute_result"
    },
    {
     "name": "stdout",
     "output_type": "stream",
     "text": [
      "time: 5.75 ms\n"
     ]
    }
   ],
   "source": [
    "submission.head()"
   ]
  },
  {
   "cell_type": "code",
   "execution_count": 68,
   "metadata": {
    "collapsed": false
   },
   "outputs": [
    {
     "name": "stdout",
     "output_type": "stream",
     "text": [
      "Compressing file\n",
      "Compression done\n",
      "Uploading file to s3 data/15.11_submission_weighted_with_jacobian_wts.csv.zip\n",
      "uploading to s3 done\n",
      "Uploading submission data/15.11_submission_weighted_with_jacobian_wts.csv.zip\n",
      "Upload done\n",
      "time: 1min 25s\n"
     ]
    }
   ],
   "source": [
    "filename = 'data/15.11_submission_weighted_with_jacobian_wts.csv'\n",
    "description = '15. 11. submission weighted with jacobian weights'\n",
    "submission.to_csv(filename, columns=['added_products'])\n",
    "make_submission(filename, description=description, submit=True, compress=True, upload_to_s3=True)"
   ]
  },
  {
   "cell_type": "code",
   "execution_count": null,
   "metadata": {
    "collapsed": true
   },
   "outputs": [],
   "source": []
  }
 ],
 "metadata": {
  "kernelspec": {
   "display_name": "Python 2",
   "language": "python",
   "name": "python2"
  },
  "language_info": {
   "codemirror_mode": {
    "name": "ipython",
    "version": 2
   },
   "file_extension": ".py",
   "mimetype": "text/x-python",
   "name": "python",
   "nbconvert_exporter": "python",
   "pygments_lexer": "ipython2",
   "version": "2.7.6"
  }
 },
 "nbformat": 4,
 "nbformat_minor": 0
}
