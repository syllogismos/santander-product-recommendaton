{
 "cells": [
  {
   "cell_type": "code",
   "execution_count": 2,
   "metadata": {
    "collapsed": false
   },
   "outputs": [
    {
     "data": {
      "text/plain": [
       "<matplotlib.figure.Figure at 0x1102d2f50>"
      ]
     },
     "metadata": {},
     "output_type": "display_data"
    }
   ],
   "source": [
    "import pandas as pd\n",
    "import numpy as np\n",
    "import xgboost as xgb\n",
    "from sklearn.preprocessing import LabelEncoder\n",
    "from scripts.kaggle.helpers import make_submission\n",
    "import datetime\n",
    "from tqdm import tqdm\n",
    "import gc\n",
    "import itertools\n",
    "from multiprocessing import Pool\n",
    "import pickle\n",
    "import collections\n",
    "import math\n",
    "\n",
    "%matplotlib inline\n",
    "import matplotlib.pyplot as plt\n",
    "import seaborn as sns\n",
    "\n",
    "# %pylab inline\n",
    "# pylab.rcParams['figure.figsize'] = (12, 16)\n",
    "plt.figure(figsize=(12,16))\n",
    "\n",
    "%load_ext autotime"
   ]
  },
  {
   "cell_type": "code",
   "execution_count": 3,
   "metadata": {
    "collapsed": false
   },
   "outputs": [
    {
     "name": "stdout",
     "output_type": "stream",
     "text": [
      "time: 10.9 ms\n"
     ]
    }
   ],
   "source": [
    "HEADER = [\"fecha_dato\", \"ncodpers\", \"ind_empleado\",\n",
    "          \"pais_residencia\", \"sexo\", \"age\", \"fecha_alta\",\n",
    "          \"ind_nuevo\", \"antiguedad\", \"indrel\", \"ult_fec_cli_1t\",\n",
    "          \"indrel_1mes\", \"tiprel_1mes\", \"indresi\", \"indext\",\n",
    "          \"conyuemp\", \"canal_entrada\", \"indfall\", \"tipodom\",\n",
    "          \"cod_prov\", \"nomprov\", \"ind_actividad_cliente\",\n",
    "          \"renta\", \"segmento\", \"ind_ahor_fin_ult1\",\n",
    "          \"ind_aval_fin_ult1\", \"ind_cco_fin_ult1\",\n",
    "          \"ind_cder_fin_ult1\", \"ind_cno_fin_ult1\",\n",
    "          \"ind_ctju_fin_ult1\", \"ind_ctma_fin_ult1\",\n",
    "          \"ind_ctop_fin_ult1\", \"ind_ctpp_fin_ult1\",\n",
    "          \"ind_deco_fin_ult1\", \"ind_deme_fin_ult1\",\n",
    "          \"ind_dela_fin_ult1\", \"ind_ecue_fin_ult1\",\n",
    "          \"ind_fond_fin_ult1\", \"ind_hip_fin_ult1\",\n",
    "          \"ind_plan_fin_ult1\", \"ind_pres_fin_ult1\",\n",
    "          \"ind_reca_fin_ult1\", \"ind_tjcr_fin_ult1\",\n",
    "          \"ind_valo_fin_ult1\", \"ind_viv_fin_ult1\",\n",
    "          \"ind_nomina_ult1\", \"ind_nom_pens_ult1\",\n",
    "          \"ind_recibo_ult1\"]"
   ]
  },
  {
   "cell_type": "code",
   "execution_count": 37,
   "metadata": {
    "collapsed": false
   },
   "outputs": [
    {
     "name": "stdout",
     "output_type": "stream",
     "text": [
      "time: 2.96 ms\n"
     ]
    }
   ],
   "source": [
    "def get_persons_of_feature(train):\n",
    "    persons_of_feature = dict()\n",
    "    for feat in HEADER[24:]:\n",
    "        persons_of_feature[feat] = set(train.loc[train[feat] == 1][\"ncodpers\"])\n",
    "    return persons_of_feature\n",
    "# for feat in header[24:]:\n",
    "#     print feat, len(persons_of_feature[feat])"
   ]
  },
  {
   "cell_type": "code",
   "execution_count": 36,
   "metadata": {
    "collapsed": false
   },
   "outputs": [
    {
     "name": "stdout",
     "output_type": "stream",
     "text": [
      "time: 10.2 ms\n"
     ]
    }
   ],
   "source": [
    "def jacobian_similarity(persons_of_feature, featur1, featur2):\n",
    "    feat1 = persons_of_feature[featur1]\n",
    "    feat2 = persons_of_feature[featur2]\n",
    "    len1 = len(feat1)\n",
    "    len2 = len(feat2)\n",
    "    intersection = len(feat1.intersection(feat2))\n",
    "    union = len1 + len2 - intersection\n",
    "    if len1 == 0 or len1 == 0:\n",
    "        return 0.0\n",
    "    return intersection * 1.0 / union\n",
    "\n",
    "def cosine_similarity(persons_of_feature, featur1, featur2):\n",
    "    feat1 = persons_of_feature[featur1]\n",
    "    feat2 = persons_of_feature[featur2]\n",
    "    len1 = len(feat1)\n",
    "    len2 = len(feat2)\n",
    "    intersection = len(feat1.intersection(feat2))\n",
    "    # union = len1 + len2 - intersection\n",
    "    if len1 == 0 or len2 == 0:\n",
    "        return 0.0\n",
    "    return intersection * 1.0 / math.sqrt(len1*len2)"
   ]
  },
  {
   "cell_type": "code",
   "execution_count": 24,
   "metadata": {
    "collapsed": false
   },
   "outputs": [
    {
     "name": "stdout",
     "output_type": "stream",
     "text": [
      "time: 77.9 ms\n"
     ]
    }
   ],
   "source": [
    "def get_similarity_matrices(train_df):\n",
    "    persons_of_feature = get_persons_of_feature(train_df)\n",
    "    jacob_matrix = collections.defaultdict(dict)\n",
    "    cosine_matrix = collections.defaultdict(dict)\n",
    "    for i in range(24):\n",
    "        jacob_matrix[i][i] = 1.0\n",
    "        cosine_matrix[i][i] = 1.0\n",
    "        for j in range(i + 1, 24):\n",
    "            temp = jacobian_similarity(persons_of_feature, HEADER[i + 24], HEADER[j+24])\n",
    "            jacob_matrix[i][j] = temp\n",
    "            jacob_matrix[j][i] = temp\n",
    "\n",
    "            temp1 = cosine_similarity(persons_of_feature, HEADER[i+24], HEADER[j+24])\n",
    "            cosine_matrix[i][j] = temp1\n",
    "            cosine_matrix[j][i] = temp1\n",
    "    cosine_pd = pd.DataFrame(cosine_matrix)\n",
    "    jacob_pd = pd.DataFrame(jacob_matrix)\n",
    "    return jacob_pd, cosine_pd\n",
    "\n",
    "\n",
    "def get_persons_of_feature_from_added(added):\n",
    "    persons_of_feature = dict()\n",
    "    for feat in HEADER[24:]:\n",
    "        persons_of_feature[feat] = set(added.loc[added['added_product'] == feat][\"ncodpers\"])\n",
    "    return persons_of_feature\n",
    "# for feat in header[24:]:\n",
    "#     print feat, len(persons_of_feature[feat])\n",
    "\n",
    "def get_similarity_matrices_from_added(added_df):\n",
    "    persons_of_feature = get_persons_of_feature_from_added(added_df)\n",
    "    jacob_matrix = collections.defaultdict(dict)\n",
    "    cosine_matrix = collections.defaultdict(dict)\n",
    "    for i in range(24):\n",
    "        jacob_matrix[i][i] = 1.0\n",
    "        cosine_matrix[i][i] = 1.0\n",
    "        for j in range(i + 1, 24):\n",
    "            temp = jacobian_similarity(persons_of_feature, HEADER[i + 24], HEADER[j+24])\n",
    "            jacob_matrix[i][j] = temp\n",
    "            jacob_matrix[j][i] = temp\n",
    "\n",
    "            temp1 = cosine_similarity(persons_of_feature, HEADER[i+24], HEADER[j+24])\n",
    "            cosine_matrix[i][j] = temp1\n",
    "            cosine_matrix[j][i] = temp1\n",
    "    cosine_pd = pd.DataFrame(cosine_matrix)\n",
    "    jacob_pd = pd.DataFrame(jacob_matrix)\n",
    "    return jacob_pd, cosine_pd"
   ]
  },
  {
   "cell_type": "code",
   "execution_count": 38,
   "metadata": {
    "collapsed": false
   },
   "outputs": [
    {
     "name": "stdout",
     "output_type": "stream",
     "text": [
      "time: 2.52 ms\n"
     ]
    }
   ],
   "source": [
    "def get_wts_from_mat(df, row):\n",
    "    brow = map(bool, row)\n",
    "    wts = df.loc[brow, :].apply(sum)\n",
    "    wts[brow] = 0\n",
    "    return wts"
   ]
  },
  {
   "cell_type": "code",
   "execution_count": 39,
   "metadata": {
    "collapsed": false
   },
   "outputs": [
    {
     "name": "stdout",
     "output_type": "stream",
     "text": [
      "time: 19.4 ms\n"
     ]
    }
   ],
   "source": [
    "def get_similarity_features(file_names): #train_file, added_file):\n",
    "    train_file = file_names[0]\n",
    "    added_file = file_names[1]\n",
    "    print added_file\n",
    "    train = pd.read_csv(train_file, header=None, names=HEADER[1:2] + HEADER[24:], usecols=[1]+range(24,48))\n",
    "    train.fillna(0, inplace=True)\n",
    "    for col in HEADER[24:]:\n",
    "        train[col] = train[col].astype(int)\n",
    "    if added_file == 'data/test_ver2.csv':\n",
    "        added_products = pd.read_csv(added_file, usecols=[1])\n",
    "    else:\n",
    "        added_products = pd.read_csv(added_file, usecols=[0])\n",
    "    jacob_pd, cosine_pd = get_similarity_matrices(train)\n",
    "    train.set_index('ncodpers', inplace=True)\n",
    "    train_final = pd.DataFrame()\n",
    "    train_final['ncodpers'] = added_products['ncodpers']\n",
    "    train_final.set_index('ncodpers', inplace=True)\n",
    "    for col in HEADER[24:]:\n",
    "        train_final['jacob_' + col] = [0.0]*train_final.shape[0]\n",
    "        train_final['cosine_' + col] = [0.0]*train_final.shape[0]\n",
    "\n",
    "    for i in tqdm(train_final.index):\n",
    "        row = list(train.loc[i, HEADER[24:]])\n",
    "        jwts = get_wts_from_mat(jacob_pd, row)\n",
    "        cwts = get_wts_from_mat(cosine_pd, row)\n",
    "        train_final.loc[i, ['jacob_' + h for h in HEADER[24:]]] = list(jwts)\n",
    "        train_final.loc[i, ['cosine_' + h for h in HEADER[24:]]] = list(cwts)\n",
    "    return train_final, file_names[2]"
   ]
  },
  {
   "cell_type": "code",
   "execution_count": 47,
   "metadata": {
    "collapsed": false
   },
   "outputs": [
    {
     "name": "stdout",
     "output_type": "stream",
     "text": [
      "time: 32.5 ms\n"
     ]
    }
   ],
   "source": [
    "def get_similarity_features_custom(file_names): #train_file, added_file):\n",
    "    train_file = file_names[0]\n",
    "    added_file = file_names[1]\n",
    "    print added_file\n",
    "    train = pd.read_csv(train_file, header=None, names=HEADER[1:2] + HEADER[23:], usecols=[1]+range(23,48))\n",
    "    \n",
    "    for col in HEADER[24:]:\n",
    "        train[col].fillna(0, inplace=True)\n",
    "        train[col] = train[col].astype(int)\n",
    "    if added_file == 'data/test_ver2.csv':\n",
    "        added_products = pd.read_csv(added_file, usecols=[1])\n",
    "    else:\n",
    "        added_products = pd.read_csv(added_file, usecols=[0])\n",
    "    \n",
    "    train.segmento.fillna('02 - PARTICULARES', inplace=True)\n",
    "    parti = train.loc[train.segmento == '02 - PARTICULARES', :]\n",
    "    top = train.loc[train.segmento == '01 - TOP', :]\n",
    "    uni = train.loc[train.segmento == '03 - UNIVERSITARIO', :]\n",
    "    jacob_pd_p, cosine_pd_p = get_similarity_matrices(parti)\n",
    "    jacob_pd_t, cosine_pd_t = get_similarity_matrices(top)\n",
    "    jacob_pd_u, cosine_pd_u = get_similarity_matrices(uni)\n",
    "    jacobs = {\n",
    "        '02 - PARTICULARES': (jacob_pd_p, cosine_pd_p),\n",
    "        '01 - TOP':(jacob_pd_t, cosine_pd_t),\n",
    "        '03 - UNIVERSITARIO': (jacob_pd_u, cosine_pd_u)\n",
    "    }\n",
    "    train.set_index('ncodpers', inplace=True)\n",
    "    train_final = pd.DataFrame()\n",
    "    train_final['ncodpers'] = added_products['ncodpers']\n",
    "    train_final.set_index('ncodpers', inplace=True)\n",
    "    for col in HEADER[24:]:\n",
    "        train_final['jacob_custom_' + col] = [0.0]*train_final.shape[0]\n",
    "        train_final['cosine_custom_' + col] = [0.0]*train_final.shape[0]\n",
    "\n",
    "    for i in tqdm(train_final.index):\n",
    "        row = list(train.loc[i, HEADER[24:]])\n",
    "        segmento = train.loc[i, 'segmento']\n",
    "        jwts = get_wts_from_mat(jacobs[segmento][0], row)\n",
    "        cwts = get_wts_from_mat(jacobs[segmento][1], row)\n",
    "        train_final.loc[i, ['jacob_custom_' + h for h in HEADER[24:]]] = list(jwts)\n",
    "        train_final.loc[i, ['cosine_custom_' + h for h in HEADER[24:]]] = list(cwts)\n",
    "    return train_final, file_names[2]"
   ]
  },
  {
   "cell_type": "code",
   "execution_count": null,
   "metadata": {
    "collapsed": false
   },
   "outputs": [
    {
     "name": "stdout",
     "output_type": "stream",
     "text": [
      "data/added_product_2015_05_28.csv\n"
     ]
    },
    {
     "name": "stderr",
     "output_type": "stream",
     "text": [
      " 54%|█████▍    | 22445/41745 [01:44<01:38, 195.04it/s]"
     ]
    }
   ],
   "source": [
    "feat, ind = get_similarity_features_custom(('data/train_2015_05_28.csv', 'data/added_product_2015_05_28.csv', 1))"
   ]
  },
  {
   "cell_type": "code",
   "execution_count": 8,
   "metadata": {
    "collapsed": false
   },
   "outputs": [
    {
     "name": "stdout",
     "output_type": "stream",
     "text": [
      "time: 21 ms\n"
     ]
    }
   ],
   "source": [
    "# def get_similarity_features_from_added(file_names): #train_file, added_file):\n",
    "#     train_file = file_names[0]\n",
    "#     similarity_file = file_names[1]\n",
    "#     added_file = file_names[2]\n",
    "#     print added_file\n",
    "#     train = pd.read_csv(train_file, header=None, names=HEADER[1:2] + HEADER[24:], usecols=[1]+range(24,48))\n",
    "#     train.fillna(0, inplace=True)\n",
    "#     similarity_pd = pd.read_csv(similarity_file)\n",
    "#     for col in HEADER[24:]:\n",
    "#         train[col] = train[col].astype(int)\n",
    "#     if added_file == 'data/test_ver2.csv':\n",
    "#         added_products = pd.read_csv(added_file, usecols=[1])\n",
    "#     else:\n",
    "#         added_products = pd.read_csv(added_file, usecols=[0])\n",
    "#     jacob_pd, cosine_pd = get_similarity_matrices_from_added(similarity_pd)\n",
    "#     train.set_index('ncodpers', inplace=True)\n",
    "#     train_final = pd.DataFrame()\n",
    "#     train_final['ncodpers'] = added_products['ncodpers']\n",
    "#     train_final.set_index('ncodpers', inplace=True)\n",
    "#     for col in HEADER[24:]:\n",
    "#         train_final['jacob_added_' + col] = [0.0]*train_final.shape[0]\n",
    "#         train_final['cosine_added_' + col] = [0.0]*train_final.shape[0]\n",
    "\n",
    "#     for i in tqdm(train_final.index):\n",
    "#         row = list(train.loc[i, HEADER[24:]])\n",
    "#         jwts = get_wts_from_mat(jacob_pd, row)\n",
    "#         cwts = get_wts_from_mat(cosine_pd, row)\n",
    "#         train_final.loc[i, ['jacob_added_' + h for h in HEADER[24:]]] = list(jwts)\n",
    "#         train_final.loc[i, ['cosine_added_' + h for h in HEADER[24:]]] = list(cwts)\n",
    "#     return train_final, jacob_pd, cosine_pd, file_names[3]"
   ]
  },
  {
   "cell_type": "code",
   "execution_count": 8,
   "metadata": {
    "collapsed": false
   },
   "outputs": [
    {
     "name": "stdout",
     "output_type": "stream",
     "text": [
      "time: 5.86 ms\n"
     ]
    }
   ],
   "source": [
    "file_names_list = [('data/train_2015_05_28.csv', 'data/added_product_2015_05_28.csv', 1),\n",
    "                   ('data/train_2015_06_28.csv', 'data/added_product_2015_06_28.csv', 2),\n",
    "                   ('data/train_2015_07_28.csv', 'data/added_product_2015_07_28.csv', 3),\n",
    "                   ('data/train_2015_08_28.csv', 'data/added_product_2015_08_28.csv', 4),\n",
    "                   ('data/train_2015_09_28.csv', 'data/added_product_2015_09_28.csv', 5),\n",
    "                   ('data/train_2015_10_28.csv', 'data/added_product_2015_10_28.csv', 6),\n",
    "                   ('data/train_2015_11_28.csv', 'data/added_product_2015_11_28.csv', 7),\n",
    "                   ('data/train_2015_12_28.csv', 'data/added_product_2015_12_28.csv', 8),\n",
    "                   ('data/train_2016_01_28.csv', 'data/added_product_2016_01_28.csv', 9),\n",
    "                   ('data/train_2016_02_28.csv', 'data/added_product_2016_02_28.csv', 10),\n",
    "                   ('data/train_2016_03_28.csv', 'data/added_product_2016_03_28.csv', 11),\n",
    "                   ('data/train_2016_04_28.csv', 'data/added_product_2016_04_28.csv', 12)\n",
    "                  ]\n",
    "\n",
    "test_file_data = ('data/train_2016_05_28.csv', 'data/test_ver2.csv', 13)"
   ]
  },
  {
   "cell_type": "code",
   "execution_count": 9,
   "metadata": {
    "collapsed": false
   },
   "outputs": [
    {
     "name": "stdout",
     "output_type": "stream",
     "text": [
      "data/added_product_2015_07_28.csv\n",
      "data/added_product_2015_09_28.csv\n",
      "data/added_product_2015_05_28.csv\n",
      "data/added_product_2015_06_28.csv\n",
      "data/added_product_2015_08_28.csv\n"
     ]
    },
    {
     "name": "stderr",
     "output_type": "stream",
     "text": [
      "100%|██████████| 29490/29490 [01:45<00:00, 278.22it/s]\n"
     ]
    },
    {
     "name": "stdout",
     "output_type": "stream",
     "text": [
      "data/added_product_2015_10_28.csv\n"
     ]
    },
    {
     "name": "stderr",
     "output_type": "stream",
     "text": [
      "100%|██████████| 33362/33362 [02:04<00:00, 268.59it/s]\n",
      " 85%|████████▌ | 33994/39803 [02:03<00:21, 265.03it/s]"
     ]
    },
    {
     "name": "stdout",
     "output_type": "stream",
     "text": [
      "data/added_product_2015_11_28.csv\n"
     ]
    },
    {
     "name": "stderr",
     "output_type": "stream",
     "text": [
      "100%|██████████| 35696/35696 [02:09<00:00, 274.61it/s]\n"
     ]
    },
    {
     "name": "stdout",
     "output_type": "stream",
     "text": [
      "data/added_product_2015_12_28.csv\n"
     ]
    },
    {
     "name": "stderr",
     "output_type": "stream",
     "text": [
      "100%|██████████| 39803/39803 [02:22<00:00, 278.71it/s]\n",
      " 25%|██▌       | 8969/35215 [00:33<01:38, 267.31it/s]"
     ]
    },
    {
     "name": "stdout",
     "output_type": "stream",
     "text": [
      "data/added_product_2016_01_28.csv\n"
     ]
    },
    {
     "name": "stderr",
     "output_type": "stream",
     "text": [
      "100%|██████████| 41745/41745 [02:34<00:00, 271.02it/s]\n",
      " 16%|█▋        | 6983/42353 [00:26<02:14, 262.76it/s]"
     ]
    },
    {
     "name": "stdout",
     "output_type": "stream",
     "text": [
      "data/added_product_2016_02_28.csv\n"
     ]
    },
    {
     "name": "stderr",
     "output_type": "stream",
     "text": [
      "100%|██████████| 35215/35215 [02:13<00:00, 264.72it/s]\n",
      " 66%|██████▋   | 23380/35203 [01:25<00:43, 269.77it/s]"
     ]
    },
    {
     "name": "stdout",
     "output_type": "stream",
     "text": [
      "data/added_product_2016_03_28.csv\n"
     ]
    },
    {
     "name": "stderr",
     "output_type": "stream",
     "text": [
      "100%|██████████| 30956/30956 [01:52<00:00, 276.05it/s]\n",
      " 69%|██████▊   | 24145/35203 [01:28<00:41, 265.75it/s]"
     ]
    },
    {
     "name": "stdout",
     "output_type": "stream",
     "text": [
      "data/added_product_2016_04_28.csv\n"
     ]
    },
    {
     "name": "stderr",
     "output_type": "stream",
     "text": [
      "100%|██████████| 35203/35203 [02:07<00:00, 275.08it/s]\n",
      "100%|██████████| 42353/42353 [02:41<00:00, 261.47it/s]\n",
      "100%|██████████| 49024/49024 [03:01<00:00, 269.46it/s]\n",
      "100%|██████████| 32962/32962 [01:58<00:00, 277.61it/s]\n",
      "100%|██████████| 35843/35843 [02:11<00:00, 273.07it/s]\n"
     ]
    },
    {
     "name": "stdout",
     "output_type": "stream",
     "text": [
      "time: 6min 24s\n"
     ]
    }
   ],
   "source": [
    "p = Pool(5)\n",
    "results = p.map(get_similarity_features, file_names_list)\n",
    "p.close()\n",
    "p.join()"
   ]
  },
  {
   "cell_type": "code",
   "execution_count": 10,
   "metadata": {
    "collapsed": false
   },
   "outputs": [
    {
     "data": {
      "text/plain": [
       "[1, 2, 3, 4, 5, 6, 7, 8, 9, 10, 11, 12]"
      ]
     },
     "execution_count": 10,
     "metadata": {},
     "output_type": "execute_result"
    },
    {
     "name": "stdout",
     "output_type": "stream",
     "text": [
      "time: 3.21 ms\n"
     ]
    }
   ],
   "source": [
    "[x[1] for x in results]"
   ]
  },
  {
   "cell_type": "code",
   "execution_count": 11,
   "metadata": {
    "collapsed": false
   },
   "outputs": [
    {
     "name": "stdout",
     "output_type": "stream",
     "text": [
      "time: 78.7 ms\n"
     ]
    }
   ],
   "source": [
    "jacob_train = pd.concat(tuple([x[0] for x in results]))"
   ]
  },
  {
   "cell_type": "code",
   "execution_count": 12,
   "metadata": {
    "collapsed": false
   },
   "outputs": [
    {
     "data": {
      "text/plain": [
       "(441652, 48)"
      ]
     },
     "execution_count": 12,
     "metadata": {},
     "output_type": "execute_result"
    },
    {
     "name": "stdout",
     "output_type": "stream",
     "text": [
      "time: 2.17 ms\n"
     ]
    }
   ],
   "source": [
    "jacob_train.shape"
   ]
  },
  {
   "cell_type": "code",
   "execution_count": 14,
   "metadata": {
    "collapsed": false
   },
   "outputs": [
    {
     "name": "stdout",
     "output_type": "stream",
     "text": [
      "Compressing file\n",
      "Compression done\n",
      "Uploading file to s3 data/15.Jacobian_similarity_features.train_data.zip\n",
      "uploading to s3 done\n",
      "time: 28.7 s\n"
     ]
    }
   ],
   "source": [
    "pickle.dump(jacob_train, open('data/15.Jacobian_similarity_features.train_data', 'wb'))\n",
    "make_submission('data/15.Jacobian_similarity_features.train_data', upload_to_s3=True)"
   ]
  },
  {
   "cell_type": "code",
   "execution_count": 15,
   "metadata": {
    "collapsed": false
   },
   "outputs": [
    {
     "name": "stdout",
     "output_type": "stream",
     "text": [
      "data/test_ver2.csv\n"
     ]
    },
    {
     "name": "stderr",
     "output_type": "stream",
     "text": [
      "100%|██████████| 929615/929615 [1:01:53<00:00, 250.32it/s]"
     ]
    },
    {
     "name": "stdout",
     "output_type": "stream",
     "text": [
      "time: 1h 1min 59s\n"
     ]
    },
    {
     "name": "stderr",
     "output_type": "stream",
     "text": [
      "\n"
     ]
    }
   ],
   "source": [
    "jacob_test, ind = get_similarity_features(test_file_data)"
   ]
  },
  {
   "cell_type": "code",
   "execution_count": 16,
   "metadata": {
    "collapsed": false
   },
   "outputs": [
    {
     "data": {
      "text/plain": [
       "(929615, 48)"
      ]
     },
     "execution_count": 16,
     "metadata": {},
     "output_type": "execute_result"
    },
    {
     "name": "stdout",
     "output_type": "stream",
     "text": [
      "time: 2.53 ms\n"
     ]
    }
   ],
   "source": [
    "jacob_test.shape"
   ]
  },
  {
   "cell_type": "code",
   "execution_count": 18,
   "metadata": {
    "collapsed": false
   },
   "outputs": [
    {
     "name": "stdout",
     "output_type": "stream",
     "text": [
      "Compressing file\n",
      "Compression done\n",
      "Uploading file to s3 data/15.Jacobian_similarity_features.test_data.zip\n",
      "uploading to s3 done\n",
      "time: 4min 17s\n"
     ]
    }
   ],
   "source": [
    "pickle.dump(jacob_test, open('data/15.Jacobian_similarity_features.test_data', 'wb'))\n",
    "make_submission('data/15.Jacobian_similarity_features.test_data', upload_to_s3=True)"
   ]
  },
  {
   "cell_type": "markdown",
   "metadata": {},
   "source": [
    "---\n",
    "# submission from similarty metrics and an actual submission\n",
    "---"
   ]
  },
  {
   "cell_type": "code",
   "execution_count": 20,
   "metadata": {
    "collapsed": false
   },
   "outputs": [
    {
     "name": "stdout",
     "output_type": "stream",
     "text": [
      "time: 9.52 s\n"
     ]
    }
   ],
   "source": [
    "desc, test_ncodpers, preds, label_encoder = pickle.load(open('data/11.xgb_trained_on_all_months_only_added_users_product_features_generated_from_last_4_months.csv.pickle', 'rb'))"
   ]
  },
  {
   "cell_type": "code",
   "execution_count": 21,
   "metadata": {
    "collapsed": false
   },
   "outputs": [
    {
     "data": {
      "text/plain": [
       "24"
      ]
     },
     "execution_count": 21,
     "metadata": {},
     "output_type": "execute_result"
    },
    {
     "name": "stdout",
     "output_type": "stream",
     "text": [
      "time: 2.72 ms\n"
     ]
    }
   ],
   "source": [
    "len(label_encoder.classes_)"
   ]
  },
  {
   "cell_type": "code",
   "execution_count": 24,
   "metadata": {
    "collapsed": false
   },
   "outputs": [
    {
     "name": "stdout",
     "output_type": "stream",
     "text": [
      "time: 71.4 ms\n"
     ]
    }
   ],
   "source": [
    "jacobs = pd.DataFrame()\n",
    "jacobs['ncodpers'] = jacob_test.index\n",
    "jacobs.set_index('ncodpers', inplace=True)"
   ]
  },
  {
   "cell_type": "code",
   "execution_count": 25,
   "metadata": {
    "collapsed": false
   },
   "outputs": [
    {
     "name": "stdout",
     "output_type": "stream",
     "text": [
      "time: 85.1 ms\n"
     ]
    }
   ],
   "source": [
    "for col in HEADER[24:]:\n",
    "    jacobs[col] = jacob_test['jacob_'+col]"
   ]
  },
  {
   "cell_type": "code",
   "execution_count": 27,
   "metadata": {
    "collapsed": false
   },
   "outputs": [
    {
     "data": {
      "text/plain": [
       "(929615, 24)"
      ]
     },
     "execution_count": 27,
     "metadata": {},
     "output_type": "execute_result"
    },
    {
     "name": "stdout",
     "output_type": "stream",
     "text": [
      "time: 2.57 ms\n"
     ]
    }
   ],
   "source": [
    "preds.shape"
   ]
  },
  {
   "cell_type": "code",
   "execution_count": 30,
   "metadata": {
    "collapsed": false
   },
   "outputs": [
    {
     "name": "stdout",
     "output_type": "stream",
     "text": [
      "time: 1.64 ms\n"
     ]
    }
   ],
   "source": [
    "jacobs.columns = label_encoder.transform(jacobs.columns)"
   ]
  },
  {
   "cell_type": "code",
   "execution_count": 31,
   "metadata": {
    "collapsed": false
   },
   "outputs": [
    {
     "data": {
      "text/html": [
       "<div>\n",
       "<table border=\"1\" class=\"dataframe\">\n",
       "  <thead>\n",
       "    <tr style=\"text-align: right;\">\n",
       "      <th></th>\n",
       "      <th>0</th>\n",
       "      <th>1</th>\n",
       "      <th>2</th>\n",
       "      <th>3</th>\n",
       "      <th>4</th>\n",
       "      <th>5</th>\n",
       "      <th>6</th>\n",
       "      <th>7</th>\n",
       "      <th>8</th>\n",
       "      <th>9</th>\n",
       "      <th>...</th>\n",
       "      <th>14</th>\n",
       "      <th>17</th>\n",
       "      <th>18</th>\n",
       "      <th>19</th>\n",
       "      <th>21</th>\n",
       "      <th>22</th>\n",
       "      <th>23</th>\n",
       "      <th>16</th>\n",
       "      <th>15</th>\n",
       "      <th>20</th>\n",
       "    </tr>\n",
       "    <tr>\n",
       "      <th>ncodpers</th>\n",
       "      <th></th>\n",
       "      <th></th>\n",
       "      <th></th>\n",
       "      <th></th>\n",
       "      <th></th>\n",
       "      <th></th>\n",
       "      <th></th>\n",
       "      <th></th>\n",
       "      <th></th>\n",
       "      <th></th>\n",
       "      <th></th>\n",
       "      <th></th>\n",
       "      <th></th>\n",
       "      <th></th>\n",
       "      <th></th>\n",
       "      <th></th>\n",
       "      <th></th>\n",
       "      <th></th>\n",
       "      <th></th>\n",
       "      <th></th>\n",
       "      <th></th>\n",
       "    </tr>\n",
       "  </thead>\n",
       "  <tbody>\n",
       "    <tr>\n",
       "      <th>15889</th>\n",
       "      <td>0.000884</td>\n",
       "      <td>0.000769</td>\n",
       "      <td>0.0</td>\n",
       "      <td>0.006847</td>\n",
       "      <td>0.415941</td>\n",
       "      <td>0.000005</td>\n",
       "      <td>0.028505</td>\n",
       "      <td>0.275887</td>\n",
       "      <td>0.000000</td>\n",
       "      <td>0.005102</td>\n",
       "      <td>...</td>\n",
       "      <td>0.094846</td>\n",
       "      <td>0.148436</td>\n",
       "      <td>0.012952</td>\n",
       "      <td>0.400850</td>\n",
       "      <td>0.00000</td>\n",
       "      <td>0.000000</td>\n",
       "      <td>0.043409</td>\n",
       "      <td>0.414067</td>\n",
       "      <td>0.434003</td>\n",
       "      <td>0.497496</td>\n",
       "    </tr>\n",
       "    <tr>\n",
       "      <th>1170544</th>\n",
       "      <td>0.000082</td>\n",
       "      <td>0.000014</td>\n",
       "      <td>0.0</td>\n",
       "      <td>0.000409</td>\n",
       "      <td>0.011386</td>\n",
       "      <td>0.000005</td>\n",
       "      <td>0.007710</td>\n",
       "      <td>0.110624</td>\n",
       "      <td>0.031354</td>\n",
       "      <td>0.000463</td>\n",
       "      <td>...</td>\n",
       "      <td>0.002969</td>\n",
       "      <td>0.006558</td>\n",
       "      <td>0.001393</td>\n",
       "      <td>0.037283</td>\n",
       "      <td>0.02669</td>\n",
       "      <td>0.026649</td>\n",
       "      <td>0.003207</td>\n",
       "      <td>0.011827</td>\n",
       "      <td>0.012634</td>\n",
       "      <td>0.105950</td>\n",
       "    </tr>\n",
       "    <tr>\n",
       "      <th>1170545</th>\n",
       "      <td>0.000082</td>\n",
       "      <td>0.000014</td>\n",
       "      <td>0.0</td>\n",
       "      <td>0.000409</td>\n",
       "      <td>0.011386</td>\n",
       "      <td>0.000005</td>\n",
       "      <td>0.007710</td>\n",
       "      <td>0.110624</td>\n",
       "      <td>0.031354</td>\n",
       "      <td>0.000463</td>\n",
       "      <td>...</td>\n",
       "      <td>0.002969</td>\n",
       "      <td>0.006558</td>\n",
       "      <td>0.001393</td>\n",
       "      <td>0.037283</td>\n",
       "      <td>0.02669</td>\n",
       "      <td>0.026649</td>\n",
       "      <td>0.003207</td>\n",
       "      <td>0.011827</td>\n",
       "      <td>0.012634</td>\n",
       "      <td>0.105950</td>\n",
       "    </tr>\n",
       "    <tr>\n",
       "      <th>1170547</th>\n",
       "      <td>0.000082</td>\n",
       "      <td>0.000014</td>\n",
       "      <td>0.0</td>\n",
       "      <td>0.000409</td>\n",
       "      <td>0.011386</td>\n",
       "      <td>0.000005</td>\n",
       "      <td>0.007710</td>\n",
       "      <td>0.110624</td>\n",
       "      <td>0.031354</td>\n",
       "      <td>0.000463</td>\n",
       "      <td>...</td>\n",
       "      <td>0.002969</td>\n",
       "      <td>0.006558</td>\n",
       "      <td>0.001393</td>\n",
       "      <td>0.037283</td>\n",
       "      <td>0.02669</td>\n",
       "      <td>0.026649</td>\n",
       "      <td>0.003207</td>\n",
       "      <td>0.011827</td>\n",
       "      <td>0.012634</td>\n",
       "      <td>0.105950</td>\n",
       "    </tr>\n",
       "    <tr>\n",
       "      <th>1170548</th>\n",
       "      <td>0.000082</td>\n",
       "      <td>0.000014</td>\n",
       "      <td>0.0</td>\n",
       "      <td>0.000409</td>\n",
       "      <td>0.011386</td>\n",
       "      <td>0.000005</td>\n",
       "      <td>0.007710</td>\n",
       "      <td>0.110624</td>\n",
       "      <td>0.031354</td>\n",
       "      <td>0.000463</td>\n",
       "      <td>...</td>\n",
       "      <td>0.002969</td>\n",
       "      <td>0.006558</td>\n",
       "      <td>0.001393</td>\n",
       "      <td>0.037283</td>\n",
       "      <td>0.02669</td>\n",
       "      <td>0.026649</td>\n",
       "      <td>0.003207</td>\n",
       "      <td>0.011827</td>\n",
       "      <td>0.012634</td>\n",
       "      <td>0.105950</td>\n",
       "    </tr>\n",
       "  </tbody>\n",
       "</table>\n",
       "<p>5 rows × 24 columns</p>\n",
       "</div>"
      ],
      "text/plain": [
       "                0         1    2         3         4         5         6   \\\n",
       "ncodpers                                                                    \n",
       "15889     0.000884  0.000769  0.0  0.006847  0.415941  0.000005  0.028505   \n",
       "1170544   0.000082  0.000014  0.0  0.000409  0.011386  0.000005  0.007710   \n",
       "1170545   0.000082  0.000014  0.0  0.000409  0.011386  0.000005  0.007710   \n",
       "1170547   0.000082  0.000014  0.0  0.000409  0.011386  0.000005  0.007710   \n",
       "1170548   0.000082  0.000014  0.0  0.000409  0.011386  0.000005  0.007710   \n",
       "\n",
       "                7         8         9     ...           14        17  \\\n",
       "ncodpers                                  ...                          \n",
       "15889     0.275887  0.000000  0.005102    ...     0.094846  0.148436   \n",
       "1170544   0.110624  0.031354  0.000463    ...     0.002969  0.006558   \n",
       "1170545   0.110624  0.031354  0.000463    ...     0.002969  0.006558   \n",
       "1170547   0.110624  0.031354  0.000463    ...     0.002969  0.006558   \n",
       "1170548   0.110624  0.031354  0.000463    ...     0.002969  0.006558   \n",
       "\n",
       "                18        19       21        22        23        16        15  \\\n",
       "ncodpers                                                                        \n",
       "15889     0.012952  0.400850  0.00000  0.000000  0.043409  0.414067  0.434003   \n",
       "1170544   0.001393  0.037283  0.02669  0.026649  0.003207  0.011827  0.012634   \n",
       "1170545   0.001393  0.037283  0.02669  0.026649  0.003207  0.011827  0.012634   \n",
       "1170547   0.001393  0.037283  0.02669  0.026649  0.003207  0.011827  0.012634   \n",
       "1170548   0.001393  0.037283  0.02669  0.026649  0.003207  0.011827  0.012634   \n",
       "\n",
       "                20  \n",
       "ncodpers            \n",
       "15889     0.497496  \n",
       "1170544   0.105950  \n",
       "1170545   0.105950  \n",
       "1170547   0.105950  \n",
       "1170548   0.105950  \n",
       "\n",
       "[5 rows x 24 columns]"
      ]
     },
     "execution_count": 31,
     "metadata": {},
     "output_type": "execute_result"
    },
    {
     "name": "stdout",
     "output_type": "stream",
     "text": [
      "time: 41 ms\n"
     ]
    }
   ],
   "source": [
    "jacobs.head()"
   ]
  },
  {
   "cell_type": "code",
   "execution_count": 32,
   "metadata": {
    "collapsed": false
   },
   "outputs": [
    {
     "name": "stdout",
     "output_type": "stream",
     "text": [
      "time: 168 ms\n"
     ]
    }
   ],
   "source": [
    "jacobs_1 = jacobs[[0,1,2,3,4,5,6,7,8,9,10,11,12,13,14,15,16,17,18,19,20,21,22,23]]"
   ]
  },
  {
   "cell_type": "code",
   "execution_count": 33,
   "metadata": {
    "collapsed": false
   },
   "outputs": [
    {
     "data": {
      "text/html": [
       "<div>\n",
       "<table border=\"1\" class=\"dataframe\">\n",
       "  <thead>\n",
       "    <tr style=\"text-align: right;\">\n",
       "      <th></th>\n",
       "      <th>0</th>\n",
       "      <th>1</th>\n",
       "      <th>2</th>\n",
       "      <th>3</th>\n",
       "      <th>4</th>\n",
       "      <th>5</th>\n",
       "      <th>6</th>\n",
       "      <th>7</th>\n",
       "      <th>8</th>\n",
       "      <th>9</th>\n",
       "      <th>...</th>\n",
       "      <th>14</th>\n",
       "      <th>15</th>\n",
       "      <th>16</th>\n",
       "      <th>17</th>\n",
       "      <th>18</th>\n",
       "      <th>19</th>\n",
       "      <th>20</th>\n",
       "      <th>21</th>\n",
       "      <th>22</th>\n",
       "      <th>23</th>\n",
       "    </tr>\n",
       "    <tr>\n",
       "      <th>ncodpers</th>\n",
       "      <th></th>\n",
       "      <th></th>\n",
       "      <th></th>\n",
       "      <th></th>\n",
       "      <th></th>\n",
       "      <th></th>\n",
       "      <th></th>\n",
       "      <th></th>\n",
       "      <th></th>\n",
       "      <th></th>\n",
       "      <th></th>\n",
       "      <th></th>\n",
       "      <th></th>\n",
       "      <th></th>\n",
       "      <th></th>\n",
       "      <th></th>\n",
       "      <th></th>\n",
       "      <th></th>\n",
       "      <th></th>\n",
       "      <th></th>\n",
       "      <th></th>\n",
       "    </tr>\n",
       "  </thead>\n",
       "  <tbody>\n",
       "    <tr>\n",
       "      <th>15889</th>\n",
       "      <td>0.000884</td>\n",
       "      <td>0.000769</td>\n",
       "      <td>0.0</td>\n",
       "      <td>0.006847</td>\n",
       "      <td>0.415941</td>\n",
       "      <td>0.000005</td>\n",
       "      <td>0.028505</td>\n",
       "      <td>0.275887</td>\n",
       "      <td>0.000000</td>\n",
       "      <td>0.005102</td>\n",
       "      <td>...</td>\n",
       "      <td>0.094846</td>\n",
       "      <td>0.434003</td>\n",
       "      <td>0.414067</td>\n",
       "      <td>0.148436</td>\n",
       "      <td>0.012952</td>\n",
       "      <td>0.400850</td>\n",
       "      <td>0.497496</td>\n",
       "      <td>0.00000</td>\n",
       "      <td>0.000000</td>\n",
       "      <td>0.043409</td>\n",
       "    </tr>\n",
       "    <tr>\n",
       "      <th>1170544</th>\n",
       "      <td>0.000082</td>\n",
       "      <td>0.000014</td>\n",
       "      <td>0.0</td>\n",
       "      <td>0.000409</td>\n",
       "      <td>0.011386</td>\n",
       "      <td>0.000005</td>\n",
       "      <td>0.007710</td>\n",
       "      <td>0.110624</td>\n",
       "      <td>0.031354</td>\n",
       "      <td>0.000463</td>\n",
       "      <td>...</td>\n",
       "      <td>0.002969</td>\n",
       "      <td>0.012634</td>\n",
       "      <td>0.011827</td>\n",
       "      <td>0.006558</td>\n",
       "      <td>0.001393</td>\n",
       "      <td>0.037283</td>\n",
       "      <td>0.105950</td>\n",
       "      <td>0.02669</td>\n",
       "      <td>0.026649</td>\n",
       "      <td>0.003207</td>\n",
       "    </tr>\n",
       "    <tr>\n",
       "      <th>1170545</th>\n",
       "      <td>0.000082</td>\n",
       "      <td>0.000014</td>\n",
       "      <td>0.0</td>\n",
       "      <td>0.000409</td>\n",
       "      <td>0.011386</td>\n",
       "      <td>0.000005</td>\n",
       "      <td>0.007710</td>\n",
       "      <td>0.110624</td>\n",
       "      <td>0.031354</td>\n",
       "      <td>0.000463</td>\n",
       "      <td>...</td>\n",
       "      <td>0.002969</td>\n",
       "      <td>0.012634</td>\n",
       "      <td>0.011827</td>\n",
       "      <td>0.006558</td>\n",
       "      <td>0.001393</td>\n",
       "      <td>0.037283</td>\n",
       "      <td>0.105950</td>\n",
       "      <td>0.02669</td>\n",
       "      <td>0.026649</td>\n",
       "      <td>0.003207</td>\n",
       "    </tr>\n",
       "    <tr>\n",
       "      <th>1170547</th>\n",
       "      <td>0.000082</td>\n",
       "      <td>0.000014</td>\n",
       "      <td>0.0</td>\n",
       "      <td>0.000409</td>\n",
       "      <td>0.011386</td>\n",
       "      <td>0.000005</td>\n",
       "      <td>0.007710</td>\n",
       "      <td>0.110624</td>\n",
       "      <td>0.031354</td>\n",
       "      <td>0.000463</td>\n",
       "      <td>...</td>\n",
       "      <td>0.002969</td>\n",
       "      <td>0.012634</td>\n",
       "      <td>0.011827</td>\n",
       "      <td>0.006558</td>\n",
       "      <td>0.001393</td>\n",
       "      <td>0.037283</td>\n",
       "      <td>0.105950</td>\n",
       "      <td>0.02669</td>\n",
       "      <td>0.026649</td>\n",
       "      <td>0.003207</td>\n",
       "    </tr>\n",
       "    <tr>\n",
       "      <th>1170548</th>\n",
       "      <td>0.000082</td>\n",
       "      <td>0.000014</td>\n",
       "      <td>0.0</td>\n",
       "      <td>0.000409</td>\n",
       "      <td>0.011386</td>\n",
       "      <td>0.000005</td>\n",
       "      <td>0.007710</td>\n",
       "      <td>0.110624</td>\n",
       "      <td>0.031354</td>\n",
       "      <td>0.000463</td>\n",
       "      <td>...</td>\n",
       "      <td>0.002969</td>\n",
       "      <td>0.012634</td>\n",
       "      <td>0.011827</td>\n",
       "      <td>0.006558</td>\n",
       "      <td>0.001393</td>\n",
       "      <td>0.037283</td>\n",
       "      <td>0.105950</td>\n",
       "      <td>0.02669</td>\n",
       "      <td>0.026649</td>\n",
       "      <td>0.003207</td>\n",
       "    </tr>\n",
       "  </tbody>\n",
       "</table>\n",
       "<p>5 rows × 24 columns</p>\n",
       "</div>"
      ],
      "text/plain": [
       "                0         1    2         3         4         5         6   \\\n",
       "ncodpers                                                                    \n",
       "15889     0.000884  0.000769  0.0  0.006847  0.415941  0.000005  0.028505   \n",
       "1170544   0.000082  0.000014  0.0  0.000409  0.011386  0.000005  0.007710   \n",
       "1170545   0.000082  0.000014  0.0  0.000409  0.011386  0.000005  0.007710   \n",
       "1170547   0.000082  0.000014  0.0  0.000409  0.011386  0.000005  0.007710   \n",
       "1170548   0.000082  0.000014  0.0  0.000409  0.011386  0.000005  0.007710   \n",
       "\n",
       "                7         8         9     ...           14        15  \\\n",
       "ncodpers                                  ...                          \n",
       "15889     0.275887  0.000000  0.005102    ...     0.094846  0.434003   \n",
       "1170544   0.110624  0.031354  0.000463    ...     0.002969  0.012634   \n",
       "1170545   0.110624  0.031354  0.000463    ...     0.002969  0.012634   \n",
       "1170547   0.110624  0.031354  0.000463    ...     0.002969  0.012634   \n",
       "1170548   0.110624  0.031354  0.000463    ...     0.002969  0.012634   \n",
       "\n",
       "                16        17        18        19        20       21        22  \\\n",
       "ncodpers                                                                        \n",
       "15889     0.414067  0.148436  0.012952  0.400850  0.497496  0.00000  0.000000   \n",
       "1170544   0.011827  0.006558  0.001393  0.037283  0.105950  0.02669  0.026649   \n",
       "1170545   0.011827  0.006558  0.001393  0.037283  0.105950  0.02669  0.026649   \n",
       "1170547   0.011827  0.006558  0.001393  0.037283  0.105950  0.02669  0.026649   \n",
       "1170548   0.011827  0.006558  0.001393  0.037283  0.105950  0.02669  0.026649   \n",
       "\n",
       "                23  \n",
       "ncodpers            \n",
       "15889     0.043409  \n",
       "1170544   0.003207  \n",
       "1170545   0.003207  \n",
       "1170547   0.003207  \n",
       "1170548   0.003207  \n",
       "\n",
       "[5 rows x 24 columns]"
      ]
     },
     "execution_count": 33,
     "metadata": {},
     "output_type": "execute_result"
    },
    {
     "name": "stdout",
     "output_type": "stream",
     "text": [
      "time: 42.7 ms\n"
     ]
    }
   ],
   "source": [
    "jacobs_1.head()"
   ]
  },
  {
   "cell_type": "code",
   "execution_count": 34,
   "metadata": {
    "collapsed": false
   },
   "outputs": [
    {
     "name": "stdout",
     "output_type": "stream",
     "text": [
      "time: 1.28 ms\n"
     ]
    }
   ],
   "source": [
    "mat = jacobs_1.as_matrix()"
   ]
  },
  {
   "cell_type": "code",
   "execution_count": 35,
   "metadata": {
    "collapsed": false
   },
   "outputs": [
    {
     "data": {
      "text/plain": [
       "(929615, 24)"
      ]
     },
     "execution_count": 35,
     "metadata": {},
     "output_type": "execute_result"
    },
    {
     "name": "stdout",
     "output_type": "stream",
     "text": [
      "time: 2.92 ms\n"
     ]
    }
   ],
   "source": [
    "mat.shape"
   ]
  },
  {
   "cell_type": "code",
   "execution_count": 36,
   "metadata": {
    "collapsed": false
   },
   "outputs": [
    {
     "data": {
      "text/plain": [
       "array([[  8.83835818e-04,   7.68736655e-04,   0.00000000e+00, ...,\n",
       "          0.00000000e+00,   0.00000000e+00,   4.34094628e-02],\n",
       "       [  8.19019776e-05,   1.42444309e-05,   0.00000000e+00, ...,\n",
       "          2.66898708e-02,   2.66487295e-02,   3.20735506e-03],\n",
       "       [  8.19019776e-05,   1.42444309e-05,   0.00000000e+00, ...,\n",
       "          2.66898708e-02,   2.66487295e-02,   3.20735506e-03],\n",
       "       ..., \n",
       "       [  4.29703870e-04,   5.40054670e-05,   0.00000000e+00, ...,\n",
       "          8.61278040e-02,   8.35131729e-02,   1.66351659e-02],\n",
       "       [  8.19019776e-05,   1.42444309e-05,   0.00000000e+00, ...,\n",
       "          2.66898708e-02,   2.66487295e-02,   3.20735506e-03],\n",
       "       [  3.47801892e-04,   3.97610362e-05,   1.10623988e-01, ...,\n",
       "          5.94379332e-02,   5.68644435e-02,   1.34278108e-02]])"
      ]
     },
     "execution_count": 36,
     "metadata": {},
     "output_type": "execute_result"
    },
    {
     "name": "stdout",
     "output_type": "stream",
     "text": [
      "time: 4.2 ms\n"
     ]
    }
   ],
   "source": [
    "mat"
   ]
  },
  {
   "cell_type": "code",
   "execution_count": 38,
   "metadata": {
    "collapsed": false
   },
   "outputs": [
    {
     "data": {
      "text/plain": [
       "(929615, 24)"
      ]
     },
     "execution_count": 38,
     "metadata": {},
     "output_type": "execute_result"
    },
    {
     "name": "stdout",
     "output_type": "stream",
     "text": [
      "time: 2.51 ms\n"
     ]
    }
   ],
   "source": [
    "preds.shape"
   ]
  },
  {
   "cell_type": "code",
   "execution_count": 39,
   "metadata": {
    "collapsed": false
   },
   "outputs": [
    {
     "name": "stdout",
     "output_type": "stream",
     "text": [
      "time: 159 ms\n"
     ]
    }
   ],
   "source": [
    "new_preds = np.multiply(mat, preds)"
   ]
  },
  {
   "cell_type": "code",
   "execution_count": 65,
   "metadata": {
    "collapsed": false
   },
   "outputs": [
    {
     "name": "stdout",
     "output_type": "stream",
     "text": [
      "time: 1.3 s\n"
     ]
    }
   ],
   "source": [
    "top_t_products = label_encoder.inverse_transform(np.argsort(new_preds, axis=1)\n",
    "                                                 [:, ::-1][:, :])"
   ]
  },
  {
   "cell_type": "code",
   "execution_count": 60,
   "metadata": {
    "collapsed": false
   },
   "outputs": [
    {
     "name": "stdout",
     "output_type": "stream",
     "text": [
      "time: 57 ms\n"
     ]
    }
   ],
   "source": [
    "submission = pd.DataFrame()\n",
    "submission['ncodpers'] = test.index\n",
    "submission['added_products'] = ['ind_recibo_ult1']*submission.shape[0]\n",
    "submission.set_index('ncodpers', inplace=True)"
   ]
  },
  {
   "cell_type": "code",
   "execution_count": 42,
   "metadata": {
    "collapsed": false
   },
   "outputs": [
    {
     "name": "stderr",
     "output_type": "stream",
     "text": [
      "/usr/local/lib/python2.7/dist-packages/IPython/core/interactiveshell.py:2723: DtypeWarning: Columns (15) have mixed types. Specify dtype option on import or set low_memory=False.\n",
      "  interactivity=interactivity, compiler=compiler, result=result)\n"
     ]
    },
    {
     "name": "stdout",
     "output_type": "stream",
     "text": [
      "time: 3 s\n"
     ]
    }
   ],
   "source": [
    "test = pd.read_csv('data/test_ver2.csv')"
   ]
  },
  {
   "cell_type": "code",
   "execution_count": 43,
   "metadata": {
    "collapsed": false
   },
   "outputs": [
    {
     "name": "stdout",
     "output_type": "stream",
     "text": [
      "time: 620 ms\n"
     ]
    }
   ],
   "source": [
    "test.fillna(0, inplace=True)"
   ]
  },
  {
   "cell_type": "code",
   "execution_count": 44,
   "metadata": {
    "collapsed": false
   },
   "outputs": [
    {
     "name": "stdout",
     "output_type": "stream",
     "text": [
      "time: 22.2 ms\n"
     ]
    }
   ],
   "source": [
    "test.set_index('ncodpers', inplace=True)"
   ]
  },
  {
   "cell_type": "code",
   "execution_count": 54,
   "metadata": {
    "collapsed": false
   },
   "outputs": [
    {
     "name": "stdout",
     "output_type": "stream",
     "text": [
      "time: 1.77 s\n"
     ]
    }
   ],
   "source": [
    "test_copy = test.loc[test_ncodpers, :]"
   ]
  },
  {
   "cell_type": "code",
   "execution_count": 57,
   "metadata": {
    "collapsed": false
   },
   "outputs": [
    {
     "name": "stdout",
     "output_type": "stream",
     "text": [
      "time: 3.12 s\n"
     ]
    },
    {
     "name": "stderr",
     "output_type": "stream",
     "text": [
      "/usr/local/lib/python2.7/dist-packages/IPython/core/interactiveshell.py:2723: DtypeWarning: Columns (11,15) have mixed types. Specify dtype option on import or set low_memory=False.\n",
      "  interactivity=interactivity, compiler=compiler, result=result)\n"
     ]
    }
   ],
   "source": [
    "test_old = pd.read_csv('data/train_2016_05_28.csv', header=None, names=HEADER)"
   ]
  },
  {
   "cell_type": "code",
   "execution_count": 58,
   "metadata": {
    "collapsed": false
   },
   "outputs": [
    {
     "name": "stdout",
     "output_type": "stream",
     "text": [
      "time: 585 ms\n"
     ]
    }
   ],
   "source": [
    "test_old.fillna(0, inplace=True)\n",
    "test_old.set_index('ncodpers', inplace=True)"
   ]
  },
  {
   "cell_type": "code",
   "execution_count": 55,
   "metadata": {
    "collapsed": false
   },
   "outputs": [
    {
     "data": {
      "text/html": [
       "<div>\n",
       "<table border=\"1\" class=\"dataframe\">\n",
       "  <thead>\n",
       "    <tr style=\"text-align: right;\">\n",
       "      <th></th>\n",
       "      <th>fecha_dato</th>\n",
       "      <th>ind_empleado</th>\n",
       "      <th>pais_residencia</th>\n",
       "      <th>sexo</th>\n",
       "      <th>age</th>\n",
       "      <th>fecha_alta</th>\n",
       "      <th>ind_nuevo</th>\n",
       "      <th>antiguedad</th>\n",
       "      <th>indrel</th>\n",
       "      <th>ult_fec_cli_1t</th>\n",
       "      <th>...</th>\n",
       "      <th>indext</th>\n",
       "      <th>conyuemp</th>\n",
       "      <th>canal_entrada</th>\n",
       "      <th>indfall</th>\n",
       "      <th>tipodom</th>\n",
       "      <th>cod_prov</th>\n",
       "      <th>nomprov</th>\n",
       "      <th>ind_actividad_cliente</th>\n",
       "      <th>renta</th>\n",
       "      <th>segmento</th>\n",
       "    </tr>\n",
       "    <tr>\n",
       "      <th>ncodpers</th>\n",
       "      <th></th>\n",
       "      <th></th>\n",
       "      <th></th>\n",
       "      <th></th>\n",
       "      <th></th>\n",
       "      <th></th>\n",
       "      <th></th>\n",
       "      <th></th>\n",
       "      <th></th>\n",
       "      <th></th>\n",
       "      <th></th>\n",
       "      <th></th>\n",
       "      <th></th>\n",
       "      <th></th>\n",
       "      <th></th>\n",
       "      <th></th>\n",
       "      <th></th>\n",
       "      <th></th>\n",
       "      <th></th>\n",
       "      <th></th>\n",
       "      <th></th>\n",
       "    </tr>\n",
       "  </thead>\n",
       "  <tbody>\n",
       "    <tr>\n",
       "      <th>869505</th>\n",
       "      <td>2016-06-28</td>\n",
       "      <td>N</td>\n",
       "      <td>ES</td>\n",
       "      <td>H</td>\n",
       "      <td>26</td>\n",
       "      <td>2010-04-13</td>\n",
       "      <td>0</td>\n",
       "      <td>75</td>\n",
       "      <td>1</td>\n",
       "      <td>0</td>\n",
       "      <td>...</td>\n",
       "      <td>N</td>\n",
       "      <td>0</td>\n",
       "      <td>KAT</td>\n",
       "      <td>N</td>\n",
       "      <td>1</td>\n",
       "      <td>4.0</td>\n",
       "      <td>ALMERIA</td>\n",
       "      <td>1</td>\n",
       "      <td>112771.23</td>\n",
       "      <td>02 - PARTICULARES</td>\n",
       "    </tr>\n",
       "    <tr>\n",
       "      <th>1477437</th>\n",
       "      <td>2016-06-28</td>\n",
       "      <td>N</td>\n",
       "      <td>ES</td>\n",
       "      <td>H</td>\n",
       "      <td>22</td>\n",
       "      <td>2015-10-13</td>\n",
       "      <td>0</td>\n",
       "      <td>8</td>\n",
       "      <td>1</td>\n",
       "      <td>0</td>\n",
       "      <td>...</td>\n",
       "      <td>N</td>\n",
       "      <td>0</td>\n",
       "      <td>KHQ</td>\n",
       "      <td>N</td>\n",
       "      <td>1</td>\n",
       "      <td>28.0</td>\n",
       "      <td>MADRID</td>\n",
       "      <td>1</td>\n",
       "      <td>NA</td>\n",
       "      <td>03 - UNIVERSITARIO</td>\n",
       "    </tr>\n",
       "    <tr>\n",
       "      <th>1533309</th>\n",
       "      <td>2016-06-28</td>\n",
       "      <td>N</td>\n",
       "      <td>ES</td>\n",
       "      <td>H</td>\n",
       "      <td>52</td>\n",
       "      <td>2016-02-19</td>\n",
       "      <td>1</td>\n",
       "      <td>4</td>\n",
       "      <td>1</td>\n",
       "      <td>0</td>\n",
       "      <td>...</td>\n",
       "      <td>N</td>\n",
       "      <td>0</td>\n",
       "      <td>KHN</td>\n",
       "      <td>N</td>\n",
       "      <td>1</td>\n",
       "      <td>12.0</td>\n",
       "      <td>CASTELLON</td>\n",
       "      <td>1</td>\n",
       "      <td>NA</td>\n",
       "      <td>02 - PARTICULARES</td>\n",
       "    </tr>\n",
       "    <tr>\n",
       "      <th>1484304</th>\n",
       "      <td>2016-06-28</td>\n",
       "      <td>N</td>\n",
       "      <td>ES</td>\n",
       "      <td>H</td>\n",
       "      <td>25</td>\n",
       "      <td>2015-10-20</td>\n",
       "      <td>0</td>\n",
       "      <td>8</td>\n",
       "      <td>1</td>\n",
       "      <td>0</td>\n",
       "      <td>...</td>\n",
       "      <td>N</td>\n",
       "      <td>0</td>\n",
       "      <td>KHQ</td>\n",
       "      <td>N</td>\n",
       "      <td>1</td>\n",
       "      <td>28.0</td>\n",
       "      <td>MADRID</td>\n",
       "      <td>0</td>\n",
       "      <td>NA</td>\n",
       "      <td>03 - UNIVERSITARIO</td>\n",
       "    </tr>\n",
       "    <tr>\n",
       "      <th>1484306</th>\n",
       "      <td>2016-06-28</td>\n",
       "      <td>N</td>\n",
       "      <td>ES</td>\n",
       "      <td>H</td>\n",
       "      <td>22</td>\n",
       "      <td>2015-10-20</td>\n",
       "      <td>0</td>\n",
       "      <td>8</td>\n",
       "      <td>1</td>\n",
       "      <td>0</td>\n",
       "      <td>...</td>\n",
       "      <td>N</td>\n",
       "      <td>0</td>\n",
       "      <td>KHQ</td>\n",
       "      <td>N</td>\n",
       "      <td>1</td>\n",
       "      <td>28.0</td>\n",
       "      <td>MADRID</td>\n",
       "      <td>0</td>\n",
       "      <td>NA</td>\n",
       "      <td>03 - UNIVERSITARIO</td>\n",
       "    </tr>\n",
       "  </tbody>\n",
       "</table>\n",
       "<p>5 rows × 23 columns</p>\n",
       "</div>"
      ],
      "text/plain": [
       "          fecha_dato ind_empleado pais_residencia sexo  age  fecha_alta  \\\n",
       "ncodpers                                                                  \n",
       "869505    2016-06-28            N              ES    H   26  2010-04-13   \n",
       "1477437   2016-06-28            N              ES    H   22  2015-10-13   \n",
       "1533309   2016-06-28            N              ES    H   52  2016-02-19   \n",
       "1484304   2016-06-28            N              ES    H   25  2015-10-20   \n",
       "1484306   2016-06-28            N              ES    H   22  2015-10-20   \n",
       "\n",
       "          ind_nuevo  antiguedad  indrel ult_fec_cli_1t         ...          \\\n",
       "ncodpers                                                       ...           \n",
       "869505            0          75       1              0         ...           \n",
       "1477437           0           8       1              0         ...           \n",
       "1533309           1           4       1              0         ...           \n",
       "1484304           0           8       1              0         ...           \n",
       "1484306           0           8       1              0         ...           \n",
       "\n",
       "          indext conyuemp canal_entrada indfall tipodom cod_prov    nomprov  \\\n",
       "ncodpers                                                                      \n",
       "869505         N        0           KAT       N       1      4.0    ALMERIA   \n",
       "1477437        N        0           KHQ       N       1     28.0     MADRID   \n",
       "1533309        N        0           KHN       N       1     12.0  CASTELLON   \n",
       "1484304        N        0           KHQ       N       1     28.0     MADRID   \n",
       "1484306        N        0           KHQ       N       1     28.0     MADRID   \n",
       "\n",
       "          ind_actividad_cliente        renta            segmento  \n",
       "ncodpers                                                          \n",
       "869505                        1    112771.23   02 - PARTICULARES  \n",
       "1477437                       1           NA  03 - UNIVERSITARIO  \n",
       "1533309                       1           NA   02 - PARTICULARES  \n",
       "1484304                       0           NA  03 - UNIVERSITARIO  \n",
       "1484306                       0           NA  03 - UNIVERSITARIO  \n",
       "\n",
       "[5 rows x 23 columns]"
      ]
     },
     "execution_count": 55,
     "metadata": {},
     "output_type": "execute_result"
    },
    {
     "name": "stdout",
     "output_type": "stream",
     "text": [
      "time: 51.6 ms\n"
     ]
    }
   ],
   "source": [
    "test_copy.head()"
   ]
  },
  {
   "cell_type": "code",
   "execution_count": 66,
   "metadata": {
    "collapsed": false
   },
   "outputs": [
    {
     "name": "stderr",
     "output_type": "stream",
     "text": [
      "100%|██████████| 929615/929615 [08:45<00:00, 1769.25it/s]"
     ]
    },
    {
     "name": "stdout",
     "output_type": "stream",
     "text": [
      "time: 8min 48s\n"
     ]
    },
    {
     "name": "stderr",
     "output_type": "stream",
     "text": [
      "\n"
     ]
    }
   ],
   "source": [
    "test_copy['xgb_preds'] = [' '.join(x) for x in top_t_products]\n",
    "test_copy['added_products'] = ['ind_recibo_ult1']*test_copy.shape[0]\n",
    "for i in tqdm(test_copy.index):\n",
    "    zipped = zip(HEADER[24:],\n",
    "                 test_old.loc[i, 'ind_ahor_fin_ult1':'ind_recibo_ult1'])\n",
    "    products = [x[0] for x in\n",
    "                [y for y in zipped if y[1] == 1]]\n",
    "    pred_products = test_copy.loc[i, 'xgb_preds'].split()\n",
    "    prod_string = ' '.join(filter(lambda x: x not in products, pred_products))\n",
    "    test_copy.set_value(i, 'added_products', prod_string)"
   ]
  },
  {
   "cell_type": "code",
   "execution_count": 61,
   "metadata": {
    "collapsed": false
   },
   "outputs": [
    {
     "data": {
      "text/html": [
       "<div>\n",
       "<table border=\"1\" class=\"dataframe\">\n",
       "  <thead>\n",
       "    <tr style=\"text-align: right;\">\n",
       "      <th></th>\n",
       "      <th>added_products</th>\n",
       "    </tr>\n",
       "    <tr>\n",
       "      <th>ncodpers</th>\n",
       "      <th></th>\n",
       "    </tr>\n",
       "  </thead>\n",
       "  <tbody>\n",
       "    <tr>\n",
       "      <th>15889</th>\n",
       "      <td>ind_recibo_ult1</td>\n",
       "    </tr>\n",
       "    <tr>\n",
       "      <th>1170544</th>\n",
       "      <td>ind_recibo_ult1</td>\n",
       "    </tr>\n",
       "    <tr>\n",
       "      <th>1170545</th>\n",
       "      <td>ind_recibo_ult1</td>\n",
       "    </tr>\n",
       "    <tr>\n",
       "      <th>1170547</th>\n",
       "      <td>ind_recibo_ult1</td>\n",
       "    </tr>\n",
       "    <tr>\n",
       "      <th>1170548</th>\n",
       "      <td>ind_recibo_ult1</td>\n",
       "    </tr>\n",
       "  </tbody>\n",
       "</table>\n",
       "</div>"
      ],
      "text/plain": [
       "           added_products\n",
       "ncodpers                 \n",
       "15889     ind_recibo_ult1\n",
       "1170544   ind_recibo_ult1\n",
       "1170545   ind_recibo_ult1\n",
       "1170547   ind_recibo_ult1\n",
       "1170548   ind_recibo_ult1"
      ]
     },
     "execution_count": 61,
     "metadata": {},
     "output_type": "execute_result"
    },
    {
     "name": "stdout",
     "output_type": "stream",
     "text": [
      "time: 5.63 ms\n"
     ]
    }
   ],
   "source": [
    "submission.head()"
   ]
  },
  {
   "cell_type": "code",
   "execution_count": 67,
   "metadata": {
    "collapsed": false
   },
   "outputs": [
    {
     "name": "stdout",
     "output_type": "stream",
     "text": [
      "time: 289 ms\n"
     ]
    }
   ],
   "source": [
    "submission.added_products = test_copy.loc[submission.index, 'added_products']"
   ]
  },
  {
   "cell_type": "code",
   "execution_count": 63,
   "metadata": {
    "collapsed": false
   },
   "outputs": [
    {
     "data": {
      "text/html": [
       "<div>\n",
       "<table border=\"1\" class=\"dataframe\">\n",
       "  <thead>\n",
       "    <tr style=\"text-align: right;\">\n",
       "      <th></th>\n",
       "      <th>added_products</th>\n",
       "    </tr>\n",
       "    <tr>\n",
       "      <th>ncodpers</th>\n",
       "      <th></th>\n",
       "    </tr>\n",
       "  </thead>\n",
       "  <tbody>\n",
       "    <tr>\n",
       "      <th>15889</th>\n",
       "      <td>ind_recibo_ult1 ind_reca_fin_ult1 ind_dela_fin...</td>\n",
       "    </tr>\n",
       "    <tr>\n",
       "      <th>1170544</th>\n",
       "      <td>ind_recibo_ult1 ind_reca_fin_ult1 ind_cno_fin_...</td>\n",
       "    </tr>\n",
       "    <tr>\n",
       "      <th>1170545</th>\n",
       "      <td>ind_recibo_ult1 ind_nomina_ult1 ind_nom_pens_u...</td>\n",
       "    </tr>\n",
       "    <tr>\n",
       "      <th>1170547</th>\n",
       "      <td>ind_recibo_ult1 ind_reca_fin_ult1 ind_cno_fin_...</td>\n",
       "    </tr>\n",
       "    <tr>\n",
       "      <th>1170548</th>\n",
       "      <td>ind_recibo_ult1 ind_reca_fin_ult1 ind_cno_fin_...</td>\n",
       "    </tr>\n",
       "  </tbody>\n",
       "</table>\n",
       "</div>"
      ],
      "text/plain": [
       "                                             added_products\n",
       "ncodpers                                                   \n",
       "15889     ind_recibo_ult1 ind_reca_fin_ult1 ind_dela_fin...\n",
       "1170544   ind_recibo_ult1 ind_reca_fin_ult1 ind_cno_fin_...\n",
       "1170545   ind_recibo_ult1 ind_nomina_ult1 ind_nom_pens_u...\n",
       "1170547   ind_recibo_ult1 ind_reca_fin_ult1 ind_cno_fin_...\n",
       "1170548   ind_recibo_ult1 ind_reca_fin_ult1 ind_cno_fin_..."
      ]
     },
     "execution_count": 63,
     "metadata": {},
     "output_type": "execute_result"
    },
    {
     "name": "stdout",
     "output_type": "stream",
     "text": [
      "time: 5.75 ms\n"
     ]
    }
   ],
   "source": [
    "submission.head()"
   ]
  },
  {
   "cell_type": "code",
   "execution_count": 68,
   "metadata": {
    "collapsed": false
   },
   "outputs": [
    {
     "name": "stdout",
     "output_type": "stream",
     "text": [
      "Compressing file\n",
      "Compression done\n",
      "Uploading file to s3 data/15.11_submission_weighted_with_jacobian_wts.csv.zip\n",
      "uploading to s3 done\n",
      "Uploading submission data/15.11_submission_weighted_with_jacobian_wts.csv.zip\n",
      "Upload done\n",
      "time: 1min 25s\n"
     ]
    }
   ],
   "source": [
    "filename = 'data/15.11_submission_weighted_with_jacobian_wts.csv'\n",
    "description = '15. 11. submission weighted with jacobian weights'\n",
    "submission.to_csv(filename, columns=['added_products'])\n",
    "make_submission(filename, description=description, submit=True, compress=True, upload_to_s3=True)"
   ]
  },
  {
   "cell_type": "markdown",
   "metadata": {
    "collapsed": true
   },
   "source": [
    "---\n",
    "# get similarity features from added products\n",
    "---"
   ]
  },
  {
   "cell_type": "code",
   "execution_count": 9,
   "metadata": {
    "collapsed": false
   },
   "outputs": [
    {
     "name": "stdout",
     "output_type": "stream",
     "text": [
      "time: 6.83 ms\n"
     ]
    }
   ],
   "source": [
    "file_names_list_added = [('data/train_2015_05_28.csv', 'data/added_product_2015_04_28.csv', 'data/added_product_2015_05_28.csv', 1),\n",
    "                   ('data/train_2015_06_28.csv', 'data/added_product_2015_05_28.csv', 'data/added_product_2015_06_28.csv', 2),\n",
    "                   ('data/train_2015_07_28.csv', 'data/added_product_2015_06_28.csv', 'data/added_product_2015_07_28.csv', 3),\n",
    "                   ('data/train_2015_08_28.csv', 'data/added_product_2015_07_28.csv', 'data/added_product_2015_08_28.csv', 4),\n",
    "                   ('data/train_2015_09_28.csv', 'data/added_product_2015_08_28.csv', 'data/added_product_2015_09_28.csv', 5),\n",
    "                   ('data/train_2015_10_28.csv', 'data/added_product_2015_09_28.csv', 'data/added_product_2015_10_28.csv', 6),\n",
    "                   ('data/train_2015_11_28.csv', 'data/added_product_2015_10_28.csv', 'data/added_product_2015_11_28.csv', 7),\n",
    "                   ('data/train_2015_12_28.csv', 'data/added_product_2015_11_28.csv', 'data/added_product_2015_12_28.csv', 8),\n",
    "                   ('data/train_2016_01_28.csv', 'data/added_product_2015_12_28.csv', 'data/added_product_2016_01_28.csv', 9),\n",
    "                   ('data/train_2016_02_28.csv', 'data/added_product_2016_01_28.csv', 'data/added_product_2016_02_28.csv', 10),\n",
    "                   ('data/train_2016_03_28.csv', 'data/added_product_2016_02_28.csv', 'data/added_product_2016_03_28.csv', 11),\n",
    "                   ('data/train_2016_04_28.csv', 'data/added_product_2016_03_28.csv', 'data/added_product_2016_04_28.csv', 12)\n",
    "                  ]\n",
    "\n",
    "test_file_data_added = ('data/train_2016_05_28.csv', 'data/added_product_2016_04_28.csv', 'data/test_ver2.csv', 13)"
   ]
  },
  {
   "cell_type": "code",
   "execution_count": 14,
   "metadata": {
    "collapsed": false
   },
   "outputs": [
    {
     "name": "stdout",
     "output_type": "stream",
     "text": [
      "data/added_product_2015_05_28.csv\n"
     ]
    },
    {
     "name": "stderr",
     "output_type": "stream",
     "text": [
      "100%|██████████| 41745/41745 [02:56<00:00, 235.91it/s]"
     ]
    },
    {
     "name": "stdout",
     "output_type": "stream",
     "text": [
      "time: 2min 59s\n"
     ]
    },
    {
     "name": "stderr",
     "output_type": "stream",
     "text": [
      "\n"
     ]
    }
   ],
   "source": [
    "feats_added = get_similarity_features_from_added(file_names_list_added[0])"
   ]
  },
  {
   "cell_type": "code",
   "execution_count": 18,
   "metadata": {
    "collapsed": false
   },
   "outputs": [
    {
     "data": {
      "text/html": [
       "<div>\n",
       "<table border=\"1\" class=\"dataframe\">\n",
       "  <thead>\n",
       "    <tr style=\"text-align: right;\">\n",
       "      <th></th>\n",
       "      <th>0</th>\n",
       "      <th>1</th>\n",
       "      <th>2</th>\n",
       "      <th>3</th>\n",
       "      <th>4</th>\n",
       "      <th>5</th>\n",
       "      <th>6</th>\n",
       "      <th>7</th>\n",
       "      <th>8</th>\n",
       "      <th>9</th>\n",
       "      <th>...</th>\n",
       "      <th>14</th>\n",
       "      <th>15</th>\n",
       "      <th>16</th>\n",
       "      <th>17</th>\n",
       "      <th>18</th>\n",
       "      <th>19</th>\n",
       "      <th>20</th>\n",
       "      <th>21</th>\n",
       "      <th>22</th>\n",
       "      <th>23</th>\n",
       "    </tr>\n",
       "  </thead>\n",
       "  <tbody>\n",
       "    <tr>\n",
       "      <th>0</th>\n",
       "      <td>1.0</td>\n",
       "      <td>0.0</td>\n",
       "      <td>0.0</td>\n",
       "      <td>0.0</td>\n",
       "      <td>0.0</td>\n",
       "      <td>0.0</td>\n",
       "      <td>0.000000</td>\n",
       "      <td>0.000000</td>\n",
       "      <td>0.000000</td>\n",
       "      <td>0.000000</td>\n",
       "      <td>...</td>\n",
       "      <td>0.000000</td>\n",
       "      <td>0.000000</td>\n",
       "      <td>0.0</td>\n",
       "      <td>0.000000</td>\n",
       "      <td>0.000000</td>\n",
       "      <td>0.000000</td>\n",
       "      <td>0.0</td>\n",
       "      <td>0.000000</td>\n",
       "      <td>0.000000</td>\n",
       "      <td>0.000000</td>\n",
       "    </tr>\n",
       "    <tr>\n",
       "      <th>1</th>\n",
       "      <td>0.0</td>\n",
       "      <td>1.0</td>\n",
       "      <td>0.0</td>\n",
       "      <td>0.0</td>\n",
       "      <td>0.0</td>\n",
       "      <td>0.0</td>\n",
       "      <td>0.000000</td>\n",
       "      <td>0.000000</td>\n",
       "      <td>0.000000</td>\n",
       "      <td>0.000000</td>\n",
       "      <td>...</td>\n",
       "      <td>0.000000</td>\n",
       "      <td>0.000000</td>\n",
       "      <td>0.0</td>\n",
       "      <td>0.000000</td>\n",
       "      <td>0.000000</td>\n",
       "      <td>0.000000</td>\n",
       "      <td>0.0</td>\n",
       "      <td>0.000000</td>\n",
       "      <td>0.000000</td>\n",
       "      <td>0.000000</td>\n",
       "    </tr>\n",
       "    <tr>\n",
       "      <th>2</th>\n",
       "      <td>0.0</td>\n",
       "      <td>0.0</td>\n",
       "      <td>1.0</td>\n",
       "      <td>0.0</td>\n",
       "      <td>0.0</td>\n",
       "      <td>0.0</td>\n",
       "      <td>0.001468</td>\n",
       "      <td>0.003709</td>\n",
       "      <td>0.000000</td>\n",
       "      <td>0.001362</td>\n",
       "      <td>...</td>\n",
       "      <td>0.007006</td>\n",
       "      <td>0.000000</td>\n",
       "      <td>0.0</td>\n",
       "      <td>0.003404</td>\n",
       "      <td>0.011858</td>\n",
       "      <td>0.007412</td>\n",
       "      <td>0.0</td>\n",
       "      <td>0.005431</td>\n",
       "      <td>0.005814</td>\n",
       "      <td>0.025718</td>\n",
       "    </tr>\n",
       "    <tr>\n",
       "      <th>3</th>\n",
       "      <td>0.0</td>\n",
       "      <td>0.0</td>\n",
       "      <td>0.0</td>\n",
       "      <td>1.0</td>\n",
       "      <td>0.0</td>\n",
       "      <td>0.0</td>\n",
       "      <td>0.000000</td>\n",
       "      <td>0.000000</td>\n",
       "      <td>0.000000</td>\n",
       "      <td>0.000000</td>\n",
       "      <td>...</td>\n",
       "      <td>0.000000</td>\n",
       "      <td>0.000000</td>\n",
       "      <td>0.0</td>\n",
       "      <td>0.000000</td>\n",
       "      <td>0.000000</td>\n",
       "      <td>0.000000</td>\n",
       "      <td>0.0</td>\n",
       "      <td>0.000000</td>\n",
       "      <td>0.000000</td>\n",
       "      <td>0.004490</td>\n",
       "    </tr>\n",
       "    <tr>\n",
       "      <th>4</th>\n",
       "      <td>0.0</td>\n",
       "      <td>0.0</td>\n",
       "      <td>0.0</td>\n",
       "      <td>0.0</td>\n",
       "      <td>1.0</td>\n",
       "      <td>0.0</td>\n",
       "      <td>0.008012</td>\n",
       "      <td>0.002699</td>\n",
       "      <td>0.003499</td>\n",
       "      <td>0.004461</td>\n",
       "      <td>...</td>\n",
       "      <td>0.000000</td>\n",
       "      <td>0.010013</td>\n",
       "      <td>0.0</td>\n",
       "      <td>0.003716</td>\n",
       "      <td>0.017259</td>\n",
       "      <td>0.004855</td>\n",
       "      <td>0.0</td>\n",
       "      <td>0.279047</td>\n",
       "      <td>0.285600</td>\n",
       "      <td>0.033797</td>\n",
       "    </tr>\n",
       "  </tbody>\n",
       "</table>\n",
       "<p>5 rows × 24 columns</p>\n",
       "</div>"
      ],
      "text/plain": [
       "    0    1    2    3    4    5         6         7         8         9   \\\n",
       "0  1.0  0.0  0.0  0.0  0.0  0.0  0.000000  0.000000  0.000000  0.000000   \n",
       "1  0.0  1.0  0.0  0.0  0.0  0.0  0.000000  0.000000  0.000000  0.000000   \n",
       "2  0.0  0.0  1.0  0.0  0.0  0.0  0.001468  0.003709  0.000000  0.001362   \n",
       "3  0.0  0.0  0.0  1.0  0.0  0.0  0.000000  0.000000  0.000000  0.000000   \n",
       "4  0.0  0.0  0.0  0.0  1.0  0.0  0.008012  0.002699  0.003499  0.004461   \n",
       "\n",
       "     ...           14        15   16        17        18        19   20  \\\n",
       "0    ...     0.000000  0.000000  0.0  0.000000  0.000000  0.000000  0.0   \n",
       "1    ...     0.000000  0.000000  0.0  0.000000  0.000000  0.000000  0.0   \n",
       "2    ...     0.007006  0.000000  0.0  0.003404  0.011858  0.007412  0.0   \n",
       "3    ...     0.000000  0.000000  0.0  0.000000  0.000000  0.000000  0.0   \n",
       "4    ...     0.000000  0.010013  0.0  0.003716  0.017259  0.004855  0.0   \n",
       "\n",
       "         21        22        23  \n",
       "0  0.000000  0.000000  0.000000  \n",
       "1  0.000000  0.000000  0.000000  \n",
       "2  0.005431  0.005814  0.025718  \n",
       "3  0.000000  0.000000  0.004490  \n",
       "4  0.279047  0.285600  0.033797  \n",
       "\n",
       "[5 rows x 24 columns]"
      ]
     },
     "execution_count": 18,
     "metadata": {},
     "output_type": "execute_result"
    },
    {
     "name": "stdout",
     "output_type": "stream",
     "text": [
      "time: 40.2 ms\n"
     ]
    }
   ],
   "source": [
    "feats_added[2].head()"
   ]
  },
  {
   "cell_type": "code",
   "execution_count": 16,
   "metadata": {
    "collapsed": false
   },
   "outputs": [
    {
     "data": {
      "text/html": [
       "<div>\n",
       "<table border=\"1\" class=\"dataframe\">\n",
       "  <thead>\n",
       "    <tr style=\"text-align: right;\">\n",
       "      <th></th>\n",
       "      <th>jacob_added_ind_ahor_fin_ult1</th>\n",
       "      <th>cosine_added_ind_ahor_fin_ult1</th>\n",
       "      <th>jacob_added_ind_aval_fin_ult1</th>\n",
       "      <th>cosine_added_ind_aval_fin_ult1</th>\n",
       "      <th>jacob_added_ind_cco_fin_ult1</th>\n",
       "      <th>cosine_added_ind_cco_fin_ult1</th>\n",
       "      <th>jacob_added_ind_cder_fin_ult1</th>\n",
       "      <th>cosine_added_ind_cder_fin_ult1</th>\n",
       "      <th>jacob_added_ind_cno_fin_ult1</th>\n",
       "      <th>cosine_added_ind_cno_fin_ult1</th>\n",
       "      <th>...</th>\n",
       "      <th>jacob_added_ind_valo_fin_ult1</th>\n",
       "      <th>cosine_added_ind_valo_fin_ult1</th>\n",
       "      <th>jacob_added_ind_viv_fin_ult1</th>\n",
       "      <th>cosine_added_ind_viv_fin_ult1</th>\n",
       "      <th>jacob_added_ind_nomina_ult1</th>\n",
       "      <th>cosine_added_ind_nomina_ult1</th>\n",
       "      <th>jacob_added_ind_nom_pens_ult1</th>\n",
       "      <th>cosine_added_ind_nom_pens_ult1</th>\n",
       "      <th>jacob_added_ind_recibo_ult1</th>\n",
       "      <th>cosine_added_ind_recibo_ult1</th>\n",
       "    </tr>\n",
       "    <tr>\n",
       "      <th>ncodpers</th>\n",
       "      <th></th>\n",
       "      <th></th>\n",
       "      <th></th>\n",
       "      <th></th>\n",
       "      <th></th>\n",
       "      <th></th>\n",
       "      <th></th>\n",
       "      <th></th>\n",
       "      <th></th>\n",
       "      <th></th>\n",
       "      <th></th>\n",
       "      <th></th>\n",
       "      <th></th>\n",
       "      <th></th>\n",
       "      <th></th>\n",
       "      <th></th>\n",
       "      <th></th>\n",
       "      <th></th>\n",
       "      <th></th>\n",
       "      <th></th>\n",
       "      <th></th>\n",
       "    </tr>\n",
       "  </thead>\n",
       "  <tbody>\n",
       "    <tr>\n",
       "      <th>15892</th>\n",
       "      <td>0.0</td>\n",
       "      <td>0.0</td>\n",
       "      <td>0.0</td>\n",
       "      <td>0.0</td>\n",
       "      <td>0.036062</td>\n",
       "      <td>0.082235</td>\n",
       "      <td>0.000141</td>\n",
       "      <td>0.00449</td>\n",
       "      <td>0.000000</td>\n",
       "      <td>0.000000</td>\n",
       "      <td>...</td>\n",
       "      <td>0.000000</td>\n",
       "      <td>0.000000</td>\n",
       "      <td>0.0</td>\n",
       "      <td>0.0</td>\n",
       "      <td>0.190078</td>\n",
       "      <td>0.357068</td>\n",
       "      <td>0.194755</td>\n",
       "      <td>0.364195</td>\n",
       "      <td>0.000000</td>\n",
       "      <td>0.000000</td>\n",
       "    </tr>\n",
       "    <tr>\n",
       "      <th>15897</th>\n",
       "      <td>0.0</td>\n",
       "      <td>0.0</td>\n",
       "      <td>0.0</td>\n",
       "      <td>0.0</td>\n",
       "      <td>0.000000</td>\n",
       "      <td>0.000000</td>\n",
       "      <td>0.000141</td>\n",
       "      <td>0.00449</td>\n",
       "      <td>0.000000</td>\n",
       "      <td>0.000000</td>\n",
       "      <td>...</td>\n",
       "      <td>0.000000</td>\n",
       "      <td>0.000000</td>\n",
       "      <td>0.0</td>\n",
       "      <td>0.0</td>\n",
       "      <td>0.193767</td>\n",
       "      <td>0.370162</td>\n",
       "      <td>0.198642</td>\n",
       "      <td>0.377699</td>\n",
       "      <td>0.000000</td>\n",
       "      <td>0.000000</td>\n",
       "    </tr>\n",
       "    <tr>\n",
       "      <th>15906</th>\n",
       "      <td>0.0</td>\n",
       "      <td>0.0</td>\n",
       "      <td>0.0</td>\n",
       "      <td>0.0</td>\n",
       "      <td>0.025829</td>\n",
       "      <td>0.064539</td>\n",
       "      <td>0.000141</td>\n",
       "      <td>0.00449</td>\n",
       "      <td>0.000000</td>\n",
       "      <td>0.000000</td>\n",
       "      <td>...</td>\n",
       "      <td>0.005036</td>\n",
       "      <td>0.019046</td>\n",
       "      <td>0.0</td>\n",
       "      <td>0.0</td>\n",
       "      <td>0.185333</td>\n",
       "      <td>0.347796</td>\n",
       "      <td>0.190196</td>\n",
       "      <td>0.355342</td>\n",
       "      <td>0.000000</td>\n",
       "      <td>0.000000</td>\n",
       "    </tr>\n",
       "    <tr>\n",
       "      <th>15925</th>\n",
       "      <td>0.0</td>\n",
       "      <td>0.0</td>\n",
       "      <td>0.0</td>\n",
       "      <td>0.0</td>\n",
       "      <td>0.000000</td>\n",
       "      <td>0.000000</td>\n",
       "      <td>0.000000</td>\n",
       "      <td>0.00000</td>\n",
       "      <td>0.009018</td>\n",
       "      <td>0.019958</td>\n",
       "      <td>...</td>\n",
       "      <td>0.002970</td>\n",
       "      <td>0.011834</td>\n",
       "      <td>0.0</td>\n",
       "      <td>0.0</td>\n",
       "      <td>0.013948</td>\n",
       "      <td>0.030210</td>\n",
       "      <td>0.014455</td>\n",
       "      <td>0.031224</td>\n",
       "      <td>0.023277</td>\n",
       "      <td>0.055703</td>\n",
       "    </tr>\n",
       "    <tr>\n",
       "      <th>15927</th>\n",
       "      <td>0.0</td>\n",
       "      <td>0.0</td>\n",
       "      <td>0.0</td>\n",
       "      <td>0.0</td>\n",
       "      <td>0.011580</td>\n",
       "      <td>0.032723</td>\n",
       "      <td>0.000141</td>\n",
       "      <td>0.00449</td>\n",
       "      <td>0.016002</td>\n",
       "      <td>0.047308</td>\n",
       "      <td>...</td>\n",
       "      <td>0.000824</td>\n",
       "      <td>0.005028</td>\n",
       "      <td>0.0</td>\n",
       "      <td>0.0</td>\n",
       "      <td>0.018451</td>\n",
       "      <td>0.044834</td>\n",
       "      <td>0.018600</td>\n",
       "      <td>0.045200</td>\n",
       "      <td>0.000000</td>\n",
       "      <td>0.000000</td>\n",
       "    </tr>\n",
       "  </tbody>\n",
       "</table>\n",
       "<p>5 rows × 48 columns</p>\n",
       "</div>"
      ],
      "text/plain": [
       "          jacob_added_ind_ahor_fin_ult1  cosine_added_ind_ahor_fin_ult1  \\\n",
       "ncodpers                                                                  \n",
       "15892                               0.0                             0.0   \n",
       "15897                               0.0                             0.0   \n",
       "15906                               0.0                             0.0   \n",
       "15925                               0.0                             0.0   \n",
       "15927                               0.0                             0.0   \n",
       "\n",
       "          jacob_added_ind_aval_fin_ult1  cosine_added_ind_aval_fin_ult1  \\\n",
       "ncodpers                                                                  \n",
       "15892                               0.0                             0.0   \n",
       "15897                               0.0                             0.0   \n",
       "15906                               0.0                             0.0   \n",
       "15925                               0.0                             0.0   \n",
       "15927                               0.0                             0.0   \n",
       "\n",
       "          jacob_added_ind_cco_fin_ult1  cosine_added_ind_cco_fin_ult1  \\\n",
       "ncodpers                                                                \n",
       "15892                         0.036062                       0.082235   \n",
       "15897                         0.000000                       0.000000   \n",
       "15906                         0.025829                       0.064539   \n",
       "15925                         0.000000                       0.000000   \n",
       "15927                         0.011580                       0.032723   \n",
       "\n",
       "          jacob_added_ind_cder_fin_ult1  cosine_added_ind_cder_fin_ult1  \\\n",
       "ncodpers                                                                  \n",
       "15892                          0.000141                         0.00449   \n",
       "15897                          0.000141                         0.00449   \n",
       "15906                          0.000141                         0.00449   \n",
       "15925                          0.000000                         0.00000   \n",
       "15927                          0.000141                         0.00449   \n",
       "\n",
       "          jacob_added_ind_cno_fin_ult1  cosine_added_ind_cno_fin_ult1  \\\n",
       "ncodpers                                                                \n",
       "15892                         0.000000                       0.000000   \n",
       "15897                         0.000000                       0.000000   \n",
       "15906                         0.000000                       0.000000   \n",
       "15925                         0.009018                       0.019958   \n",
       "15927                         0.016002                       0.047308   \n",
       "\n",
       "                      ...               jacob_added_ind_valo_fin_ult1  \\\n",
       "ncodpers              ...                                               \n",
       "15892                 ...                                    0.000000   \n",
       "15897                 ...                                    0.000000   \n",
       "15906                 ...                                    0.005036   \n",
       "15925                 ...                                    0.002970   \n",
       "15927                 ...                                    0.000824   \n",
       "\n",
       "          cosine_added_ind_valo_fin_ult1  jacob_added_ind_viv_fin_ult1  \\\n",
       "ncodpers                                                                 \n",
       "15892                           0.000000                           0.0   \n",
       "15897                           0.000000                           0.0   \n",
       "15906                           0.019046                           0.0   \n",
       "15925                           0.011834                           0.0   \n",
       "15927                           0.005028                           0.0   \n",
       "\n",
       "          cosine_added_ind_viv_fin_ult1  jacob_added_ind_nomina_ult1  \\\n",
       "ncodpers                                                               \n",
       "15892                               0.0                     0.190078   \n",
       "15897                               0.0                     0.193767   \n",
       "15906                               0.0                     0.185333   \n",
       "15925                               0.0                     0.013948   \n",
       "15927                               0.0                     0.018451   \n",
       "\n",
       "          cosine_added_ind_nomina_ult1  jacob_added_ind_nom_pens_ult1  \\\n",
       "ncodpers                                                                \n",
       "15892                         0.357068                       0.194755   \n",
       "15897                         0.370162                       0.198642   \n",
       "15906                         0.347796                       0.190196   \n",
       "15925                         0.030210                       0.014455   \n",
       "15927                         0.044834                       0.018600   \n",
       "\n",
       "          cosine_added_ind_nom_pens_ult1  jacob_added_ind_recibo_ult1  \\\n",
       "ncodpers                                                                \n",
       "15892                           0.364195                     0.000000   \n",
       "15897                           0.377699                     0.000000   \n",
       "15906                           0.355342                     0.000000   \n",
       "15925                           0.031224                     0.023277   \n",
       "15927                           0.045200                     0.000000   \n",
       "\n",
       "          cosine_added_ind_recibo_ult1  \n",
       "ncodpers                                \n",
       "15892                         0.000000  \n",
       "15897                         0.000000  \n",
       "15906                         0.000000  \n",
       "15925                         0.055703  \n",
       "15927                         0.000000  \n",
       "\n",
       "[5 rows x 48 columns]"
      ]
     },
     "execution_count": 16,
     "metadata": {},
     "output_type": "execute_result"
    },
    {
     "name": "stdout",
     "output_type": "stream",
     "text": [
      "time: 40.1 ms\n"
     ]
    }
   ],
   "source": [
    "feats_added[0].head()"
   ]
  },
  {
   "cell_type": "code",
   "execution_count": 24,
   "metadata": {
    "collapsed": false
   },
   "outputs": [
    {
     "name": "stdout",
     "output_type": "stream",
     "text": [
      "data/added_product_2015_05_28.csv\n"
     ]
    },
    {
     "name": "stderr",
     "output_type": "stream",
     "text": [
      "100%|██████████| 41745/41745 [03:14<00:00, 215.02it/s]"
     ]
    },
    {
     "name": "stdout",
     "output_type": "stream",
     "text": [
      "time: 3min 18s\n"
     ]
    },
    {
     "name": "stderr",
     "output_type": "stream",
     "text": [
      "\n"
     ]
    }
   ],
   "source": [
    "simi_feat, ind = get_similarity_features(('data/train_2015_05_28.csv', 'data/added_product_2015_05_28.csv', 1))"
   ]
  },
  {
   "cell_type": "code",
   "execution_count": 25,
   "metadata": {
    "collapsed": false
   },
   "outputs": [
    {
     "data": {
      "text/html": [
       "<div>\n",
       "<table border=\"1\" class=\"dataframe\">\n",
       "  <thead>\n",
       "    <tr style=\"text-align: right;\">\n",
       "      <th></th>\n",
       "      <th>jacob_ind_ahor_fin_ult1</th>\n",
       "      <th>cosine_ind_ahor_fin_ult1</th>\n",
       "      <th>jacob_ind_aval_fin_ult1</th>\n",
       "      <th>cosine_ind_aval_fin_ult1</th>\n",
       "      <th>jacob_ind_cco_fin_ult1</th>\n",
       "      <th>cosine_ind_cco_fin_ult1</th>\n",
       "      <th>jacob_ind_cder_fin_ult1</th>\n",
       "      <th>cosine_ind_cder_fin_ult1</th>\n",
       "      <th>jacob_ind_cno_fin_ult1</th>\n",
       "      <th>cosine_ind_cno_fin_ult1</th>\n",
       "      <th>...</th>\n",
       "      <th>jacob_ind_valo_fin_ult1</th>\n",
       "      <th>cosine_ind_valo_fin_ult1</th>\n",
       "      <th>jacob_ind_viv_fin_ult1</th>\n",
       "      <th>cosine_ind_viv_fin_ult1</th>\n",
       "      <th>jacob_ind_nomina_ult1</th>\n",
       "      <th>cosine_ind_nomina_ult1</th>\n",
       "      <th>jacob_ind_nom_pens_ult1</th>\n",
       "      <th>cosine_ind_nom_pens_ult1</th>\n",
       "      <th>jacob_ind_recibo_ult1</th>\n",
       "      <th>cosine_ind_recibo_ult1</th>\n",
       "    </tr>\n",
       "    <tr>\n",
       "      <th>ncodpers</th>\n",
       "      <th></th>\n",
       "      <th></th>\n",
       "      <th></th>\n",
       "      <th></th>\n",
       "      <th></th>\n",
       "      <th></th>\n",
       "      <th></th>\n",
       "      <th></th>\n",
       "      <th></th>\n",
       "      <th></th>\n",
       "      <th></th>\n",
       "      <th></th>\n",
       "      <th></th>\n",
       "      <th></th>\n",
       "      <th></th>\n",
       "      <th></th>\n",
       "      <th></th>\n",
       "      <th></th>\n",
       "      <th></th>\n",
       "      <th></th>\n",
       "      <th></th>\n",
       "    </tr>\n",
       "  </thead>\n",
       "  <tbody>\n",
       "    <tr>\n",
       "      <th>15892</th>\n",
       "      <td>0.001922</td>\n",
       "      <td>0.042186</td>\n",
       "      <td>0.001856</td>\n",
       "      <td>0.084516</td>\n",
       "      <td>0.315905</td>\n",
       "      <td>1.033608</td>\n",
       "      <td>0.010739</td>\n",
       "      <td>0.118331</td>\n",
       "      <td>0.000000</td>\n",
       "      <td>0.000000</td>\n",
       "      <td>...</td>\n",
       "      <td>0.000000</td>\n",
       "      <td>0.000000</td>\n",
       "      <td>0.079300</td>\n",
       "      <td>0.317117</td>\n",
       "      <td>1.662739</td>\n",
       "      <td>2.576130</td>\n",
       "      <td>1.702099</td>\n",
       "      <td>2.618801</td>\n",
       "      <td>0.000000</td>\n",
       "      <td>0.000000</td>\n",
       "    </tr>\n",
       "    <tr>\n",
       "      <th>15897</th>\n",
       "      <td>0.003068</td>\n",
       "      <td>0.068065</td>\n",
       "      <td>0.002182</td>\n",
       "      <td>0.096053</td>\n",
       "      <td>0.000000</td>\n",
       "      <td>0.000000</td>\n",
       "      <td>0.017038</td>\n",
       "      <td>0.181267</td>\n",
       "      <td>0.000000</td>\n",
       "      <td>0.000000</td>\n",
       "      <td>...</td>\n",
       "      <td>0.000000</td>\n",
       "      <td>0.000000</td>\n",
       "      <td>0.114651</td>\n",
       "      <td>0.481117</td>\n",
       "      <td>1.750465</td>\n",
       "      <td>2.822744</td>\n",
       "      <td>1.789703</td>\n",
       "      <td>2.866702</td>\n",
       "      <td>0.000000</td>\n",
       "      <td>0.000000</td>\n",
       "    </tr>\n",
       "    <tr>\n",
       "      <th>15906</th>\n",
       "      <td>0.001816</td>\n",
       "      <td>0.041220</td>\n",
       "      <td>0.001136</td>\n",
       "      <td>0.056974</td>\n",
       "      <td>0.362383</td>\n",
       "      <td>1.063298</td>\n",
       "      <td>0.006653</td>\n",
       "      <td>0.085441</td>\n",
       "      <td>0.000000</td>\n",
       "      <td>0.000000</td>\n",
       "      <td>...</td>\n",
       "      <td>0.439234</td>\n",
       "      <td>0.959849</td>\n",
       "      <td>0.074186</td>\n",
       "      <td>0.322716</td>\n",
       "      <td>1.462919</td>\n",
       "      <td>2.324312</td>\n",
       "      <td>1.492736</td>\n",
       "      <td>2.353052</td>\n",
       "      <td>0.000000</td>\n",
       "      <td>0.000000</td>\n",
       "    </tr>\n",
       "    <tr>\n",
       "      <th>15925</th>\n",
       "      <td>0.000642</td>\n",
       "      <td>0.024398</td>\n",
       "      <td>0.000412</td>\n",
       "      <td>0.020984</td>\n",
       "      <td>0.000000</td>\n",
       "      <td>0.000000</td>\n",
       "      <td>0.002701</td>\n",
       "      <td>0.050439</td>\n",
       "      <td>0.344700</td>\n",
       "      <td>0.603161</td>\n",
       "      <td>...</td>\n",
       "      <td>0.171709</td>\n",
       "      <td>0.454029</td>\n",
       "      <td>0.030876</td>\n",
       "      <td>0.177510</td>\n",
       "      <td>0.308773</td>\n",
       "      <td>0.546272</td>\n",
       "      <td>0.313498</td>\n",
       "      <td>0.552792</td>\n",
       "      <td>0.425316</td>\n",
       "      <td>0.840093</td>\n",
       "    </tr>\n",
       "    <tr>\n",
       "      <th>15927</th>\n",
       "      <td>0.001608</td>\n",
       "      <td>0.023118</td>\n",
       "      <td>0.000558</td>\n",
       "      <td>0.025156</td>\n",
       "      <td>0.150713</td>\n",
       "      <td>0.511194</td>\n",
       "      <td>0.006105</td>\n",
       "      <td>0.046694</td>\n",
       "      <td>0.635437</td>\n",
       "      <td>1.164962</td>\n",
       "      <td>...</td>\n",
       "      <td>0.224904</td>\n",
       "      <td>0.506582</td>\n",
       "      <td>0.045052</td>\n",
       "      <td>0.153827</td>\n",
       "      <td>0.538950</td>\n",
       "      <td>1.053044</td>\n",
       "      <td>0.546324</td>\n",
       "      <td>1.061477</td>\n",
       "      <td>0.000000</td>\n",
       "      <td>0.000000</td>\n",
       "    </tr>\n",
       "  </tbody>\n",
       "</table>\n",
       "<p>5 rows × 48 columns</p>\n",
       "</div>"
      ],
      "text/plain": [
       "          jacob_ind_ahor_fin_ult1  cosine_ind_ahor_fin_ult1  \\\n",
       "ncodpers                                                      \n",
       "15892                    0.001922                  0.042186   \n",
       "15897                    0.003068                  0.068065   \n",
       "15906                    0.001816                  0.041220   \n",
       "15925                    0.000642                  0.024398   \n",
       "15927                    0.001608                  0.023118   \n",
       "\n",
       "          jacob_ind_aval_fin_ult1  cosine_ind_aval_fin_ult1  \\\n",
       "ncodpers                                                      \n",
       "15892                    0.001856                  0.084516   \n",
       "15897                    0.002182                  0.096053   \n",
       "15906                    0.001136                  0.056974   \n",
       "15925                    0.000412                  0.020984   \n",
       "15927                    0.000558                  0.025156   \n",
       "\n",
       "          jacob_ind_cco_fin_ult1  cosine_ind_cco_fin_ult1  \\\n",
       "ncodpers                                                    \n",
       "15892                   0.315905                 1.033608   \n",
       "15897                   0.000000                 0.000000   \n",
       "15906                   0.362383                 1.063298   \n",
       "15925                   0.000000                 0.000000   \n",
       "15927                   0.150713                 0.511194   \n",
       "\n",
       "          jacob_ind_cder_fin_ult1  cosine_ind_cder_fin_ult1  \\\n",
       "ncodpers                                                      \n",
       "15892                    0.010739                  0.118331   \n",
       "15897                    0.017038                  0.181267   \n",
       "15906                    0.006653                  0.085441   \n",
       "15925                    0.002701                  0.050439   \n",
       "15927                    0.006105                  0.046694   \n",
       "\n",
       "          jacob_ind_cno_fin_ult1  cosine_ind_cno_fin_ult1  \\\n",
       "ncodpers                                                    \n",
       "15892                   0.000000                 0.000000   \n",
       "15897                   0.000000                 0.000000   \n",
       "15906                   0.000000                 0.000000   \n",
       "15925                   0.344700                 0.603161   \n",
       "15927                   0.635437                 1.164962   \n",
       "\n",
       "                   ...            jacob_ind_valo_fin_ult1  \\\n",
       "ncodpers           ...                                      \n",
       "15892              ...                           0.000000   \n",
       "15897              ...                           0.000000   \n",
       "15906              ...                           0.439234   \n",
       "15925              ...                           0.171709   \n",
       "15927              ...                           0.224904   \n",
       "\n",
       "          cosine_ind_valo_fin_ult1  jacob_ind_viv_fin_ult1  \\\n",
       "ncodpers                                                     \n",
       "15892                     0.000000                0.079300   \n",
       "15897                     0.000000                0.114651   \n",
       "15906                     0.959849                0.074186   \n",
       "15925                     0.454029                0.030876   \n",
       "15927                     0.506582                0.045052   \n",
       "\n",
       "          cosine_ind_viv_fin_ult1  jacob_ind_nomina_ult1  \\\n",
       "ncodpers                                                   \n",
       "15892                    0.317117               1.662739   \n",
       "15897                    0.481117               1.750465   \n",
       "15906                    0.322716               1.462919   \n",
       "15925                    0.177510               0.308773   \n",
       "15927                    0.153827               0.538950   \n",
       "\n",
       "          cosine_ind_nomina_ult1  jacob_ind_nom_pens_ult1  \\\n",
       "ncodpers                                                    \n",
       "15892                   2.576130                 1.702099   \n",
       "15897                   2.822744                 1.789703   \n",
       "15906                   2.324312                 1.492736   \n",
       "15925                   0.546272                 0.313498   \n",
       "15927                   1.053044                 0.546324   \n",
       "\n",
       "          cosine_ind_nom_pens_ult1  jacob_ind_recibo_ult1  \\\n",
       "ncodpers                                                    \n",
       "15892                     2.618801               0.000000   \n",
       "15897                     2.866702               0.000000   \n",
       "15906                     2.353052               0.000000   \n",
       "15925                     0.552792               0.425316   \n",
       "15927                     1.061477               0.000000   \n",
       "\n",
       "          cosine_ind_recibo_ult1  \n",
       "ncodpers                          \n",
       "15892                   0.000000  \n",
       "15897                   0.000000  \n",
       "15906                   0.000000  \n",
       "15925                   0.840093  \n",
       "15927                   0.000000  \n",
       "\n",
       "[5 rows x 48 columns]"
      ]
     },
     "execution_count": 25,
     "metadata": {},
     "output_type": "execute_result"
    },
    {
     "name": "stdout",
     "output_type": "stream",
     "text": [
      "time: 41.1 ms\n"
     ]
    }
   ],
   "source": [
    "simi_feat.head()"
   ]
  },
  {
   "cell_type": "code",
   "execution_count": 26,
   "metadata": {
    "collapsed": false
   },
   "outputs": [
    {
     "name": "stdout",
     "output_type": "stream",
     "text": [
      "time: 2.74 ms\n"
     ]
    }
   ],
   "source": [
    "def get_wts_from_mat(df, row):\n",
    "    brow = map(bool, row)\n",
    "    wts = df.loc[brow, :].apply(np.mean)\n",
    "    wts[brow] = 0\n",
    "    return wts"
   ]
  },
  {
   "cell_type": "code",
   "execution_count": 27,
   "metadata": {
    "collapsed": false
   },
   "outputs": [
    {
     "name": "stdout",
     "output_type": "stream",
     "text": [
      "data/added_product_2015_05_28.csv\n"
     ]
    },
    {
     "name": "stderr",
     "output_type": "stream",
     "text": [
      "100%|██████████| 41745/41745 [05:38<00:00, 123.49it/s]"
     ]
    },
    {
     "name": "stdout",
     "output_type": "stream",
     "text": [
      "time: 5min 41s\n"
     ]
    },
    {
     "name": "stderr",
     "output_type": "stream",
     "text": [
      "\n"
     ]
    }
   ],
   "source": [
    "simi_feat1, ind = get_similarity_features(('data/train_2015_05_28.csv', 'data/added_product_2015_05_28.csv', 1))"
   ]
  },
  {
   "cell_type": "code",
   "execution_count": 28,
   "metadata": {
    "collapsed": false
   },
   "outputs": [
    {
     "data": {
      "text/html": [
       "<div>\n",
       "<table border=\"1\" class=\"dataframe\">\n",
       "  <thead>\n",
       "    <tr style=\"text-align: right;\">\n",
       "      <th></th>\n",
       "      <th>jacob_ind_ahor_fin_ult1</th>\n",
       "      <th>cosine_ind_ahor_fin_ult1</th>\n",
       "      <th>jacob_ind_aval_fin_ult1</th>\n",
       "      <th>cosine_ind_aval_fin_ult1</th>\n",
       "      <th>jacob_ind_cco_fin_ult1</th>\n",
       "      <th>cosine_ind_cco_fin_ult1</th>\n",
       "      <th>jacob_ind_cder_fin_ult1</th>\n",
       "      <th>cosine_ind_cder_fin_ult1</th>\n",
       "      <th>jacob_ind_cno_fin_ult1</th>\n",
       "      <th>cosine_ind_cno_fin_ult1</th>\n",
       "      <th>...</th>\n",
       "      <th>jacob_ind_valo_fin_ult1</th>\n",
       "      <th>cosine_ind_valo_fin_ult1</th>\n",
       "      <th>jacob_ind_viv_fin_ult1</th>\n",
       "      <th>cosine_ind_viv_fin_ult1</th>\n",
       "      <th>jacob_ind_nomina_ult1</th>\n",
       "      <th>cosine_ind_nomina_ult1</th>\n",
       "      <th>jacob_ind_nom_pens_ult1</th>\n",
       "      <th>cosine_ind_nom_pens_ult1</th>\n",
       "      <th>jacob_ind_recibo_ult1</th>\n",
       "      <th>cosine_ind_recibo_ult1</th>\n",
       "    </tr>\n",
       "    <tr>\n",
       "      <th>ncodpers</th>\n",
       "      <th></th>\n",
       "      <th></th>\n",
       "      <th></th>\n",
       "      <th></th>\n",
       "      <th></th>\n",
       "      <th></th>\n",
       "      <th></th>\n",
       "      <th></th>\n",
       "      <th></th>\n",
       "      <th></th>\n",
       "      <th></th>\n",
       "      <th></th>\n",
       "      <th></th>\n",
       "      <th></th>\n",
       "      <th></th>\n",
       "      <th></th>\n",
       "      <th></th>\n",
       "      <th></th>\n",
       "      <th></th>\n",
       "      <th></th>\n",
       "      <th></th>\n",
       "    </tr>\n",
       "  </thead>\n",
       "  <tbody>\n",
       "    <tr>\n",
       "      <th>15892</th>\n",
       "      <td>0.000275</td>\n",
       "      <td>0.006027</td>\n",
       "      <td>0.000265</td>\n",
       "      <td>0.012074</td>\n",
       "      <td>0.045129</td>\n",
       "      <td>0.147658</td>\n",
       "      <td>0.001534</td>\n",
       "      <td>0.016904</td>\n",
       "      <td>0.000000</td>\n",
       "      <td>0.000000</td>\n",
       "      <td>...</td>\n",
       "      <td>0.000000</td>\n",
       "      <td>0.000000</td>\n",
       "      <td>0.011329</td>\n",
       "      <td>0.045302</td>\n",
       "      <td>0.237534</td>\n",
       "      <td>0.368019</td>\n",
       "      <td>0.243157</td>\n",
       "      <td>0.374114</td>\n",
       "      <td>0.000000</td>\n",
       "      <td>0.000000</td>\n",
       "    </tr>\n",
       "    <tr>\n",
       "      <th>15897</th>\n",
       "      <td>0.000307</td>\n",
       "      <td>0.006807</td>\n",
       "      <td>0.000218</td>\n",
       "      <td>0.009605</td>\n",
       "      <td>0.000000</td>\n",
       "      <td>0.000000</td>\n",
       "      <td>0.001704</td>\n",
       "      <td>0.018127</td>\n",
       "      <td>0.000000</td>\n",
       "      <td>0.000000</td>\n",
       "      <td>...</td>\n",
       "      <td>0.000000</td>\n",
       "      <td>0.000000</td>\n",
       "      <td>0.011465</td>\n",
       "      <td>0.048112</td>\n",
       "      <td>0.175046</td>\n",
       "      <td>0.282274</td>\n",
       "      <td>0.178970</td>\n",
       "      <td>0.286670</td>\n",
       "      <td>0.000000</td>\n",
       "      <td>0.000000</td>\n",
       "    </tr>\n",
       "    <tr>\n",
       "      <th>15906</th>\n",
       "      <td>0.000259</td>\n",
       "      <td>0.005889</td>\n",
       "      <td>0.000162</td>\n",
       "      <td>0.008139</td>\n",
       "      <td>0.051769</td>\n",
       "      <td>0.151900</td>\n",
       "      <td>0.000950</td>\n",
       "      <td>0.012206</td>\n",
       "      <td>0.000000</td>\n",
       "      <td>0.000000</td>\n",
       "      <td>...</td>\n",
       "      <td>0.062748</td>\n",
       "      <td>0.137121</td>\n",
       "      <td>0.010598</td>\n",
       "      <td>0.046102</td>\n",
       "      <td>0.208988</td>\n",
       "      <td>0.332045</td>\n",
       "      <td>0.213248</td>\n",
       "      <td>0.336150</td>\n",
       "      <td>0.000000</td>\n",
       "      <td>0.000000</td>\n",
       "    </tr>\n",
       "    <tr>\n",
       "      <th>15925</th>\n",
       "      <td>0.000214</td>\n",
       "      <td>0.008133</td>\n",
       "      <td>0.000137</td>\n",
       "      <td>0.006995</td>\n",
       "      <td>0.000000</td>\n",
       "      <td>0.000000</td>\n",
       "      <td>0.000900</td>\n",
       "      <td>0.016813</td>\n",
       "      <td>0.114900</td>\n",
       "      <td>0.201054</td>\n",
       "      <td>...</td>\n",
       "      <td>0.057236</td>\n",
       "      <td>0.151343</td>\n",
       "      <td>0.010292</td>\n",
       "      <td>0.059170</td>\n",
       "      <td>0.102924</td>\n",
       "      <td>0.182091</td>\n",
       "      <td>0.104499</td>\n",
       "      <td>0.184264</td>\n",
       "      <td>0.141772</td>\n",
       "      <td>0.280031</td>\n",
       "    </tr>\n",
       "    <tr>\n",
       "      <th>15927</th>\n",
       "      <td>0.000322</td>\n",
       "      <td>0.004624</td>\n",
       "      <td>0.000112</td>\n",
       "      <td>0.005031</td>\n",
       "      <td>0.030143</td>\n",
       "      <td>0.102239</td>\n",
       "      <td>0.001221</td>\n",
       "      <td>0.009339</td>\n",
       "      <td>0.127087</td>\n",
       "      <td>0.232992</td>\n",
       "      <td>...</td>\n",
       "      <td>0.044981</td>\n",
       "      <td>0.101316</td>\n",
       "      <td>0.009010</td>\n",
       "      <td>0.030765</td>\n",
       "      <td>0.107790</td>\n",
       "      <td>0.210609</td>\n",
       "      <td>0.109265</td>\n",
       "      <td>0.212295</td>\n",
       "      <td>0.000000</td>\n",
       "      <td>0.000000</td>\n",
       "    </tr>\n",
       "  </tbody>\n",
       "</table>\n",
       "<p>5 rows × 48 columns</p>\n",
       "</div>"
      ],
      "text/plain": [
       "          jacob_ind_ahor_fin_ult1  cosine_ind_ahor_fin_ult1  \\\n",
       "ncodpers                                                      \n",
       "15892                    0.000275                  0.006027   \n",
       "15897                    0.000307                  0.006807   \n",
       "15906                    0.000259                  0.005889   \n",
       "15925                    0.000214                  0.008133   \n",
       "15927                    0.000322                  0.004624   \n",
       "\n",
       "          jacob_ind_aval_fin_ult1  cosine_ind_aval_fin_ult1  \\\n",
       "ncodpers                                                      \n",
       "15892                    0.000265                  0.012074   \n",
       "15897                    0.000218                  0.009605   \n",
       "15906                    0.000162                  0.008139   \n",
       "15925                    0.000137                  0.006995   \n",
       "15927                    0.000112                  0.005031   \n",
       "\n",
       "          jacob_ind_cco_fin_ult1  cosine_ind_cco_fin_ult1  \\\n",
       "ncodpers                                                    \n",
       "15892                   0.045129                 0.147658   \n",
       "15897                   0.000000                 0.000000   \n",
       "15906                   0.051769                 0.151900   \n",
       "15925                   0.000000                 0.000000   \n",
       "15927                   0.030143                 0.102239   \n",
       "\n",
       "          jacob_ind_cder_fin_ult1  cosine_ind_cder_fin_ult1  \\\n",
       "ncodpers                                                      \n",
       "15892                    0.001534                  0.016904   \n",
       "15897                    0.001704                  0.018127   \n",
       "15906                    0.000950                  0.012206   \n",
       "15925                    0.000900                  0.016813   \n",
       "15927                    0.001221                  0.009339   \n",
       "\n",
       "          jacob_ind_cno_fin_ult1  cosine_ind_cno_fin_ult1  \\\n",
       "ncodpers                                                    \n",
       "15892                   0.000000                 0.000000   \n",
       "15897                   0.000000                 0.000000   \n",
       "15906                   0.000000                 0.000000   \n",
       "15925                   0.114900                 0.201054   \n",
       "15927                   0.127087                 0.232992   \n",
       "\n",
       "                   ...            jacob_ind_valo_fin_ult1  \\\n",
       "ncodpers           ...                                      \n",
       "15892              ...                           0.000000   \n",
       "15897              ...                           0.000000   \n",
       "15906              ...                           0.062748   \n",
       "15925              ...                           0.057236   \n",
       "15927              ...                           0.044981   \n",
       "\n",
       "          cosine_ind_valo_fin_ult1  jacob_ind_viv_fin_ult1  \\\n",
       "ncodpers                                                     \n",
       "15892                     0.000000                0.011329   \n",
       "15897                     0.000000                0.011465   \n",
       "15906                     0.137121                0.010598   \n",
       "15925                     0.151343                0.010292   \n",
       "15927                     0.101316                0.009010   \n",
       "\n",
       "          cosine_ind_viv_fin_ult1  jacob_ind_nomina_ult1  \\\n",
       "ncodpers                                                   \n",
       "15892                    0.045302               0.237534   \n",
       "15897                    0.048112               0.175046   \n",
       "15906                    0.046102               0.208988   \n",
       "15925                    0.059170               0.102924   \n",
       "15927                    0.030765               0.107790   \n",
       "\n",
       "          cosine_ind_nomina_ult1  jacob_ind_nom_pens_ult1  \\\n",
       "ncodpers                                                    \n",
       "15892                   0.368019                 0.243157   \n",
       "15897                   0.282274                 0.178970   \n",
       "15906                   0.332045                 0.213248   \n",
       "15925                   0.182091                 0.104499   \n",
       "15927                   0.210609                 0.109265   \n",
       "\n",
       "          cosine_ind_nom_pens_ult1  jacob_ind_recibo_ult1  \\\n",
       "ncodpers                                                    \n",
       "15892                     0.374114               0.000000   \n",
       "15897                     0.286670               0.000000   \n",
       "15906                     0.336150               0.000000   \n",
       "15925                     0.184264               0.141772   \n",
       "15927                     0.212295               0.000000   \n",
       "\n",
       "          cosine_ind_recibo_ult1  \n",
       "ncodpers                          \n",
       "15892                   0.000000  \n",
       "15897                   0.000000  \n",
       "15906                   0.000000  \n",
       "15925                   0.280031  \n",
       "15927                   0.000000  \n",
       "\n",
       "[5 rows x 48 columns]"
      ]
     },
     "execution_count": 28,
     "metadata": {},
     "output_type": "execute_result"
    },
    {
     "name": "stdout",
     "output_type": "stream",
     "text": [
      "time: 47.2 ms\n"
     ]
    }
   ],
   "source": [
    "simi_feat1.head()"
   ]
  },
  {
   "cell_type": "markdown",
   "metadata": {},
   "source": [
    "---\n",
    "# Custom Jacobian similarities\n",
    "---"
   ]
  },
  {
   "cell_type": "code",
   "execution_count": 7,
   "metadata": {
    "collapsed": false
   },
   "outputs": [
    {
     "name": "stdout",
     "output_type": "stream",
     "text": [
      "time: 2.35 s\n"
     ]
    }
   ],
   "source": [
    "tr = pd.read_csv('data/train_2015_05_28.csv', header=None, names=[HEADER[1]]+HEADER[23:], usecols=[1]+range(23,48))"
   ]
  },
  {
   "cell_type": "code",
   "execution_count": 8,
   "metadata": {
    "collapsed": false
   },
   "outputs": [
    {
     "data": {
      "text/plain": [
       "Index([u'ncodpers', u'segmento', u'ind_ahor_fin_ult1', u'ind_aval_fin_ult1',\n",
       "       u'ind_cco_fin_ult1', u'ind_cder_fin_ult1', u'ind_cno_fin_ult1',\n",
       "       u'ind_ctju_fin_ult1', u'ind_ctma_fin_ult1', u'ind_ctop_fin_ult1',\n",
       "       u'ind_ctpp_fin_ult1', u'ind_deco_fin_ult1', u'ind_deme_fin_ult1',\n",
       "       u'ind_dela_fin_ult1', u'ind_ecue_fin_ult1', u'ind_fond_fin_ult1',\n",
       "       u'ind_hip_fin_ult1', u'ind_plan_fin_ult1', u'ind_pres_fin_ult1',\n",
       "       u'ind_reca_fin_ult1', u'ind_tjcr_fin_ult1', u'ind_valo_fin_ult1',\n",
       "       u'ind_viv_fin_ult1', u'ind_nomina_ult1', u'ind_nom_pens_ult1',\n",
       "       u'ind_recibo_ult1'],\n",
       "      dtype='object')"
      ]
     },
     "execution_count": 8,
     "metadata": {},
     "output_type": "execute_result"
    },
    {
     "name": "stdout",
     "output_type": "stream",
     "text": [
      "time: 3.16 ms\n"
     ]
    }
   ],
   "source": [
    "tr.columns"
   ]
  },
  {
   "cell_type": "code",
   "execution_count": 14,
   "metadata": {
    "collapsed": false
   },
   "outputs": [
    {
     "name": "stdout",
     "output_type": "stream",
     "text": [
      "time: 278 ms\n"
     ]
    }
   ],
   "source": [
    "parti = tr.loc[tr.segmento == '02 - PARTICULARES', :]\n",
    "top = tr.loc[tr.segmento == '01 - TOP', :]\n",
    "uni = tr.loc[tr.segmento == '03 - UNIVERSITARIO', :]"
   ]
  },
  {
   "cell_type": "code",
   "execution_count": 11,
   "metadata": {
    "collapsed": false
   },
   "outputs": [
    {
     "data": {
      "text/plain": [
       "(368666, 26)"
      ]
     },
     "execution_count": 11,
     "metadata": {},
     "output_type": "execute_result"
    },
    {
     "name": "stdout",
     "output_type": "stream",
     "text": [
      "time: 3.05 ms\n"
     ]
    }
   ],
   "source": [
    "parti.shape"
   ]
  },
  {
   "cell_type": "code",
   "execution_count": 42,
   "metadata": {
    "collapsed": false
   },
   "outputs": [
    {
     "name": "stdout",
     "output_type": "stream",
     "text": [
      "time: 842 ms\n"
     ]
    }
   ],
   "source": [
    "parti = tr.loc[tr.segmento == '02 - PARTICULARES', :]\n",
    "top = tr.loc[tr.segmento == '01 - TOP', :]\n",
    "uni = tr.loc[tr.segmento == '03 - UNIVERSITARIO', :]\n",
    "\n",
    "p_o_f_parti = get_persons_of_feature(parti)\n",
    "p_o_f_top = get_persons_of_feature(top)\n",
    "p_o_f_uni = get_persons_of_feature(uni)"
   ]
  },
  {
   "cell_type": "code",
   "execution_count": 46,
   "metadata": {
    "collapsed": false
   },
   "outputs": [
    {
     "data": {
      "text/plain": [
       "02 - PARTICULARES    372285\n",
       "Name: segmento, dtype: int64"
      ]
     },
     "execution_count": 46,
     "metadata": {},
     "output_type": "execute_result"
    },
    {
     "name": "stdout",
     "output_type": "stream",
     "text": [
      "time: 27.5 ms\n"
     ]
    }
   ],
   "source": [
    "parti.segmento.value_counts()"
   ]
  },
  {
   "cell_type": "code",
   "execution_count": 15,
   "metadata": {
    "collapsed": false
   },
   "outputs": [
    {
     "name": "stdout",
     "output_type": "stream",
     "text": [
      "time: 32.4 ms\n"
     ]
    }
   ],
   "source": [
    "tr.segmento.fillna('02 - PARTICULARES', inplace=True)"
   ]
  },
  {
   "cell_type": "code",
   "execution_count": 43,
   "metadata": {
    "collapsed": false
   },
   "outputs": [
    {
     "ename": "AttributeError",
     "evalue": "'dict' object has no attribute 'loc'",
     "output_type": "error",
     "traceback": [
      "\u001b[0;31m---------------------------------------------------------------------------\u001b[0m",
      "\u001b[0;31mAttributeError\u001b[0m                            Traceback (most recent call last)",
      "\u001b[0;32m<ipython-input-43-6995e2b8718a>\u001b[0m in \u001b[0;36m<module>\u001b[0;34m()\u001b[0m\n\u001b[0;32m----> 1\u001b[0;31m \u001b[0mjacob_pd_p\u001b[0m\u001b[0;34m,\u001b[0m \u001b[0mcosine_pd_p\u001b[0m \u001b[0;34m=\u001b[0m \u001b[0mget_similarity_matrices\u001b[0m\u001b[0;34m(\u001b[0m\u001b[0mp_o_f_parti\u001b[0m\u001b[0;34m)\u001b[0m\u001b[0;34m\u001b[0m\u001b[0m\n\u001b[0m\u001b[1;32m      2\u001b[0m \u001b[0mjacob_pd_t\u001b[0m\u001b[0;34m,\u001b[0m \u001b[0mcosine_pd_t\u001b[0m \u001b[0;34m=\u001b[0m \u001b[0mget_similarity_matrices\u001b[0m\u001b[0;34m(\u001b[0m\u001b[0mp_o_f_top\u001b[0m\u001b[0;34m)\u001b[0m\u001b[0;34m\u001b[0m\u001b[0m\n\u001b[1;32m      3\u001b[0m \u001b[0mjacob_pd_u\u001b[0m\u001b[0;34m,\u001b[0m \u001b[0mcosine_pd_u\u001b[0m \u001b[0;34m=\u001b[0m \u001b[0mget_similarity_matrices\u001b[0m\u001b[0;34m(\u001b[0m\u001b[0mp_o_f_uni\u001b[0m\u001b[0;34m)\u001b[0m\u001b[0;34m\u001b[0m\u001b[0m\n",
      "\u001b[0;32m<ipython-input-24-1b70176a74d8>\u001b[0m in \u001b[0;36mget_similarity_matrices\u001b[0;34m(train_df)\u001b[0m\n\u001b[1;32m      1\u001b[0m \u001b[0;32mdef\u001b[0m \u001b[0mget_similarity_matrices\u001b[0m\u001b[0;34m(\u001b[0m\u001b[0mtrain_df\u001b[0m\u001b[0;34m)\u001b[0m\u001b[0;34m:\u001b[0m\u001b[0;34m\u001b[0m\u001b[0m\n\u001b[0;32m----> 2\u001b[0;31m     \u001b[0mpersons_of_feature\u001b[0m \u001b[0;34m=\u001b[0m \u001b[0mget_persons_of_feature\u001b[0m\u001b[0;34m(\u001b[0m\u001b[0mtrain_df\u001b[0m\u001b[0;34m)\u001b[0m\u001b[0;34m\u001b[0m\u001b[0m\n\u001b[0m\u001b[1;32m      3\u001b[0m     \u001b[0mjacob_matrix\u001b[0m \u001b[0;34m=\u001b[0m \u001b[0mcollections\u001b[0m\u001b[0;34m.\u001b[0m\u001b[0mdefaultdict\u001b[0m\u001b[0;34m(\u001b[0m\u001b[0mdict\u001b[0m\u001b[0;34m)\u001b[0m\u001b[0;34m\u001b[0m\u001b[0m\n\u001b[1;32m      4\u001b[0m     \u001b[0mcosine_matrix\u001b[0m \u001b[0;34m=\u001b[0m \u001b[0mcollections\u001b[0m\u001b[0;34m.\u001b[0m\u001b[0mdefaultdict\u001b[0m\u001b[0;34m(\u001b[0m\u001b[0mdict\u001b[0m\u001b[0;34m)\u001b[0m\u001b[0;34m\u001b[0m\u001b[0m\n\u001b[1;32m      5\u001b[0m     \u001b[0;32mfor\u001b[0m \u001b[0mi\u001b[0m \u001b[0;32min\u001b[0m \u001b[0mrange\u001b[0m\u001b[0;34m(\u001b[0m\u001b[0;36m24\u001b[0m\u001b[0;34m)\u001b[0m\u001b[0;34m:\u001b[0m\u001b[0;34m\u001b[0m\u001b[0m\n",
      "\u001b[0;32m<ipython-input-37-02d381253139>\u001b[0m in \u001b[0;36mget_persons_of_feature\u001b[0;34m(train)\u001b[0m\n\u001b[1;32m      2\u001b[0m     \u001b[0mpersons_of_feature\u001b[0m \u001b[0;34m=\u001b[0m \u001b[0mdict\u001b[0m\u001b[0;34m(\u001b[0m\u001b[0;34m)\u001b[0m\u001b[0;34m\u001b[0m\u001b[0m\n\u001b[1;32m      3\u001b[0m     \u001b[0;32mfor\u001b[0m \u001b[0mfeat\u001b[0m \u001b[0;32min\u001b[0m \u001b[0mHEADER\u001b[0m\u001b[0;34m[\u001b[0m\u001b[0;36m24\u001b[0m\u001b[0;34m:\u001b[0m\u001b[0;34m]\u001b[0m\u001b[0;34m:\u001b[0m\u001b[0;34m\u001b[0m\u001b[0m\n\u001b[0;32m----> 4\u001b[0;31m         \u001b[0mpersons_of_feature\u001b[0m\u001b[0;34m[\u001b[0m\u001b[0mfeat\u001b[0m\u001b[0;34m]\u001b[0m \u001b[0;34m=\u001b[0m \u001b[0mset\u001b[0m\u001b[0;34m(\u001b[0m\u001b[0mtrain\u001b[0m\u001b[0;34m.\u001b[0m\u001b[0mloc\u001b[0m\u001b[0;34m[\u001b[0m\u001b[0mtrain\u001b[0m\u001b[0;34m[\u001b[0m\u001b[0mfeat\u001b[0m\u001b[0;34m]\u001b[0m \u001b[0;34m==\u001b[0m \u001b[0;36m1\u001b[0m\u001b[0;34m]\u001b[0m\u001b[0;34m[\u001b[0m\u001b[0;34m\"ncodpers\"\u001b[0m\u001b[0;34m]\u001b[0m\u001b[0;34m)\u001b[0m\u001b[0;34m\u001b[0m\u001b[0m\n\u001b[0m\u001b[1;32m      5\u001b[0m     \u001b[0;32mreturn\u001b[0m \u001b[0mpersons_of_feature\u001b[0m\u001b[0;34m\u001b[0m\u001b[0m\n\u001b[1;32m      6\u001b[0m \u001b[0;31m# for feat in header[24:]:\u001b[0m\u001b[0;34m\u001b[0m\u001b[0;34m\u001b[0m\u001b[0m\n",
      "\u001b[0;31mAttributeError\u001b[0m: 'dict' object has no attribute 'loc'"
     ]
    },
    {
     "name": "stdout",
     "output_type": "stream",
     "text": [
      "time: 355 ms\n"
     ]
    }
   ],
   "source": [
    "jacob_pd_p, cosine_pd_p = get_similarity_matrices(p_o_f_parti)\n",
    "jacob_pd_t, cosine_pd_t = get_similarity_matrices(p_o_f_top)\n",
    "jacob_pd_u, cosine_pd_u = get_similarity_matrices(p_o_f_uni)"
   ]
  },
  {
   "cell_type": "code",
   "execution_count": 44,
   "metadata": {
    "collapsed": false
   },
   "outputs": [
    {
     "data": {
      "text/plain": [
       "(          0         1         2         3         4         5         6   \\\n",
       " 0   1.000000  0.000000  0.000104  0.000000  0.000142  0.000000  0.000000   \n",
       " 1   0.000000  1.000000  0.000020  0.000000  0.000237  0.000000  0.000141   \n",
       " 2   0.000104  0.000020  1.000000  0.000465  0.011995  0.000002  0.007777   \n",
       " 3   0.000000  0.000000  0.000465  1.000000  0.000990  0.000000  0.000000   \n",
       " 4   0.000142  0.000237  0.011995  0.000990  1.000000  0.000000  0.014946   \n",
       " 5   0.000000  0.000000  0.000002  0.000000  0.000000  1.000000  0.000000   \n",
       " 6   0.000000  0.000141  0.007777  0.000000  0.014946  0.000000  1.000000   \n",
       " 7   0.000371  0.000057  0.131785  0.001046  0.065815  0.000000  0.000411   \n",
       " 8   0.000309  0.000225  0.037456  0.001090  0.135114  0.000000  0.000705   \n",
       " 9   0.000000  0.000000  0.002544  0.000419  0.001698  0.000000  0.010690   \n",
       " 10  0.000000  0.000000  0.002377  0.000559  0.004226  0.000000  0.001168   \n",
       " 11  0.000199  0.000085  0.046653  0.000819  0.084756  0.000585  0.010875   \n",
       " 12  0.000173  0.000252  0.063336  0.001081  0.231622  0.000014  0.004918   \n",
       " 13  0.000198  0.000199  0.020754  0.002864  0.053122  0.000000  0.004845   \n",
       " 14  0.000410  0.000000  0.003429  0.000587  0.047322  0.000000  0.000589   \n",
       " 15  0.000672  0.000135  0.007381  0.002743  0.041664  0.000000  0.002705   \n",
       " 16  0.000000  0.000000  0.001730  0.000754  0.003067  0.000000  0.000424   \n",
       " 17  0.000475  0.000300  0.035077  0.001368  0.209922  0.000189  0.011808   \n",
       " 18  0.000167  0.000334  0.030349  0.001189  0.266890  0.000000  0.015189   \n",
       " 19  0.000549  0.000451  0.027779  0.004361  0.077030  0.000000  0.006811   \n",
       " 20  0.002475  0.000000  0.003919  0.001733  0.010708  0.000000  0.000098   \n",
       " 21  0.000145  0.000290  0.010970  0.001008  0.604576  0.000061  0.014884   \n",
       " 22  0.000141  0.000283  0.011136  0.001006  0.619477  0.000339  0.014869   \n",
       " 23  0.000218  0.000197  0.100717  0.000931  0.408269  0.000000  0.015669   \n",
       " \n",
       "           7         8         9     ...           14        15        16  \\\n",
       " 0   0.000371  0.000309  0.000000    ...     0.000410  0.000672  0.000000   \n",
       " 1   0.000057  0.000225  0.000000    ...     0.000000  0.000135  0.000000   \n",
       " 2   0.131785  0.037456  0.002544    ...     0.003429  0.007381  0.001730   \n",
       " 3   0.001046  0.001090  0.000419    ...     0.000587  0.002743  0.000754   \n",
       " 4   0.065815  0.135114  0.001698    ...     0.047322  0.041664  0.003067   \n",
       " 5   0.000000  0.000000  0.000000    ...     0.000000  0.000000  0.000000   \n",
       " 6   0.000411  0.000705  0.010690    ...     0.000589  0.002705  0.000424   \n",
       " 7   1.000000  0.050362  0.001900    ...     0.009437  0.020638  0.001428   \n",
       " 8   0.050362  1.000000  0.001706    ...     0.028720  0.032197  0.002119   \n",
       " 9   0.001900  0.001706  1.000000    ...     0.000728  0.000848  0.000000   \n",
       " 10  0.006345  0.006314  0.022459    ...     0.003038  0.005918  0.000262   \n",
       " 11  0.070373  0.064819  0.004485    ...     0.011201  0.031827  0.000401   \n",
       " 12  0.048464  0.064216  0.001403    ...     0.022681  0.035788  0.001275   \n",
       " 13  0.045580  0.046564  0.002921    ...     0.013244  0.069330  0.002876   \n",
       " 14  0.009437  0.028720  0.000728    ...     1.000000  0.024431  0.007195   \n",
       " 15  0.020638  0.032197  0.000848    ...     0.024431  1.000000  0.003931   \n",
       " 16  0.001428  0.002119  0.000000    ...     0.007195  0.003931  1.000000   \n",
       " 17  0.064435  0.115258  0.001549    ...     0.032348  0.037387  0.009525   \n",
       " 18  0.063263  0.116291  0.001689    ...     0.045117  0.050607  0.005287   \n",
       " 19  0.057900  0.063050  0.001910    ...     0.021965  0.060029  0.004958   \n",
       " 20  0.013824  0.014780  0.000765    ...     0.005437  0.013197  0.001275   \n",
       " 21  0.052590  0.124154  0.001752    ...     0.058422  0.045266  0.003788   \n",
       " 22  0.053570  0.126058  0.001710    ...     0.057230  0.045123  0.003764   \n",
       " 23  0.092820  0.135354  0.001392    ...     0.042488  0.035487  0.003442   \n",
       " \n",
       "           17        18        19        20        21        22        23  \n",
       " 0   0.000475  0.000167  0.000549  0.002475  0.000145  0.000141  0.000218  \n",
       " 1   0.000300  0.000334  0.000451  0.000000  0.000290  0.000283  0.000197  \n",
       " 2   0.035077  0.030349  0.027779  0.003919  0.010970  0.011136  0.100717  \n",
       " 3   0.001368  0.001189  0.004361  0.001733  0.001008  0.001006  0.000931  \n",
       " 4   0.209922  0.266890  0.077030  0.010708  0.604576  0.619477  0.408269  \n",
       " 5   0.000189  0.000000  0.000000  0.000000  0.000061  0.000339  0.000000  \n",
       " 6   0.011808  0.015189  0.006811  0.000098  0.014884  0.014869  0.015669  \n",
       " 7   0.064435  0.063263  0.057900  0.013824  0.052590  0.053570  0.092820  \n",
       " 8   0.115258  0.116291  0.063050  0.014780  0.124154  0.126058  0.135354  \n",
       " 9   0.001549  0.001689  0.001910  0.000765  0.001752  0.001710  0.001392  \n",
       " 10  0.003902  0.005112  0.006954  0.004337  0.004900  0.004964  0.003627  \n",
       " 11  0.058471  0.082812  0.058355  0.005942  0.070644  0.073460  0.080739  \n",
       " 12  0.133751  0.171103  0.084970  0.006195  0.184233  0.189476  0.222498  \n",
       " 13  0.044918  0.062800  0.108619  0.010353  0.049544  0.051236  0.049897  \n",
       " 14  0.032348  0.045117  0.021965  0.005437  0.058422  0.057230  0.042488  \n",
       " 15  0.037387  0.050607  0.060029  0.013197  0.045266  0.045123  0.035487  \n",
       " 16  0.009525  0.005287  0.004958  0.001275  0.003788  0.003764  0.003442  \n",
       " 17  1.000000  0.172180  0.068668  0.017805  0.178391  0.182640  0.210596  \n",
       " 18  0.172180  1.000000  0.086030  0.013133  0.245213  0.248792  0.231779  \n",
       " 19  0.068668  0.086030  1.000000  0.015155  0.072361  0.074105  0.074902  \n",
       " 20  0.017805  0.013133  0.015155  1.000000  0.012089  0.011846  0.010363  \n",
       " 21  0.178391  0.245213  0.072361  0.012089  1.000000  0.974681  0.307320  \n",
       " 22  0.182640  0.248792  0.074105  0.011846  0.974681  1.000000  0.314149  \n",
       " 23  0.210596  0.231779  0.074902  0.010363  0.307320  0.314149  1.000000  \n",
       " \n",
       " [24 rows x 24 columns],\n",
       "           0         1         2         3         4         5         6   \\\n",
       " 0   1.000000  0.000000  0.007905  0.000000  0.003877  0.000000  0.000000   \n",
       " 1   0.000000  1.000000  0.003118  0.000000  0.013001  0.000000  0.002590   \n",
       " 2   0.007905  0.003118  1.000000  0.018415  0.037209  0.000016  0.065038   \n",
       " 3   0.000000  0.000000  0.018415  1.000000  0.014143  0.000000  0.000000   \n",
       " 4   0.003877  0.013001  0.037209  0.014143  1.000000  0.000000  0.048941   \n",
       " 5   0.000000  0.000000  0.000016  0.000000  0.000000  1.000000  0.000000   \n",
       " 6   0.000000  0.002590  0.065038  0.000000  0.048941  0.000000  1.000000   \n",
       " 7   0.013058  0.004042  0.305437  0.019193  0.127446  0.000000  0.001686   \n",
       " 8   0.006332  0.009266  0.143819  0.011700  0.248137  0.000000  0.001890   \n",
       " 9   0.000000  0.000000  0.039149  0.001241  0.009678  0.000000  0.025279   \n",
       " 10  0.000000  0.000000  0.043331  0.001471  0.028223  0.000000  0.003090   \n",
       " 11  0.004052  0.003494  0.178413  0.008748  0.163138  0.001526  0.028764   \n",
       " 12  0.004731  0.013844  0.186746  0.015464  0.376126  0.000045  0.016286   \n",
       " 13  0.002649  0.005329  0.119380  0.020243  0.127988  0.000000  0.010339   \n",
       " 14  0.003132  0.000000  0.034867  0.002448  0.176682  0.000000  0.001200   \n",
       " 15  0.006320  0.002543  0.060650  0.013833  0.130992  0.000000  0.005395   \n",
       " 16  0.000000  0.000000  0.025098  0.002336  0.016496  0.000000  0.000981   \n",
       " 17  0.010311  0.013102  0.128335  0.015554  0.356292  0.000515  0.032608   \n",
       " 18  0.003436  0.013824  0.116794  0.012831  0.438507  0.000000  0.040297   \n",
       " 19  0.008446  0.013903  0.139353  0.035212  0.167602  0.000000  0.015379   \n",
       " 20  0.015448  0.000000  0.048947  0.006038  0.049851  0.000000  0.000211   \n",
       " 21  0.003199  0.012872  0.040481  0.011670  0.770760  0.000169  0.041491   \n",
       " 22  0.003158  0.012708  0.040645  0.011796  0.780447  0.000943  0.041826   \n",
       " 23  0.007333  0.013348  0.246759  0.016377  0.592654  0.000000  0.061071   \n",
       " \n",
       "           7         8         9     ...           14        15        16  \\\n",
       " 0   0.013058  0.006332  0.000000    ...     0.003132  0.006320  0.000000   \n",
       " 1   0.004042  0.009266  0.000000    ...     0.000000  0.002543  0.000000   \n",
       " 2   0.305437  0.143819  0.039149    ...     0.034867  0.060650  0.025098   \n",
       " 3   0.019193  0.011700  0.001241    ...     0.002448  0.013833  0.002336   \n",
       " 4   0.127446  0.248137  0.009678    ...     0.176682  0.130992  0.016496   \n",
       " 5   0.000000  0.000000  0.000000    ...     0.000000  0.000000  0.000000   \n",
       " 6   0.001686  0.001890  0.025279    ...     0.001200  0.005395  0.000981   \n",
       " 7   1.000000  0.110327  0.013756    ...     0.045728  0.081697  0.009759   \n",
       " 8   0.110327  1.000000  0.007457    ...     0.086210  0.082698  0.008774   \n",
       " 9   0.013756  0.007457  1.000000    ...     0.001585  0.002047  0.000000   \n",
       " 10  0.053913  0.032051  0.044570    ...     0.007140  0.015774  0.000538   \n",
       " 11  0.151699  0.121748  0.019449    ...     0.034060  0.081479  0.001654   \n",
       " 12  0.095360  0.125849  0.008008    ...     0.086848  0.113305  0.006882   \n",
       " 13  0.131481  0.097245  0.008934    ...     0.030555  0.138112  0.008410   \n",
       " 14  0.045728  0.086210  0.001585    ...     1.000000  0.048796  0.015216   \n",
       " 15  0.081697  0.082698  0.002047    ...     0.048796  1.000000  0.009151   \n",
       " 16  0.009759  0.008774  0.000000    ...     0.015216  0.009151  1.000000   \n",
       " 17  0.135465  0.207054  0.007139    ...     0.101281  0.099417  0.041252   \n",
       " 18  0.136547  0.208356  0.007417    ...     0.133848  0.128155  0.021927   \n",
       " 19  0.149380  0.123575  0.006527    ...     0.054375  0.127625  0.016091   \n",
       " 20  0.081005  0.053199  0.001563    ...     0.011053  0.028425  0.002575   \n",
       " 21  0.110938  0.221534  0.008202    ...     0.180915  0.120934  0.016760   \n",
       " 22  0.112281  0.224790  0.008097    ...     0.179240  0.121656  0.016848   \n",
       " 23  0.170022  0.268859  0.009682    ...     0.191876  0.133526  0.022551   \n",
       " \n",
       "           17        18        19        20        21        22        23  \n",
       " 0   0.010311  0.003436  0.008446  0.015448  0.003199  0.003158  0.007333  \n",
       " 1   0.013102  0.013824  0.013903  0.000000  0.012872  0.012708  0.013348  \n",
       " 2   0.128335  0.116794  0.139353  0.048947  0.040481  0.040645  0.246759  \n",
       " 3   0.015554  0.012831  0.035212  0.006038  0.011670  0.011796  0.016377  \n",
       " 4   0.356292  0.438507  0.167602  0.049851  0.770760  0.780447  0.592654  \n",
       " 5   0.000515  0.000000  0.000000  0.000000  0.000169  0.000943  0.000000  \n",
       " 6   0.032608  0.040297  0.015379  0.000211  0.041491  0.041826  0.061071  \n",
       " 7   0.135465  0.136547  0.149380  0.081005  0.110938  0.112281  0.170022  \n",
       " 8   0.207054  0.208356  0.123575  0.053199  0.221534  0.224790  0.268859  \n",
       " 9   0.007139  0.007417  0.006527  0.001563  0.008202  0.008097  0.009682  \n",
       " 10  0.020967  0.026109  0.027270  0.009268  0.026742  0.027412  0.029664  \n",
       " 11  0.110712  0.152967  0.114704  0.021474  0.132411  0.137485  0.168914  \n",
       " 12  0.242354  0.304261  0.183686  0.029013  0.318356  0.325114  0.371936  \n",
       " 13  0.096355  0.129428  0.197866  0.027098  0.106671  0.110803  0.138958  \n",
       " 14  0.101281  0.133848  0.054375  0.011053  0.180915  0.179240  0.191876  \n",
       " 15  0.099417  0.128155  0.127625  0.028425  0.120934  0.121656  0.133526  \n",
       " 16  0.041252  0.021927  0.016091  0.002575  0.016760  0.016848  0.022551  \n",
       " 17  1.000000  0.294201  0.136328  0.067164  0.302818  0.309012  0.382296  \n",
       " 18  0.294201  1.000000  0.165297  0.047558  0.394852  0.399865  0.423312  \n",
       " 19  0.136328  0.165297  1.000000  0.043480  0.144032  0.147934  0.184916  \n",
       " 20  0.067164  0.047558  0.043480  1.000000  0.046559  0.046138  0.058576  \n",
       " 21  0.302818  0.394852  0.144032  0.046559  1.000000  0.987259  0.512901  \n",
       " 22  0.309012  0.399865  0.147934  0.046138  0.987259  1.000000  0.518944  \n",
       " 23  0.382296  0.423312  0.184916  0.058576  0.512901  0.518944  1.000000  \n",
       " \n",
       " [24 rows x 24 columns])"
      ]
     },
     "execution_count": 44,
     "metadata": {},
     "output_type": "execute_result"
    },
    {
     "name": "stdout",
     "output_type": "stream",
     "text": [
      "time: 1.15 s\n"
     ]
    }
   ],
   "source": [
    "get_similarity_matrices(tr)"
   ]
  },
  {
   "cell_type": "code",
   "execution_count": null,
   "metadata": {
    "collapsed": true
   },
   "outputs": [],
   "source": []
  }
 ],
 "metadata": {
  "kernelspec": {
   "display_name": "Python 2",
   "language": "python",
   "name": "python2"
  },
  "language_info": {
   "codemirror_mode": {
    "name": "ipython",
    "version": 2
   },
   "file_extension": ".py",
   "mimetype": "text/x-python",
   "name": "python",
   "nbconvert_exporter": "python",
   "pygments_lexer": "ipython2",
   "version": "2.7.12"
  }
 },
 "nbformat": 4,
 "nbformat_minor": 0
}
