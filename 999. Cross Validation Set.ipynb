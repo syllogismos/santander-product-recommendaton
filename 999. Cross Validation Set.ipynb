{
 "cells": [
  {
   "cell_type": "code",
   "execution_count": 32,
   "metadata": {
    "collapsed": true
   },
   "outputs": [],
   "source": [
    "import pandas\n",
    "from tqdm import tqdm"
   ]
  },
  {
   "cell_type": "code",
   "execution_count": 33,
   "metadata": {
    "collapsed": true
   },
   "outputs": [],
   "source": [
    "header = [\"ncodpers\", \"ind_ahor_fin_ult1\",\"ind_aval_fin_ult1\",\"ind_cco_fin_ult1\",\"ind_cder_fin_ult1\",\"ind_cno_fin_ult1\",\"ind_ctju_fin_ult1\",\"ind_ctma_fin_ult1\",\"ind_ctop_fin_ult1\",\"ind_ctpp_fin_ult1\",\"ind_deco_fin_ult1\",\"ind_deme_fin_ult1\",\"ind_dela_fin_ult1\",\"ind_ecue_fin_ult1\",\"ind_fond_fin_ult1\",\"ind_hip_fin_ult1\",\"ind_plan_fin_ult1\",\"ind_pres_fin_ult1\",\"ind_reca_fin_ult1\",\"ind_tjcr_fin_ult1\",\"ind_valo_fin_ult1\",\"ind_viv_fin_ult1\",\"ind_nomina_ult1\",\"ind_nom_pens_ult1\",\"ind_recibo_ult1\"]\n",
    "products = header[1:]\n"
   ]
  },
  {
   "cell_type": "code",
   "execution_count": 2,
   "metadata": {
    "collapsed": true
   },
   "outputs": [],
   "source": [
    "\n",
    "\n",
    "\n",
    "tr_05 = pandas.read_csv('data/train_2015_07_28.csv', header=None, names=header, usecols=[1] + range(24, 48))\n",
    "tr_04 = pandas.read_csv('data/train_2015_06_28.csv', header=None, names=header, usecols=[1] + range(24, 48))\n",
    "\n",
    "tr_05 = tr_05.set_index('ncodpers')\n",
    "tr_04 = tr_04.set_index('ncodpers')"
   ]
  },
  {
   "cell_type": "code",
   "execution_count": 3,
   "metadata": {
    "collapsed": false
   },
   "outputs": [],
   "source": [
    "tr_05 = tr_05.fillna(0)\n",
    "tr_04 = tr_04.fillna(0)"
   ]
  },
  {
   "cell_type": "code",
   "execution_count": 34,
   "metadata": {
    "collapsed": false
   },
   "outputs": [],
   "source": [
    "def get_new_subs(list1, list2):\n",
    "    return map( lambda x: (not int(x[0])) & (int(x[0]) ^ int(x[1])), zip (list1, list2))\n",
    "\n",
    "def get_product_list(index, tr_04, tr_05):\n",
    "    #print tr_04.shape\n",
    "    #print tr_05.shape\n",
    "    try:\n",
    "        a = tr_04.loc[index].values\n",
    "        b = tr_05.loc[index].values\n",
    "    except Exception, e:\n",
    "        a = [0]*24\n",
    "        b = [0]*24\n",
    "    x = get_new_subs(a, b)\n",
    "    s = []\n",
    "    for i in range(24):\n",
    "        if x[i] == 1:\n",
    "            s.append(products[i])\n",
    "    return ' '.join(s)"
   ]
  },
  {
   "cell_type": "code",
   "execution_count": 5,
   "metadata": {
    "collapsed": false
   },
   "outputs": [
    {
     "data": {
      "text/html": [
       "<div>\n",
       "<table border=\"1\" class=\"dataframe\">\n",
       "  <thead>\n",
       "    <tr style=\"text-align: right;\">\n",
       "      <th></th>\n",
       "      <th>added_products</th>\n",
       "    </tr>\n",
       "    <tr>\n",
       "      <th>ncodpers</th>\n",
       "      <th></th>\n",
       "    </tr>\n",
       "  </thead>\n",
       "  <tbody>\n",
       "    <tr>\n",
       "      <th>15889</th>\n",
       "      <td></td>\n",
       "    </tr>\n",
       "    <tr>\n",
       "      <th>15890</th>\n",
       "      <td></td>\n",
       "    </tr>\n",
       "    <tr>\n",
       "      <th>15892</th>\n",
       "      <td>ind_cco_fin_ult1</td>\n",
       "    </tr>\n",
       "    <tr>\n",
       "      <th>15893</th>\n",
       "      <td></td>\n",
       "    </tr>\n",
       "    <tr>\n",
       "      <th>15894</th>\n",
       "      <td></td>\n",
       "    </tr>\n",
       "  </tbody>\n",
       "</table>\n",
       "</div>"
      ],
      "text/plain": [
       "            added_products\n",
       "ncodpers                  \n",
       "15889                     \n",
       "15890                     \n",
       "15892     ind_cco_fin_ult1\n",
       "15893                     \n",
       "15894                     "
      ]
     },
     "execution_count": 5,
     "metadata": {},
     "output_type": "execute_result"
    }
   ],
   "source": [
    "cv_added_products = pandas.DataFrame()\n",
    "\n",
    "cv_added_products['ncodpers'] = tr_05.index\n",
    "\n",
    "cv_added_products['added_products'] = [\"ind_tjcr_fin_ult1\"]*cv_added_products.shape[0]\n",
    "cv_added_products = cv_added_products.set_index('ncodpers')\n",
    "\n",
    "for i in cv_added_products.index:\n",
    "        cv_added_products.set_value(i,\"added_products\",get_product_list(i, tr_04, tr_05))\n",
    "\n",
    "cv_added_products.head()"
   ]
  },
  {
   "cell_type": "code",
   "execution_count": 6,
   "metadata": {
    "collapsed": true
   },
   "outputs": [],
   "source": [
    "cv_added_products.to_csv('data/cv_2015_07_28.csv')"
   ]
  },
  {
   "cell_type": "code",
   "execution_count": 1,
   "metadata": {
    "collapsed": true
   },
   "outputs": [],
   "source": [
    "import datetime\n",
    "str_from_date = lambda x: '_'.join(str(x.date()).split('-'))"
   ]
  },
  {
   "cell_type": "code",
   "execution_count": 35,
   "metadata": {
    "collapsed": true
   },
   "outputs": [],
   "source": [
    "def generate_cv_data_for_month(y, m, d):\n",
    "    \n",
    "    if m == 1:\n",
    "        old_m = 12\n",
    "        old_y = y - 1\n",
    "    else:\n",
    "        old_m = m - 1\n",
    "        old_y = y\n",
    "    \n",
    "    old_date_str = str_from_date(datetime.datetime(old_y, old_m, d))\n",
    "    new_date_str = str_from_date(datetime.datetime(y, m, d))\n",
    "    print new_date_str\n",
    "    \n",
    "    tr_05 = pandas.read_csv('data/train_' + new_date_str + '.csv', header=None, names=header, usecols=[1] + range(24, 48))\n",
    "    tr_04 = pandas.read_csv('data/train_' + old_date_str + '.csv', header=None, names=header, usecols=[1] + range(24, 48))\n",
    "    #print tr_05.head()\n",
    "    #print tr_04.head()\n",
    "    #print tr_05.shape\n",
    "    #print tr_04.shape\n",
    "    #print new_date_str\n",
    "    #print old_date_str\n",
    "    tr_05 = tr_05.set_index('ncodpers')\n",
    "    tr_04 = tr_04.set_index('ncodpers')\n",
    "    tr_05 = tr_05.fillna(0)\n",
    "    tr_04 = tr_04.fillna(0)\n",
    "    cv_added_products = pandas.DataFrame()\n",
    "\n",
    "    cv_added_products['ncodpers'] = tr_05.index\n",
    "\n",
    "    cv_added_products['added_products'] = [\"ind_tjcr_fin_ult1\"]*cv_added_products.shape[0]\n",
    "    cv_added_products = cv_added_products.set_index('ncodpers')\n",
    "\n",
    "    for i in tqdm(cv_added_products.index):\n",
    "        cv_added_products.set_value(i,\"added_products\",get_product_list(i, tr_04, tr_05))\n",
    "        \n",
    "    cv_added_products.to_csv('data/cv_' + new_date_str + '.csv')"
   ]
  },
  {
   "cell_type": "code",
   "execution_count": 36,
   "metadata": {
    "collapsed": false
   },
   "outputs": [
    {
     "name": "stdout",
     "output_type": "stream",
     "text": [
      "2016_02_28\n"
     ]
    },
    {
     "name": "stderr",
     "output_type": "stream",
     "text": [
      "100%|██████████| 920904/920904 [06:41<00:00, 2294.10it/s]\n"
     ]
    },
    {
     "name": "stdout",
     "output_type": "stream",
     "text": [
      "2016_03_28\n"
     ]
    },
    {
     "name": "stderr",
     "output_type": "stream",
     "text": [
      "100%|██████████| 925076/925076 [06:50<00:00, 2254.04it/s]\n"
     ]
    },
    {
     "name": "stdout",
     "output_type": "stream",
     "text": [
      "2016_04_28\n"
     ]
    },
    {
     "name": "stderr",
     "output_type": "stream",
     "text": [
      "100%|██████████| 928274/928274 [06:36<00:00, 2343.32it/s]\n"
     ]
    }
   ],
   "source": [
    "# generate_cv_data_for_month(2015, 2, 28)\n",
    "# generate_cv_data_for_month(2015, 3, 28)\n",
    "# generate_cv_data_for_month(2015, 4, 28)\n",
    "# generate_cv_data_for_month(2015, 7, 28)\n",
    "# generate_cv_data_for_month(2015, 8, 28)\n",
    "# generate_cv_data_for_month(2015, 9, 28)\n",
    "# generate_cv_data_for_month(2015, 10, 28)\n",
    "# generate_cv_data_for_month(2015, 11, 28)\n",
    "# generate_cv_data_for_month(2015, 12, 28)\n",
    "# generate_cv_data_for_month(2016, 1, 28)\n",
    "generate_cv_data_for_month(2016, 2, 28)\n",
    "generate_cv_data_for_month(2016, 3, 28)\n",
    "generate_cv_data_for_month(2016, 4, 28)"
   ]
  },
  {
   "cell_type": "code",
   "execution_count": null,
   "metadata": {
    "collapsed": true
   },
   "outputs": [],
   "source": []
  }
 ],
 "metadata": {
  "kernelspec": {
   "display_name": "Python 2",
   "language": "python",
   "name": "python2"
  },
  "language_info": {
   "codemirror_mode": {
    "name": "ipython",
    "version": 2
   },
   "file_extension": ".py",
   "mimetype": "text/x-python",
   "name": "python",
   "nbconvert_exporter": "python",
   "pygments_lexer": "ipython2",
   "version": "2.7.12"
  }
 },
 "nbformat": 4,
 "nbformat_minor": 0
}
