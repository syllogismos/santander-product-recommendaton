{
 "cells": [
  {
   "cell_type": "code",
   "execution_count": 1,
   "metadata": {
    "collapsed": true
   },
   "outputs": [],
   "source": [
    "import pandas"
   ]
  },
  {
   "cell_type": "code",
   "execution_count": 2,
   "metadata": {
    "collapsed": true
   },
   "outputs": [],
   "source": [
    "\n",
    "header = [\"ncodpers\", \"ind_ahor_fin_ult1\",\"ind_aval_fin_ult1\",\"ind_cco_fin_ult1\",\"ind_cder_fin_ult1\",\"ind_cno_fin_ult1\",\"ind_ctju_fin_ult1\",\"ind_ctma_fin_ult1\",\"ind_ctop_fin_ult1\",\"ind_ctpp_fin_ult1\",\"ind_deco_fin_ult1\",\"ind_deme_fin_ult1\",\"ind_dela_fin_ult1\",\"ind_ecue_fin_ult1\",\"ind_fond_fin_ult1\",\"ind_hip_fin_ult1\",\"ind_plan_fin_ult1\",\"ind_pres_fin_ult1\",\"ind_reca_fin_ult1\",\"ind_tjcr_fin_ult1\",\"ind_valo_fin_ult1\",\"ind_viv_fin_ult1\",\"ind_nomina_ult1\",\"ind_nom_pens_ult1\",\"ind_recibo_ult1\"]\n",
    "products = header[1:]\n",
    "\n",
    "\n",
    "tr_05 = pandas.read_csv('data/train_2015_06_28.csv', header=None, names=header, usecols=[1] + range(24, 48))\n",
    "tr_04 = pandas.read_csv('data/train_2015_05_28.csv', header=None, names=header, usecols=[1] + range(24, 48))\n",
    "\n",
    "tr_05 = tr_05.set_index('ncodpers')\n",
    "tr_04 = tr_04.set_index('ncodpers')"
   ]
  },
  {
   "cell_type": "code",
   "execution_count": 3,
   "metadata": {
    "collapsed": false
   },
   "outputs": [],
   "source": [
    "tr_05 = tr_05.fillna(0)\n",
    "tr_04 = tr_04.fillna(0)"
   ]
  },
  {
   "cell_type": "code",
   "execution_count": 4,
   "metadata": {
    "collapsed": false
   },
   "outputs": [],
   "source": [
    "def get_new_subs(list1, list2):\n",
    "    return map( lambda x: (not int(x[0])) & (int(x[0]) ^ int(x[1])), zip (list1, list2))\n",
    "\n",
    "def get_product_list(index):\n",
    "    try:\n",
    "        a = tr_04.loc[index].values\n",
    "        b = tr_05.loc[index].values\n",
    "    except Exception, e:\n",
    "        a = [0]*24\n",
    "        b = [0]*24\n",
    "    x = get_new_subs(a, b)\n",
    "    s = []\n",
    "    for i in range(24):\n",
    "        if x[i] == 1:\n",
    "            s.append(products[i])\n",
    "    return ' '.join(s)"
   ]
  },
  {
   "cell_type": "code",
   "execution_count": null,
   "metadata": {
    "collapsed": false
   },
   "outputs": [],
   "source": [
    "cv_added_products = pandas.DataFrame()\n",
    "\n",
    "cv_added_products['ncodpers'] = tr_05.index\n",
    "\n",
    "cv_added_products['added_products'] = [\"ind_tjcr_fin_ult1\"]*cv_added_products.shape[0]\n",
    "cv_added_products = cv_added_products.set_index('ncodpers')\n",
    "\n",
    "for i in cv_added_products.index:\n",
    "        cv_added_products.set_value(i,\"added_products\",get_product_list(i))\n",
    "\n",
    "cv_added_products.head()"
   ]
  },
  {
   "cell_type": "code",
   "execution_count": null,
   "metadata": {
    "collapsed": true
   },
   "outputs": [],
   "source": [
    "cv_added_products.to_csv('data/cv_2015_06_28.csv')"
   ]
  },
  {
   "cell_type": "code",
   "execution_count": null,
   "metadata": {
    "collapsed": true
   },
   "outputs": [],
   "source": []
  }
 ],
 "metadata": {
  "kernelspec": {
   "display_name": "Python 2",
   "language": "python",
   "name": "python2"
  },
  "language_info": {
   "codemirror_mode": {
    "name": "ipython",
    "version": 2
   },
   "file_extension": ".py",
   "mimetype": "text/x-python",
   "name": "python",
   "nbconvert_exporter": "python",
   "pygments_lexer": "ipython2",
   "version": "2.7.12"
  }
 },
 "nbformat": 4,
 "nbformat_minor": 0
}
