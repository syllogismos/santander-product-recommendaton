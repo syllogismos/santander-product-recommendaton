{
 "cells": [
  {
   "cell_type": "code",
   "execution_count": 135,
   "metadata": {
    "collapsed": false
   },
   "outputs": [
    {
     "name": "stdout",
     "output_type": "stream",
     "text": [
      "Populating the interactive namespace from numpy and matplotlib\n"
     ]
    },
    {
     "name": "stderr",
     "output_type": "stream",
     "text": [
      "/usr/local/lib/python2.7/site-packages/IPython/core/magics/pylab.py:161: UserWarning: pylab import has clobbered these variables: ['test', 'e']\n",
      "`%matplotlib` prevents importing * from pylab and numpy\n",
      "  \"\\n`%matplotlib` prevents importing * from pylab and numpy\"\n"
     ]
    }
   ],
   "source": [
    "import pandas as pd\n",
    "import numpy as np\n",
    "import xgboost as xgb\n",
    "from sklearn.preprocessing import LabelEncoder\n",
    "from scripts.kaggle.helpers import make_submission\n",
    "import datetime\n",
    "from tqdm import tqdm\n",
    "import gc\n",
    "import itertools\n",
    "from multiprocessing import Pool\n",
    "\n",
    "%matplotlib inline\n",
    "import matplotlib.pyplot as plt\n",
    "import seaborn as sns\n",
    "\n",
    "%pylab inline\n",
    "pylab.rcParams['figure.figsize'] = (12, 16)"
   ]
  },
  {
   "cell_type": "code",
   "execution_count": 77,
   "metadata": {
    "collapsed": true
   },
   "outputs": [],
   "source": [
    "def test_train_split(df, wt_col, test_frac):\n",
    "    n = int(len(df)*test_frac)\n",
    "    rows = df.sample(n, weights=wt_col.apply(lambda x: wt_col.value_counts()[x])).index\n",
    "    test = df.ix[rows]\n",
    "    train = df.drop(rows)\n",
    "    return test, train, rows"
   ]
  },
  {
   "cell_type": "code",
   "execution_count": 26,
   "metadata": {
    "collapsed": true
   },
   "outputs": [],
   "source": [
    "TRAIN_MONTH = '2015_05_28'\n",
    "TEST_MONTH = '2016_05_28'\n",
    "\n",
    "TRAIN_FILE = 'data/train_' + TRAIN_MONTH + '.csv'\n",
    "ADDED_PRODUCTS_FILE = 'data/added_product_' + TRAIN_MONTH + '.csv'\n",
    "\n",
    "TEST_FILE = 'data/train_' + TEST_MONTH + '.csv'\n",
    "\n",
    "HEADER = [\"fecha_dato\", \"ncodpers\", \"ind_empleado\",\n",
    "          \"pais_residencia\", \"sexo\", \"age\", \"fecha_alta\",\n",
    "          \"ind_nuevo\", \"antiguedad\", \"indrel\", \"ult_fec_cli_1t\",\n",
    "          \"indrel_1mes\", \"tiprel_1mes\", \"indresi\", \"indext\",\n",
    "          \"conyuemp\", \"canal_entrada\", \"indfall\", \"tipodom\",\n",
    "          \"cod_prov\", \"nomprov\", \"ind_actividad_cliente\",\n",
    "          \"renta\", \"segmento\", \"ind_ahor_fin_ult1\",\n",
    "          \"ind_aval_fin_ult1\", \"ind_cco_fin_ult1\",\n",
    "          \"ind_cder_fin_ult1\", \"ind_cno_fin_ult1\",\n",
    "          \"ind_ctju_fin_ult1\", \"ind_ctma_fin_ult1\",\n",
    "          \"ind_ctop_fin_ult1\", \"ind_ctpp_fin_ult1\",\n",
    "          \"ind_deco_fin_ult1\", \"ind_deme_fin_ult1\",\n",
    "          \"ind_dela_fin_ult1\", \"ind_ecue_fin_ult1\",\n",
    "          \"ind_fond_fin_ult1\", \"ind_hip_fin_ult1\",\n",
    "          \"ind_plan_fin_ult1\", \"ind_pres_fin_ult1\",\n",
    "          \"ind_reca_fin_ult1\", \"ind_tjcr_fin_ult1\",\n",
    "          \"ind_valo_fin_ult1\", \"ind_viv_fin_ult1\",\n",
    "          \"ind_nomina_ult1\", \"ind_nom_pens_ult1\",\n",
    "          \"ind_recibo_ult1\"]"
   ]
  },
  {
   "cell_type": "code",
   "execution_count": 27,
   "metadata": {
    "collapsed": false
   },
   "outputs": [
    {
     "name": "stderr",
     "output_type": "stream",
     "text": [
      "/usr/local/lib/python2.7/site-packages/IPython/core/interactiveshell.py:2705: DtypeWarning: Columns (15) have mixed types. Specify dtype option on import or set low_memory=False.\n",
      "  interactivity=interactivity, compiler=compiler, result=result)\n",
      "/usr/local/lib/python2.7/site-packages/IPython/core/interactiveshell.py:2705: DtypeWarning: Columns (11,15) have mixed types. Specify dtype option on import or set low_memory=False.\n",
      "  interactivity=interactivity, compiler=compiler, result=result)\n"
     ]
    }
   ],
   "source": [
    "train = pd.read_csv(TRAIN_FILE, header=None, names=HEADER)\n",
    "test = pd.read_csv(TEST_FILE, header=None, names=HEADER)\n",
    "added_products = pd.read_csv(ADDED_PRODUCTS_FILE)\n",
    "\n",
    "combined = pd.concat((train, test)).reset_index(drop=True)"
   ]
  },
  {
   "cell_type": "code",
   "execution_count": 28,
   "metadata": {
    "collapsed": true
   },
   "outputs": [],
   "source": [
    "def process_data_from_original_dataframe(combined):\n",
    "    # fixing age\n",
    "    combined['age'] = pd.to_numeric(combined['age'], errors='coerce')\n",
    "\n",
    "    combined.loc[combined.age < 18, \"age\"] = \\\n",
    "        combined.loc[(combined.age > 18) &\n",
    "                     (combined.age <= 30), \"age\"].mean(skipna=True)\n",
    "    combined.loc[combined.age > 100, \"age\"] = \\\n",
    "        combined.loc[(combined.age > 30) &\n",
    "                     (combined.age <= 100), \"age\"].mean(skipna=True)\n",
    "    combined['age'].fillna(combined['age'].mean(), inplace=True)\n",
    "    combined['age'] = combined['age'].astype(int)\n",
    "\n",
    "    # fix ind_nuevo..\n",
    "    combined.loc[combined.ind_nuevo.isnull(), 'ind_nuevo'] = 1\n",
    "\n",
    "    # fix antiguedad\n",
    "    combined['antiguedad'] = pd.to_numeric(combined['antiguedad'],\n",
    "                                           errors='coerce')\n",
    "    combined.loc[combined.antiguedad.isnull(), 'antiguedad'] = \\\n",
    "        combined.antiguedad.min()\n",
    "    combined.loc[combined.antiguedad < 0, 'antiguedad'] = 0\n",
    "\n",
    "    # fix indrel\n",
    "    combined.loc[combined.indrel.isnull(), 'indrel'] = 1\n",
    "\n",
    "    # drop useless cols\n",
    "    combined.drop(['tipodom', 'cod_prov'], axis=1, inplace=True)\n",
    "\n",
    "    # fix ind_actividad_cliente\n",
    "    combined.loc[combined.ind_actividad_cliente.isnull(),\n",
    "                 \"ind_actividad_cliente\"] = \\\n",
    "        combined.ind_actividad_cliente.median()\n",
    "\n",
    "    # fix city name\n",
    "    combined.loc[combined.nomprov ==\n",
    "                 \"CORU\\xc3\\x91A, A\", \"nomprov\"] = \"CORUNA, A\"\n",
    "    combined.loc[combined.nomprov.isnull(), 'nomprov'] = 'UNKNOWN'\n",
    "\n",
    "    # fix incomes\n",
    "    # combined.renta = pd.to_numeric(combined.renta, errors='coerce')\n",
    "    grouped = combined.groupby('nomprov').\\\n",
    "        agg({'renta': lambda x: x.median(skipna=True)}).reset_index()\n",
    "    new_incomes = pd.merge(combined, grouped,\n",
    "                           how='inner',\n",
    "                           on='nomprov').loc[:, ['nomprov', 'renta_y']]\n",
    "\n",
    "    new_incomes = new_incomes.\\\n",
    "        rename(columns={\"renta_y\": \"renta\"}).\\\n",
    "        sort_values(\"renta\").sort_values(\"nomprov\")\n",
    "\n",
    "    combined.sort_values(\"nomprov\", inplace=True)\n",
    "    combined = combined.reset_index()\n",
    "    new_incomes = new_incomes.reset_index()\n",
    "    combined.loc[combined.renta.isnull(), \"renta\"] = \\\n",
    "        new_incomes.loc[combined.renta.isnull(), \"renta\"].median()\n",
    "    combined.sort_values(by='fecha_dato', inplace=True)\n",
    "\n",
    "    # rest of the columns\n",
    "    string_data = combined.select_dtypes(include=[\"object\"])\n",
    "    missing_columns = [col for col in string_data\n",
    "                       if string_data[col].isnull().any()]\n",
    "    del string_data\n",
    "\n",
    "    combined.loc[combined.indfall.isnull(), 'indfall'] = 'N'\n",
    "    combined.loc[combined.tiprel_1mes.isnull(), 'tiprel_1mes'] = 'A'\n",
    "    combined.tiprel_1mes = combined.tiprel_1mes.astype('category')\n",
    "\n",
    "    map_dict = {\n",
    "        '1.0': '1',\n",
    "        '1': '1',\n",
    "        '3.0': '3',\n",
    "        'P': 'P',\n",
    "        3.0: '3',\n",
    "        2.0: '2',\n",
    "        '3': '3',\n",
    "        '2.0': '2',\n",
    "        '4.0': '4',\n",
    "        '4': '4',\n",
    "        '2': '2',\n",
    "        1.0: '1',\n",
    "        4.0: '4'\n",
    "    }\n",
    "\n",
    "    combined.indrel_1mes.fillna('P', inplace=True)\n",
    "    combined.indrel_1mes = combined.indrel_1mes.apply(lambda x: map_dict[x])\n",
    "    combined.indrel_1mes = combined.indrel_1mes.astype('category')\n",
    "\n",
    "    unknown_cols = [col for col in missing_columns if\n",
    "                    col not in ['indfall', 'tiprel_1mes', 'indrel_1mes']]\n",
    "    for col in unknown_cols:\n",
    "        combined.loc[combined[col].isnull(), col] = \"UNKNOWN\"\n",
    "\n",
    "    # feature cols\n",
    "    feature_cols = combined.iloc[:1, ].filter(regex=\"ind_+.*ult.*\").\\\n",
    "        columns.values\n",
    "    for col in feature_cols:\n",
    "        combined.loc[combined[col].isnull(), col] = 0\n",
    "        combined[col] = combined[col].astype(int)\n",
    "\n",
    "    del combined['ult_fec_cli_1t'], combined['fecha_alta']\n",
    "\n",
    "    encoders = []\n",
    "    for col in ['sexo', 'indrel_1mes', 'pais_residencia', 'ind_empleado',\n",
    "                'segmento', 'tiprel_1mes', 'indresi', 'indext', 'conyuemp',\n",
    "                'canal_entrada', 'indfall', 'nomprov']:\n",
    "        temp_enc = LabelEncoder()\n",
    "        temp_enc.fit(combined[col])\n",
    "        combined[col] = temp_enc.transform(combined[col])\n",
    "        encoders.append(temp_enc)\n",
    "    return combined, encoders\n",
    "\n"
   ]
  },
  {
   "cell_type": "code",
   "execution_count": 29,
   "metadata": {
    "collapsed": true
   },
   "outputs": [],
   "source": [
    "combined, encoders = process_data_from_original_dataframe(combined)"
   ]
  },
  {
   "cell_type": "code",
   "execution_count": 30,
   "metadata": {
    "collapsed": false
   },
   "outputs": [
    {
     "name": "stderr",
     "output_type": "stream",
     "text": [
      "/usr/local/lib/python2.7/site-packages/sklearn/preprocessing/label.py:108: DataConversionWarning: A column-vector y was passed when a 1d array was expected. Please change the shape of y to (n_samples, ), for example using ravel().\n",
      "  y = column_or_1d(y, warn=True)\n"
     ]
    }
   ],
   "source": [
    "train = combined.loc[combined.fecha_dato == '2015-05-28', :].\\\n",
    "    reset_index(drop=True)\n",
    "test = combined.loc[combined.fecha_dato == '2016-05-28', :].\\\n",
    "    reset_index(drop=True)\n",
    "\n",
    "del train['index'], test['index']\n",
    "del train['fecha_dato'], test['fecha_dato']\n",
    "\n",
    "added_products.set_index('ncodpers', inplace=True)\n",
    "train.set_index('ncodpers', inplace=True)\n",
    "test.set_index('ncodpers', inplace=True)\n",
    "\n",
    "label_encoder = LabelEncoder()\n",
    "label_encoder.fit(added_products.added_product)\n",
    "added_products['encoded_products'] = label_encoder.\\\n",
    "    transform(added_products['added_product'])\n"
   ]
  },
  {
   "cell_type": "code",
   "execution_count": 78,
   "metadata": {
    "collapsed": false
   },
   "outputs": [],
   "source": [
    "y_test, y_train, rows = test_train_split(added_products, added_products.added_product, 0.2)"
   ]
  },
  {
   "cell_type": "code",
   "execution_count": 118,
   "metadata": {
    "collapsed": false
   },
   "outputs": [],
   "source": [
    "y_test.set_index('ncodpers', inplace=True)\n",
    "y_train.set_index('ncodpers', inplace=True)\n",
    "\n",
    "x_test = train.loc[y_test.index, :]\n",
    "x_train = train.loc[y_train.index, :]\n",
    "x_main = train.loc[added_products.ncodpers, :]\n",
    "\n",
    "xgb_train = xgb.DMatrix(x_train, label=y_train.encoded_products)\n",
    "xgb_test = xgb.DMatrix(x_test, label=y_test.encoded_products)\n",
    "xgb_main = xgb.DMatrix(x_main, label=added_products.encoded_products)"
   ]
  },
  {
   "cell_type": "code",
   "execution_count": 106,
   "metadata": {
    "collapsed": true
   },
   "outputs": [],
   "source": [
    "param = {}\n",
    "param['objective'] = 'multi:softprob'\n",
    "param['eta'] = 0.05\n",
    "param['max_depth'] = 6\n",
    "param['silent'] = 0\n",
    "param['num_class'] = len(label_encoder.classes_)\n",
    "param['eval_metric'] = \"mlogloss\"\n",
    "param['min_child_weight'] = 2\n",
    "param['subsample'] = 0.9\n",
    "param['colsample_bytree'] = 0.9\n",
    "param['seed'] = 1428\n",
    "num_rounds = 100\n",
    "plist = param.items()\n",
    "\n",
    "evallist = [(xgb_train, 'train'), (xgb_test, 'test')]"
   ]
  },
  {
   "cell_type": "code",
   "execution_count": 82,
   "metadata": {
    "collapsed": true
   },
   "outputs": [
    {
     "name": "stdout",
     "output_type": "stream",
     "text": [
      "[0]\ttrain-mlogloss:2.91695\ttest-mlogloss:2.89295\n",
      "[1]\ttrain-mlogloss:2.78428\ttest-mlogloss:2.74432\n",
      "[2]\ttrain-mlogloss:2.67408\ttest-mlogloss:2.62109\n",
      "[3]\ttrain-mlogloss:2.58225\ttest-mlogloss:2.51935\n",
      "[4]\ttrain-mlogloss:2.50057\ttest-mlogloss:2.42917\n",
      "[5]\ttrain-mlogloss:2.42803\ttest-mlogloss:2.34987\n",
      "[6]\ttrain-mlogloss:2.36473\ttest-mlogloss:2.2802\n",
      "[7]\ttrain-mlogloss:2.30716\ttest-mlogloss:2.21796\n",
      "[8]\ttrain-mlogloss:2.25327\ttest-mlogloss:2.15882\n",
      "[9]\ttrain-mlogloss:2.20658\ttest-mlogloss:2.10837\n",
      "[10]\ttrain-mlogloss:2.16042\ttest-mlogloss:2.05771\n",
      "[11]\ttrain-mlogloss:2.11782\ttest-mlogloss:2.01103\n",
      "[12]\ttrain-mlogloss:2.07801\ttest-mlogloss:1.96713\n",
      "[13]\ttrain-mlogloss:2.04092\ttest-mlogloss:1.92638\n",
      "[14]\ttrain-mlogloss:2.00635\ttest-mlogloss:1.88817\n",
      "[15]\ttrain-mlogloss:1.9744\ttest-mlogloss:1.85316\n",
      "[16]\ttrain-mlogloss:1.94397\ttest-mlogloss:1.81992\n",
      "[17]\ttrain-mlogloss:1.91513\ttest-mlogloss:1.7886\n",
      "[18]\ttrain-mlogloss:1.88809\ttest-mlogloss:1.75926\n",
      "[19]\ttrain-mlogloss:1.8628\ttest-mlogloss:1.73179\n",
      "[20]\ttrain-mlogloss:1.83978\ttest-mlogloss:1.70732\n",
      "[21]\ttrain-mlogloss:1.81688\ttest-mlogloss:1.68251\n",
      "[22]\ttrain-mlogloss:1.79559\ttest-mlogloss:1.65898\n",
      "[23]\ttrain-mlogloss:1.77495\ttest-mlogloss:1.63658\n",
      "[24]\ttrain-mlogloss:1.75539\ttest-mlogloss:1.61564\n",
      "[25]\ttrain-mlogloss:1.73738\ttest-mlogloss:1.59637\n",
      "[26]\ttrain-mlogloss:1.72043\ttest-mlogloss:1.57839\n",
      "[27]\ttrain-mlogloss:1.70369\ttest-mlogloss:1.56024\n",
      "[28]\ttrain-mlogloss:1.68736\ttest-mlogloss:1.54284\n",
      "[29]\ttrain-mlogloss:1.67237\ttest-mlogloss:1.52699\n",
      "[30]\ttrain-mlogloss:1.65795\ttest-mlogloss:1.51201\n",
      "[31]\ttrain-mlogloss:1.64423\ttest-mlogloss:1.49732\n",
      "[32]\ttrain-mlogloss:1.63057\ttest-mlogloss:1.48289\n",
      "[33]\ttrain-mlogloss:1.61749\ttest-mlogloss:1.46904\n",
      "[34]\ttrain-mlogloss:1.60559\ttest-mlogloss:1.4564\n",
      "[35]\ttrain-mlogloss:1.59361\ttest-mlogloss:1.44366\n",
      "[36]\ttrain-mlogloss:1.58222\ttest-mlogloss:1.43175\n",
      "[37]\ttrain-mlogloss:1.57119\ttest-mlogloss:1.42009\n",
      "[38]\ttrain-mlogloss:1.56045\ttest-mlogloss:1.40886\n",
      "[39]\ttrain-mlogloss:1.5504\ttest-mlogloss:1.3987\n",
      "[40]\ttrain-mlogloss:1.54045\ttest-mlogloss:1.38848\n",
      "[41]\ttrain-mlogloss:1.531\ttest-mlogloss:1.3786\n",
      "[42]\ttrain-mlogloss:1.52191\ttest-mlogloss:1.36916\n",
      "[43]\ttrain-mlogloss:1.51312\ttest-mlogloss:1.36007\n",
      "[44]\ttrain-mlogloss:1.50455\ttest-mlogloss:1.35132\n",
      "[45]\ttrain-mlogloss:1.49631\ttest-mlogloss:1.34293\n",
      "[46]\ttrain-mlogloss:1.48848\ttest-mlogloss:1.33494\n",
      "[47]\ttrain-mlogloss:1.48084\ttest-mlogloss:1.32726\n",
      "[48]\ttrain-mlogloss:1.47351\ttest-mlogloss:1.31978\n",
      "[49]\ttrain-mlogloss:1.46664\ttest-mlogloss:1.31285\n",
      "[50]\ttrain-mlogloss:1.45987\ttest-mlogloss:1.30603\n",
      "[51]\ttrain-mlogloss:1.45333\ttest-mlogloss:1.29962\n",
      "[52]\ttrain-mlogloss:1.4468\ttest-mlogloss:1.29313\n",
      "[53]\ttrain-mlogloss:1.44041\ttest-mlogloss:1.28674\n",
      "[54]\ttrain-mlogloss:1.43444\ttest-mlogloss:1.28101\n",
      "[55]\ttrain-mlogloss:1.42844\ttest-mlogloss:1.27521\n",
      "[56]\ttrain-mlogloss:1.42265\ttest-mlogloss:1.26962\n",
      "[57]\ttrain-mlogloss:1.41721\ttest-mlogloss:1.26443\n",
      "[58]\ttrain-mlogloss:1.41176\ttest-mlogloss:1.25922\n",
      "[59]\ttrain-mlogloss:1.40671\ttest-mlogloss:1.25432\n",
      "[60]\ttrain-mlogloss:1.40163\ttest-mlogloss:1.2495\n",
      "[61]\ttrain-mlogloss:1.3967\ttest-mlogloss:1.24495\n",
      "[62]\ttrain-mlogloss:1.39188\ttest-mlogloss:1.24043\n",
      "[63]\ttrain-mlogloss:1.38735\ttest-mlogloss:1.2364\n",
      "[64]\ttrain-mlogloss:1.38273\ttest-mlogloss:1.23224\n",
      "[65]\ttrain-mlogloss:1.37861\ttest-mlogloss:1.2284\n",
      "[66]\ttrain-mlogloss:1.37436\ttest-mlogloss:1.22452\n",
      "[67]\ttrain-mlogloss:1.37025\ttest-mlogloss:1.22074\n",
      "[68]\ttrain-mlogloss:1.36606\ttest-mlogloss:1.21697\n",
      "[69]\ttrain-mlogloss:1.3621\ttest-mlogloss:1.21342\n",
      "[70]\ttrain-mlogloss:1.35828\ttest-mlogloss:1.20997\n",
      "[71]\ttrain-mlogloss:1.35485\ttest-mlogloss:1.20688\n",
      "[72]\ttrain-mlogloss:1.35121\ttest-mlogloss:1.20364\n",
      "[73]\ttrain-mlogloss:1.34778\ttest-mlogloss:1.20065\n",
      "[74]\ttrain-mlogloss:1.34422\ttest-mlogloss:1.19782\n",
      "[75]\ttrain-mlogloss:1.34111\ttest-mlogloss:1.19528\n",
      "[76]\ttrain-mlogloss:1.3378\ttest-mlogloss:1.19235\n",
      "[77]\ttrain-mlogloss:1.33454\ttest-mlogloss:1.18954\n",
      "[78]\ttrain-mlogloss:1.3314\ttest-mlogloss:1.18682\n",
      "[79]\ttrain-mlogloss:1.32839\ttest-mlogloss:1.18425\n",
      "[80]\ttrain-mlogloss:1.32534\ttest-mlogloss:1.18173\n",
      "[81]\ttrain-mlogloss:1.32245\ttest-mlogloss:1.17929\n",
      "[82]\ttrain-mlogloss:1.31952\ttest-mlogloss:1.17694\n",
      "[83]\ttrain-mlogloss:1.31681\ttest-mlogloss:1.17464\n",
      "[84]\ttrain-mlogloss:1.31404\ttest-mlogloss:1.17239\n",
      "[85]\ttrain-mlogloss:1.31143\ttest-mlogloss:1.17029\n",
      "[86]\ttrain-mlogloss:1.30888\ttest-mlogloss:1.16841\n",
      "[87]\ttrain-mlogloss:1.30638\ttest-mlogloss:1.16643\n",
      "[88]\ttrain-mlogloss:1.30374\ttest-mlogloss:1.16448\n",
      "[89]\ttrain-mlogloss:1.30141\ttest-mlogloss:1.16268\n",
      "[90]\ttrain-mlogloss:1.29906\ttest-mlogloss:1.16083\n",
      "[91]\ttrain-mlogloss:1.29673\ttest-mlogloss:1.1591\n",
      "[92]\ttrain-mlogloss:1.29446\ttest-mlogloss:1.15742\n",
      "[93]\ttrain-mlogloss:1.29221\ttest-mlogloss:1.1558\n",
      "[94]\ttrain-mlogloss:1.29003\ttest-mlogloss:1.15413\n",
      "[95]\ttrain-mlogloss:1.28783\ttest-mlogloss:1.15253\n",
      "[96]\ttrain-mlogloss:1.28586\ttest-mlogloss:1.15104\n",
      "[97]\ttrain-mlogloss:1.28384\ttest-mlogloss:1.14958\n",
      "[98]\ttrain-mlogloss:1.28182\ttest-mlogloss:1.14805\n",
      "[99]\ttrain-mlogloss:1.27974\ttest-mlogloss:1.14662\n"
     ]
    }
   ],
   "source": [
    "xgb_model = xgb.train(plist, xgb_train, num_rounds, evallist)"
   ]
  },
  {
   "cell_type": "code",
   "execution_count": 91,
   "metadata": {
    "collapsed": true
   },
   "outputs": [],
   "source": [
    "def map7eval(preds, dtrain):\n",
    "    actual = dtrain.get_label()\n",
    "    predicted = preds.argsort(axis=1)[:,-np.arange(1,8)]\n",
    "    metric = 0.\n",
    "    for i in range(7):\n",
    "        metric += np.sum(actual==predicted[:,i])/(i+1)\n",
    "    metric /= actual.shape[0]\n",
    "    return 'MAP@7', metric"
   ]
  },
  {
   "cell_type": "code",
   "execution_count": 84,
   "metadata": {
    "collapsed": true
   },
   "outputs": [],
   "source": [
    "train_preds = xgb_model.predict(xgb_train)"
   ]
  },
  {
   "cell_type": "code",
   "execution_count": 92,
   "metadata": {
    "collapsed": false
   },
   "outputs": [
    {
     "data": {
      "text/plain": [
       "('MAP@7', 0.7103245897712301)"
      ]
     },
     "execution_count": 92,
     "metadata": {},
     "output_type": "execute_result"
    }
   ],
   "source": [
    "map7eval(train_preds, xgb_train)"
   ]
  },
  {
   "cell_type": "code",
   "execution_count": 93,
   "metadata": {
    "collapsed": false
   },
   "outputs": [
    {
     "data": {
      "text/html": [
       "<div>\n",
       "<table border=\"1\" class=\"dataframe\">\n",
       "  <thead>\n",
       "    <tr style=\"text-align: right;\">\n",
       "      <th></th>\n",
       "      <th>test-MAP@7-mean</th>\n",
       "      <th>test-MAP@7-std</th>\n",
       "      <th>train-MAP@7-mean</th>\n",
       "      <th>train-MAP@7-std</th>\n",
       "    </tr>\n",
       "  </thead>\n",
       "  <tbody>\n",
       "    <tr>\n",
       "      <th>0</th>\n",
       "      <td>0.669332</td>\n",
       "      <td>0.002044</td>\n",
       "      <td>0.680815</td>\n",
       "      <td>0.001256</td>\n",
       "    </tr>\n",
       "    <tr>\n",
       "      <th>1</th>\n",
       "      <td>0.675710</td>\n",
       "      <td>0.000481</td>\n",
       "      <td>0.687612</td>\n",
       "      <td>0.001874</td>\n",
       "    </tr>\n",
       "    <tr>\n",
       "      <th>2</th>\n",
       "      <td>0.676099</td>\n",
       "      <td>0.001248</td>\n",
       "      <td>0.688466</td>\n",
       "      <td>0.000582</td>\n",
       "    </tr>\n",
       "    <tr>\n",
       "      <th>3</th>\n",
       "      <td>0.677237</td>\n",
       "      <td>0.001592</td>\n",
       "      <td>0.690113</td>\n",
       "      <td>0.000550</td>\n",
       "    </tr>\n",
       "    <tr>\n",
       "      <th>4</th>\n",
       "      <td>0.677956</td>\n",
       "      <td>0.001428</td>\n",
       "      <td>0.691729</td>\n",
       "      <td>0.000519</td>\n",
       "    </tr>\n",
       "    <tr>\n",
       "      <th>5</th>\n",
       "      <td>0.679512</td>\n",
       "      <td>0.000887</td>\n",
       "      <td>0.693152</td>\n",
       "      <td>0.000724</td>\n",
       "    </tr>\n",
       "    <tr>\n",
       "      <th>6</th>\n",
       "      <td>0.679722</td>\n",
       "      <td>0.001539</td>\n",
       "      <td>0.693466</td>\n",
       "      <td>0.001082</td>\n",
       "    </tr>\n",
       "    <tr>\n",
       "      <th>7</th>\n",
       "      <td>0.679662</td>\n",
       "      <td>0.001692</td>\n",
       "      <td>0.694305</td>\n",
       "      <td>0.000889</td>\n",
       "    </tr>\n",
       "    <tr>\n",
       "      <th>8</th>\n",
       "      <td>0.679902</td>\n",
       "      <td>0.001745</td>\n",
       "      <td>0.694484</td>\n",
       "      <td>0.000749</td>\n",
       "    </tr>\n",
       "    <tr>\n",
       "      <th>9</th>\n",
       "      <td>0.679991</td>\n",
       "      <td>0.001892</td>\n",
       "      <td>0.695293</td>\n",
       "      <td>0.000254</td>\n",
       "    </tr>\n",
       "    <tr>\n",
       "      <th>10</th>\n",
       "      <td>0.679962</td>\n",
       "      <td>0.001914</td>\n",
       "      <td>0.696026</td>\n",
       "      <td>0.000791</td>\n",
       "    </tr>\n",
       "    <tr>\n",
       "      <th>11</th>\n",
       "      <td>0.680351</td>\n",
       "      <td>0.001997</td>\n",
       "      <td>0.696595</td>\n",
       "      <td>0.000899</td>\n",
       "    </tr>\n",
       "    <tr>\n",
       "      <th>12</th>\n",
       "      <td>0.680411</td>\n",
       "      <td>0.001651</td>\n",
       "      <td>0.697269</td>\n",
       "      <td>0.000973</td>\n",
       "    </tr>\n",
       "    <tr>\n",
       "      <th>13</th>\n",
       "      <td>0.680620</td>\n",
       "      <td>0.001577</td>\n",
       "      <td>0.697763</td>\n",
       "      <td>0.000954</td>\n",
       "    </tr>\n",
       "    <tr>\n",
       "      <th>14</th>\n",
       "      <td>0.680770</td>\n",
       "      <td>0.001499</td>\n",
       "      <td>0.698077</td>\n",
       "      <td>0.000733</td>\n",
       "    </tr>\n",
       "    <tr>\n",
       "      <th>15</th>\n",
       "      <td>0.681130</td>\n",
       "      <td>0.001483</td>\n",
       "      <td>0.698407</td>\n",
       "      <td>0.000884</td>\n",
       "    </tr>\n",
       "    <tr>\n",
       "      <th>16</th>\n",
       "      <td>0.681399</td>\n",
       "      <td>0.001317</td>\n",
       "      <td>0.699021</td>\n",
       "      <td>0.000699</td>\n",
       "    </tr>\n",
       "    <tr>\n",
       "      <th>17</th>\n",
       "      <td>0.681369</td>\n",
       "      <td>0.001279</td>\n",
       "      <td>0.699246</td>\n",
       "      <td>0.000643</td>\n",
       "    </tr>\n",
       "    <tr>\n",
       "      <th>18</th>\n",
       "      <td>0.681070</td>\n",
       "      <td>0.001442</td>\n",
       "      <td>0.699844</td>\n",
       "      <td>0.000573</td>\n",
       "    </tr>\n",
       "    <tr>\n",
       "      <th>19</th>\n",
       "      <td>0.681369</td>\n",
       "      <td>0.001465</td>\n",
       "      <td>0.700159</td>\n",
       "      <td>0.000811</td>\n",
       "    </tr>\n",
       "    <tr>\n",
       "      <th>20</th>\n",
       "      <td>0.681519</td>\n",
       "      <td>0.001250</td>\n",
       "      <td>0.700608</td>\n",
       "      <td>0.000644</td>\n",
       "    </tr>\n",
       "    <tr>\n",
       "      <th>21</th>\n",
       "      <td>0.681698</td>\n",
       "      <td>0.001377</td>\n",
       "      <td>0.700668</td>\n",
       "      <td>0.000621</td>\n",
       "    </tr>\n",
       "    <tr>\n",
       "      <th>22</th>\n",
       "      <td>0.681519</td>\n",
       "      <td>0.001504</td>\n",
       "      <td>0.701177</td>\n",
       "      <td>0.000649</td>\n",
       "    </tr>\n",
       "    <tr>\n",
       "      <th>23</th>\n",
       "      <td>0.681549</td>\n",
       "      <td>0.001207</td>\n",
       "      <td>0.701461</td>\n",
       "      <td>0.000501</td>\n",
       "    </tr>\n",
       "    <tr>\n",
       "      <th>24</th>\n",
       "      <td>0.681668</td>\n",
       "      <td>0.001236</td>\n",
       "      <td>0.701836</td>\n",
       "      <td>0.000644</td>\n",
       "    </tr>\n",
       "    <tr>\n",
       "      <th>25</th>\n",
       "      <td>0.681489</td>\n",
       "      <td>0.001317</td>\n",
       "      <td>0.701925</td>\n",
       "      <td>0.000761</td>\n",
       "    </tr>\n",
       "    <tr>\n",
       "      <th>26</th>\n",
       "      <td>0.682028</td>\n",
       "      <td>0.001210</td>\n",
       "      <td>0.702240</td>\n",
       "      <td>0.000624</td>\n",
       "    </tr>\n",
       "    <tr>\n",
       "      <th>27</th>\n",
       "      <td>0.681938</td>\n",
       "      <td>0.001069</td>\n",
       "      <td>0.702689</td>\n",
       "      <td>0.000642</td>\n",
       "    </tr>\n",
       "    <tr>\n",
       "      <th>28</th>\n",
       "      <td>0.681848</td>\n",
       "      <td>0.001165</td>\n",
       "      <td>0.702869</td>\n",
       "      <td>0.000748</td>\n",
       "    </tr>\n",
       "    <tr>\n",
       "      <th>29</th>\n",
       "      <td>0.682028</td>\n",
       "      <td>0.001292</td>\n",
       "      <td>0.703333</td>\n",
       "      <td>0.000855</td>\n",
       "    </tr>\n",
       "  </tbody>\n",
       "</table>\n",
       "</div>"
      ],
      "text/plain": [
       "    test-MAP@7-mean  test-MAP@7-std  train-MAP@7-mean  train-MAP@7-std\n",
       "0          0.669332        0.002044          0.680815         0.001256\n",
       "1          0.675710        0.000481          0.687612         0.001874\n",
       "2          0.676099        0.001248          0.688466         0.000582\n",
       "3          0.677237        0.001592          0.690113         0.000550\n",
       "4          0.677956        0.001428          0.691729         0.000519\n",
       "5          0.679512        0.000887          0.693152         0.000724\n",
       "6          0.679722        0.001539          0.693466         0.001082\n",
       "7          0.679662        0.001692          0.694305         0.000889\n",
       "8          0.679902        0.001745          0.694484         0.000749\n",
       "9          0.679991        0.001892          0.695293         0.000254\n",
       "10         0.679962        0.001914          0.696026         0.000791\n",
       "11         0.680351        0.001997          0.696595         0.000899\n",
       "12         0.680411        0.001651          0.697269         0.000973\n",
       "13         0.680620        0.001577          0.697763         0.000954\n",
       "14         0.680770        0.001499          0.698077         0.000733\n",
       "15         0.681130        0.001483          0.698407         0.000884\n",
       "16         0.681399        0.001317          0.699021         0.000699\n",
       "17         0.681369        0.001279          0.699246         0.000643\n",
       "18         0.681070        0.001442          0.699844         0.000573\n",
       "19         0.681369        0.001465          0.700159         0.000811\n",
       "20         0.681519        0.001250          0.700608         0.000644\n",
       "21         0.681698        0.001377          0.700668         0.000621\n",
       "22         0.681519        0.001504          0.701177         0.000649\n",
       "23         0.681549        0.001207          0.701461         0.000501\n",
       "24         0.681668        0.001236          0.701836         0.000644\n",
       "25         0.681489        0.001317          0.701925         0.000761\n",
       "26         0.682028        0.001210          0.702240         0.000624\n",
       "27         0.681938        0.001069          0.702689         0.000642\n",
       "28         0.681848        0.001165          0.702869         0.000748\n",
       "29         0.682028        0.001292          0.703333         0.000855"
      ]
     },
     "execution_count": 93,
     "metadata": {},
     "output_type": "execute_result"
    }
   ],
   "source": [
    "xgb.cv(param, xgb_train, num_boost_round=30, feval=map7eval, maximize=True)"
   ]
  },
  {
   "cell_type": "code",
   "execution_count": 102,
   "metadata": {
    "collapsed": false
   },
   "outputs": [
    {
     "name": "stdout",
     "output_type": "stream",
     "text": [
      "[0]\ttrain-MAP@7:0.681549\ttest-MAP@7:0.756019\n",
      "[1]\ttrain-MAP@7:0.680291\ttest-MAP@7:0.75506\n",
      "[2]\ttrain-MAP@7:0.685471\ttest-MAP@7:0.756498\n",
      "[3]\ttrain-MAP@7:0.687238\ttest-MAP@7:0.759133\n",
      "[4]\ttrain-MAP@7:0.689095\ttest-MAP@7:0.757696\n",
      "[5]\ttrain-MAP@7:0.690202\ttest-MAP@7:0.758414\n",
      "[6]\ttrain-MAP@7:0.690442\ttest-MAP@7:0.759372\n",
      "[7]\ttrain-MAP@7:0.690682\ttest-MAP@7:0.760091\n",
      "[8]\ttrain-MAP@7:0.691101\ttest-MAP@7:0.760091\n",
      "[9]\ttrain-MAP@7:0.692089\ttest-MAP@7:0.76045\n"
     ]
    }
   ],
   "source": [
    "xgb_model_sample = xgb.train(plist, xgb_train, 10, evallist, feval=map7eval)"
   ]
  },
  {
   "cell_type": "code",
   "execution_count": 121,
   "metadata": {
    "collapsed": false
   },
   "outputs": [],
   "source": [
    "orig_params = {'colsample_bytree': 0.6,\n",
    "                'eta': 0.1,\n",
    "                'gamma': 0.4,\n",
    "                'max_delta_step': 7,\n",
    "                'max_depth': 4,\n",
    "                'min_child_weight': 1,\n",
    "                'nthread': 4,\n",
    "                'objective': 'multi:softprob',\n",
    "                'scale_pos_weight': 0,\n",
    "                'subsample': 0.75,\n",
    "                'silent': 1\n",
    "            }\n",
    "\n",
    "tup = lambda t: list(itertools.izip(itertools.repeat(t[0]), t[1]))\n",
    "\n",
    "def get_list_of_params(params_range):\n",
    "    pr = list(map(tup, params_range.items()))\n",
    "    pro = map(dict, list(itertools.product(*pr)))\n",
    "    return pro\n",
    "\n",
    "\n",
    "def grid_search_xgb(params_range_dict):\n",
    "    grid_params_list = get_list_of_params(params_range_dict)\n",
    "    p = Pool(2)\n",
    "    maps = map(get_map_of_xgb, grid_params_list)\n",
    "    p.close()\n",
    "    p.join()\n",
    "    sorted_maps = sorted(maps, cmp = lambda x, y: cmp(x['map'], y['map']), reverse = True)\n",
    "    print \"top map results\", sorted_maps[:3]\n",
    "    return sorted_maps\n",
    "\n",
    "def get_map_of_xgb(grid_param):\n",
    "    cv_params = dict(orig_params)\n",
    "    num_class = {'num_class': len(label_encoder.classes_)}\n",
    "    cv_params.update(num_class)\n",
    "    cv_params.update(grid_param)\n",
    "    # print orig_params, grid_param\n",
    "    temp_cv = xgb.cv(cv_params, xgb_main, num_boost_round = 20, stratified=True,\n",
    "             early_stopping_rounds = 20, feval = map7eval, maximize = True)\n",
    "    temp_map = temp_cv['test-MAP@7-mean'][temp_cv.shape[0]-1]\n",
    "    grid_param['map'] = temp_map\n",
    "    # print \"cv results\", grid_param\n",
    "    return grid_param\n",
    "\n",
    "param_range1 = {\n",
    "    'max_depth': range(2, 7, 2),\n",
    "    'min_child_weight': range(1, 7, 2)\n",
    "}\n",
    "param_range2 = {\n",
    "    'gamma': [i/10.0 for i in range(0, 6)],\n",
    "    'colsample_bylevel': [i/10.0 for i in range(5, 10)]\n",
    "}\n",
    "param_range3 = {\n",
    "    'max_delta_step': range(3, 10, 2)\n",
    "}\n",
    "param_range4 = {\n",
    "    'subsample': [i/100.0 for i in range(80, 100, 5)],\n",
    "    'colsample_bytree': [i/100.0 for i in range(80, 100, 5)]\n",
    "}"
   ]
  },
  {
   "cell_type": "code",
   "execution_count": 124,
   "metadata": {
    "collapsed": false
   },
   "outputs": [
    {
     "name": "stdout",
     "output_type": "stream",
     "text": [
      "top map results [{'map': 0.69603499999999985, 'max_depth': 4, 'min_child_weight': 1}, {'map': 0.69601100000000005, 'max_depth': 4, 'min_child_weight': 3}, {'map': 0.69577133333333341, 'max_depth': 4, 'min_child_weight': 5}]\n",
      "top map results [{'map': 0.69627466666666671, 'gamma': 0.4, 'colsample_bylevel': 0.9}, {'map': 0.69617866666666683, 'gamma': 0.0, 'colsample_bylevel': 0.9}, {'map': 0.69617866666666683, 'gamma': 0.2, 'colsample_bylevel': 0.9}]\n",
      "top map results [{'map': 0.69627466666666671, 'max_delta_step': 7}, {'map': 0.69605899999999998, 'max_delta_step': 10}, {'map': 0.69605899999999998, 'max_delta_step': 11}]\n",
      "top map results [{'subsample': 0.95, 'colsample_bytree': 0.95, 'map': 0.69934099999999999}, {'subsample': 0.9, 'colsample_bytree': 0.95, 'map': 0.69919733333333323}, {'subsample': 0.7, 'colsample_bytree': 0.9, 'map': 0.69917300000000004}]\n"
     ]
    }
   ],
   "source": [
    "\n",
    "\n",
    "for param_range in [param_range1, param_range2, param_range3, param_range4]:\n",
    "    result = None\n",
    "    try:\n",
    "        result = grid_search_xgb(param_range)\n",
    "    except Exception, e:\n",
    "        print e\n",
    "        print traceback.format_exc()\n",
    "\n",
    "    if result != None:\n",
    "        temp_param = result[0]\n",
    "        del(temp_param['map'])\n",
    "        orig_params.update(temp_param)\n",
    "        \n"
   ]
  },
  {
   "cell_type": "code",
   "execution_count": 128,
   "metadata": {
    "collapsed": false
   },
   "outputs": [
    {
     "data": {
      "text/plain": [
       "{'colsample_bylevel': 0.9,\n",
       " 'colsample_bytree': 0.95,\n",
       " 'eta': 0.1,\n",
       " 'gamma': 0.4,\n",
       " 'max_delta_step': 7,\n",
       " 'max_depth': 4,\n",
       " 'min_child_weight': 1,\n",
       " 'nthread': 4,\n",
       " 'num_class': 22,\n",
       " 'objective': 'multi:softprob',\n",
       " 'scale_pos_weight': 0,\n",
       " 'silent': 1,\n",
       " 'subsample': 0.95}"
      ]
     },
     "execution_count": 128,
     "metadata": {},
     "output_type": "execute_result"
    }
   ],
   "source": [
    "orig_params['num_class'] = len(label_encoder.classes_)\n",
    "orig_params"
   ]
  },
  {
   "cell_type": "code",
   "execution_count": 129,
   "metadata": {
    "collapsed": true
   },
   "outputs": [
    {
     "name": "stdout",
     "output_type": "stream",
     "text": [
      "[0]\ttrain-MAP@7:0.67565\ttest-MAP@7:0.76596\n",
      "[1]\ttrain-MAP@7:0.67538\ttest-MAP@7:0.769793\n",
      "[2]\ttrain-MAP@7:0.678105\ttest-MAP@7:0.771829\n",
      "[3]\ttrain-MAP@7:0.679273\ttest-MAP@7:0.772667\n",
      "[4]\ttrain-MAP@7:0.679872\ttest-MAP@7:0.772188\n",
      "[5]\ttrain-MAP@7:0.680351\ttest-MAP@7:0.772907\n",
      "[6]\ttrain-MAP@7:0.680381\ttest-MAP@7:0.772787\n",
      "[7]\ttrain-MAP@7:0.68092\ttest-MAP@7:0.773626\n",
      "[8]\ttrain-MAP@7:0.68089\ttest-MAP@7:0.773386\n",
      "[9]\ttrain-MAP@7:0.681429\ttest-MAP@7:0.773386\n",
      "[10]\ttrain-MAP@7:0.681639\ttest-MAP@7:0.774105\n",
      "[11]\ttrain-MAP@7:0.682088\ttest-MAP@7:0.773985\n",
      "[12]\ttrain-MAP@7:0.682387\ttest-MAP@7:0.774344\n",
      "[13]\ttrain-MAP@7:0.682986\ttest-MAP@7:0.774344\n",
      "[14]\ttrain-MAP@7:0.683016\ttest-MAP@7:0.774464\n",
      "[15]\ttrain-MAP@7:0.683166\ttest-MAP@7:0.774584\n",
      "[16]\ttrain-MAP@7:0.683375\ttest-MAP@7:0.774823\n",
      "[17]\ttrain-MAP@7:0.683555\ttest-MAP@7:0.775063\n",
      "[18]\ttrain-MAP@7:0.683735\ttest-MAP@7:0.774823\n",
      "[19]\ttrain-MAP@7:0.684064\ttest-MAP@7:0.774823\n",
      "[20]\ttrain-MAP@7:0.684453\ttest-MAP@7:0.774344\n",
      "[21]\ttrain-MAP@7:0.684633\ttest-MAP@7:0.773626\n",
      "[22]\ttrain-MAP@7:0.684723\ttest-MAP@7:0.773985\n",
      "[23]\ttrain-MAP@7:0.684902\ttest-MAP@7:0.774464\n",
      "[24]\ttrain-MAP@7:0.685381\ttest-MAP@7:0.773985\n",
      "[25]\ttrain-MAP@7:0.685411\ttest-MAP@7:0.774704\n",
      "[26]\ttrain-MAP@7:0.685681\ttest-MAP@7:0.774943\n",
      "[27]\ttrain-MAP@7:0.685801\ttest-MAP@7:0.774823\n",
      "[28]\ttrain-MAP@7:0.68604\ttest-MAP@7:0.775302\n",
      "[29]\ttrain-MAP@7:0.6861\ttest-MAP@7:0.775183\n",
      "[30]\ttrain-MAP@7:0.686669\ttest-MAP@7:0.774943\n",
      "[31]\ttrain-MAP@7:0.686819\ttest-MAP@7:0.775063\n",
      "[32]\ttrain-MAP@7:0.687178\ttest-MAP@7:0.774943\n",
      "[33]\ttrain-MAP@7:0.687507\ttest-MAP@7:0.775183\n",
      "[34]\ttrain-MAP@7:0.687657\ttest-MAP@7:0.775302\n",
      "[35]\ttrain-MAP@7:0.687897\ttest-MAP@7:0.775183\n",
      "[36]\ttrain-MAP@7:0.688017\ttest-MAP@7:0.775302\n",
      "[37]\ttrain-MAP@7:0.688256\ttest-MAP@7:0.775063\n",
      "[38]\ttrain-MAP@7:0.688466\ttest-MAP@7:0.775063\n",
      "[39]\ttrain-MAP@7:0.688526\ttest-MAP@7:0.775422\n",
      "[40]\ttrain-MAP@7:0.688585\ttest-MAP@7:0.775183\n",
      "[41]\ttrain-MAP@7:0.688675\ttest-MAP@7:0.775542\n",
      "[42]\ttrain-MAP@7:0.689035\ttest-MAP@7:0.775782\n",
      "[43]\ttrain-MAP@7:0.689065\ttest-MAP@7:0.775901\n",
      "[44]\ttrain-MAP@7:0.689124\ttest-MAP@7:0.775901\n",
      "[45]\ttrain-MAP@7:0.689364\ttest-MAP@7:0.776021\n",
      "[46]\ttrain-MAP@7:0.689693\ttest-MAP@7:0.776021\n",
      "[47]\ttrain-MAP@7:0.689873\ttest-MAP@7:0.77662\n",
      "[48]\ttrain-MAP@7:0.690202\ttest-MAP@7:0.77662\n",
      "[49]\ttrain-MAP@7:0.690442\ttest-MAP@7:0.77662\n",
      "[50]\ttrain-MAP@7:0.690592\ttest-MAP@7:0.77674\n",
      "[51]\ttrain-MAP@7:0.690711\ttest-MAP@7:0.776979\n",
      "[52]\ttrain-MAP@7:0.690801\ttest-MAP@7:0.77686\n",
      "[53]\ttrain-MAP@7:0.690981\ttest-MAP@7:0.77674\n",
      "[54]\ttrain-MAP@7:0.691191\ttest-MAP@7:0.77686\n",
      "[55]\ttrain-MAP@7:0.69134\ttest-MAP@7:0.77686\n",
      "[56]\ttrain-MAP@7:0.69149\ttest-MAP@7:0.77674\n",
      "[57]\ttrain-MAP@7:0.69164\ttest-MAP@7:0.77674\n",
      "[58]\ttrain-MAP@7:0.691909\ttest-MAP@7:0.77662\n",
      "[59]\ttrain-MAP@7:0.692059\ttest-MAP@7:0.77686\n",
      "[60]\ttrain-MAP@7:0.692298\ttest-MAP@7:0.77686\n",
      "[61]\ttrain-MAP@7:0.692298\ttest-MAP@7:0.77686\n",
      "[62]\ttrain-MAP@7:0.692568\ttest-MAP@7:0.77674\n",
      "[63]\ttrain-MAP@7:0.692568\ttest-MAP@7:0.777219\n",
      "[64]\ttrain-MAP@7:0.692688\ttest-MAP@7:0.776979\n",
      "[65]\ttrain-MAP@7:0.692748\ttest-MAP@7:0.77662\n",
      "[66]\ttrain-MAP@7:0.692957\ttest-MAP@7:0.77662\n",
      "[67]\ttrain-MAP@7:0.693107\ttest-MAP@7:0.7765\n",
      "[68]\ttrain-MAP@7:0.693167\ttest-MAP@7:0.777099\n",
      "[69]\ttrain-MAP@7:0.693167\ttest-MAP@7:0.77686\n",
      "[70]\ttrain-MAP@7:0.693466\ttest-MAP@7:0.77674\n",
      "[71]\ttrain-MAP@7:0.693706\ttest-MAP@7:0.77674\n",
      "[72]\ttrain-MAP@7:0.693856\ttest-MAP@7:0.776261\n",
      "[73]\ttrain-MAP@7:0.693945\ttest-MAP@7:0.7765\n",
      "[74]\ttrain-MAP@7:0.694035\ttest-MAP@7:0.77686\n",
      "[75]\ttrain-MAP@7:0.694155\ttest-MAP@7:0.77662\n",
      "[76]\ttrain-MAP@7:0.694544\ttest-MAP@7:0.776979\n",
      "[77]\ttrain-MAP@7:0.694514\ttest-MAP@7:0.7765\n",
      "[78]\ttrain-MAP@7:0.694694\ttest-MAP@7:0.77674\n",
      "[79]\ttrain-MAP@7:0.694574\ttest-MAP@7:0.77686\n",
      "[80]\ttrain-MAP@7:0.694694\ttest-MAP@7:0.777219\n",
      "[81]\ttrain-MAP@7:0.694874\ttest-MAP@7:0.777339\n",
      "[82]\ttrain-MAP@7:0.695023\ttest-MAP@7:0.777339\n",
      "[83]\ttrain-MAP@7:0.695143\ttest-MAP@7:0.777578\n",
      "[84]\ttrain-MAP@7:0.695353\ttest-MAP@7:0.777578\n",
      "[85]\ttrain-MAP@7:0.695353\ttest-MAP@7:0.777937\n",
      "[86]\ttrain-MAP@7:0.695383\ttest-MAP@7:0.777698\n",
      "[87]\ttrain-MAP@7:0.695502\ttest-MAP@7:0.777818\n",
      "[88]\ttrain-MAP@7:0.695742\ttest-MAP@7:0.777698\n",
      "[89]\ttrain-MAP@7:0.695952\ttest-MAP@7:0.777698\n",
      "[90]\ttrain-MAP@7:0.696131\ttest-MAP@7:0.777698\n",
      "[91]\ttrain-MAP@7:0.696161\ttest-MAP@7:0.777818\n",
      "[92]\ttrain-MAP@7:0.696281\ttest-MAP@7:0.777698\n",
      "[93]\ttrain-MAP@7:0.696371\ttest-MAP@7:0.777578\n",
      "[94]\ttrain-MAP@7:0.696401\ttest-MAP@7:0.778177\n",
      "[95]\ttrain-MAP@7:0.69658\ttest-MAP@7:0.778057\n",
      "[96]\ttrain-MAP@7:0.6967\ttest-MAP@7:0.777818\n",
      "[97]\ttrain-MAP@7:0.6967\ttest-MAP@7:0.778297\n",
      "[98]\ttrain-MAP@7:0.69685\ttest-MAP@7:0.778177\n",
      "[99]\ttrain-MAP@7:0.69706\ttest-MAP@7:0.777698\n",
      "[100]\ttrain-MAP@7:0.697149\ttest-MAP@7:0.777937\n",
      "[101]\ttrain-MAP@7:0.697359\ttest-MAP@7:0.777818\n",
      "[102]\ttrain-MAP@7:0.697569\ttest-MAP@7:0.777698\n",
      "[103]\ttrain-MAP@7:0.697658\ttest-MAP@7:0.778536\n",
      "[104]\ttrain-MAP@7:0.697778\ttest-MAP@7:0.778057\n",
      "[105]\ttrain-MAP@7:0.697868\ttest-MAP@7:0.778177\n",
      "[106]\ttrain-MAP@7:0.698078\ttest-MAP@7:0.777937\n",
      "[107]\ttrain-MAP@7:0.698257\ttest-MAP@7:0.778177\n",
      "[108]\ttrain-MAP@7:0.698437\ttest-MAP@7:0.778177\n",
      "[109]\ttrain-MAP@7:0.698587\ttest-MAP@7:0.778057\n",
      "[110]\ttrain-MAP@7:0.698766\ttest-MAP@7:0.778177\n",
      "[111]\ttrain-MAP@7:0.698976\ttest-MAP@7:0.778177\n",
      "[112]\ttrain-MAP@7:0.698976\ttest-MAP@7:0.778057\n",
      "[113]\ttrain-MAP@7:0.699066\ttest-MAP@7:0.778297\n",
      "[114]\ttrain-MAP@7:0.699096\ttest-MAP@7:0.777818\n",
      "[115]\ttrain-MAP@7:0.699365\ttest-MAP@7:0.778057\n",
      "[116]\ttrain-MAP@7:0.699425\ttest-MAP@7:0.778177\n",
      "[117]\ttrain-MAP@7:0.699485\ttest-MAP@7:0.778297\n",
      "[118]\ttrain-MAP@7:0.699575\ttest-MAP@7:0.778177\n",
      "[119]\ttrain-MAP@7:0.699844\ttest-MAP@7:0.778536\n",
      "[120]\ttrain-MAP@7:0.699844\ttest-MAP@7:0.778417\n",
      "[121]\ttrain-MAP@7:0.699904\ttest-MAP@7:0.778536\n",
      "[122]\ttrain-MAP@7:0.700024\ttest-MAP@7:0.778776\n",
      "[123]\ttrain-MAP@7:0.700293\ttest-MAP@7:0.778297\n",
      "[124]\ttrain-MAP@7:0.700323\ttest-MAP@7:0.778297\n",
      "[125]\ttrain-MAP@7:0.700503\ttest-MAP@7:0.778536\n",
      "[126]\ttrain-MAP@7:0.700623\ttest-MAP@7:0.778656\n",
      "[127]\ttrain-MAP@7:0.700773\ttest-MAP@7:0.778297\n",
      "[128]\ttrain-MAP@7:0.700832\ttest-MAP@7:0.778536\n",
      "[129]\ttrain-MAP@7:0.701012\ttest-MAP@7:0.778656\n",
      "[130]\ttrain-MAP@7:0.701012\ttest-MAP@7:0.778656\n",
      "[131]\ttrain-MAP@7:0.701252\ttest-MAP@7:0.778776\n",
      "[132]\ttrain-MAP@7:0.701521\ttest-MAP@7:0.778776\n",
      "[133]\ttrain-MAP@7:0.701551\ttest-MAP@7:0.778536\n",
      "[134]\ttrain-MAP@7:0.701611\ttest-MAP@7:0.778776\n",
      "[135]\ttrain-MAP@7:0.701641\ttest-MAP@7:0.778536\n",
      "[136]\ttrain-MAP@7:0.701701\ttest-MAP@7:0.778297\n",
      "[137]\ttrain-MAP@7:0.702\ttest-MAP@7:0.778297\n",
      "[138]\ttrain-MAP@7:0.70206\ttest-MAP@7:0.778177\n",
      "[139]\ttrain-MAP@7:0.70224\ttest-MAP@7:0.778057\n",
      "[140]\ttrain-MAP@7:0.70227\ttest-MAP@7:0.778057\n",
      "[141]\ttrain-MAP@7:0.702509\ttest-MAP@7:0.778417\n",
      "[142]\ttrain-MAP@7:0.702599\ttest-MAP@7:0.778417\n",
      "[143]\ttrain-MAP@7:0.702599\ttest-MAP@7:0.778536\n",
      "[144]\ttrain-MAP@7:0.702839\ttest-MAP@7:0.778536\n",
      "[145]\ttrain-MAP@7:0.702928\ttest-MAP@7:0.779375\n",
      "[146]\ttrain-MAP@7:0.703138\ttest-MAP@7:0.779255\n",
      "[147]\ttrain-MAP@7:0.703198\ttest-MAP@7:0.779135\n",
      "[148]\ttrain-MAP@7:0.703408\ttest-MAP@7:0.779255\n",
      "[149]\ttrain-MAP@7:0.703587\ttest-MAP@7:0.779255\n",
      "[150]\ttrain-MAP@7:0.703707\ttest-MAP@7:0.779255\n",
      "[151]\ttrain-MAP@7:0.703737\ttest-MAP@7:0.779495\n",
      "[152]\ttrain-MAP@7:0.703767\ttest-MAP@7:0.779854\n",
      "[153]\ttrain-MAP@7:0.704006\ttest-MAP@7:0.779974\n",
      "[154]\ttrain-MAP@7:0.704186\ttest-MAP@7:0.779974\n",
      "[155]\ttrain-MAP@7:0.704096\ttest-MAP@7:0.780213\n",
      "[156]\ttrain-MAP@7:0.704156\ttest-MAP@7:0.780093\n",
      "[157]\ttrain-MAP@7:0.704366\ttest-MAP@7:0.780213\n",
      "[158]\ttrain-MAP@7:0.704486\ttest-MAP@7:0.780333\n",
      "[159]\ttrain-MAP@7:0.704575\ttest-MAP@7:0.780093\n",
      "[160]\ttrain-MAP@7:0.704665\ttest-MAP@7:0.780093\n",
      "[161]\ttrain-MAP@7:0.704845\ttest-MAP@7:0.779974\n",
      "[162]\ttrain-MAP@7:0.704905\ttest-MAP@7:0.779734\n",
      "[163]\ttrain-MAP@7:0.704995\ttest-MAP@7:0.779614\n",
      "[164]\ttrain-MAP@7:0.705025\ttest-MAP@7:0.779734\n",
      "[165]\ttrain-MAP@7:0.705174\ttest-MAP@7:0.779614\n",
      "[166]\ttrain-MAP@7:0.705414\ttest-MAP@7:0.779495\n",
      "[167]\ttrain-MAP@7:0.705504\ttest-MAP@7:0.779734\n",
      "[168]\ttrain-MAP@7:0.705564\ttest-MAP@7:0.780093\n",
      "[169]\ttrain-MAP@7:0.705683\ttest-MAP@7:0.780333\n",
      "[170]\ttrain-MAP@7:0.705773\ttest-MAP@7:0.780453\n",
      "[171]\ttrain-MAP@7:0.705833\ttest-MAP@7:0.780812\n",
      "[172]\ttrain-MAP@7:0.705893\ttest-MAP@7:0.780333\n",
      "[173]\ttrain-MAP@7:0.705983\ttest-MAP@7:0.780093\n",
      "[174]\ttrain-MAP@7:0.706073\ttest-MAP@7:0.779974\n",
      "[175]\ttrain-MAP@7:0.706132\ttest-MAP@7:0.779974\n",
      "[176]\ttrain-MAP@7:0.706282\ttest-MAP@7:0.779854\n",
      "[177]\ttrain-MAP@7:0.706372\ttest-MAP@7:0.779974\n",
      "[178]\ttrain-MAP@7:0.706731\ttest-MAP@7:0.779734\n",
      "[179]\ttrain-MAP@7:0.706821\ttest-MAP@7:0.779854\n",
      "[180]\ttrain-MAP@7:0.706791\ttest-MAP@7:0.779974\n",
      "[181]\ttrain-MAP@7:0.706821\ttest-MAP@7:0.780213\n",
      "[182]\ttrain-MAP@7:0.707091\ttest-MAP@7:0.779854\n",
      "[183]\ttrain-MAP@7:0.70727\ttest-MAP@7:0.779854\n",
      "[184]\ttrain-MAP@7:0.70739\ttest-MAP@7:0.779734\n",
      "[185]\ttrain-MAP@7:0.70751\ttest-MAP@7:0.779614\n",
      "[186]\ttrain-MAP@7:0.70757\ttest-MAP@7:0.779734\n",
      "[187]\ttrain-MAP@7:0.70769\ttest-MAP@7:0.779375\n",
      "[188]\ttrain-MAP@7:0.70769\ttest-MAP@7:0.779614\n",
      "[189]\ttrain-MAP@7:0.707869\ttest-MAP@7:0.779974\n",
      "[190]\ttrain-MAP@7:0.707959\ttest-MAP@7:0.779734\n",
      "[191]\ttrain-MAP@7:0.708169\ttest-MAP@7:0.779734\n",
      "[192]\ttrain-MAP@7:0.708318\ttest-MAP@7:0.779854\n",
      "[193]\ttrain-MAP@7:0.708408\ttest-MAP@7:0.780093\n",
      "[194]\ttrain-MAP@7:0.708408\ttest-MAP@7:0.780333\n",
      "[195]\ttrain-MAP@7:0.708558\ttest-MAP@7:0.780213\n",
      "[196]\ttrain-MAP@7:0.708588\ttest-MAP@7:0.780213\n",
      "[197]\ttrain-MAP@7:0.708618\ttest-MAP@7:0.780093\n",
      "[198]\ttrain-MAP@7:0.708708\ttest-MAP@7:0.780093\n",
      "[199]\ttrain-MAP@7:0.708768\ttest-MAP@7:0.780333\n"
     ]
    }
   ],
   "source": [
    "xgb_model = xgb.train(orig_params, xgb_main, 200, evallist, feval=map7eval)"
   ]
  },
  {
   "cell_type": "code",
   "execution_count": 131,
   "metadata": {
    "collapsed": false
   },
   "outputs": [
    {
     "name": "stderr",
     "output_type": "stream",
     "text": [
      "100%|██████████| 931453/931453 [11:56<00:00, 1300.61it/s]\n"
     ]
    }
   ],
   "source": [
    "final_test = xgb.DMatrix(test)\n",
    "preds = xgb_model.predict(final_test)\n",
    "top_t_products = label_encoder.inverse_transform(np.argsort(preds, axis=1)\n",
    "                                                 [:, ::-1][:, :])\n",
    "\n",
    "test['xgb_preds'] = [' '.join(x) for x in top_t_products]\n",
    "test['added_products'] = ['ind_recibo_ult1']*test.shape[0]\n",
    "for i in tqdm(test.index):\n",
    "    zipped = zip(HEADER[24:],\n",
    "                 test.loc[i, 'ind_ahor_fin_ult1':'ind_recibo_ult1'])\n",
    "    products = [x[0] for x in\n",
    "                [y for y in zipped if y[1] == 1]]\n",
    "    pred_products = test.loc[i, 'xgb_preds'].split()\n",
    "    prod_string = ' '.join(filter(lambda x: x not in products, pred_products))\n",
    "    test.set_value(i, 'added_products', prod_string)"
   ]
  },
  {
   "cell_type": "code",
   "execution_count": 134,
   "metadata": {
    "collapsed": false
   },
   "outputs": [
    {
     "name": "stdout",
     "output_type": "stream",
     "text": [
      "Compressing file\n",
      "Compression done\n",
      "Uploading submission data/submissions/5.xgb_trained_on_jun_2015_only_added_users_cv_params_tuning.csv.zip\n",
      "Upload done\n"
     ]
    }
   ],
   "source": [
    "submission = pd.read_csv('data/test_ver2.csv', usecols=[1])\n",
    "submission['added_products'] = ['ind_recibo_ult1']*submission.shape[0]\n",
    "submission.set_index('ncodpers', inplace=True)\n",
    "submission.added_products = test.loc[submission.index, 'added_products']\n",
    "\n",
    "filename = 'data/submissions/5.xgb_trained_on_jun_2015_only_added_users_cv_params_tuning.csv'\n",
    "description = 'xgb model trained on june 2015 on added products and tuned cv params:\\n' + str(orig_params)\n",
    "submission.to_csv(filename, columns=['added_products'])\n",
    "make_submission(filename, description=description, submit=True, compress=True)"
   ]
  },
  {
   "cell_type": "code",
   "execution_count": 136,
   "metadata": {
    "collapsed": false
   },
   "outputs": [
    {
     "data": {
      "text/plain": [
       "<matplotlib.axes._subplots.AxesSubplot at 0x12383cb10>"
      ]
     },
     "execution_count": 136,
     "metadata": {},
     "output_type": "execute_result"
    },
    {
     "data": {
      "image/png": "[encoded data removed]",
      "text/plain": [
       "<matplotlib.figure.Figure at 0x11cfdef10>"
      ]
     },
     "metadata": {},
     "output_type": "display_data"
    }
   ],
   "source": [
    "xgb.plot_importance(xgb_model)"
   ]
  },
  {
   "cell_type": "code",
   "execution_count": 138,
   "metadata": {
    "collapsed": false
   },
   "outputs": [
    {
     "data": {
      "text/plain": [
       "1587"
      ]
     },
     "execution_count": 138,
     "metadata": {},
     "output_type": "execute_result"
    }
   ],
   "source": [
    "gc.collect()"
   ]
  },
  {
   "cell_type": "code",
   "execution_count": null,
   "metadata": {
    "collapsed": true
   },
   "outputs": [],
   "source": []
  }
 ],
 "metadata": {
  "kernelspec": {
   "display_name": "Python 2",
   "language": "python",
   "name": "python2"
  },
  "language_info": {
   "codemirror_mode": {
    "name": "ipython",
    "version": 2
   },
   "file_extension": ".py",
   "mimetype": "text/x-python",
   "name": "python",
   "nbconvert_exporter": "python",
   "pygments_lexer": "ipython2",
   "version": "2.7.12"
  }
 },
 "nbformat": 4,
 "nbformat_minor": 0
}
