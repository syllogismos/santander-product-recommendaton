{
 "cells": [
  {
   "cell_type": "code",
   "execution_count": 1,
   "metadata": {
    "collapsed": false
   },
   "outputs": [
    {
     "name": "stdout",
     "output_type": "stream",
     "text": [
      "Populating the interactive namespace from numpy and matplotlib\n"
     ]
    }
   ],
   "source": [
    "import numpy as np\n",
    "import pandas as pd\n",
    "import seaborn as sns\n",
    "import matplotlib.pyplot as plt\n",
    "%pylab inline\n",
    "pylab.rcParams['figure.figsize'] = (10, 6)"
   ]
  },
  {
   "cell_type": "code",
   "execution_count": 2,
   "metadata": {
    "collapsed": false
   },
   "outputs": [
    {
     "name": "stderr",
     "output_type": "stream",
     "text": [
      "/usr/local/lib/python2.7/site-packages/IPython/core/interactiveshell.py:2705: DtypeWarning: Columns (5,8,11) have mixed types. Specify dtype option on import or set low_memory=False.\n",
      "  interactivity=interactivity, compiler=compiler, result=result)\n",
      "/usr/local/lib/python2.7/site-packages/pandas/core/generic.py:2572: VisibleDeprecationWarning: using a non-integer number instead of an integer will result in an error in the future\n",
      "  locs = rs.choice(axis_length, size=n, replace=replace, p=weights)\n",
      "/usr/local/lib/python2.7/site-packages/numpy/lib/function_base.py:3834: RuntimeWarning: Invalid value encountered in percentile\n",
      "  RuntimeWarning)\n"
     ]
    },
    {
     "data": {
      "text/html": [
       "<div>\n",
       "<table border=\"1\" class=\"dataframe\">\n",
       "  <thead>\n",
       "    <tr style=\"text-align: right;\">\n",
       "      <th></th>\n",
       "      <th>ncodpers</th>\n",
       "      <th>indrel</th>\n",
       "      <th>tipodom</th>\n",
       "      <th>cod_prov</th>\n",
       "      <th>ind_actividad_cliente</th>\n",
       "      <th>renta</th>\n",
       "      <th>ind_ahor_fin_ult1</th>\n",
       "      <th>ind_aval_fin_ult1</th>\n",
       "      <th>ind_cco_fin_ult1</th>\n",
       "      <th>ind_cder_fin_ult1</th>\n",
       "      <th>...</th>\n",
       "      <th>ind_hip_fin_ult1</th>\n",
       "      <th>ind_plan_fin_ult1</th>\n",
       "      <th>ind_pres_fin_ult1</th>\n",
       "      <th>ind_reca_fin_ult1</th>\n",
       "      <th>ind_tjcr_fin_ult1</th>\n",
       "      <th>ind_valo_fin_ult1</th>\n",
       "      <th>ind_viv_fin_ult1</th>\n",
       "      <th>ind_nomina_ult1</th>\n",
       "      <th>ind_nom_pens_ult1</th>\n",
       "      <th>ind_recibo_ult1</th>\n",
       "    </tr>\n",
       "  </thead>\n",
       "  <tbody>\n",
       "    <tr>\n",
       "      <th>count</th>\n",
       "      <td>183238.000000</td>\n",
       "      <td>182742.000000</td>\n",
       "      <td>182741.0</td>\n",
       "      <td>181878.000000</td>\n",
       "      <td>182742.000000</td>\n",
       "      <td>1.585270e+05</td>\n",
       "      <td>183238.000000</td>\n",
       "      <td>183238.000000</td>\n",
       "      <td>183238.000000</td>\n",
       "      <td>183238.000000</td>\n",
       "      <td>...</td>\n",
       "      <td>183238.000000</td>\n",
       "      <td>183238.000000</td>\n",
       "      <td>183238.000000</td>\n",
       "      <td>183238.000000</td>\n",
       "      <td>183238.000000</td>\n",
       "      <td>183238.000000</td>\n",
       "      <td>183238.000000</td>\n",
       "      <td>182871.000000</td>\n",
       "      <td>182871.000000</td>\n",
       "      <td>183238.000000</td>\n",
       "    </tr>\n",
       "    <tr>\n",
       "      <th>mean</th>\n",
       "      <td>29013.633078</td>\n",
       "      <td>1.092776</td>\n",
       "      <td>1.0</td>\n",
       "      <td>26.413838</td>\n",
       "      <td>0.575790</td>\n",
       "      <td>1.981779e+05</td>\n",
       "      <td>0.000464</td>\n",
       "      <td>0.000186</td>\n",
       "      <td>0.538011</td>\n",
       "      <td>0.001561</td>\n",
       "      <td>...</td>\n",
       "      <td>0.021682</td>\n",
       "      <td>0.059464</td>\n",
       "      <td>0.004677</td>\n",
       "      <td>0.148081</td>\n",
       "      <td>0.140249</td>\n",
       "      <td>0.116750</td>\n",
       "      <td>0.013753</td>\n",
       "      <td>0.115092</td>\n",
       "      <td>0.136588</td>\n",
       "      <td>0.251121</td>\n",
       "    </tr>\n",
       "    <tr>\n",
       "      <th>std</th>\n",
       "      <td>7932.746748</td>\n",
       "      <td>3.013877</td>\n",
       "      <td>0.0</td>\n",
       "      <td>10.292448</td>\n",
       "      <td>0.494224</td>\n",
       "      <td>2.873045e+05</td>\n",
       "      <td>0.021533</td>\n",
       "      <td>0.013620</td>\n",
       "      <td>0.498554</td>\n",
       "      <td>0.039476</td>\n",
       "      <td>...</td>\n",
       "      <td>0.145644</td>\n",
       "      <td>0.236491</td>\n",
       "      <td>0.068229</td>\n",
       "      <td>0.355181</td>\n",
       "      <td>0.347246</td>\n",
       "      <td>0.321123</td>\n",
       "      <td>0.116463</td>\n",
       "      <td>0.319134</td>\n",
       "      <td>0.343413</td>\n",
       "      <td>0.433659</td>\n",
       "    </tr>\n",
       "    <tr>\n",
       "      <th>min</th>\n",
       "      <td>15889.000000</td>\n",
       "      <td>1.000000</td>\n",
       "      <td>1.0</td>\n",
       "      <td>1.000000</td>\n",
       "      <td>0.000000</td>\n",
       "      <td>1.355226e+04</td>\n",
       "      <td>0.000000</td>\n",
       "      <td>0.000000</td>\n",
       "      <td>0.000000</td>\n",
       "      <td>0.000000</td>\n",
       "      <td>...</td>\n",
       "      <td>0.000000</td>\n",
       "      <td>0.000000</td>\n",
       "      <td>0.000000</td>\n",
       "      <td>0.000000</td>\n",
       "      <td>0.000000</td>\n",
       "      <td>0.000000</td>\n",
       "      <td>0.000000</td>\n",
       "      <td>0.000000</td>\n",
       "      <td>0.000000</td>\n",
       "      <td>0.000000</td>\n",
       "    </tr>\n",
       "    <tr>\n",
       "      <th>25%</th>\n",
       "      <td>22011.000000</td>\n",
       "      <td>NaN</td>\n",
       "      <td>NaN</td>\n",
       "      <td>NaN</td>\n",
       "      <td>NaN</td>\n",
       "      <td>NaN</td>\n",
       "      <td>0.000000</td>\n",
       "      <td>0.000000</td>\n",
       "      <td>0.000000</td>\n",
       "      <td>0.000000</td>\n",
       "      <td>...</td>\n",
       "      <td>0.000000</td>\n",
       "      <td>0.000000</td>\n",
       "      <td>0.000000</td>\n",
       "      <td>0.000000</td>\n",
       "      <td>0.000000</td>\n",
       "      <td>0.000000</td>\n",
       "      <td>0.000000</td>\n",
       "      <td>NaN</td>\n",
       "      <td>NaN</td>\n",
       "      <td>0.000000</td>\n",
       "    </tr>\n",
       "    <tr>\n",
       "      <th>50%</th>\n",
       "      <td>29048.000000</td>\n",
       "      <td>NaN</td>\n",
       "      <td>NaN</td>\n",
       "      <td>NaN</td>\n",
       "      <td>NaN</td>\n",
       "      <td>NaN</td>\n",
       "      <td>0.000000</td>\n",
       "      <td>0.000000</td>\n",
       "      <td>1.000000</td>\n",
       "      <td>0.000000</td>\n",
       "      <td>...</td>\n",
       "      <td>0.000000</td>\n",
       "      <td>0.000000</td>\n",
       "      <td>0.000000</td>\n",
       "      <td>0.000000</td>\n",
       "      <td>0.000000</td>\n",
       "      <td>0.000000</td>\n",
       "      <td>0.000000</td>\n",
       "      <td>NaN</td>\n",
       "      <td>NaN</td>\n",
       "      <td>0.000000</td>\n",
       "    </tr>\n",
       "    <tr>\n",
       "      <th>75%</th>\n",
       "      <td>35810.000000</td>\n",
       "      <td>NaN</td>\n",
       "      <td>NaN</td>\n",
       "      <td>NaN</td>\n",
       "      <td>NaN</td>\n",
       "      <td>NaN</td>\n",
       "      <td>0.000000</td>\n",
       "      <td>0.000000</td>\n",
       "      <td>1.000000</td>\n",
       "      <td>0.000000</td>\n",
       "      <td>...</td>\n",
       "      <td>0.000000</td>\n",
       "      <td>0.000000</td>\n",
       "      <td>0.000000</td>\n",
       "      <td>0.000000</td>\n",
       "      <td>0.000000</td>\n",
       "      <td>0.000000</td>\n",
       "      <td>0.000000</td>\n",
       "      <td>NaN</td>\n",
       "      <td>NaN</td>\n",
       "      <td>1.000000</td>\n",
       "    </tr>\n",
       "    <tr>\n",
       "      <th>max</th>\n",
       "      <td>43136.000000</td>\n",
       "      <td>99.000000</td>\n",
       "      <td>1.0</td>\n",
       "      <td>52.000000</td>\n",
       "      <td>1.000000</td>\n",
       "      <td>1.126706e+07</td>\n",
       "      <td>1.000000</td>\n",
       "      <td>1.000000</td>\n",
       "      <td>1.000000</td>\n",
       "      <td>1.000000</td>\n",
       "      <td>...</td>\n",
       "      <td>1.000000</td>\n",
       "      <td>1.000000</td>\n",
       "      <td>1.000000</td>\n",
       "      <td>1.000000</td>\n",
       "      <td>1.000000</td>\n",
       "      <td>1.000000</td>\n",
       "      <td>1.000000</td>\n",
       "      <td>1.000000</td>\n",
       "      <td>1.000000</td>\n",
       "      <td>1.000000</td>\n",
       "    </tr>\n",
       "  </tbody>\n",
       "</table>\n",
       "<p>8 rows × 30 columns</p>\n",
       "</div>"
      ],
      "text/plain": [
       "            ncodpers         indrel   tipodom       cod_prov  \\\n",
       "count  183238.000000  182742.000000  182741.0  181878.000000   \n",
       "mean    29013.633078       1.092776       1.0      26.413838   \n",
       "std      7932.746748       3.013877       0.0      10.292448   \n",
       "min     15889.000000       1.000000       1.0       1.000000   \n",
       "25%     22011.000000            NaN       NaN            NaN   \n",
       "50%     29048.000000            NaN       NaN            NaN   \n",
       "75%     35810.000000            NaN       NaN            NaN   \n",
       "max     43136.000000      99.000000       1.0      52.000000   \n",
       "\n",
       "       ind_actividad_cliente         renta  ind_ahor_fin_ult1  \\\n",
       "count          182742.000000  1.585270e+05      183238.000000   \n",
       "mean                0.575790  1.981779e+05           0.000464   \n",
       "std                 0.494224  2.873045e+05           0.021533   \n",
       "min                 0.000000  1.355226e+04           0.000000   \n",
       "25%                      NaN           NaN           0.000000   \n",
       "50%                      NaN           NaN           0.000000   \n",
       "75%                      NaN           NaN           0.000000   \n",
       "max                 1.000000  1.126706e+07           1.000000   \n",
       "\n",
       "       ind_aval_fin_ult1  ind_cco_fin_ult1  ind_cder_fin_ult1  \\\n",
       "count      183238.000000     183238.000000      183238.000000   \n",
       "mean            0.000186          0.538011           0.001561   \n",
       "std             0.013620          0.498554           0.039476   \n",
       "min             0.000000          0.000000           0.000000   \n",
       "25%             0.000000          0.000000           0.000000   \n",
       "50%             0.000000          1.000000           0.000000   \n",
       "75%             0.000000          1.000000           0.000000   \n",
       "max             1.000000          1.000000           1.000000   \n",
       "\n",
       "            ...         ind_hip_fin_ult1  ind_plan_fin_ult1  \\\n",
       "count       ...            183238.000000      183238.000000   \n",
       "mean        ...                 0.021682           0.059464   \n",
       "std         ...                 0.145644           0.236491   \n",
       "min         ...                 0.000000           0.000000   \n",
       "25%         ...                 0.000000           0.000000   \n",
       "50%         ...                 0.000000           0.000000   \n",
       "75%         ...                 0.000000           0.000000   \n",
       "max         ...                 1.000000           1.000000   \n",
       "\n",
       "       ind_pres_fin_ult1  ind_reca_fin_ult1  ind_tjcr_fin_ult1  \\\n",
       "count      183238.000000      183238.000000      183238.000000   \n",
       "mean            0.004677           0.148081           0.140249   \n",
       "std             0.068229           0.355181           0.347246   \n",
       "min             0.000000           0.000000           0.000000   \n",
       "25%             0.000000           0.000000           0.000000   \n",
       "50%             0.000000           0.000000           0.000000   \n",
       "75%             0.000000           0.000000           0.000000   \n",
       "max             1.000000           1.000000           1.000000   \n",
       "\n",
       "       ind_valo_fin_ult1  ind_viv_fin_ult1  ind_nomina_ult1  \\\n",
       "count      183238.000000     183238.000000    182871.000000   \n",
       "mean            0.116750          0.013753         0.115092   \n",
       "std             0.321123          0.116463         0.319134   \n",
       "min             0.000000          0.000000         0.000000   \n",
       "25%             0.000000          0.000000              NaN   \n",
       "50%             0.000000          0.000000              NaN   \n",
       "75%             0.000000          0.000000              NaN   \n",
       "max             1.000000          1.000000         1.000000   \n",
       "\n",
       "       ind_nom_pens_ult1  ind_recibo_ult1  \n",
       "count      182871.000000    183238.000000  \n",
       "mean            0.136588         0.251121  \n",
       "std             0.343413         0.433659  \n",
       "min             0.000000         0.000000  \n",
       "25%                  NaN         0.000000  \n",
       "50%                  NaN         0.000000  \n",
       "75%                  NaN         1.000000  \n",
       "max             1.000000         1.000000  \n",
       "\n",
       "[8 rows x 30 columns]"
      ]
     },
     "execution_count": 2,
     "metadata": {},
     "output_type": "execute_result"
    }
   ],
   "source": [
    "limit_rows   = 7000000\n",
    "df           = pd.read_csv(\"./data/sample_sorted_train.csv\",dtype={\"sexo\":str,\n",
    "                                                    \"ind_nuevo\":str,\n",
    "                                                    \"ult_fec_cli_1t\":str,\n",
    "                                                    \"indext\":str}, nrows=limit_rows)\n",
    "unique_ids   = pd.Series(df[\"ncodpers\"].unique())\n",
    "limit_people = 1.2e4\n",
    "unique_id    = unique_ids.sample(n=limit_people)\n",
    "df           = df[df.ncodpers.isin(unique_id)]\n",
    "df.describe()"
   ]
  },
  {
   "cell_type": "code",
   "execution_count": 5,
   "metadata": {
    "collapsed": false
   },
   "outputs": [
    {
     "data": {
      "text/plain": [
       "array(['2015-01-28T00:00:00.000000000', '2015-02-28T00:00:00.000000000',\n",
       "       '2015-03-28T00:00:00.000000000', '2015-04-28T00:00:00.000000000',\n",
       "       '2015-05-28T00:00:00.000000000', '2015-06-28T00:00:00.000000000',\n",
       "       '2015-07-28T00:00:00.000000000', '2015-08-28T00:00:00.000000000',\n",
       "       '2015-09-28T00:00:00.000000000', '2015-10-28T00:00:00.000000000',\n",
       "       '2015-11-28T00:00:00.000000000', '2015-12-28T00:00:00.000000000',\n",
       "       '2016-01-28T00:00:00.000000000', '2016-02-28T00:00:00.000000000',\n",
       "       '2016-03-28T00:00:00.000000000', '2016-04-28T00:00:00.000000000',\n",
       "       '2016-05-28T00:00:00.000000000'], dtype='datetime64[ns]')"
      ]
     },
     "execution_count": 5,
     "metadata": {},
     "output_type": "execute_result"
    }
   ],
   "source": [
    "df[\"fecha_dato\"] = pd.to_datetime(df[\"fecha_dato\"],format=\"%Y-%m-%d\")\n",
    "df[\"fecha_alta\"] = pd.to_datetime(df[\"fecha_alta\"],format=\"%Y-%m-%d\")\n",
    "df[\"fecha_dato\"].unique()"
   ]
  },
  {
   "cell_type": "code",
   "execution_count": 6,
   "metadata": {
    "collapsed": true
   },
   "outputs": [],
   "source": [
    "df[\"month\"] = pd.DatetimeIndex(df[\"fecha_dato\"]).month\n",
    "df[\"age\"]   = pd.to_numeric(df[\"age\"], errors=\"coerce\")"
   ]
  },
  {
   "cell_type": "code",
   "execution_count": 8,
   "metadata": {
    "collapsed": false
   },
   "outputs": [
    {
     "data": {
      "image/png": "[encoded data removed]",
      "text/plain": [
       "<matplotlib.figure.Figure at 0x110e8f490>"
      ]
     },
     "metadata": {},
     "output_type": "display_data"
    }
   ],
   "source": [
    "with sns.plotting_context(\"notebook\", font_scale=1.5):\n",
    "    sns.set_style('whitegrid')\n",
    "    sns.distplot(df[\"age\"].dropna(),\n",
    "                 bins = 80,\n",
    "                 kde = False,\n",
    "                 color = \"tomato\")\n",
    "    sns.plt.title(\"Age Distribution\")\n",
    "    plt.ylabel(\"Count\")"
   ]
  },
  {
   "cell_type": "code",
   "execution_count": 9,
   "metadata": {
    "collapsed": true
   },
   "outputs": [],
   "source": [
    "df.loc[df.age < 18, \"age\"] = df.loc[(df.age > 18) & (df.age <= 30), \"age\"].mean(skipna=True)\n",
    "df.loc[df.age > 100, \"age\"] = df.loc[(df.age > 30) & (df.age <=100), \"age\"].mean(skipna=True)\n",
    "df['age'].fillna(df['age'].mean(), inplace=True)\n",
    "df['age'] = df['age'].astype(int)"
   ]
  },
  {
   "cell_type": "code",
   "execution_count": 10,
   "metadata": {
    "collapsed": false
   },
   "outputs": [
    {
     "data": {
      "image/png": "[encoded data removed]",
      "text/plain": [
       "<matplotlib.figure.Figure at 0x117210750>"
      ]
     },
     "metadata": {},
     "output_type": "display_data"
    }
   ],
   "source": [
    "with sns.plotting_context('notebook', font_scale=1.5):\n",
    "    sns.set_style(\"whitegrid\")\n",
    "    sns.distplot(df['age'].dropna(),\n",
    "                bins = 80,\n",
    "                kde = False,\n",
    "                color = 'tomato')\n",
    "    sns.plt.title('Age Distribution')\n",
    "    plt.ylabel(\"Count\")\n",
    "    plt.xlim((15, 100))"
   ]
  },
  {
   "cell_type": "code",
   "execution_count": 11,
   "metadata": {
    "collapsed": false
   },
   "outputs": [
    {
     "data": {
      "text/plain": [
       "496"
      ]
     },
     "execution_count": 11,
     "metadata": {},
     "output_type": "execute_result"
    }
   ],
   "source": [
    "df[\"ind_nuevo\"].isnull().sum()"
   ]
  },
  {
   "cell_type": "code",
   "execution_count": 12,
   "metadata": {
    "collapsed": false
   },
   "outputs": [
    {
     "data": {
      "text/plain": [
       "6"
      ]
     },
     "execution_count": 12,
     "metadata": {},
     "output_type": "execute_result"
    }
   ],
   "source": [
    "months_active = df.loc[df[\"ind_nuevo\"].isnull(),:].groupby(\"ncodpers\", sort=False).size()\n",
    "months_active.max()"
   ]
  },
  {
   "cell_type": "code",
   "execution_count": 15,
   "metadata": {
    "collapsed": false
   },
   "outputs": [],
   "source": [
    "df.loc[df['ind_nuevo'].isnull(), 'ind_nuevo'] = 1"
   ]
  },
  {
   "cell_type": "code",
   "execution_count": 16,
   "metadata": {
    "collapsed": false
   },
   "outputs": [
    {
     "data": {
      "text/plain": [
       "496"
      ]
     },
     "execution_count": 16,
     "metadata": {},
     "output_type": "execute_result"
    }
   ],
   "source": [
    "df.antiguedad = pd.to_numeric(df.antiguedad, errors='coerce')\n",
    "np.sum(df['antiguedad'].isnull())"
   ]
  },
  {
   "cell_type": "code",
   "execution_count": 17,
   "metadata": {
    "collapsed": false
   },
   "outputs": [
    {
     "data": {
      "text/plain": [
       "count     496\n",
       "unique      1\n",
       "top         1\n",
       "freq      496\n",
       "Name: ind_nuevo, dtype: int64"
      ]
     },
     "execution_count": 17,
     "metadata": {},
     "output_type": "execute_result"
    }
   ],
   "source": [
    "df.loc[df['antiguedad'].isnull(), 'ind_nuevo'].describe()"
   ]
  },
  {
   "cell_type": "code",
   "execution_count": 19,
   "metadata": {
    "collapsed": false
   },
   "outputs": [],
   "source": [
    "df.loc[df.antiguedad.isnull(),'antiguedad'] = df.antiguedad.min()\n",
    "df.loc[df.antiguedad < 0, 'antiguedad'] = 0"
   ]
  },
  {
   "cell_type": "code",
   "execution_count": 25,
   "metadata": {
    "collapsed": false
   },
   "outputs": [
    {
     "data": {
      "text/plain": [
       "count                  183238\n",
       "unique                   2070\n",
       "top       1995-10-30 00:00:00\n",
       "freq                     2592\n",
       "first     1995-01-16 00:00:00\n",
       "last      2016-05-28 00:00:00\n",
       "Name: fecha_alta, dtype: object"
      ]
     },
     "execution_count": 25,
     "metadata": {},
     "output_type": "execute_result"
    }
   ],
   "source": [
    "dates = df.loc[:, 'fecha_alta'].sort_values().reset_index()\n",
    "median_date = int(np.median(dates.index.values))\n",
    "df.loc[df.fecha_alta.isnull(), 'fecha_alta'] = dates.loc[median_date, 'fecha_alta']\n",
    "df['fecha_alta'].describe()"
   ]
  },
  {
   "cell_type": "code",
   "execution_count": 26,
   "metadata": {
    "collapsed": false
   },
   "outputs": [
    {
     "data": {
      "text/plain": [
       "count                  183238\n",
       "unique                     17\n",
       "top       2015-07-28 00:00:00\n",
       "freq                    11820\n",
       "first     2015-01-28 00:00:00\n",
       "last      2016-05-28 00:00:00\n",
       "Name: fecha_dato, dtype: object"
      ]
     },
     "execution_count": 26,
     "metadata": {},
     "output_type": "execute_result"
    }
   ],
   "source": [
    "df['fecha_dato'].describe()"
   ]
  },
  {
   "cell_type": "code",
   "execution_count": 32,
   "metadata": {
    "collapsed": false
   },
   "outputs": [
    {
     "data": {
      "text/plain": [
       "1.0     182569\n",
       "99.0       173\n",
       "Name: indrel, dtype: int64"
      ]
     },
     "execution_count": 32,
     "metadata": {},
     "output_type": "execute_result"
    }
   ],
   "source": [
    "df.indrel.value_counts()"
   ]
  },
  {
   "cell_type": "code",
   "execution_count": 33,
   "metadata": {
    "collapsed": true
   },
   "outputs": [],
   "source": [
    "df.loc[df.indrel.isnull(), 'indrel'] = 1"
   ]
  },
  {
   "cell_type": "code",
   "execution_count": 34,
   "metadata": {
    "collapsed": true
   },
   "outputs": [],
   "source": [
    "df.drop(['tipodom', 'cod_prov'], axis=1, inplace=True)"
   ]
  },
  {
   "cell_type": "code",
   "execution_count": 38,
   "metadata": {
    "collapsed": false
   },
   "outputs": [],
   "source": [
    "df.loc[df.ind_actividad_cliente.isnull(), \"ind_actividad_cliente\"] =\\\n",
    "    df.ind_actividad_cliente.median()"
   ]
  },
  {
   "cell_type": "code",
   "execution_count": 39,
   "metadata": {
    "collapsed": false
   },
   "outputs": [
    {
     "data": {
      "text/plain": [
       "array(['MADRID', 'BIZKAIA', 'PALMAS, LAS', 'BURGOS', 'CADIZ', 'ALICANTE',\n",
       "       'ZAMORA', 'BARCELONA', 'GIPUZKOA', 'GUADALAJARA', nan, 'SEVILLA',\n",
       "       'GRANADA', 'CORU\\xc3\\x91A, A', 'VALENCIA', 'BADAJOZ', 'CANTABRIA',\n",
       "       'MALAGA', 'ALMERIA', 'PONTEVEDRA', 'ALAVA', 'GIRONA', 'AVILA',\n",
       "       'MURCIA', 'SALAMANCA', 'SANTA CRUZ DE TENERIFE', 'SEGOVIA', 'JAEN',\n",
       "       'TOLEDO', 'CACERES', 'NAVARRA', 'HUELVA', 'LERIDA', 'LUGO',\n",
       "       'ZARAGOZA', 'BALEARS, ILLES', 'PALENCIA', 'TARRAGONA', 'CASTELLON',\n",
       "       'CIUDAD REAL', 'VALLADOLID', 'ASTURIAS', 'OURENSE', 'RIOJA, LA',\n",
       "       'CORDOBA', 'ALBACETE', 'CUENCA', 'HUESCA', 'LEON', 'MELILLA',\n",
       "       'SORIA', 'TERUEL', 'CEUTA'], dtype=object)"
      ]
     },
     "execution_count": 39,
     "metadata": {},
     "output_type": "execute_result"
    }
   ],
   "source": [
    "df.nomprov.unique()"
   ]
  },
  {
   "cell_type": "code",
   "execution_count": 40,
   "metadata": {
    "collapsed": true
   },
   "outputs": [],
   "source": [
    "df.loc[df.nomprov==\"CORU\\xc3\\x91A, A\",\"nomprov\"] = \"CORUNA, A\""
   ]
  },
  {
   "cell_type": "code",
   "execution_count": 41,
   "metadata": {
    "collapsed": true
   },
   "outputs": [],
   "source": [
    "df.loc[df.nomprov.isnull(), 'nomprov'] = 'UNKNOWN'"
   ]
  },
  {
   "cell_type": "code",
   "execution_count": 42,
   "metadata": {
    "collapsed": false
   },
   "outputs": [
    {
     "data": {
      "text/plain": [
       "24711"
      ]
     },
     "execution_count": 42,
     "metadata": {},
     "output_type": "execute_result"
    }
   ],
   "source": [
    "df.renta.isnull().sum()"
   ]
  },
  {
   "cell_type": "code",
   "execution_count": 56,
   "metadata": {
    "collapsed": false
   },
   "outputs": [
    {
     "data": {
      "text/html": [
       "<div>\n",
       "<table border=\"1\" class=\"dataframe\">\n",
       "  <thead>\n",
       "    <tr>\n",
       "      <th></th>\n",
       "      <th>nomprov</th>\n",
       "      <th>renta</th>\n",
       "    </tr>\n",
       "    <tr>\n",
       "      <th></th>\n",
       "      <th></th>\n",
       "      <th>MedianIncome</th>\n",
       "    </tr>\n",
       "  </thead>\n",
       "  <tbody>\n",
       "    <tr>\n",
       "      <th>0</th>\n",
       "      <td>CUENCA</td>\n",
       "      <td>45010.74</td>\n",
       "    </tr>\n",
       "    <tr>\n",
       "      <th>1</th>\n",
       "      <td>LUGO</td>\n",
       "      <td>55291.65</td>\n",
       "    </tr>\n",
       "    <tr>\n",
       "      <th>2</th>\n",
       "      <td>AVILA</td>\n",
       "      <td>62280.15</td>\n",
       "    </tr>\n",
       "    <tr>\n",
       "      <th>3</th>\n",
       "      <td>CASTELLON</td>\n",
       "      <td>65460.03</td>\n",
       "    </tr>\n",
       "    <tr>\n",
       "      <th>4</th>\n",
       "      <td>CIUDAD REAL</td>\n",
       "      <td>65472.87</td>\n",
       "    </tr>\n",
       "  </tbody>\n",
       "</table>\n",
       "</div>"
      ],
      "text/plain": [
       "       nomprov        renta\n",
       "               MedianIncome\n",
       "0       CUENCA     45010.74\n",
       "1         LUGO     55291.65\n",
       "2        AVILA     62280.15\n",
       "3    CASTELLON     65460.03\n",
       "4  CIUDAD REAL     65472.87"
      ]
     },
     "execution_count": 56,
     "metadata": {},
     "output_type": "execute_result"
    }
   ],
   "source": [
    "incomes = df.loc[df.renta.notnull(), :].groupby('nomprov').agg({\"renta\": {\"MedianIncome\": median}})\n",
    "incomes.sort_values(by=(\"renta\", \"MedianIncome\"), inplace=True)\n",
    "incomes.reset_index(inplace=True)\n",
    "\n",
    "incomes.nomprovv = incomes.nomprov.astype('category', categories=list(df.nomprov.unique()), ordered=False)\n",
    "\n",
    "incomes.head()"
   ]
  },
  {
   "cell_type": "code",
   "execution_count": 61,
   "metadata": {
    "collapsed": false
   },
   "outputs": [
    {
     "data": {
      "text/plain": [
       "([<matplotlib.axis.YTick at 0x11772c090>,\n",
       "  <matplotlib.axis.YTick at 0x1177dc510>,\n",
       "  <matplotlib.axis.YTick at 0x1176b0810>,\n",
       "  <matplotlib.axis.YTick at 0x117712e90>,\n",
       "  <matplotlib.axis.YTick at 0x1176ed610>],\n",
       " <a list of 5 Text yticklabel objects>)"
      ]
     },
     "execution_count": 61,
     "metadata": {},
     "output_type": "execute_result"
    },
    {
     "data": {
      "image/png": "[encoded data removed]",
      "text/plain": [
       "<matplotlib.figure.Figure at 0x1187871d0>"
      ]
     },
     "metadata": {},
     "output_type": "display_data"
    }
   ],
   "source": [
    "with sns.axes_style({\n",
    "        \"axes.facecolor\": \"#ffc400\",\n",
    "        \"axes.grid\": False,\n",
    "        \"figure.facecolor\": \"#c60b1e\"\n",
    "    }):\n",
    "    h = sns.factorplot(data=incomes,\n",
    "                      x=\"nomprov\",\n",
    "                      y=(\"renta\", \"MedianIncome\"),\n",
    "                      order=list(incomes.nomprov),\n",
    "                      size=6,\n",
    "                      aspect=1.5,\n",
    "                      scale=1.0,\n",
    "                      color=\"#c60b1e\",\n",
    "                      linestyles=\"None\")\n",
    "plt.xticks(rotation=90)\n",
    "plt.tick_params(labelsize=16, labelcolor=\"#ffc400\")\n",
    "plt.ylabel(\"Median Income\", size=32, color=\"#ffc400\")\n",
    "plt.xlabel(\"City\", size=32, color=\"#ffc400\")\n",
    "plt.title(\"Income Distribution by City\", size=40, color=\"#ffc400\")\n",
    "plt.ylim(0, 200000)\n",
    "plt.yticks(range(0, 200000, 40000))"
   ]
  },
  {
   "cell_type": "code",
   "execution_count": 65,
   "metadata": {
    "collapsed": true
   },
   "outputs": [],
   "source": [
    "grouped = df.groupby('nomprov').agg({'renta': lambda x: x.median(skipna=True)}).reset_index()\n",
    "new_incomes = pd.merge(df, grouped, how='inner', on='nomprov').loc[:,['nomprov', 'renta_y']]\n",
    "\n",
    "new_incomes = new_incomes.rename(columns={\"renta_y\":\"renta\"}).sort_values(\"renta\").sort_values(\"nomprov\")\n",
    "\n",
    "df.sort_values(\"nomprov\", inplace=True)\n",
    "df = df.reset_index()\n",
    "new_incomes = new_incomes.reset_index()\n",
    "df.loc[df.renta.isnull(), \"renta\"] = new_incomes.loc[df.renta.isnull(), \"renta\"].median()\n",
    "df.sort_values(by='fecha_dato', inplace = True)"
   ]
  },
  {
   "cell_type": "code",
   "execution_count": 72,
   "metadata": {
    "collapsed": false
   },
   "outputs": [],
   "source": [
    "df.loc[df.ind_nomina_ult1.isnull(), \"ind_nomina_ult1\"] = 0\n",
    "df.loc[df.ind_nom_pens_ult1.isnull(), \"ind_nom_pens_ult1\"] = 0"
   ]
  },
  {
   "cell_type": "code",
   "execution_count": 80,
   "metadata": {
    "collapsed": false
   },
   "outputs": [
    {
     "name": "stdout",
     "output_type": "stream",
     "text": [
      "Unique values for ind_empleado:\n",
      "['N' 'F' 'B' 'A' nan]\n",
      "\n",
      "Unique values for pais_residencia:\n",
      "['ES' nan 'FR' 'GB' 'US' 'CH' 'DE' 'CO' 'NL' 'IT' 'MX' 'MA' 'BE' 'PT' 'AR'\n",
      " 'AE' 'PE' 'AD' 'CI' 'IN' 'JP' 'CR' 'QA' 'VE']\n",
      "\n",
      "Unique values for sexo:\n",
      "['V' 'H' nan]\n",
      "\n",
      "Unique values for ult_fec_cli_1t:\n",
      "[nan '2015-07-15' '2015-07-06' '2015-07-22' '2015-07-17' '2015-07-20'\n",
      " '2015-07-07' '2015-07-03' '2015-07-28' '2015-07-27' '2015-07-21'\n",
      " '2015-08-18' '2015-08-03' '2015-08-19' '2015-08-13' '2015-08-20'\n",
      " '2015-08-05' '2015-08-24' '2015-09-08' '2015-09-23' '2015-09-29'\n",
      " '2015-09-01' '2015-09-21' '2015-09-15' '2015-10-13' '2015-10-06'\n",
      " '2015-10-20' '2015-10-28' '2015-10-02' '2015-10-27' '2015-10-21'\n",
      " '2015-10-05' '2015-11-11' '2015-11-23' '2015-11-24' '2015-11-27'\n",
      " '2015-11-12' '2015-11-10' '2015-11-16' '2015-11-02' '2015-12-04'\n",
      " '2015-12-02' '2015-12-17' '2015-12-28' '2015-12-03' '2015-12-01'\n",
      " '2015-12-24' '2015-12-09' '2015-12-10' '2015-12-11' '2015-12-15'\n",
      " '2016-01-22' '2016-01-19' '2016-01-11' '2016-01-05' '2016-01-28'\n",
      " '2016-01-18' '2016-01-26' '2016-02-24' '2016-02-09' '2016-02-16'\n",
      " '2016-02-11' '2016-02-12' '2016-02-01' '2016-02-23' '2016-02-08'\n",
      " '2016-03-18' '2016-03-17' '2016-03-14' '2016-03-29' '2016-03-02'\n",
      " '2016-03-28' '2016-03-16' '2016-03-15' '2016-04-12' '2016-04-07'\n",
      " '2016-04-06' '2016-04-01' '2016-04-22' '2016-04-05' '2016-04-15'\n",
      " '2016-05-27' '2016-05-20' '2016-05-17' '2016-05-26' '2016-05-24'\n",
      " '2016-05-30' '2016-05-02' '2016-05-18' '2016-05-09']\n",
      "\n",
      "Unique values for indrel_1mes:\n",
      "[1.0 '1' nan 3.0 2.0 4.0 'P']\n",
      "\n",
      "Unique values for tiprel_1mes:\n",
      "['A' 'I' nan 'P' 'R']\n",
      "\n",
      "Unique values for indresi:\n",
      "['S' nan 'N']\n",
      "\n",
      "Unique values for indext:\n",
      "['N' 'S' nan]\n",
      "\n",
      "Unique values for conyuemp:\n",
      "[nan 'N' 'S']\n",
      "\n",
      "Unique values for canal_entrada:\n",
      "['KAT' 'KAI' 'KFC' '007' 'KAS' 'KAG' 'KFA' 'RED' 'KCD' 'KAR' 'KHC' 'KAA'\n",
      " 'KEW' 'KEY' 'KBZ' 'KFD' 'KAE' 'KAD' 'KCC' 'KCH' 'KAQ' 'KHK' 'KAZ' '013'\n",
      " 'KGX' 'KFT' 'KHE' 'KDP' 'KAY' 'KAF' 'KBM' 'KAW' 'KBH' 'KBL' 'KEL' nan\n",
      " 'KAO' 'KDT' 'KBF' 'KCB' 'KDO' 'KCG' 'KEZ' 'KAM' 'KBS' 'KBQ' 'KAC' 'KAL'\n",
      " 'KES' 'KBO' 'KGV' 'KBJ' 'KCM' 'KBG' 'KFP' 'KCI' 'KAJ' 'KAH' 'KFG' 'KAB'\n",
      " 'KFK' 'KDQ' 'KHL' 'KHN' 'KHM' 'KBW' 'KBY' 'KDR' 'KDU' 'KAP' 'KFV' 'KEJ'\n",
      " 'KHO']\n",
      "\n",
      "Unique values for indfall:\n",
      "['N' 'S' nan]\n",
      "\n",
      "Unique values for segmento:\n",
      "['02 - PARTICULARES' '01 - TOP' '03 - UNIVERSITARIO' nan]\n",
      "\n"
     ]
    }
   ],
   "source": [
    "string_data = df.select_dtypes(include=[\"object\"])\n",
    "missing_columns = [col for col in string_data if string_data[col].isnull().any()]\n",
    "for col in missing_columns:\n",
    "    print(\"Unique values for {0}:\\n{1}\\n\".format(col, string_data[col].unique()))\n",
    "del string_data"
   ]
  },
  {
   "cell_type": "code",
   "execution_count": 83,
   "metadata": {
    "collapsed": false
   },
   "outputs": [],
   "source": [
    "df.loc[df.indfall.isnull(), 'indfall'] = 'N'\n",
    "df.loc[df.tiprel_1mes.isnull(), 'tiprel_1mes'] = 'A'\n",
    "df.tiprel_1mes = df.tiprel_1mes.astype('category')\n",
    "\n",
    "map_dict = {\n",
    "    '1.0': '1',\n",
    "    '1': '1',\n",
    "    '3.0': '3',\n",
    "    'P': 'P',\n",
    "    3.0: '3',\n",
    "    2.0: '2',\n",
    "    '3': '3',\n",
    "    '2.0': '2',\n",
    "    '4.0': '4',\n",
    "    '4': '4',\n",
    "    '2': '2',\n",
    "    1.0: '1',\n",
    "    4.0: '4'\n",
    "}\n",
    "\n",
    "df.indrel_1mes.fillna('P', inplace=True)\n",
    "df.indrel_1mes = df.indrel_1mes.apply(lambda x: map_dict[x])\n",
    "df.indrel_1mes = df.indrel_1mes.astype('category')\n",
    "\n",
    "unknown_cols = [col for col in missing_columns if col not in ['indfall', 'tiprel_1mes', 'indrel_1mes']]\n",
    "for col in unknown_cols:\n",
    "    df.loc[df[col].isnull(), col] = \"UNKNOWN\""
   ]
  },
  {
   "cell_type": "code",
   "execution_count": 84,
   "metadata": {
    "collapsed": false
   },
   "outputs": [
    {
     "data": {
      "text/plain": [
       "index                    False\n",
       "fecha_dato               False\n",
       "ncodpers                 False\n",
       "ind_empleado             False\n",
       "pais_residencia          False\n",
       "sexo                     False\n",
       "age                      False\n",
       "fecha_alta               False\n",
       "ind_nuevo                False\n",
       "antiguedad               False\n",
       "indrel                   False\n",
       "ult_fec_cli_1t           False\n",
       "indrel_1mes              False\n",
       "tiprel_1mes              False\n",
       "indresi                  False\n",
       "indext                   False\n",
       "conyuemp                 False\n",
       "canal_entrada            False\n",
       "indfall                  False\n",
       "nomprov                  False\n",
       "ind_actividad_cliente    False\n",
       "renta                    False\n",
       "segmento                 False\n",
       "ind_ahor_fin_ult1        False\n",
       "ind_aval_fin_ult1        False\n",
       "ind_cco_fin_ult1         False\n",
       "ind_cder_fin_ult1        False\n",
       "ind_cno_fin_ult1         False\n",
       "ind_ctju_fin_ult1        False\n",
       "ind_ctma_fin_ult1        False\n",
       "ind_ctop_fin_ult1        False\n",
       "ind_ctpp_fin_ult1        False\n",
       "ind_deco_fin_ult1        False\n",
       "ind_deme_fin_ult1        False\n",
       "ind_dela_fin_ult1        False\n",
       "ind_ecue_fin_ult1        False\n",
       "ind_fond_fin_ult1        False\n",
       "ind_hip_fin_ult1         False\n",
       "ind_plan_fin_ult1        False\n",
       "ind_pres_fin_ult1        False\n",
       "ind_reca_fin_ult1        False\n",
       "ind_tjcr_fin_ult1        False\n",
       "ind_valo_fin_ult1        False\n",
       "ind_viv_fin_ult1         False\n",
       "ind_nomina_ult1          False\n",
       "ind_nom_pens_ult1        False\n",
       "ind_recibo_ult1          False\n",
       "month                    False\n",
       "dtype: bool"
      ]
     },
     "execution_count": 84,
     "metadata": {},
     "output_type": "execute_result"
    }
   ],
   "source": [
    "df.isnull().any()"
   ]
  },
  {
   "cell_type": "code",
   "execution_count": 85,
   "metadata": {
    "collapsed": true
   },
   "outputs": [],
   "source": [
    "feature_cols = df.iloc[:1,].filter(regex=\"ind_+.*ult.*\").columns.values\n",
    "for col in feature_cols:\n",
    "    df[col] = df[col].astype(int)"
   ]
  },
  {
   "cell_type": "code",
   "execution_count": 86,
   "metadata": {
    "collapsed": true
   },
   "outputs": [],
   "source": [
    "unique_months = pd.DataFrame(pd.Series(df.fecha_dato.unique()).sort_values()).reset_index(drop=True)"
   ]
  },
  {
   "cell_type": "code",
   "execution_count": 88,
   "metadata": {
    "collapsed": true
   },
   "outputs": [],
   "source": [
    "unique_months['month_id'] = pd.Series(range(1, 1+unique_months.size))"
   ]
  },
  {
   "cell_type": "code",
   "execution_count": 90,
   "metadata": {
    "collapsed": false
   },
   "outputs": [],
   "source": [
    "unique_months[\"month_next_id\"] = 1 + unique_months['month_id']\n",
    "unique_months.rename(columns = {0: 'fecha_dato'}, inplace=True)"
   ]
  },
  {
   "cell_type": "code",
   "execution_count": 92,
   "metadata": {
    "collapsed": false
   },
   "outputs": [],
   "source": [
    "df = pd.merge(df, unique_months, on=\"fecha_dato\")"
   ]
  },
  {
   "cell_type": "code",
   "execution_count": 93,
   "metadata": {
    "collapsed": false
   },
   "outputs": [
    {
     "data": {
      "text/html": [
       "<div>\n",
       "<table border=\"1\" class=\"dataframe\">\n",
       "  <thead>\n",
       "    <tr style=\"text-align: right;\">\n",
       "      <th></th>\n",
       "      <th>index</th>\n",
       "      <th>fecha_dato</th>\n",
       "      <th>ncodpers</th>\n",
       "      <th>ind_empleado</th>\n",
       "      <th>pais_residencia</th>\n",
       "      <th>sexo</th>\n",
       "      <th>age</th>\n",
       "      <th>fecha_alta</th>\n",
       "      <th>ind_nuevo</th>\n",
       "      <th>antiguedad</th>\n",
       "      <th>...</th>\n",
       "      <th>ind_reca_fin_ult1</th>\n",
       "      <th>ind_tjcr_fin_ult1</th>\n",
       "      <th>ind_valo_fin_ult1</th>\n",
       "      <th>ind_viv_fin_ult1</th>\n",
       "      <th>ind_nomina_ult1</th>\n",
       "      <th>ind_nom_pens_ult1</th>\n",
       "      <th>ind_recibo_ult1</th>\n",
       "      <th>month</th>\n",
       "      <th>month_id</th>\n",
       "      <th>month_next_id</th>\n",
       "    </tr>\n",
       "  </thead>\n",
       "  <tbody>\n",
       "    <tr>\n",
       "      <th>0</th>\n",
       "      <td>94924</td>\n",
       "      <td>2015-01-28</td>\n",
       "      <td>28312</td>\n",
       "      <td>N</td>\n",
       "      <td>ES</td>\n",
       "      <td>V</td>\n",
       "      <td>68</td>\n",
       "      <td>1995-11-30</td>\n",
       "      <td>0</td>\n",
       "      <td>236.0</td>\n",
       "      <td>...</td>\n",
       "      <td>0</td>\n",
       "      <td>0</td>\n",
       "      <td>0</td>\n",
       "      <td>0</td>\n",
       "      <td>0</td>\n",
       "      <td>0</td>\n",
       "      <td>0</td>\n",
       "      <td>1</td>\n",
       "      <td>1</td>\n",
       "      <td>2</td>\n",
       "    </tr>\n",
       "    <tr>\n",
       "      <th>1</th>\n",
       "      <td>141125</td>\n",
       "      <td>2015-01-28</td>\n",
       "      <td>34605</td>\n",
       "      <td>N</td>\n",
       "      <td>ES</td>\n",
       "      <td>V</td>\n",
       "      <td>52</td>\n",
       "      <td>1996-03-21</td>\n",
       "      <td>0</td>\n",
       "      <td>183.0</td>\n",
       "      <td>...</td>\n",
       "      <td>0</td>\n",
       "      <td>0</td>\n",
       "      <td>0</td>\n",
       "      <td>0</td>\n",
       "      <td>0</td>\n",
       "      <td>0</td>\n",
       "      <td>0</td>\n",
       "      <td>1</td>\n",
       "      <td>1</td>\n",
       "      <td>2</td>\n",
       "    </tr>\n",
       "    <tr>\n",
       "      <th>2</th>\n",
       "      <td>126138</td>\n",
       "      <td>2015-01-28</td>\n",
       "      <td>32434</td>\n",
       "      <td>N</td>\n",
       "      <td>ES</td>\n",
       "      <td>V</td>\n",
       "      <td>49</td>\n",
       "      <td>1996-01-31</td>\n",
       "      <td>0</td>\n",
       "      <td>169.0</td>\n",
       "      <td>...</td>\n",
       "      <td>1</td>\n",
       "      <td>1</td>\n",
       "      <td>0</td>\n",
       "      <td>0</td>\n",
       "      <td>0</td>\n",
       "      <td>0</td>\n",
       "      <td>1</td>\n",
       "      <td>1</td>\n",
       "      <td>1</td>\n",
       "      <td>2</td>\n",
       "    </tr>\n",
       "    <tr>\n",
       "      <th>3</th>\n",
       "      <td>126037</td>\n",
       "      <td>2015-01-28</td>\n",
       "      <td>32421</td>\n",
       "      <td>N</td>\n",
       "      <td>ES</td>\n",
       "      <td>V</td>\n",
       "      <td>54</td>\n",
       "      <td>1996-01-31</td>\n",
       "      <td>0</td>\n",
       "      <td>234.0</td>\n",
       "      <td>...</td>\n",
       "      <td>0</td>\n",
       "      <td>0</td>\n",
       "      <td>0</td>\n",
       "      <td>0</td>\n",
       "      <td>0</td>\n",
       "      <td>0</td>\n",
       "      <td>0</td>\n",
       "      <td>1</td>\n",
       "      <td>1</td>\n",
       "      <td>2</td>\n",
       "    </tr>\n",
       "    <tr>\n",
       "      <th>4</th>\n",
       "      <td>7470</td>\n",
       "      <td>2015-01-28</td>\n",
       "      <td>16738</td>\n",
       "      <td>N</td>\n",
       "      <td>ES</td>\n",
       "      <td>V</td>\n",
       "      <td>50</td>\n",
       "      <td>1995-05-05</td>\n",
       "      <td>0</td>\n",
       "      <td>243.0</td>\n",
       "      <td>...</td>\n",
       "      <td>1</td>\n",
       "      <td>0</td>\n",
       "      <td>0</td>\n",
       "      <td>0</td>\n",
       "      <td>1</td>\n",
       "      <td>1</td>\n",
       "      <td>1</td>\n",
       "      <td>1</td>\n",
       "      <td>1</td>\n",
       "      <td>2</td>\n",
       "    </tr>\n",
       "  </tbody>\n",
       "</table>\n",
       "<p>5 rows × 50 columns</p>\n",
       "</div>"
      ],
      "text/plain": [
       "    index fecha_dato  ncodpers ind_empleado pais_residencia sexo  age  \\\n",
       "0   94924 2015-01-28     28312            N              ES    V   68   \n",
       "1  141125 2015-01-28     34605            N              ES    V   52   \n",
       "2  126138 2015-01-28     32434            N              ES    V   49   \n",
       "3  126037 2015-01-28     32421            N              ES    V   54   \n",
       "4    7470 2015-01-28     16738            N              ES    V   50   \n",
       "\n",
       "  fecha_alta ind_nuevo  antiguedad      ...       ind_reca_fin_ult1  \\\n",
       "0 1995-11-30         0       236.0      ...                       0   \n",
       "1 1996-03-21         0       183.0      ...                       0   \n",
       "2 1996-01-31         0       169.0      ...                       1   \n",
       "3 1996-01-31         0       234.0      ...                       0   \n",
       "4 1995-05-05         0       243.0      ...                       1   \n",
       "\n",
       "  ind_tjcr_fin_ult1 ind_valo_fin_ult1 ind_viv_fin_ult1 ind_nomina_ult1  \\\n",
       "0                 0                 0                0               0   \n",
       "1                 0                 0                0               0   \n",
       "2                 1                 0                0               0   \n",
       "3                 0                 0                0               0   \n",
       "4                 0                 0                0               1   \n",
       "\n",
       "  ind_nom_pens_ult1 ind_recibo_ult1 month month_id month_next_id  \n",
       "0                 0               0     1        1             2  \n",
       "1                 0               0     1        1             2  \n",
       "2                 0               1     1        1             2  \n",
       "3                 0               0     1        1             2  \n",
       "4                 1               1     1        1             2  \n",
       "\n",
       "[5 rows x 50 columns]"
      ]
     },
     "execution_count": 93,
     "metadata": {},
     "output_type": "execute_result"
    }
   ],
   "source": [
    "df.head()"
   ]
  },
  {
   "cell_type": "code",
   "execution_count": 94,
   "metadata": {
    "collapsed": false
   },
   "outputs": [
    {
     "data": {
      "text/html": [
       "<div>\n",
       "<table border=\"1\" class=\"dataframe\">\n",
       "  <thead>\n",
       "    <tr style=\"text-align: right;\">\n",
       "      <th></th>\n",
       "      <th>fecha_dato</th>\n",
       "      <th>month_id</th>\n",
       "      <th>month_next_id</th>\n",
       "    </tr>\n",
       "  </thead>\n",
       "  <tbody>\n",
       "    <tr>\n",
       "      <th>0</th>\n",
       "      <td>2015-01-28</td>\n",
       "      <td>1</td>\n",
       "      <td>2</td>\n",
       "    </tr>\n",
       "    <tr>\n",
       "      <th>1</th>\n",
       "      <td>2015-02-28</td>\n",
       "      <td>2</td>\n",
       "      <td>3</td>\n",
       "    </tr>\n",
       "    <tr>\n",
       "      <th>2</th>\n",
       "      <td>2015-03-28</td>\n",
       "      <td>3</td>\n",
       "      <td>4</td>\n",
       "    </tr>\n",
       "    <tr>\n",
       "      <th>3</th>\n",
       "      <td>2015-04-28</td>\n",
       "      <td>4</td>\n",
       "      <td>5</td>\n",
       "    </tr>\n",
       "    <tr>\n",
       "      <th>4</th>\n",
       "      <td>2015-05-28</td>\n",
       "      <td>5</td>\n",
       "      <td>6</td>\n",
       "    </tr>\n",
       "    <tr>\n",
       "      <th>5</th>\n",
       "      <td>2015-06-28</td>\n",
       "      <td>6</td>\n",
       "      <td>7</td>\n",
       "    </tr>\n",
       "    <tr>\n",
       "      <th>6</th>\n",
       "      <td>2015-07-28</td>\n",
       "      <td>7</td>\n",
       "      <td>8</td>\n",
       "    </tr>\n",
       "    <tr>\n",
       "      <th>7</th>\n",
       "      <td>2015-08-28</td>\n",
       "      <td>8</td>\n",
       "      <td>9</td>\n",
       "    </tr>\n",
       "    <tr>\n",
       "      <th>8</th>\n",
       "      <td>2015-09-28</td>\n",
       "      <td>9</td>\n",
       "      <td>10</td>\n",
       "    </tr>\n",
       "    <tr>\n",
       "      <th>9</th>\n",
       "      <td>2015-10-28</td>\n",
       "      <td>10</td>\n",
       "      <td>11</td>\n",
       "    </tr>\n",
       "    <tr>\n",
       "      <th>10</th>\n",
       "      <td>2015-11-28</td>\n",
       "      <td>11</td>\n",
       "      <td>12</td>\n",
       "    </tr>\n",
       "    <tr>\n",
       "      <th>11</th>\n",
       "      <td>2015-12-28</td>\n",
       "      <td>12</td>\n",
       "      <td>13</td>\n",
       "    </tr>\n",
       "    <tr>\n",
       "      <th>12</th>\n",
       "      <td>2016-01-28</td>\n",
       "      <td>13</td>\n",
       "      <td>14</td>\n",
       "    </tr>\n",
       "    <tr>\n",
       "      <th>13</th>\n",
       "      <td>2016-02-28</td>\n",
       "      <td>14</td>\n",
       "      <td>15</td>\n",
       "    </tr>\n",
       "    <tr>\n",
       "      <th>14</th>\n",
       "      <td>2016-03-28</td>\n",
       "      <td>15</td>\n",
       "      <td>16</td>\n",
       "    </tr>\n",
       "    <tr>\n",
       "      <th>15</th>\n",
       "      <td>2016-04-28</td>\n",
       "      <td>16</td>\n",
       "      <td>17</td>\n",
       "    </tr>\n",
       "    <tr>\n",
       "      <th>16</th>\n",
       "      <td>2016-05-28</td>\n",
       "      <td>17</td>\n",
       "      <td>18</td>\n",
       "    </tr>\n",
       "  </tbody>\n",
       "</table>\n",
       "</div>"
      ],
      "text/plain": [
       "   fecha_dato  month_id  month_next_id\n",
       "0  2015-01-28         1              2\n",
       "1  2015-02-28         2              3\n",
       "2  2015-03-28         3              4\n",
       "3  2015-04-28         4              5\n",
       "4  2015-05-28         5              6\n",
       "5  2015-06-28         6              7\n",
       "6  2015-07-28         7              8\n",
       "7  2015-08-28         8              9\n",
       "8  2015-09-28         9             10\n",
       "9  2015-10-28        10             11\n",
       "10 2015-11-28        11             12\n",
       "11 2015-12-28        12             13\n",
       "12 2016-01-28        13             14\n",
       "13 2016-02-28        14             15\n",
       "14 2016-03-28        15             16\n",
       "15 2016-04-28        16             17\n",
       "16 2016-05-28        17             18"
      ]
     },
     "execution_count": 94,
     "metadata": {},
     "output_type": "execute_result"
    }
   ],
   "source": [
    "unique_months"
   ]
  },
  {
   "cell_type": "code",
   "execution_count": 95,
   "metadata": {
    "collapsed": true
   },
   "outputs": [],
   "source": [
    "def status_change(x):\n",
    "    diffs = x.diff().fillna(0)\n",
    "    label = [\"Added\" if i == 1\\\n",
    "            else \"Dropped\" if i == -1\\\n",
    "            else \"Maintained\" for i in diffs]\n",
    "    return label"
   ]
  },
  {
   "cell_type": "code",
   "execution_count": 99,
   "metadata": {
    "collapsed": false
   },
   "outputs": [],
   "source": [
    "df.loc[:, feature_cols] = df.loc[:, [i for i in feature_cols] + ['ncodpers']].groupby('ncodpers').transform(status_change)"
   ]
  },
  {
   "cell_type": "code",
   "execution_count": 125,
   "metadata": {
    "collapsed": true
   },
   "outputs": [],
   "source": [
    "df = pd.melt(df, id_vars = [col for col in df.columns if col not in feature_cols],\n",
    "       value_vars = [col for col in feature_cols])\n"
   ]
  },
  {
   "cell_type": "code",
   "execution_count": 129,
   "metadata": {
    "collapsed": false
   },
   "outputs": [
    {
     "data": {
      "text/plain": [
       "(20625, 28)"
      ]
     },
     "execution_count": 129,
     "metadata": {},
     "output_type": "execute_result"
    }
   ],
   "source": [
    "df = df.loc[df.value != \"Maintained\", :]\n",
    "df.shape"
   ]
  },
  {
   "cell_type": "code",
   "execution_count": 130,
   "metadata": {
    "collapsed": false
   },
   "outputs": [
    {
     "data": {
      "text/plain": [
       "([<matplotlib.axis.YTick at 0x11873d990>,\n",
       "  <matplotlib.axis.YTick at 0x1188ac110>,\n",
       "  <matplotlib.axis.YTick at 0x11ad8a510>,\n",
       "  <matplotlib.axis.YTick at 0x117aae110>,\n",
       "  <matplotlib.axis.YTick at 0x117aaea90>],\n",
       " <a list of 5 Text yticklabel objects>)"
      ]
     },
     "execution_count": 130,
     "metadata": {},
     "output_type": "execute_result"
    },
    {
     "data": {
      "image/png": "[encoded data removed]",
      "text/plain": [
       "<matplotlib.figure.Figure at 0x11863a3d0>"
      ]
     },
     "metadata": {},
     "output_type": "display_data"
    }
   ],
   "source": [
    "pylab.rcParams['figure.figsize'] = (6, 4)\n",
    "with sns.axes_style({\n",
    "        \"axes.facecolor\": \"#ffc400\",\n",
    "        'axes.grid': False,\n",
    "        'figure.facecolor': '#c60b1e'\n",
    "    }):\n",
    "    h = sns.factorplot(data = incomes,\n",
    "                      x=\"nomprov\",\n",
    "                      y=('renta', 'MedianIncome'),\n",
    "                      order=(i for i in incomes.nomprov),\n",
    "                      size = 6,\n",
    "                      aspect = 1.5,\n",
    "                      scale = 0.75,\n",
    "                      color=\"#c60b1e\",\n",
    "                      linestyles=\"None\")\n",
    "plt.xticks(rotation=90)\n",
    "plt.tick_params(labelsize=12, labelcolor=\"#ffc400\")\n",
    "plt.ylabel(\"Median Income\", size=32, color=\"#ffc400\")\n",
    "plt.xlabel(\"City\", size=32, color=\"#ffc400\")\n",
    "plt.title(\"Income Distribution by City\", size=40, color=\"#ffc400\")\n",
    "plt.ylim(0, 200000)\n",
    "plt.yticks(range(0, 200000, 40000))"
   ]
  },
  {
   "cell_type": "code",
   "execution_count": null,
   "metadata": {
    "collapsed": true
   },
   "outputs": [],
   "source": []
  }
 ],
 "metadata": {
  "kernelspec": {
   "display_name": "Python 2",
   "language": "python",
   "name": "python2"
  },
  "language_info": {
   "codemirror_mode": {
    "name": "ipython",
    "version": 2
   },
   "file_extension": ".py",
   "mimetype": "text/x-python",
   "name": "python",
   "nbconvert_exporter": "python",
   "pygments_lexer": "ipython2",
   "version": "2.7.12"
  }
 },
 "nbformat": 4,
 "nbformat_minor": 0
}
