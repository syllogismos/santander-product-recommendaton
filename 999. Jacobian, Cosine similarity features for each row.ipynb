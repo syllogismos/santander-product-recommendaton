{
 "cells": [
  {
   "cell_type": "code",
   "execution_count": 2,
   "metadata": {
    "collapsed": false
   },
   "outputs": [
    {
     "name": "stdout",
     "output_type": "stream",
     "text": [
      "Populating the interactive namespace from numpy and matplotlib\n"
     ]
    }
   ],
   "source": [
    "import pandas as pd\n",
    "import numpy as np\n",
    "import xgboost as xgb\n",
    "from sklearn.preprocessing import LabelEncoder\n",
    "from scripts.kaggle.helpers import make_submission\n",
    "import datetime\n",
    "from tqdm import tqdm\n",
    "import gc\n",
    "import itertools\n",
    "from multiprocessing import Pool\n",
    "import pickle\n",
    "import collections\n",
    "import math\n",
    "\n",
    "%matplotlib inline\n",
    "import matplotlib.pyplot as plt\n",
    "import seaborn as sns\n",
    "\n",
    "%pylab inline\n",
    "pylab.rcParams['figure.figsize'] = (12, 16)\n",
    "\n",
    "%load_ext autotime"
   ]
  },
  {
   "cell_type": "code",
   "execution_count": 3,
   "metadata": {
    "collapsed": false
   },
   "outputs": [
    {
     "name": "stdout",
     "output_type": "stream",
     "text": [
      "time: 7.33 ms\n"
     ]
    }
   ],
   "source": [
    "HEADER = [\"fecha_dato\", \"ncodpers\", \"ind_empleado\",\n",
    "          \"pais_residencia\", \"sexo\", \"age\", \"fecha_alta\",\n",
    "          \"ind_nuevo\", \"antiguedad\", \"indrel\", \"ult_fec_cli_1t\",\n",
    "          \"indrel_1mes\", \"tiprel_1mes\", \"indresi\", \"indext\",\n",
    "          \"conyuemp\", \"canal_entrada\", \"indfall\", \"tipodom\",\n",
    "          \"cod_prov\", \"nomprov\", \"ind_actividad_cliente\",\n",
    "          \"renta\", \"segmento\", \"ind_ahor_fin_ult1\",\n",
    "          \"ind_aval_fin_ult1\", \"ind_cco_fin_ult1\",\n",
    "          \"ind_cder_fin_ult1\", \"ind_cno_fin_ult1\",\n",
    "          \"ind_ctju_fin_ult1\", \"ind_ctma_fin_ult1\",\n",
    "          \"ind_ctop_fin_ult1\", \"ind_ctpp_fin_ult1\",\n",
    "          \"ind_deco_fin_ult1\", \"ind_deme_fin_ult1\",\n",
    "          \"ind_dela_fin_ult1\", \"ind_ecue_fin_ult1\",\n",
    "          \"ind_fond_fin_ult1\", \"ind_hip_fin_ult1\",\n",
    "          \"ind_plan_fin_ult1\", \"ind_pres_fin_ult1\",\n",
    "          \"ind_reca_fin_ult1\", \"ind_tjcr_fin_ult1\",\n",
    "          \"ind_valo_fin_ult1\", \"ind_viv_fin_ult1\",\n",
    "          \"ind_nomina_ult1\", \"ind_nom_pens_ult1\",\n",
    "          \"ind_recibo_ult1\"]"
   ]
  },
  {
   "cell_type": "code",
   "execution_count": 5,
   "metadata": {
    "collapsed": false
   },
   "outputs": [
    {
     "name": "stdout",
     "output_type": "stream",
     "text": [
      "time: 2.74 ms\n"
     ]
    }
   ],
   "source": [
    "def get_persons_of_feature(train):\n",
    "    persons_of_feature = dict()\n",
    "    for feat in HEADER[24:]:\n",
    "        persons_of_feature[feat] = set(train.loc[train[feat] == 1][\"ncodpers\"])\n",
    "    return persons_of_feature\n",
    "# for feat in header[24:]:\n",
    "#     print feat, len(persons_of_feature[feat])"
   ]
  },
  {
   "cell_type": "code",
   "execution_count": 6,
   "metadata": {
    "collapsed": false
   },
   "outputs": [
    {
     "name": "stdout",
     "output_type": "stream",
     "text": [
      "time: 10.5 ms\n"
     ]
    }
   ],
   "source": [
    "def jacobian_similarity(persons_of_feature, featur1, featur2):\n",
    "    feat1 = persons_of_feature[featur1]\n",
    "    feat2 = persons_of_feature[featur2]\n",
    "    len1 = len(feat1)\n",
    "    len2 = len(feat2)\n",
    "    intersection = len(feat1.intersection(feat2))\n",
    "    union = len1 + len2 - intersection\n",
    "    if len1 == 0 or len1 == 0:\n",
    "        return 0.0\n",
    "    return intersection * 1.0 / union\n",
    "\n",
    "def cosine_similarity(persons_of_feature, featur1, featur2):\n",
    "    feat1 = persons_of_feature[featur1]\n",
    "    feat2 = persons_of_feature[featur2]\n",
    "    len1 = len(feat1)\n",
    "    len2 = len(feat2)\n",
    "    intersection = len(feat1.intersection(feat2))\n",
    "    # union = len1 + len2 - intersection\n",
    "    if len1 == 0 or len2 == 0:\n",
    "        return 0.0\n",
    "    return intersection * 1.0 / math.sqrt(len1*len2)"
   ]
  },
  {
   "cell_type": "code",
   "execution_count": 7,
   "metadata": {
    "collapsed": false
   },
   "outputs": [
    {
     "name": "stdout",
     "output_type": "stream",
     "text": [
      "time: 10.2 ms\n"
     ]
    }
   ],
   "source": [
    "def get_similarity_matrices(train_df):\n",
    "    persons_of_feature = get_persons_of_feature(train_df)\n",
    "    jacob_matrix = collections.defaultdict(dict)\n",
    "    cosine_matrix = collections.defaultdict(dict)\n",
    "    for i in range(24):\n",
    "        jacob_matrix[i][i] = 1.0\n",
    "        cosine_matrix[i][i] = 1.0\n",
    "        for j in range(i + 1, 24):\n",
    "            temp = jacobian_similarity(persons_of_feature, HEADER[i + 24], HEADER[j+24])\n",
    "            jacob_matrix[i][j] = temp\n",
    "            jacob_matrix[j][i] = temp\n",
    "\n",
    "            temp1 = cosine_similarity(persons_of_feature, HEADER[i+24], HEADER[j+24])\n",
    "            cosine_matrix[i][j] = temp1\n",
    "            cosine_matrix[j][i] = temp1\n",
    "    cosine_pd = pd.DataFrame(cosine_matrix)\n",
    "    jacob_pd = pd.DataFrame(jacob_matrix)\n",
    "    return jacob_pd, cosine_pd\n"
   ]
  },
  {
   "cell_type": "code",
   "execution_count": 16,
   "metadata": {
    "collapsed": false
   },
   "outputs": [
    {
     "name": "stdout",
     "output_type": "stream",
     "text": [
      "time: 22.6 ms\n"
     ]
    }
   ],
   "source": [
    "def get_similarity_matrices_from_added(added_df):\n",
    "    persons_of_feature = get_persons_of_feature_from_added(added_df)\n",
    "    jacob_matrix = collections.defaultdict(dict)\n",
    "    cosine_matrix = collections.defaultdict(dict)\n",
    "    for i in range(24):\n",
    "        jacob_matrix[i][i] = 1.0\n",
    "        cosine_matrix[i][i] = 1.0\n",
    "        for j in range(i + 1, 24):\n",
    "            temp = jacobian_similarity(persons_of_feature, HEADER[i + 24], HEADER[j+24])\n",
    "            jacob_matrix[i][j] = temp\n",
    "            jacob_matrix[j][i] = temp\n",
    "\n",
    "            temp1 = cosine_similarity(persons_of_feature, HEADER[i+24], HEADER[j+24])\n",
    "            cosine_matrix[i][j] = temp1\n",
    "            cosine_matrix[j][i] = temp1\n",
    "    cosine_pd = pd.DataFrame(cosine_matrix)\n",
    "    jacob_pd = pd.DataFrame(jacob_matrix)\n",
    "    return jacob_pd, cosine_pd\n",
    "\n",
    "def get_persons_of_feature_from_added(added):\n",
    "    persons_of_feature = dict()\n",
    "    for feat in HEADER[24:]:\n",
    "        persons_of_feature[feat] = set(added.loc[added['added_product'] == feat][\"ncodpers\"])\n",
    "    return persons_of_feature\n",
    "# for feat in header[24:]:\n",
    "#     print feat, len(persons_of_feature[feat])"
   ]
  },
  {
   "cell_type": "code",
   "execution_count": 9,
   "metadata": {
    "collapsed": false
   },
   "outputs": [
    {
     "name": "stdout",
     "output_type": "stream",
     "text": [
      "time: 2.5 ms\n"
     ]
    }
   ],
   "source": [
    "def get_wts_from_mat(df, row):\n",
    "    brow = map(bool, row)\n",
    "    wts = df.loc[brow, :].apply(sum)\n",
    "    wts[brow] = 0\n",
    "    return wts"
   ]
  },
  {
   "cell_type": "code",
   "execution_count": 14,
   "metadata": {
    "collapsed": false
   },
   "outputs": [
    {
     "name": "stdout",
     "output_type": "stream",
     "text": [
      "time: 17.9 ms\n"
     ]
    }
   ],
   "source": [
    "def get_similarity_features(file_names): #train_file, added_file):\n",
    "    train_file = file_names[0]\n",
    "    added_file = file_names[1]\n",
    "    train = pd.read_csv(train_file, header=None, names=HEADER[1:2] + HEADER[24:], usecols=[1]+range(24,48))\n",
    "    train.fillna(0, inplace=True)\n",
    "    for col in HEADER[24:]:\n",
    "        train[col] = train[col].astype(int)\n",
    "    added_products = pd.read_csv(added_file, usecols=[0])\n",
    "    jacob_pd, cosine_pd = get_similarity_matrices(train)\n",
    "    train.set_index('ncodpers', inplace=True)\n",
    "    train_final = pd.DataFrame()\n",
    "    train_final['ncodpers'] = added_products['ncodpers']\n",
    "    train_final.set_index('ncodpers', inplace=True)\n",
    "    for col in HEADER[24:]:\n",
    "        train_final['jacob_' + col] = [0.0]*train_final.shape[0]\n",
    "        train_final['cosine_' + col] = [0.0]*train_final.shape[0]\n",
    "\n",
    "    for i in tqdm(train_final.index):\n",
    "        row = list(train.loc[i, HEADER[24:]])\n",
    "        jwts = get_wts_from_mat(jacob_pd, row)\n",
    "        cwts = get_wts_from_mat(cosine_pd, row)\n",
    "        train_final.loc[i, ['jacob_' + h for h in HEADER[24:]]] = list(jwts)\n",
    "        train_final.loc[i, ['cosine_' + h for h in HEADER[24:]]] = list(cwts)\n",
    "    return train_final, file_names[2]"
   ]
  },
  {
   "cell_type": "code",
   "execution_count": 8,
   "metadata": {
    "collapsed": false
   },
   "outputs": [
    {
     "name": "stderr",
     "output_type": "stream",
     "text": [
      "100%|██████████| 41745/41745 [04:41<00:00, 148.17it/s]"
     ]
    },
    {
     "name": "stdout",
     "output_type": "stream",
     "text": [
      "time: 4min 45s\n"
     ]
    },
    {
     "name": "stderr",
     "output_type": "stream",
     "text": [
      "\n"
     ]
    }
   ],
   "source": [
    "simi_feat = get_similarity_features('data/train_2015_05_28.csv', 'data/added_product_2015_05_28.csv')"
   ]
  },
  {
   "cell_type": "code",
   "execution_count": 13,
   "metadata": {
    "collapsed": false
   },
   "outputs": [
    {
     "name": "stdout",
     "output_type": "stream",
     "text": [
      "time: 21.3 ms\n"
     ]
    }
   ],
   "source": [
    "def get_similarity_features_from_added(file_names): #train_file, added_file):\n",
    "    train_file = file_names[0]\n",
    "    similarity_file = file_names[1]\n",
    "    added_file = file_names[2]\n",
    "    train = pd.read_csv(train_file, header=None, names=HEADER[1:2] + HEADER[24:], usecols=[1]+range(24,48))\n",
    "    train.fillna(0, inplace=True)\n",
    "    for col in HEADER[24:]:\n",
    "        train[col] = train[col].astype(int)\n",
    "    added_products = pd.read_csv(added_file, usecols=[0])\n",
    "    similarity_df = pd.read_csv(similarity_file)\n",
    "    jacob_pd, cosine_pd = get_similarity_matrices_from_added(similarity_df)\n",
    "    train.set_index('ncodpers', inplace=True)\n",
    "    train_final = pd.DataFrame()\n",
    "    train_final['ncodpers'] = added_products['ncodpers']\n",
    "    train_final.set_index('ncodpers', inplace=True)\n",
    "    for col in HEADER[24:]:\n",
    "        train_final['jacob_added_' + col] = [0.0]*train_final.shape[0]\n",
    "        train_final['cosine_added_' + col] = [0.0]*train_final.shape[0]\n",
    "\n",
    "    for i in tqdm(train_final.index):\n",
    "        row = list(train.loc[i, HEADER[24:]])\n",
    "        jwts = get_wts_from_mat(jacob_pd, row)\n",
    "        cwts = get_wts_from_mat(cosine_pd, row)\n",
    "        train_final.loc[i, ['jacob_added_' + h for h in HEADER[24:]]] = list(jwts)\n",
    "        train_final.loc[i, ['cosine_added_' + h for h in HEADER[24:]]] = list(cwts)\n",
    "    return train_final, file_names[3], jacob_pd, cosine_pd"
   ]
  },
  {
   "cell_type": "code",
   "execution_count": 17,
   "metadata": {
    "collapsed": false
   },
   "outputs": [
    {
     "name": "stderr",
     "output_type": "stream",
     "text": [
      "100%|██████████| 41745/41745 [05:25<00:00, 128.37it/s]"
     ]
    },
    {
     "name": "stdout",
     "output_type": "stream",
     "text": [
      "time: 5min 27s\n"
     ]
    },
    {
     "name": "stderr",
     "output_type": "stream",
     "text": [
      "\n"
     ]
    }
   ],
   "source": [
    "tdf, ind, j_pd, c_pd = get_similarity_features_from_added(('data/train_2015_05_28.csv', 'data/added_product_2015_04_28.csv', 'data/added_product_2015_05_28.csv', 1))"
   ]
  },
  {
   "cell_type": "code",
   "execution_count": 18,
   "metadata": {
    "collapsed": false
   },
   "outputs": [
    {
     "data": {
      "text/html": [
       "<div>\n",
       "<table border=\"1\" class=\"dataframe\">\n",
       "  <thead>\n",
       "    <tr style=\"text-align: right;\">\n",
       "      <th></th>\n",
       "      <th>jacob_added_ind_ahor_fin_ult1</th>\n",
       "      <th>cosine_added_ind_ahor_fin_ult1</th>\n",
       "      <th>jacob_added_ind_aval_fin_ult1</th>\n",
       "      <th>cosine_added_ind_aval_fin_ult1</th>\n",
       "      <th>jacob_added_ind_cco_fin_ult1</th>\n",
       "      <th>cosine_added_ind_cco_fin_ult1</th>\n",
       "      <th>jacob_added_ind_cder_fin_ult1</th>\n",
       "      <th>cosine_added_ind_cder_fin_ult1</th>\n",
       "      <th>jacob_added_ind_cno_fin_ult1</th>\n",
       "      <th>cosine_added_ind_cno_fin_ult1</th>\n",
       "      <th>...</th>\n",
       "      <th>jacob_added_ind_valo_fin_ult1</th>\n",
       "      <th>cosine_added_ind_valo_fin_ult1</th>\n",
       "      <th>jacob_added_ind_viv_fin_ult1</th>\n",
       "      <th>cosine_added_ind_viv_fin_ult1</th>\n",
       "      <th>jacob_added_ind_nomina_ult1</th>\n",
       "      <th>cosine_added_ind_nomina_ult1</th>\n",
       "      <th>jacob_added_ind_nom_pens_ult1</th>\n",
       "      <th>cosine_added_ind_nom_pens_ult1</th>\n",
       "      <th>jacob_added_ind_recibo_ult1</th>\n",
       "      <th>cosine_added_ind_recibo_ult1</th>\n",
       "    </tr>\n",
       "    <tr>\n",
       "      <th>ncodpers</th>\n",
       "      <th></th>\n",
       "      <th></th>\n",
       "      <th></th>\n",
       "      <th></th>\n",
       "      <th></th>\n",
       "      <th></th>\n",
       "      <th></th>\n",
       "      <th></th>\n",
       "      <th></th>\n",
       "      <th></th>\n",
       "      <th></th>\n",
       "      <th></th>\n",
       "      <th></th>\n",
       "      <th></th>\n",
       "      <th></th>\n",
       "      <th></th>\n",
       "      <th></th>\n",
       "      <th></th>\n",
       "      <th></th>\n",
       "      <th></th>\n",
       "      <th></th>\n",
       "    </tr>\n",
       "  </thead>\n",
       "  <tbody>\n",
       "    <tr>\n",
       "      <th>15892</th>\n",
       "      <td>0.0</td>\n",
       "      <td>0.0</td>\n",
       "      <td>0.0</td>\n",
       "      <td>0.0</td>\n",
       "      <td>0.036062</td>\n",
       "      <td>0.082235</td>\n",
       "      <td>0.000141</td>\n",
       "      <td>0.00449</td>\n",
       "      <td>0.000000</td>\n",
       "      <td>0.000000</td>\n",
       "      <td>...</td>\n",
       "      <td>0.000000</td>\n",
       "      <td>0.000000</td>\n",
       "      <td>0.0</td>\n",
       "      <td>0.0</td>\n",
       "      <td>0.190078</td>\n",
       "      <td>0.357068</td>\n",
       "      <td>0.194755</td>\n",
       "      <td>0.364195</td>\n",
       "      <td>0.000000</td>\n",
       "      <td>0.000000</td>\n",
       "    </tr>\n",
       "    <tr>\n",
       "      <th>15897</th>\n",
       "      <td>0.0</td>\n",
       "      <td>0.0</td>\n",
       "      <td>0.0</td>\n",
       "      <td>0.0</td>\n",
       "      <td>0.000000</td>\n",
       "      <td>0.000000</td>\n",
       "      <td>0.000141</td>\n",
       "      <td>0.00449</td>\n",
       "      <td>0.000000</td>\n",
       "      <td>0.000000</td>\n",
       "      <td>...</td>\n",
       "      <td>0.000000</td>\n",
       "      <td>0.000000</td>\n",
       "      <td>0.0</td>\n",
       "      <td>0.0</td>\n",
       "      <td>0.193767</td>\n",
       "      <td>0.370162</td>\n",
       "      <td>0.198642</td>\n",
       "      <td>0.377699</td>\n",
       "      <td>0.000000</td>\n",
       "      <td>0.000000</td>\n",
       "    </tr>\n",
       "    <tr>\n",
       "      <th>15906</th>\n",
       "      <td>0.0</td>\n",
       "      <td>0.0</td>\n",
       "      <td>0.0</td>\n",
       "      <td>0.0</td>\n",
       "      <td>0.025829</td>\n",
       "      <td>0.064539</td>\n",
       "      <td>0.000141</td>\n",
       "      <td>0.00449</td>\n",
       "      <td>0.000000</td>\n",
       "      <td>0.000000</td>\n",
       "      <td>...</td>\n",
       "      <td>0.005036</td>\n",
       "      <td>0.019046</td>\n",
       "      <td>0.0</td>\n",
       "      <td>0.0</td>\n",
       "      <td>0.185333</td>\n",
       "      <td>0.347796</td>\n",
       "      <td>0.190196</td>\n",
       "      <td>0.355342</td>\n",
       "      <td>0.000000</td>\n",
       "      <td>0.000000</td>\n",
       "    </tr>\n",
       "    <tr>\n",
       "      <th>15925</th>\n",
       "      <td>0.0</td>\n",
       "      <td>0.0</td>\n",
       "      <td>0.0</td>\n",
       "      <td>0.0</td>\n",
       "      <td>0.000000</td>\n",
       "      <td>0.000000</td>\n",
       "      <td>0.000000</td>\n",
       "      <td>0.00000</td>\n",
       "      <td>0.009018</td>\n",
       "      <td>0.019958</td>\n",
       "      <td>...</td>\n",
       "      <td>0.002970</td>\n",
       "      <td>0.011834</td>\n",
       "      <td>0.0</td>\n",
       "      <td>0.0</td>\n",
       "      <td>0.013948</td>\n",
       "      <td>0.030210</td>\n",
       "      <td>0.014455</td>\n",
       "      <td>0.031224</td>\n",
       "      <td>0.023277</td>\n",
       "      <td>0.055703</td>\n",
       "    </tr>\n",
       "    <tr>\n",
       "      <th>15927</th>\n",
       "      <td>0.0</td>\n",
       "      <td>0.0</td>\n",
       "      <td>0.0</td>\n",
       "      <td>0.0</td>\n",
       "      <td>0.011580</td>\n",
       "      <td>0.032723</td>\n",
       "      <td>0.000141</td>\n",
       "      <td>0.00449</td>\n",
       "      <td>0.016002</td>\n",
       "      <td>0.047308</td>\n",
       "      <td>...</td>\n",
       "      <td>0.000824</td>\n",
       "      <td>0.005028</td>\n",
       "      <td>0.0</td>\n",
       "      <td>0.0</td>\n",
       "      <td>0.018451</td>\n",
       "      <td>0.044834</td>\n",
       "      <td>0.018600</td>\n",
       "      <td>0.045200</td>\n",
       "      <td>0.000000</td>\n",
       "      <td>0.000000</td>\n",
       "    </tr>\n",
       "  </tbody>\n",
       "</table>\n",
       "<p>5 rows × 48 columns</p>\n",
       "</div>"
      ],
      "text/plain": [
       "          jacob_added_ind_ahor_fin_ult1  cosine_added_ind_ahor_fin_ult1  \\\n",
       "ncodpers                                                                  \n",
       "15892                               0.0                             0.0   \n",
       "15897                               0.0                             0.0   \n",
       "15906                               0.0                             0.0   \n",
       "15925                               0.0                             0.0   \n",
       "15927                               0.0                             0.0   \n",
       "\n",
       "          jacob_added_ind_aval_fin_ult1  cosine_added_ind_aval_fin_ult1  \\\n",
       "ncodpers                                                                  \n",
       "15892                               0.0                             0.0   \n",
       "15897                               0.0                             0.0   \n",
       "15906                               0.0                             0.0   \n",
       "15925                               0.0                             0.0   \n",
       "15927                               0.0                             0.0   \n",
       "\n",
       "          jacob_added_ind_cco_fin_ult1  cosine_added_ind_cco_fin_ult1  \\\n",
       "ncodpers                                                                \n",
       "15892                         0.036062                       0.082235   \n",
       "15897                         0.000000                       0.000000   \n",
       "15906                         0.025829                       0.064539   \n",
       "15925                         0.000000                       0.000000   \n",
       "15927                         0.011580                       0.032723   \n",
       "\n",
       "          jacob_added_ind_cder_fin_ult1  cosine_added_ind_cder_fin_ult1  \\\n",
       "ncodpers                                                                  \n",
       "15892                          0.000141                         0.00449   \n",
       "15897                          0.000141                         0.00449   \n",
       "15906                          0.000141                         0.00449   \n",
       "15925                          0.000000                         0.00000   \n",
       "15927                          0.000141                         0.00449   \n",
       "\n",
       "          jacob_added_ind_cno_fin_ult1  cosine_added_ind_cno_fin_ult1  \\\n",
       "ncodpers                                                                \n",
       "15892                         0.000000                       0.000000   \n",
       "15897                         0.000000                       0.000000   \n",
       "15906                         0.000000                       0.000000   \n",
       "15925                         0.009018                       0.019958   \n",
       "15927                         0.016002                       0.047308   \n",
       "\n",
       "                      ...               jacob_added_ind_valo_fin_ult1  \\\n",
       "ncodpers              ...                                               \n",
       "15892                 ...                                    0.000000   \n",
       "15897                 ...                                    0.000000   \n",
       "15906                 ...                                    0.005036   \n",
       "15925                 ...                                    0.002970   \n",
       "15927                 ...                                    0.000824   \n",
       "\n",
       "          cosine_added_ind_valo_fin_ult1  jacob_added_ind_viv_fin_ult1  \\\n",
       "ncodpers                                                                 \n",
       "15892                           0.000000                           0.0   \n",
       "15897                           0.000000                           0.0   \n",
       "15906                           0.019046                           0.0   \n",
       "15925                           0.011834                           0.0   \n",
       "15927                           0.005028                           0.0   \n",
       "\n",
       "          cosine_added_ind_viv_fin_ult1  jacob_added_ind_nomina_ult1  \\\n",
       "ncodpers                                                               \n",
       "15892                               0.0                     0.190078   \n",
       "15897                               0.0                     0.193767   \n",
       "15906                               0.0                     0.185333   \n",
       "15925                               0.0                     0.013948   \n",
       "15927                               0.0                     0.018451   \n",
       "\n",
       "          cosine_added_ind_nomina_ult1  jacob_added_ind_nom_pens_ult1  \\\n",
       "ncodpers                                                                \n",
       "15892                         0.357068                       0.194755   \n",
       "15897                         0.370162                       0.198642   \n",
       "15906                         0.347796                       0.190196   \n",
       "15925                         0.030210                       0.014455   \n",
       "15927                         0.044834                       0.018600   \n",
       "\n",
       "          cosine_added_ind_nom_pens_ult1  jacob_added_ind_recibo_ult1  \\\n",
       "ncodpers                                                                \n",
       "15892                           0.364195                     0.000000   \n",
       "15897                           0.377699                     0.000000   \n",
       "15906                           0.355342                     0.000000   \n",
       "15925                           0.031224                     0.023277   \n",
       "15927                           0.045200                     0.000000   \n",
       "\n",
       "          cosine_added_ind_recibo_ult1  \n",
       "ncodpers                                \n",
       "15892                         0.000000  \n",
       "15897                         0.000000  \n",
       "15906                         0.000000  \n",
       "15925                         0.055703  \n",
       "15927                         0.000000  \n",
       "\n",
       "[5 rows x 48 columns]"
      ]
     },
     "execution_count": 18,
     "metadata": {},
     "output_type": "execute_result"
    },
    {
     "name": "stdout",
     "output_type": "stream",
     "text": [
      "time: 61.8 ms\n"
     ]
    }
   ],
   "source": [
    "tdf.head()"
   ]
  },
  {
   "cell_type": "markdown",
   "metadata": {},
   "source": [
    "---\n",
    "# added in the last two months data set computation\n",
    "---"
   ]
  },
  {
   "cell_type": "code",
   "execution_count": 55,
   "metadata": {
    "collapsed": false
   },
   "outputs": [
    {
     "name": "stdout",
     "output_type": "stream",
     "text": [
      "time: 83.5 ms\n"
     ]
    }
   ],
   "source": [
    "def get_file_string_from_train_data(train_data):\n",
    "    date_time = datetime.datetime(train_data[0], train_data[1], 28)\n",
    "    return '_'.join(str(date_time.date()).split('-'))\n",
    "\n",
    "def get_date_string_from_train_data(train_data):\n",
    "    date_time = datetime.datetime(train_data[0], train_data[1], 28)\n",
    "    return '-'.join(str(date_time.date()).split('-'))\n",
    "\n",
    "def subtract_one_month(train_data):\n",
    "    if train_data[1] == 1:\n",
    "        return 2015, 12\n",
    "    else:\n",
    "        return train_data[0], train_data[1] - 1\n",
    "    \n",
    "som = subtract_one_month\n",
    "\n",
    "\n",
    "\n",
    "def added_in_the_last_2_months(date):\n",
    "    \"\"\"\n",
    "    date = (2015, 5)\n",
    "    \"\"\"\n",
    "    \n",
    "    \n",
    "    current_train = get_date_string_from_train_data(date)\n",
    "    last_month = get_date_string_from_train_data(som(date))\n",
    "    last_last_month = get_date_string_from_train_data(som(som(date)))\n",
    "    \n",
    "\n",
    "    added = pd.read_csv('data/added_product_' + current_train)\n",
    "    \n",
    "    similarity_df = pd.read_csv('data/added_product_' + last_month)\n",
    "    jacob_pd, cosine_pd = get_similarity_matrices_from_added(similarity_df)\n",
    "    \n",
    "    train_final = pd.DataFrame()\n",
    "    train_final['ncodpers'] = added_products['ncodpers']\n",
    "    train_final.set_index('ncodpers', inplace=True)\n",
    "    for col in HEADER[24:]:\n",
    "        train_final['jacob_added_2_old_' + col] = [0.0]*train_final.shape[0]\n",
    "        train_final['cosine_added_2_old_' + col] = [0.0]*train_final.shape[0]\n",
    "\n",
    "    for i in tqdm(train_final.index):\n",
    "        row = get_added_row(date, i, added_df)\n",
    "        jwts = get_wts_from_mat(jacob_pd, row)\n",
    "        cwts = get_wts_from_mat(cosine_pd, row)\n",
    "        train_final.loc[i, ['jacob_added_' + h for h in HEADER[24:]]] = list(jwts)\n",
    "        train_final.loc[i, ['cosine_added_' + h for h in HEADER[24:]]] = list(cwts)\n",
    "    return train_final, file_names[3], jacob_pd, cosine_pd\n",
    "        \n",
    "        \n",
    "def get_added_row(date, ncod, added_df):\n",
    "    current_month = get_date_string_from_train_data(date)\n",
    "    last_month = get_date_string_from_train_data(som(date))\n",
    "    last_last_month = get_date_string_from_train_data(som(som(date)))\n",
    "    \n",
    "    added_row = added_df.loc[(added_df['fecha_dato'] == current_month) & (added_df['ncodpers']==ncod), HEADER[24:]]\n",
    "    \n",
    "#     current_subs = main_train.loc[(main_train['fecha_dato'] == current_month) & (main_train['ncodpers'] == ncod), HEADER[24:]]\n",
    "    \n",
    "#     two_months_old = main_train.loc[(main_train['fecha_dato'] == last_last_month) & (main_train['ncodpers'] == ncod), HEADER[24:]]\n",
    "#     if len(two_months_old) == 0:\n",
    "#         two_months_old = main_train.loc[(main_train['fecha_dato'] == last_month) & (main_train['ncodpers'] == ncod), HEADER[24:]]\n",
    "#         if len(two_months_old) == 0:\n",
    "#             return [0]*24\n",
    "#     added_row = [(t^r) & r for t, r in zip(two_months_old.values[0], current_subs.values[0])]\n",
    "    return added_row\n",
    "\n",
    "    \n",
    "    "
   ]
  },
  {
   "cell_type": "code",
   "execution_count": 59,
   "metadata": {
    "collapsed": false
   },
   "outputs": [
    {
     "name": "stdout",
     "output_type": "stream",
     "text": [
      "time: 58.7 s\n"
     ]
    }
   ],
   "source": [
    "main_train = pd.read_csv('data/train_ver2.csv', usecols=range(2) + range(24, 48))"
   ]
  },
  {
   "cell_type": "code",
   "execution_count": 68,
   "metadata": {
    "collapsed": false
   },
   "outputs": [
    {
     "name": "stdout",
     "output_type": "stream",
     "text": [
      "time: 5.8 s\n"
     ]
    }
   ],
   "source": [
    "main_train.fillna(0, inplace=True)\n",
    "for col in HEADER[24:]:\n",
    "    main_train[col] = main_train[col].astype(int)"
   ]
  },
  {
   "cell_type": "code",
   "execution_count": 56,
   "metadata": {
    "collapsed": false
   },
   "outputs": [
    {
     "name": "stdout",
     "output_type": "stream",
     "text": [
      "time: 1.02 s\n"
     ]
    }
   ],
   "source": [
    "train = pd.read_csv('data/train_2015_05_28.csv', header=None, names=HEADER[:3], usecols=range(3))"
   ]
  },
  {
   "cell_type": "code",
   "execution_count": 118,
   "metadata": {
    "collapsed": false
   },
   "outputs": [
    {
     "name": "stdout",
     "output_type": "stream",
     "text": [
      "time: 10.2 ms\n"
     ]
    }
   ],
   "source": [
    "def f(x):\n",
    "    x.set_index('fecha_dato', inplace=True)\n",
    "    temp = pd.DataFrame()\n",
    "    temp['fecha_dato'] = x.index[2:]\n",
    "    # temp['ncodpers'] = [int(x.ncodpers[0])]*temp.shape[0]\n",
    "    for col in HEADER[24:]:\n",
    "        temp[col] = [0]*temp.shape[0]\n",
    "#     print temp\n",
    "    for i in temp.index:\n",
    "        cur_date = temp.loc[i, 'fecha_dato']\n",
    "#         print cur_date, 'cur date'\n",
    "        old_date = get_date_string_from_train_data(som(som(tuple(map(int, cur_date.split('-')[:2])))))\n",
    "#         print old_date, 'old date'\n",
    "        cur = list(x.loc[cur_date, HEADER[24:]])\n",
    "        old = list(x.loc[old_date, HEADER[24:]])\n",
    "        temp.loc[i, HEADER[24:]] = is_added(old, cur)\n",
    "#         print cur, 'cur'\n",
    "#         print is_added(old,cur), 'isadded'\n",
    "    return temp\n",
    "\n",
    "def is_added(old, cur):\n",
    "    old = map(int, old)\n",
    "    cur = map(int, cur)\n",
    "    return [(o^c)& c for o, c in zip(old,cur)]"
   ]
  },
  {
   "cell_type": "code",
   "execution_count": null,
   "metadata": {
    "collapsed": true
   },
   "outputs": [],
   "source": [
    "sorted_tr = pd.read_csv('data/sample_sorted_train.csv', usecols=range(2)+range(24,48))\n",
    "sorted_tr.fillna(0, inplace=True)\n",
    "for col in HEADER[24:]:\n",
    "    sorted_tr[col] = sorted_tr[col].astype(int)\n",
    "g = sorted_tr.groupby('ncodpers')\n",
    "x = g.apply(f)\n",
    "\n",
    "x.reset_index(inplace=True)\n",
    "\n",
    "del x['level_1']"
   ]
  }
 ],
 "metadata": {
  "kernelspec": {
   "display_name": "Python 2",
   "language": "python",
   "name": "python2"
  },
  "language_info": {
   "codemirror_mode": {
    "name": "ipython",
    "version": 2
   },
   "file_extension": ".py",
   "mimetype": "text/x-python",
   "name": "python",
   "nbconvert_exporter": "python",
   "pygments_lexer": "ipython2",
   "version": "2.7.12"
  }
 },
 "nbformat": 4,
 "nbformat_minor": 0
}
