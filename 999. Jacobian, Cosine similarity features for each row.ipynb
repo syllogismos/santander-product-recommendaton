{
 "cells": [
  {
   "cell_type": "code",
   "execution_count": 1,
   "metadata": {
    "collapsed": false
   },
   "outputs": [
    {
     "name": "stdout",
     "output_type": "stream",
     "text": [
      "Populating the interactive namespace from numpy and matplotlib\n"
     ]
    },
    {
     "name": "stderr",
     "output_type": "stream",
     "text": [
      "WARNING: pylab import has clobbered these variables: ['random']\n",
      "`%matplotlib` prevents importing * from pylab and numpy\n"
     ]
    }
   ],
   "source": [
    "import pandas as pd\n",
    "import numpy as np\n",
    "import xgboost as xgb\n",
    "from sklearn.preprocessing import LabelEncoder\n",
    "from scripts.kaggle.helpers import make_submission\n",
    "import datetime\n",
    "from tqdm import tqdm\n",
    "import gc\n",
    "import itertools\n",
    "from multiprocessing import Pool\n",
    "import pickle\n",
    "import collections\n",
    "import math\n",
    "import random\n",
    "\n",
    "%matplotlib inline\n",
    "import matplotlib.pyplot as plt\n",
    "import seaborn as sns\n",
    "\n",
    "%pylab inline\n",
    "pylab.rcParams['figure.figsize'] = (12, 16)\n",
    "\n",
    "%load_ext autotime"
   ]
  },
  {
   "cell_type": "code",
   "execution_count": 2,
   "metadata": {
    "collapsed": false
   },
   "outputs": [
    {
     "name": "stdout",
     "output_type": "stream",
     "text": [
      "time: 6.86 ms\n"
     ]
    }
   ],
   "source": [
    "HEADER = [\"fecha_dato\", \"ncodpers\", \"ind_empleado\",\n",
    "          \"pais_residencia\", \"sexo\", \"age\", \"fecha_alta\",\n",
    "          \"ind_nuevo\", \"antiguedad\", \"indrel\", \"ult_fec_cli_1t\",\n",
    "          \"indrel_1mes\", \"tiprel_1mes\", \"indresi\", \"indext\",\n",
    "          \"conyuemp\", \"canal_entrada\", \"indfall\", \"tipodom\",\n",
    "          \"cod_prov\", \"nomprov\", \"ind_actividad_cliente\",\n",
    "          \"renta\", \"segmento\", \"ind_ahor_fin_ult1\",\n",
    "          \"ind_aval_fin_ult1\", \"ind_cco_fin_ult1\",\n",
    "          \"ind_cder_fin_ult1\", \"ind_cno_fin_ult1\",\n",
    "          \"ind_ctju_fin_ult1\", \"ind_ctma_fin_ult1\",\n",
    "          \"ind_ctop_fin_ult1\", \"ind_ctpp_fin_ult1\",\n",
    "          \"ind_deco_fin_ult1\", \"ind_deme_fin_ult1\",\n",
    "          \"ind_dela_fin_ult1\", \"ind_ecue_fin_ult1\",\n",
    "          \"ind_fond_fin_ult1\", \"ind_hip_fin_ult1\",\n",
    "          \"ind_plan_fin_ult1\", \"ind_pres_fin_ult1\",\n",
    "          \"ind_reca_fin_ult1\", \"ind_tjcr_fin_ult1\",\n",
    "          \"ind_valo_fin_ult1\", \"ind_viv_fin_ult1\",\n",
    "          \"ind_nomina_ult1\", \"ind_nom_pens_ult1\",\n",
    "          \"ind_recibo_ult1\"]"
   ]
  },
  {
   "cell_type": "code",
   "execution_count": 3,
   "metadata": {
    "collapsed": false
   },
   "outputs": [
    {
     "name": "stdout",
     "output_type": "stream",
     "text": [
      "time: 2.58 ms\n"
     ]
    }
   ],
   "source": [
    "def get_persons_of_feature(train):\n",
    "    persons_of_feature = dict()\n",
    "    for feat in HEADER[24:]:\n",
    "        persons_of_feature[feat] = set(train.loc[train[feat] == 1][\"ncodpers\"])\n",
    "    return persons_of_feature\n",
    "# for feat in header[24:]:\n",
    "#     print feat, len(persons_of_feature[feat])"
   ]
  },
  {
   "cell_type": "code",
   "execution_count": 4,
   "metadata": {
    "collapsed": false
   },
   "outputs": [
    {
     "name": "stdout",
     "output_type": "stream",
     "text": [
      "time: 9.33 ms\n"
     ]
    }
   ],
   "source": [
    "def jacobian_similarity(persons_of_feature, featur1, featur2):\n",
    "    feat1 = persons_of_feature[featur1]\n",
    "    feat2 = persons_of_feature[featur2]\n",
    "    len1 = len(feat1)\n",
    "    len2 = len(feat2)\n",
    "    intersection = len(feat1.intersection(feat2))\n",
    "    union = len1 + len2 - intersection\n",
    "    if len1 == 0 or len1 == 0:\n",
    "        return 0.0\n",
    "    return intersection * 1.0 / union\n",
    "\n",
    "def cosine_similarity(persons_of_feature, featur1, featur2):\n",
    "    feat1 = persons_of_feature[featur1]\n",
    "    feat2 = persons_of_feature[featur2]\n",
    "    len1 = len(feat1)\n",
    "    len2 = len(feat2)\n",
    "    intersection = len(feat1.intersection(feat2))\n",
    "    # union = len1 + len2 - intersection\n",
    "    if len1 == 0 or len2 == 0:\n",
    "        return 0.0\n",
    "    return intersection * 1.0 / math.sqrt(len1*len2)"
   ]
  },
  {
   "cell_type": "code",
   "execution_count": 5,
   "metadata": {
    "collapsed": false
   },
   "outputs": [
    {
     "name": "stdout",
     "output_type": "stream",
     "text": [
      "time: 9.17 ms\n"
     ]
    }
   ],
   "source": [
    "def get_similarity_matrices(train_df):\n",
    "    persons_of_feature = get_persons_of_feature(train_df)\n",
    "    jacob_matrix = collections.defaultdict(dict)\n",
    "    cosine_matrix = collections.defaultdict(dict)\n",
    "    for i in range(24):\n",
    "        jacob_matrix[i][i] = 1.0\n",
    "        cosine_matrix[i][i] = 1.0\n",
    "        for j in range(i + 1, 24):\n",
    "            temp = jacobian_similarity(persons_of_feature, HEADER[i + 24], HEADER[j+24])\n",
    "            jacob_matrix[i][j] = temp\n",
    "            jacob_matrix[j][i] = temp\n",
    "\n",
    "            temp1 = cosine_similarity(persons_of_feature, HEADER[i+24], HEADER[j+24])\n",
    "            cosine_matrix[i][j] = temp1\n",
    "            cosine_matrix[j][i] = temp1\n",
    "    cosine_pd = pd.DataFrame(cosine_matrix)\n",
    "    jacob_pd = pd.DataFrame(jacob_matrix)\n",
    "    return jacob_pd, cosine_pd\n"
   ]
  },
  {
   "cell_type": "code",
   "execution_count": 6,
   "metadata": {
    "collapsed": false
   },
   "outputs": [
    {
     "name": "stdout",
     "output_type": "stream",
     "text": [
      "time: 15.6 ms\n"
     ]
    }
   ],
   "source": [
    "def get_similarity_matrices_from_added(added_df):\n",
    "    persons_of_feature = get_persons_of_feature_from_added(added_df)\n",
    "    jacob_matrix = collections.defaultdict(dict)\n",
    "    cosine_matrix = collections.defaultdict(dict)\n",
    "    for i in range(24):\n",
    "        jacob_matrix[i][i] = 1.0\n",
    "        cosine_matrix[i][i] = 1.0\n",
    "        for j in range(i + 1, 24):\n",
    "            temp = jacobian_similarity(persons_of_feature, HEADER[i + 24], HEADER[j+24])\n",
    "            jacob_matrix[i][j] = temp\n",
    "            jacob_matrix[j][i] = temp\n",
    "\n",
    "            temp1 = cosine_similarity(persons_of_feature, HEADER[i+24], HEADER[j+24])\n",
    "            cosine_matrix[i][j] = temp1\n",
    "            cosine_matrix[j][i] = temp1\n",
    "    cosine_pd = pd.DataFrame(cosine_matrix)\n",
    "    jacob_pd = pd.DataFrame(jacob_matrix)\n",
    "    return jacob_pd, cosine_pd\n",
    "\n",
    "def get_persons_of_feature_from_added(added):\n",
    "    persons_of_feature = dict()\n",
    "    for feat in HEADER[24:]:\n",
    "        persons_of_feature[feat] = set(added.loc[added['added_product'] == feat][\"ncodpers\"])\n",
    "    return persons_of_feature\n",
    "# for feat in header[24:]:\n",
    "#     print feat, len(persons_of_feature[feat])"
   ]
  },
  {
   "cell_type": "code",
   "execution_count": 7,
   "metadata": {
    "collapsed": false
   },
   "outputs": [
    {
     "name": "stdout",
     "output_type": "stream",
     "text": [
      "time: 2.47 ms\n"
     ]
    }
   ],
   "source": [
    "def get_wts_from_mat(df, row):\n",
    "    brow = map(bool, row)\n",
    "    wts = df.loc[brow, :].apply(sum)\n",
    "    wts[brow] = 0\n",
    "    return wts"
   ]
  },
  {
   "cell_type": "code",
   "execution_count": 8,
   "metadata": {
    "collapsed": false
   },
   "outputs": [
    {
     "name": "stdout",
     "output_type": "stream",
     "text": [
      "time: 16.5 ms\n"
     ]
    }
   ],
   "source": [
    "def get_similarity_features(file_names): #train_file, added_file):\n",
    "    train_file = file_names[0]\n",
    "    added_file = file_names[1]\n",
    "    train = pd.read_csv(train_file, header=None, names=HEADER[1:2] + HEADER[24:], usecols=[1]+range(24,48))\n",
    "    train.fillna(0, inplace=True)\n",
    "    for col in HEADER[24:]:\n",
    "        train[col] = train[col].astype(int)\n",
    "    added_products = pd.read_csv(added_file, usecols=[0])\n",
    "    jacob_pd, cosine_pd = get_similarity_matrices(train)\n",
    "    train.set_index('ncodpers', inplace=True)\n",
    "    train_final = pd.DataFrame()\n",
    "    train_final['ncodpers'] = added_products['ncodpers']\n",
    "    train_final.set_index('ncodpers', inplace=True)\n",
    "    for col in HEADER[24:]:\n",
    "        train_final['jacob_' + col] = [0.0]*train_final.shape[0]\n",
    "        train_final['cosine_' + col] = [0.0]*train_final.shape[0]\n",
    "\n",
    "    for i in tqdm(train_final.index):\n",
    "        row = list(train.loc[i, HEADER[24:]])\n",
    "        jwts = get_wts_from_mat(jacob_pd, row)\n",
    "        cwts = get_wts_from_mat(cosine_pd, row)\n",
    "        train_final.loc[i, ['jacob_' + h for h in HEADER[24:]]] = list(jwts)\n",
    "        train_final.loc[i, ['cosine_' + h for h in HEADER[24:]]] = list(cwts)\n",
    "    return train_final, file_names[2]"
   ]
  },
  {
   "cell_type": "code",
   "execution_count": 8,
   "metadata": {
    "collapsed": false
   },
   "outputs": [
    {
     "name": "stderr",
     "output_type": "stream",
     "text": [
      "100%|██████████| 41745/41745 [04:41<00:00, 148.17it/s]"
     ]
    },
    {
     "name": "stdout",
     "output_type": "stream",
     "text": [
      "time: 4min 45s\n"
     ]
    },
    {
     "name": "stderr",
     "output_type": "stream",
     "text": [
      "\n"
     ]
    }
   ],
   "source": [
    "simi_feat = get_similarity_features('data/train_2015_05_28.csv', 'data/added_product_2015_05_28.csv')"
   ]
  },
  {
   "cell_type": "code",
   "execution_count": 13,
   "metadata": {
    "collapsed": false
   },
   "outputs": [
    {
     "name": "stdout",
     "output_type": "stream",
     "text": [
      "time: 21.3 ms\n"
     ]
    }
   ],
   "source": [
    "# def get_similarity_features_from_added(file_names): #train_file, added_file):\n",
    "#     train_file = file_names[0]\n",
    "#     similarity_file = file_names[1]\n",
    "#     added_file = file_names[2]\n",
    "#     train = pd.read_csv(train_file, header=None, names=HEADER[1:2] + HEADER[24:], usecols=[1]+range(24,48))\n",
    "#     train.fillna(0, inplace=True)\n",
    "#     for col in HEADER[24:]:\n",
    "#         train[col] = train[col].astype(int)\n",
    "#     added_products = pd.read_csv(added_file, usecols=[0])\n",
    "#     similarity_df = pd.read_csv(similarity_file)\n",
    "#     jacob_pd, cosine_pd = get_similarity_matrices_from_added(similarity_df)\n",
    "#     train.set_index('ncodpers', inplace=True)\n",
    "#     train_final = pd.DataFrame()\n",
    "#     train_final['ncodpers'] = added_products['ncodpers']\n",
    "#     train_final.set_index('ncodpers', inplace=True)\n",
    "#     for col in HEADER[24:]:\n",
    "#         train_final['jacob_added_' + col] = [0.0]*train_final.shape[0]\n",
    "#         train_final['cosine_added_' + col] = [0.0]*train_final.shape[0]\n",
    "\n",
    "#     for i in tqdm(train_final.index):\n",
    "#         row = list(train.loc[i, HEADER[24:]])\n",
    "#         jwts = get_wts_from_mat(jacob_pd, row)\n",
    "#         cwts = get_wts_from_mat(cosine_pd, row)\n",
    "#         train_final.loc[i, ['jacob_added_' + h for h in HEADER[24:]]] = list(jwts)\n",
    "#         train_final.loc[i, ['cosine_added_' + h for h in HEADER[24:]]] = list(cwts)\n",
    "#     return train_final, file_names[3], jacob_pd, cosine_pd"
   ]
  },
  {
   "cell_type": "code",
   "execution_count": 17,
   "metadata": {
    "collapsed": false
   },
   "outputs": [
    {
     "name": "stderr",
     "output_type": "stream",
     "text": [
      "100%|██████████| 41745/41745 [05:25<00:00, 128.37it/s]"
     ]
    },
    {
     "name": "stdout",
     "output_type": "stream",
     "text": [
      "time: 5min 27s\n"
     ]
    },
    {
     "name": "stderr",
     "output_type": "stream",
     "text": [
      "\n"
     ]
    }
   ],
   "source": [
    "tdf, ind, j_pd, c_pd = get_similarity_features_from_added(('data/train_2015_05_28.csv', 'data/added_product_2015_04_28.csv', 'data/added_product_2015_05_28.csv', 1))"
   ]
  },
  {
   "cell_type": "markdown",
   "metadata": {},
   "source": [
    "---\n",
    "# added in the last two months data set computation\n",
    "---"
   ]
  },
  {
   "cell_type": "code",
   "execution_count": 11,
   "metadata": {
    "collapsed": false
   },
   "outputs": [
    {
     "name": "stdout",
     "output_type": "stream",
     "text": [
      "time: 86.3 ms\n"
     ]
    }
   ],
   "source": [
    "def get_file_string_from_train_data(train_data):\n",
    "    date_time = datetime.datetime(train_data[0], train_data[1], 28)\n",
    "    return '_'.join(str(date_time.date()).split('-'))\n",
    "\n",
    "def get_date_string_from_train_data(train_data):\n",
    "    date_time = datetime.datetime(train_data[0], train_data[1], 28)\n",
    "    return '-'.join(str(date_time.date()).split('-'))\n",
    "\n",
    "def subtract_one_month(train_data):\n",
    "    if train_data[1] == 1:\n",
    "        return 2015, 12\n",
    "    else:\n",
    "        return train_data[0], train_data[1] - 1\n",
    "    \n",
    "som = subtract_one_month\n",
    "\n",
    "\n",
    "\n",
    "def added_in_the_last_2_months(date, added_df):\n",
    "    \"\"\"\n",
    "    date = (2015, 5)\n",
    "    \"\"\"\n",
    "    \n",
    "    print date\n",
    "#     added_df = pd.read_csv('data/added_in_last_2_months.csv')\n",
    "    current_month = get_file_string_from_train_data(date)\n",
    "    last_month = get_file_string_from_train_data(som(date))\n",
    "    last_last_month = get_date_string_from_train_data(som(som(date)))\n",
    "    \n",
    "    current_date = get_date_string_from_train_data(date)\n",
    "    \n",
    "    if date[:2] == (2016, 5):\n",
    "        added = pd.read_csv('data/test_ver2.csv', usecols=[1])\n",
    "    else:\n",
    "        added = pd.read_csv('data/added_product_' + current_month + '.csv', usecols=[0])\n",
    "    \n",
    "    similarity_df = pd.read_csv('data/added_product_' + last_month + '.csv')\n",
    "    jacob_pd, cosine_pd = get_similarity_matrices_from_added(similarity_df)\n",
    "    \n",
    "    train_final = pd.DataFrame()\n",
    "    train_final['ncodpers'] = added['ncodpers']\n",
    "    train_final.set_index('ncodpers', inplace=True)\n",
    "    for col in HEADER[24:]:\n",
    "        train_final['jacob_added_2_old_' + col] = [0.0]*train_final.shape[0]\n",
    "        train_final['cosine_added_2_old_' + col] = [0.0]*train_final.shape[0]\n",
    "    temp_added_df = added_df.loc[added_df.fecha_dato == current_date, :]\n",
    "    temp_added_df.set_index('ncodpers', inplace=True)\n",
    "    for i in tqdm(train_final.index):\n",
    "#         row = get_added_row(date, i, added_df)\n",
    "        try:\n",
    "            row = temp_added_df.loc[i, HEADER[24:]].values\n",
    "        except KeyError:\n",
    "            row = [0]*24\n",
    "        \n",
    "        jwts = get_wts_from_mat(jacob_pd, row)\n",
    "        cwts = get_wts_from_mat(cosine_pd, row)\n",
    "        train_final.loc[i, ['jacob_added_2_old_' + h for h in HEADER[24:]]] = list(jwts)\n",
    "        train_final.loc[i, ['cosine_added_2_old_' + h for h in HEADER[24:]]] = list(cwts)\n",
    "#     train_final.fillna()\n",
    "    del added_df\n",
    "    gc.collect()\n",
    "    return train_final, date[2]\n",
    "        \n",
    "def get_added_row(date, ncod, added_df):\n",
    "    current_month = get_date_string_from_train_data(date)\n",
    "    last_month = get_date_string_from_train_data(som(date))\n",
    "    last_last_month = get_date_string_from_train_data(som(som(date)))\n",
    "    \n",
    "#     return [random.randint(0,1) for x in range(24)]\n",
    "\n",
    "    added_row = added_df.loc[(added_df['fecha_dato'] == current_month) & (added_df['ncodpers']==ncod), HEADER[24:]].values\n",
    "    if len(added_row) == 0:\n",
    "        return [0]*24\n",
    "    else:\n",
    "        return added_row[0]\n",
    "    \n",
    "#     current_subs = main_train.loc[(main_train['fecha_dato'] == current_month) & (main_train['ncodpers'] == ncod), HEADER[24:]]\n",
    "    \n",
    "#     two_months_old = main_train.loc[(main_train['fecha_dato'] == last_last_month) & (main_train['ncodpers'] == ncod), HEADER[24:]]\n",
    "#     if len(two_months_old) == 0:\n",
    "#         two_months_old = main_train.loc[(main_train['fecha_dato'] == last_month) & (main_train['ncodpers'] == ncod), HEADER[24:]]\n",
    "#         if len(two_months_old) == 0:\n",
    "#             return [0]*24\n",
    "#     added_row = [(t^r) & r for t, r in zip(two_months_old.values[0], current_subs.values[0])]\n",
    "#     return added_row\n",
    "\n",
    "    \n",
    "    "
   ]
  },
  {
   "cell_type": "code",
   "execution_count": 34,
   "metadata": {
    "collapsed": false
   },
   "outputs": [
    {
     "name": "stdout",
     "output_type": "stream",
     "text": [
      "time: 20.9 ms\n"
     ]
    }
   ],
   "source": [
    "def f(x):\n",
    "    x.set_index('fecha_dato', inplace=True)\n",
    "    ncod =  x['ncodpers'][0]\n",
    "    temp = pd.DataFrame()\n",
    "    temp['fecha_dato'] = x.index[2:]\n",
    "    temp['ncodpers'] = [int(x.ncodpers[0])]*temp.shape[0]\n",
    "    for col in HEADER[24:]:\n",
    "        temp[col] = [0]*temp.shape[0]\n",
    "#     print temp\n",
    "    for i in temp.index:\n",
    "        cur_date = temp.loc[i, 'fecha_dato']\n",
    "#         print cur_date, 'cur date'\n",
    "        old_date = get_date_string_from_train_data(som(som(tuple(map(int, cur_date.split('-')[:2])))))\n",
    "#         print old_date, 'old date'\n",
    "        cur = list(x.loc[cur_date, HEADER[24:]])\n",
    "        try:\n",
    "            old = list(x.loc[old_date, HEADER[24:]])\n",
    "        except KeyError:\n",
    "            # print ncod, 'keyerror'\n",
    "            old = cur\n",
    "        temp.loc[i, HEADER[24:]] = is_added(old, cur)\n",
    "#         print cur, 'cur'\n",
    "#         print is_added(old,cur), 'isadded'\n",
    "    return temp\n",
    "\n",
    "def is_added(old, cur):\n",
    "    old = map(int, old)\n",
    "    cur = map(int, cur)\n",
    "    return [(o^c)& c for o, c in zip(old,cur)]"
   ]
  },
  {
   "cell_type": "code",
   "execution_count": 18,
   "metadata": {
    "collapsed": false
   },
   "outputs": [
    {
     "name": "stdout",
     "output_type": "stream",
     "text": [
      "time: 30.1 s\n"
     ]
    }
   ],
   "source": [
    "sorted_tr = pd.read_csv('data/sorted_train.csv', usecols=range(2)+range(24,48))\n",
    "sorted_tr.fillna(0, inplace=True)\n",
    "for col in HEADER[24:]:\n",
    "    sorted_tr[col] = sorted_tr[col].astype(int)\n",
    "\n",
    "g = sorted_tr.groupby('ncodpers')\n",
    "\n",
    "gh = sorted_tr.head(200).groupby('ncodpers')\n",
    "\n",
    "from joblib import Parallel, delayed\n",
    "import multiprocessing\n",
    "\n",
    "\n",
    "def applyParallel(dfGrouped, func):\n",
    "    retLst = Parallel(n_jobs=multiprocessing.cpu_count())(delayed(func)(group) for name, group in dfGrouped)\n",
    "    return pd.concat(retLst)\n",
    "\n",
    "\n"
   ]
  },
  {
   "cell_type": "code",
   "execution_count": 40,
   "metadata": {
    "collapsed": false
   },
   "outputs": [
    {
     "name": "stdout",
     "output_type": "stream",
     "text": [
      "time: 2h 45min 44s\n"
     ]
    }
   ],
   "source": [
    "x = applyParallel(g, f)"
   ]
  },
  {
   "cell_type": "code",
   "execution_count": 42,
   "metadata": {
    "collapsed": false
   },
   "outputs": [
    {
     "name": "stdout",
     "output_type": "stream",
     "text": [
      "time: 12.6 s\n"
     ]
    }
   ],
   "source": [
    "for col in ['ncodpers']+HEADER[24:]:\n",
    "    x[col] = x[col].astype(int)\n",
    "\n",
    "x.to_csv('data/added_in_last_2_months.csv', index=False)\n",
    "\n",
    "make_submission('data/added_in_last_2_months.csv', upload_to_s3=True)"
   ]
  },
  {
   "cell_type": "code",
   "execution_count": 10,
   "metadata": {
    "collapsed": false
   },
   "outputs": [
    {
     "name": "stdout",
     "output_type": "stream",
     "text": [
      "time: 20.6 s\n"
     ]
    }
   ],
   "source": [
    "added_df = pd.read_csv('data/added_in_last_2_months.csv')"
   ]
  },
  {
   "cell_type": "code",
   "execution_count": 79,
   "metadata": {
    "collapsed": false
   },
   "outputs": [
    {
     "name": "stderr",
     "output_type": "stream",
     "text": [
      "100%|██████████| 41745/41745 [02:25<00:00, 287.75it/s]"
     ]
    },
    {
     "name": "stdout",
     "output_type": "stream",
     "text": [
      "time: 2min 26s\n"
     ]
    },
    {
     "name": "stderr",
     "output_type": "stream",
     "text": [
      "\n"
     ]
    }
   ],
   "source": [
    "tr_df, ind = added_in_the_last_2_months((2015, 5, 1), added_df)"
   ]
  },
  {
   "cell_type": "code",
   "execution_count": 102,
   "metadata": {
    "collapsed": false
   },
   "outputs": [
    {
     "name": "stdout",
     "output_type": "stream",
     "text": [
      "time: 4.23 ms\n"
     ]
    }
   ],
   "source": [
    "class StateLoader(object):\n",
    "    def __init__(self, added_df):\n",
    "        self.added_df = added_df\n",
    "    def __call__(self, date):\n",
    "        return added_in_the_last_2_months(date, self.added_df)"
   ]
  },
  {
   "cell_type": "code",
   "execution_count": 13,
   "metadata": {
    "collapsed": false
   },
   "outputs": [
    {
     "name": "stdout",
     "output_type": "stream",
     "text": [
      "time: 2.04 ms\n"
     ]
    }
   ],
   "source": [
    "dates = [(2015, 5, 1), (2015, 6, 2), (2015, 7, 3), (2015, 8, 4), (2015, 9, 5), (2015, 10, 6), (2015, 11, 7), (2015, 12, 8),\n",
    "         (2016, 1, 9), (2016, 2, 10), (2016, 3, 11), (2016, 4, 12)]"
   ]
  },
  {
   "cell_type": "code",
   "execution_count": 14,
   "metadata": {
    "collapsed": false
   },
   "outputs": [
    {
     "name": "stdout",
     "output_type": "stream",
     "text": [
      "(2015, 5, 1)\n"
     ]
    },
    {
     "name": "stderr",
     "output_type": "stream",
     "text": [
      "100%|██████████| 41745/41745 [02:24<00:00, 289.63it/s]\n"
     ]
    },
    {
     "name": "stdout",
     "output_type": "stream",
     "text": [
      "(2015, 6, 2)\n"
     ]
    },
    {
     "name": "stderr",
     "output_type": "stream",
     "text": [
      "100%|██████████| 33362/33362 [01:59<00:00, 279.75it/s]\n"
     ]
    },
    {
     "name": "stdout",
     "output_type": "stream",
     "text": [
      "(2015, 7, 3)\n"
     ]
    },
    {
     "name": "stderr",
     "output_type": "stream",
     "text": [
      "100%|██████████| 29490/29490 [01:43<00:00, 284.14it/s]\n"
     ]
    },
    {
     "name": "stdout",
     "output_type": "stream",
     "text": [
      "(2015, 8, 4)\n"
     ]
    },
    {
     "name": "stderr",
     "output_type": "stream",
     "text": [
      "100%|██████████| 35696/35696 [02:01<00:00, 293.68it/s]\n"
     ]
    },
    {
     "name": "stdout",
     "output_type": "stream",
     "text": [
      "(2015, 9, 5)\n"
     ]
    },
    {
     "name": "stderr",
     "output_type": "stream",
     "text": [
      "100%|██████████| 39803/39803 [02:15<00:00, 294.00it/s]\n"
     ]
    },
    {
     "name": "stdout",
     "output_type": "stream",
     "text": [
      "(2015, 10, 6)\n"
     ]
    },
    {
     "name": "stderr",
     "output_type": "stream",
     "text": [
      "100%|██████████| 35215/35215 [02:01<00:00, 290.03it/s]\n"
     ]
    },
    {
     "name": "stdout",
     "output_type": "stream",
     "text": [
      "(2015, 11, 7)\n"
     ]
    },
    {
     "name": "stderr",
     "output_type": "stream",
     "text": [
      "100%|██████████| 42353/42353 [02:25<00:00, 290.42it/s]\n"
     ]
    },
    {
     "name": "stdout",
     "output_type": "stream",
     "text": [
      "(2015, 12, 8)\n"
     ]
    },
    {
     "name": "stderr",
     "output_type": "stream",
     "text": [
      "100%|██████████| 30956/30956 [01:48<00:00, 284.25it/s]\n"
     ]
    },
    {
     "name": "stdout",
     "output_type": "stream",
     "text": [
      "(2016, 1, 9)\n"
     ]
    },
    {
     "name": "stderr",
     "output_type": "stream",
     "text": [
      "100%|██████████| 49024/49024 [02:53<00:00, 282.06it/s]\n"
     ]
    },
    {
     "name": "stdout",
     "output_type": "stream",
     "text": [
      "(2016, 2, 10)\n"
     ]
    },
    {
     "name": "stderr",
     "output_type": "stream",
     "text": [
      "100%|██████████| 35203/35203 [02:00<00:00, 292.34it/s]\n"
     ]
    },
    {
     "name": "stdout",
     "output_type": "stream",
     "text": [
      "(2016, 3, 11)\n"
     ]
    },
    {
     "name": "stderr",
     "output_type": "stream",
     "text": [
      "100%|██████████| 32962/32962 [01:56<00:00, 283.20it/s]\n"
     ]
    },
    {
     "name": "stdout",
     "output_type": "stream",
     "text": [
      "(2016, 4, 12)\n"
     ]
    },
    {
     "name": "stderr",
     "output_type": "stream",
     "text": [
      "100%|██████████| 35843/35843 [02:04<00:00, 288.47it/s]"
     ]
    },
    {
     "name": "stdout",
     "output_type": "stream",
     "text": [
      "time: 25min 45s\n"
     ]
    },
    {
     "name": "stderr",
     "output_type": "stream",
     "text": [
      "\n"
     ]
    }
   ],
   "source": [
    "# p = Pool(3)\n",
    "results = map(lambda x: added_in_the_last_2_months(x, added_df), dates)\n",
    "# p.close()\n",
    "# p.join()"
   ]
  },
  {
   "cell_type": "code",
   "execution_count": 117,
   "metadata": {
    "collapsed": false
   },
   "outputs": [
    {
     "data": {
      "text/plain": [
       "161"
      ]
     },
     "execution_count": 117,
     "metadata": {},
     "output_type": "execute_result"
    },
    {
     "name": "stdout",
     "output_type": "stream",
     "text": [
      "time: 198 ms\n"
     ]
    }
   ],
   "source": [
    "gc.collect()"
   ]
  },
  {
   "cell_type": "code",
   "execution_count": 16,
   "metadata": {
    "collapsed": false
   },
   "outputs": [
    {
     "data": {
      "text/plain": [
       "(441652, 48)"
      ]
     },
     "execution_count": 16,
     "metadata": {},
     "output_type": "execute_result"
    },
    {
     "name": "stdout",
     "output_type": "stream",
     "text": [
      "time: 55.1 ms\n"
     ]
    }
   ],
   "source": [
    "jacob_added_in_the_last_2_train = pd.concat(tuple([x[0] for x in results]))\n",
    "jacob_added_in_the_last_2_train.shape"
   ]
  },
  {
   "cell_type": "code",
   "execution_count": 17,
   "metadata": {
    "collapsed": false
   },
   "outputs": [
    {
     "name": "stdout",
     "output_type": "stream",
     "text": [
      "Compressing file\n",
      "Compression done\n",
      "Uploading file to s3 data/15.Jacobian_similarity_features_added_in_last_2_months.train_data.zip\n",
      "uploading to s3 done\n",
      "time: 23.1 s\n"
     ]
    }
   ],
   "source": [
    "pickle.dump(jacob_added_in_the_last_2_train, open('data/15.Jacobian_similarity_features_added_in_last_2_months.train_data', 'wb'))\n",
    "make_submission('data/15.Jacobian_similarity_features_added_in_last_2_months.train_data', upload_to_s3=True)"
   ]
  },
  {
   "cell_type": "code",
   "execution_count": 18,
   "metadata": {
    "collapsed": false
   },
   "outputs": [
    {
     "name": "stdout",
     "output_type": "stream",
     "text": [
      "(2016, 5, 1)\n"
     ]
    },
    {
     "name": "stderr",
     "output_type": "stream",
     "text": [
      "100%|██████████| 929615/929615 [48:16<00:00, 320.89it/s]"
     ]
    },
    {
     "name": "stdout",
     "output_type": "stream",
     "text": [
      "time: 48min 20s\n"
     ]
    },
    {
     "name": "stderr",
     "output_type": "stream",
     "text": [
      "\n"
     ]
    }
   ],
   "source": [
    "jacob_added_in_the_last_2_test, ind = added_in_the_last_2_months((2016, 5, 1), added_df)"
   ]
  },
  {
   "cell_type": "code",
   "execution_count": 19,
   "metadata": {
    "collapsed": false
   },
   "outputs": [
    {
     "name": "stdout",
     "output_type": "stream",
     "text": [
      "Compressing file\n",
      "Compression done\n",
      "Uploading file to s3 data/15.Jacobian_similarity_features_added_in_last_2_months.test_data.zip\n",
      "uploading to s3 done\n",
      "time: 56.1 s\n"
     ]
    }
   ],
   "source": [
    "pickle.dump(jacob_added_in_the_last_2_test, open('data/15.Jacobian_similarity_features_added_in_last_2_months.test_data', 'wb'))\n",
    "make_submission('data/15.Jacobian_similarity_features_added_in_last_2_months.test_data', upload_to_s3=True)"
   ]
  },
  {
   "cell_type": "code",
   "execution_count": 20,
   "metadata": {
    "collapsed": false
   },
   "outputs": [
    {
     "name": "stdout",
     "output_type": "stream",
     "text": [
      "time: 29.8 s\n"
     ]
    }
   ],
   "source": [
    "description, train, added_products, label_encoder, encoders = pickle.load(open('../old_machine/home/ubuntu/santander/data/train_data.train_data', 'rb'))"
   ]
  },
  {
   "cell_type": "code",
   "execution_count": 21,
   "metadata": {
    "collapsed": false
   },
   "outputs": [
    {
     "data": {
      "text/html": [
       "<div>\n",
       "<table border=\"1\" class=\"dataframe\">\n",
       "  <thead>\n",
       "    <tr style=\"text-align: right;\">\n",
       "      <th></th>\n",
       "      <th>jacob_added_2_old_ind_ahor_fin_ult1</th>\n",
       "      <th>cosine_added_2_old_ind_ahor_fin_ult1</th>\n",
       "      <th>jacob_added_2_old_ind_aval_fin_ult1</th>\n",
       "      <th>cosine_added_2_old_ind_aval_fin_ult1</th>\n",
       "      <th>jacob_added_2_old_ind_cco_fin_ult1</th>\n",
       "      <th>cosine_added_2_old_ind_cco_fin_ult1</th>\n",
       "      <th>jacob_added_2_old_ind_cder_fin_ult1</th>\n",
       "      <th>cosine_added_2_old_ind_cder_fin_ult1</th>\n",
       "      <th>jacob_added_2_old_ind_cno_fin_ult1</th>\n",
       "      <th>cosine_added_2_old_ind_cno_fin_ult1</th>\n",
       "      <th>...</th>\n",
       "      <th>jacob_added_2_old_ind_valo_fin_ult1</th>\n",
       "      <th>cosine_added_2_old_ind_valo_fin_ult1</th>\n",
       "      <th>jacob_added_2_old_ind_viv_fin_ult1</th>\n",
       "      <th>cosine_added_2_old_ind_viv_fin_ult1</th>\n",
       "      <th>jacob_added_2_old_ind_nomina_ult1</th>\n",
       "      <th>cosine_added_2_old_ind_nomina_ult1</th>\n",
       "      <th>jacob_added_2_old_ind_nom_pens_ult1</th>\n",
       "      <th>cosine_added_2_old_ind_nom_pens_ult1</th>\n",
       "      <th>jacob_added_2_old_ind_recibo_ult1</th>\n",
       "      <th>cosine_added_2_old_ind_recibo_ult1</th>\n",
       "    </tr>\n",
       "    <tr>\n",
       "      <th>ncodpers</th>\n",
       "      <th></th>\n",
       "      <th></th>\n",
       "      <th></th>\n",
       "      <th></th>\n",
       "      <th></th>\n",
       "      <th></th>\n",
       "      <th></th>\n",
       "      <th></th>\n",
       "      <th></th>\n",
       "      <th></th>\n",
       "      <th></th>\n",
       "      <th></th>\n",
       "      <th></th>\n",
       "      <th></th>\n",
       "      <th></th>\n",
       "      <th></th>\n",
       "      <th></th>\n",
       "      <th></th>\n",
       "      <th></th>\n",
       "      <th></th>\n",
       "      <th></th>\n",
       "    </tr>\n",
       "  </thead>\n",
       "  <tbody>\n",
       "    <tr>\n",
       "      <th>15889</th>\n",
       "      <td>NaN</td>\n",
       "      <td>NaN</td>\n",
       "      <td>NaN</td>\n",
       "      <td>NaN</td>\n",
       "      <td>NaN</td>\n",
       "      <td>NaN</td>\n",
       "      <td>NaN</td>\n",
       "      <td>NaN</td>\n",
       "      <td>NaN</td>\n",
       "      <td>NaN</td>\n",
       "      <td>...</td>\n",
       "      <td>NaN</td>\n",
       "      <td>NaN</td>\n",
       "      <td>NaN</td>\n",
       "      <td>NaN</td>\n",
       "      <td>NaN</td>\n",
       "      <td>NaN</td>\n",
       "      <td>NaN</td>\n",
       "      <td>NaN</td>\n",
       "      <td>NaN</td>\n",
       "      <td>NaN</td>\n",
       "    </tr>\n",
       "    <tr>\n",
       "      <th>1170544</th>\n",
       "      <td>NaN</td>\n",
       "      <td>NaN</td>\n",
       "      <td>NaN</td>\n",
       "      <td>NaN</td>\n",
       "      <td>NaN</td>\n",
       "      <td>NaN</td>\n",
       "      <td>NaN</td>\n",
       "      <td>NaN</td>\n",
       "      <td>NaN</td>\n",
       "      <td>NaN</td>\n",
       "      <td>...</td>\n",
       "      <td>NaN</td>\n",
       "      <td>NaN</td>\n",
       "      <td>NaN</td>\n",
       "      <td>NaN</td>\n",
       "      <td>NaN</td>\n",
       "      <td>NaN</td>\n",
       "      <td>NaN</td>\n",
       "      <td>NaN</td>\n",
       "      <td>NaN</td>\n",
       "      <td>NaN</td>\n",
       "    </tr>\n",
       "    <tr>\n",
       "      <th>1170545</th>\n",
       "      <td>NaN</td>\n",
       "      <td>NaN</td>\n",
       "      <td>NaN</td>\n",
       "      <td>NaN</td>\n",
       "      <td>NaN</td>\n",
       "      <td>NaN</td>\n",
       "      <td>NaN</td>\n",
       "      <td>NaN</td>\n",
       "      <td>NaN</td>\n",
       "      <td>NaN</td>\n",
       "      <td>...</td>\n",
       "      <td>NaN</td>\n",
       "      <td>NaN</td>\n",
       "      <td>NaN</td>\n",
       "      <td>NaN</td>\n",
       "      <td>NaN</td>\n",
       "      <td>NaN</td>\n",
       "      <td>NaN</td>\n",
       "      <td>NaN</td>\n",
       "      <td>NaN</td>\n",
       "      <td>NaN</td>\n",
       "    </tr>\n",
       "    <tr>\n",
       "      <th>1170547</th>\n",
       "      <td>NaN</td>\n",
       "      <td>NaN</td>\n",
       "      <td>NaN</td>\n",
       "      <td>NaN</td>\n",
       "      <td>NaN</td>\n",
       "      <td>NaN</td>\n",
       "      <td>NaN</td>\n",
       "      <td>NaN</td>\n",
       "      <td>NaN</td>\n",
       "      <td>NaN</td>\n",
       "      <td>...</td>\n",
       "      <td>NaN</td>\n",
       "      <td>NaN</td>\n",
       "      <td>NaN</td>\n",
       "      <td>NaN</td>\n",
       "      <td>NaN</td>\n",
       "      <td>NaN</td>\n",
       "      <td>NaN</td>\n",
       "      <td>NaN</td>\n",
       "      <td>NaN</td>\n",
       "      <td>NaN</td>\n",
       "    </tr>\n",
       "    <tr>\n",
       "      <th>1170548</th>\n",
       "      <td>NaN</td>\n",
       "      <td>NaN</td>\n",
       "      <td>NaN</td>\n",
       "      <td>NaN</td>\n",
       "      <td>NaN</td>\n",
       "      <td>NaN</td>\n",
       "      <td>NaN</td>\n",
       "      <td>NaN</td>\n",
       "      <td>NaN</td>\n",
       "      <td>NaN</td>\n",
       "      <td>...</td>\n",
       "      <td>NaN</td>\n",
       "      <td>NaN</td>\n",
       "      <td>NaN</td>\n",
       "      <td>NaN</td>\n",
       "      <td>NaN</td>\n",
       "      <td>NaN</td>\n",
       "      <td>NaN</td>\n",
       "      <td>NaN</td>\n",
       "      <td>NaN</td>\n",
       "      <td>NaN</td>\n",
       "    </tr>\n",
       "  </tbody>\n",
       "</table>\n",
       "<p>5 rows × 48 columns</p>\n",
       "</div>"
      ],
      "text/plain": [
       "          jacob_added_2_old_ind_ahor_fin_ult1  \\\n",
       "ncodpers                                        \n",
       "15889                                     NaN   \n",
       "1170544                                   NaN   \n",
       "1170545                                   NaN   \n",
       "1170547                                   NaN   \n",
       "1170548                                   NaN   \n",
       "\n",
       "          cosine_added_2_old_ind_ahor_fin_ult1  \\\n",
       "ncodpers                                         \n",
       "15889                                      NaN   \n",
       "1170544                                    NaN   \n",
       "1170545                                    NaN   \n",
       "1170547                                    NaN   \n",
       "1170548                                    NaN   \n",
       "\n",
       "          jacob_added_2_old_ind_aval_fin_ult1  \\\n",
       "ncodpers                                        \n",
       "15889                                     NaN   \n",
       "1170544                                   NaN   \n",
       "1170545                                   NaN   \n",
       "1170547                                   NaN   \n",
       "1170548                                   NaN   \n",
       "\n",
       "          cosine_added_2_old_ind_aval_fin_ult1  \\\n",
       "ncodpers                                         \n",
       "15889                                      NaN   \n",
       "1170544                                    NaN   \n",
       "1170545                                    NaN   \n",
       "1170547                                    NaN   \n",
       "1170548                                    NaN   \n",
       "\n",
       "          jacob_added_2_old_ind_cco_fin_ult1  \\\n",
       "ncodpers                                       \n",
       "15889                                    NaN   \n",
       "1170544                                  NaN   \n",
       "1170545                                  NaN   \n",
       "1170547                                  NaN   \n",
       "1170548                                  NaN   \n",
       "\n",
       "          cosine_added_2_old_ind_cco_fin_ult1  \\\n",
       "ncodpers                                        \n",
       "15889                                     NaN   \n",
       "1170544                                   NaN   \n",
       "1170545                                   NaN   \n",
       "1170547                                   NaN   \n",
       "1170548                                   NaN   \n",
       "\n",
       "          jacob_added_2_old_ind_cder_fin_ult1  \\\n",
       "ncodpers                                        \n",
       "15889                                     NaN   \n",
       "1170544                                   NaN   \n",
       "1170545                                   NaN   \n",
       "1170547                                   NaN   \n",
       "1170548                                   NaN   \n",
       "\n",
       "          cosine_added_2_old_ind_cder_fin_ult1  \\\n",
       "ncodpers                                         \n",
       "15889                                      NaN   \n",
       "1170544                                    NaN   \n",
       "1170545                                    NaN   \n",
       "1170547                                    NaN   \n",
       "1170548                                    NaN   \n",
       "\n",
       "          jacob_added_2_old_ind_cno_fin_ult1  \\\n",
       "ncodpers                                       \n",
       "15889                                    NaN   \n",
       "1170544                                  NaN   \n",
       "1170545                                  NaN   \n",
       "1170547                                  NaN   \n",
       "1170548                                  NaN   \n",
       "\n",
       "          cosine_added_2_old_ind_cno_fin_ult1  \\\n",
       "ncodpers                                        \n",
       "15889                                     NaN   \n",
       "1170544                                   NaN   \n",
       "1170545                                   NaN   \n",
       "1170547                                   NaN   \n",
       "1170548                                   NaN   \n",
       "\n",
       "                         ...                  \\\n",
       "ncodpers                 ...                   \n",
       "15889                    ...                   \n",
       "1170544                  ...                   \n",
       "1170545                  ...                   \n",
       "1170547                  ...                   \n",
       "1170548                  ...                   \n",
       "\n",
       "          jacob_added_2_old_ind_valo_fin_ult1  \\\n",
       "ncodpers                                        \n",
       "15889                                     NaN   \n",
       "1170544                                   NaN   \n",
       "1170545                                   NaN   \n",
       "1170547                                   NaN   \n",
       "1170548                                   NaN   \n",
       "\n",
       "          cosine_added_2_old_ind_valo_fin_ult1  \\\n",
       "ncodpers                                         \n",
       "15889                                      NaN   \n",
       "1170544                                    NaN   \n",
       "1170545                                    NaN   \n",
       "1170547                                    NaN   \n",
       "1170548                                    NaN   \n",
       "\n",
       "          jacob_added_2_old_ind_viv_fin_ult1  \\\n",
       "ncodpers                                       \n",
       "15889                                    NaN   \n",
       "1170544                                  NaN   \n",
       "1170545                                  NaN   \n",
       "1170547                                  NaN   \n",
       "1170548                                  NaN   \n",
       "\n",
       "          cosine_added_2_old_ind_viv_fin_ult1  \\\n",
       "ncodpers                                        \n",
       "15889                                     NaN   \n",
       "1170544                                   NaN   \n",
       "1170545                                   NaN   \n",
       "1170547                                   NaN   \n",
       "1170548                                   NaN   \n",
       "\n",
       "          jacob_added_2_old_ind_nomina_ult1  \\\n",
       "ncodpers                                      \n",
       "15889                                   NaN   \n",
       "1170544                                 NaN   \n",
       "1170545                                 NaN   \n",
       "1170547                                 NaN   \n",
       "1170548                                 NaN   \n",
       "\n",
       "          cosine_added_2_old_ind_nomina_ult1  \\\n",
       "ncodpers                                       \n",
       "15889                                    NaN   \n",
       "1170544                                  NaN   \n",
       "1170545                                  NaN   \n",
       "1170547                                  NaN   \n",
       "1170548                                  NaN   \n",
       "\n",
       "          jacob_added_2_old_ind_nom_pens_ult1  \\\n",
       "ncodpers                                        \n",
       "15889                                     NaN   \n",
       "1170544                                   NaN   \n",
       "1170545                                   NaN   \n",
       "1170547                                   NaN   \n",
       "1170548                                   NaN   \n",
       "\n",
       "          cosine_added_2_old_ind_nom_pens_ult1  \\\n",
       "ncodpers                                         \n",
       "15889                                      NaN   \n",
       "1170544                                    NaN   \n",
       "1170545                                    NaN   \n",
       "1170547                                    NaN   \n",
       "1170548                                    NaN   \n",
       "\n",
       "          jacob_added_2_old_ind_recibo_ult1  \\\n",
       "ncodpers                                      \n",
       "15889                                   NaN   \n",
       "1170544                                 NaN   \n",
       "1170545                                 NaN   \n",
       "1170547                                 NaN   \n",
       "1170548                                 NaN   \n",
       "\n",
       "          cosine_added_2_old_ind_recibo_ult1  \n",
       "ncodpers                                      \n",
       "15889                                    NaN  \n",
       "1170544                                  NaN  \n",
       "1170545                                  NaN  \n",
       "1170547                                  NaN  \n",
       "1170548                                  NaN  \n",
       "\n",
       "[5 rows x 48 columns]"
      ]
     },
     "execution_count": 21,
     "metadata": {},
     "output_type": "execute_result"
    },
    {
     "name": "stdout",
     "output_type": "stream",
     "text": [
      "time: 34.4 ms\n"
     ]
    }
   ],
   "source": [
    "jacob_added_in_the_last_2_test.head()"
   ]
  },
  {
   "cell_type": "code",
   "execution_count": null,
   "metadata": {
    "collapsed": true
   },
   "outputs": [],
   "source": []
  }
 ],
 "metadata": {
  "kernelspec": {
   "display_name": "Python 2",
   "language": "python",
   "name": "python2"
  },
  "language_info": {
   "codemirror_mode": {
    "name": "ipython",
    "version": 2
   },
   "file_extension": ".py",
   "mimetype": "text/x-python",
   "name": "python",
   "nbconvert_exporter": "python",
   "pygments_lexer": "ipython2",
   "version": "2.7.6"
  }
 },
 "nbformat": 4,
 "nbformat_minor": 0
}
