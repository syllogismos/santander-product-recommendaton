{
 "cells": [
  {
   "cell_type": "code",
   "execution_count": 1,
   "metadata": {
    "collapsed": false
   },
   "outputs": [
    {
     "name": "stdout",
     "output_type": "stream",
     "text": [
      "Populating the interactive namespace from numpy and matplotlib\n"
     ]
    }
   ],
   "source": [
    "import pandas as pd\n",
    "import numpy as np\n",
    "import xgboost as xgb\n",
    "from sklearn.preprocessing import LabelEncoder\n",
    "from scripts.kaggle.helpers import make_submission\n",
    "import datetime\n",
    "from tqdm import tqdm\n",
    "import gc\n",
    "import itertools\n",
    "from multiprocessing import Pool\n",
    "import pickle\n",
    "import collections\n",
    "import math\n",
    "\n",
    "%matplotlib inline\n",
    "import matplotlib.pyplot as plt\n",
    "import seaborn as sns\n",
    "\n",
    "%pylab inline\n",
    "pylab.rcParams['figure.figsize'] = (12, 16)\n",
    "\n",
    "%load_ext autotime"
   ]
  },
  {
   "cell_type": "code",
   "execution_count": 2,
   "metadata": {
    "collapsed": false
   },
   "outputs": [
    {
     "name": "stdout",
     "output_type": "stream",
     "text": [
      "time: 10.2 ms\n"
     ]
    }
   ],
   "source": [
    "HEADER = [\"fecha_dato\", \"ncodpers\", \"ind_empleado\",\n",
    "          \"pais_residencia\", \"sexo\", \"age\", \"fecha_alta\",\n",
    "          \"ind_nuevo\", \"antiguedad\", \"indrel\", \"ult_fec_cli_1t\",\n",
    "          \"indrel_1mes\", \"tiprel_1mes\", \"indresi\", \"indext\",\n",
    "          \"conyuemp\", \"canal_entrada\", \"indfall\", \"tipodom\",\n",
    "          \"cod_prov\", \"nomprov\", \"ind_actividad_cliente\",\n",
    "          \"renta\", \"segmento\", \"ind_ahor_fin_ult1\",\n",
    "          \"ind_aval_fin_ult1\", \"ind_cco_fin_ult1\",\n",
    "          \"ind_cder_fin_ult1\", \"ind_cno_fin_ult1\",\n",
    "          \"ind_ctju_fin_ult1\", \"ind_ctma_fin_ult1\",\n",
    "          \"ind_ctop_fin_ult1\", \"ind_ctpp_fin_ult1\",\n",
    "          \"ind_deco_fin_ult1\", \"ind_deme_fin_ult1\",\n",
    "          \"ind_dela_fin_ult1\", \"ind_ecue_fin_ult1\",\n",
    "          \"ind_fond_fin_ult1\", \"ind_hip_fin_ult1\",\n",
    "          \"ind_plan_fin_ult1\", \"ind_pres_fin_ult1\",\n",
    "          \"ind_reca_fin_ult1\", \"ind_tjcr_fin_ult1\",\n",
    "          \"ind_valo_fin_ult1\", \"ind_viv_fin_ult1\",\n",
    "          \"ind_nomina_ult1\", \"ind_nom_pens_ult1\",\n",
    "          \"ind_recibo_ult1\"]"
   ]
  },
  {
   "cell_type": "code",
   "execution_count": 3,
   "metadata": {
    "collapsed": false
   },
   "outputs": [
    {
     "name": "stdout",
     "output_type": "stream",
     "text": [
      "time: 2.87 ms\n"
     ]
    }
   ],
   "source": [
    "def get_persons_of_feature(train):\n",
    "    persons_of_feature = dict()\n",
    "    for feat in HEADER[24:]:\n",
    "        persons_of_feature[feat] = set(train.loc[train[feat] == 1][\"ncodpers\"])\n",
    "    return persons_of_feature\n",
    "# for feat in header[24:]:\n",
    "#     print feat, len(persons_of_feature[feat])"
   ]
  },
  {
   "cell_type": "code",
   "execution_count": 4,
   "metadata": {
    "collapsed": false
   },
   "outputs": [
    {
     "name": "stdout",
     "output_type": "stream",
     "text": [
      "time: 12.4 ms\n"
     ]
    }
   ],
   "source": [
    "def jacobian_similarity(persons_of_feature, featur1, featur2):\n",
    "    feat1 = persons_of_feature[featur1]\n",
    "    feat2 = persons_of_feature[featur2]\n",
    "    len1 = len(feat1)\n",
    "    len2 = len(feat2)\n",
    "    intersection = len(feat1.intersection(feat2))\n",
    "    union = len1 + len2 - intersection\n",
    "    if len1 == 0 or len1 == 0:\n",
    "        return 0.0\n",
    "    return intersection * 1.0 / union\n",
    "\n",
    "def cosine_similarity(persons_of_feature, featur1, featur2):\n",
    "    feat1 = persons_of_feature[featur1]\n",
    "    feat2 = persons_of_feature[featur2]\n",
    "    len1 = len(feat1)\n",
    "    len2 = len(feat2)\n",
    "    intersection = len(feat1.intersection(feat2))\n",
    "    # union = len1 + len2 - intersection\n",
    "    if len1 == 0 or len2 == 0:\n",
    "        return 0.0\n",
    "    return intersection * 1.0 / math.sqrt(len1*len2)"
   ]
  },
  {
   "cell_type": "code",
   "execution_count": 5,
   "metadata": {
    "collapsed": false
   },
   "outputs": [
    {
     "name": "stdout",
     "output_type": "stream",
     "text": [
      "time: 14.8 ms\n"
     ]
    }
   ],
   "source": [
    "def get_similarity_matrices(train_df):\n",
    "    persons_of_feature = get_persons_of_feature(train_df)\n",
    "    jacob_matrix = collections.defaultdict(dict)\n",
    "    cosine_matrix = collections.defaultdict(dict)\n",
    "    for i in range(24):\n",
    "        jacob_matrix[i][i] = 1.0\n",
    "        cosine_matrix[i][i] = 1.0\n",
    "        for j in range(i + 1, 24):\n",
    "            temp = jacobian_similarity(persons_of_feature, HEADER[i + 24], HEADER[j+24])\n",
    "            jacob_matrix[i][j] = temp\n",
    "            jacob_matrix[j][i] = temp\n",
    "\n",
    "            temp1 = cosine_similarity(persons_of_feature, HEADER[i+24], HEADER[j+24])\n",
    "            cosine_matrix[i][j] = temp1\n",
    "            cosine_matrix[j][i] = temp1\n",
    "    cosine_pd = pd.DataFrame(cosine_matrix)\n",
    "    jacob_pd = pd.DataFrame(jacob_matrix)\n",
    "    return jacob_pd, cosine_pd\n"
   ]
  },
  {
   "cell_type": "code",
   "execution_count": 6,
   "metadata": {
    "collapsed": false
   },
   "outputs": [
    {
     "name": "stdout",
     "output_type": "stream",
     "text": [
      "time: 1.92 ms\n"
     ]
    }
   ],
   "source": [
    "def get_wts_from_mat(df, row):\n",
    "    brow = map(bool, row)\n",
    "    wts = df.loc[brow, :].apply(sum)\n",
    "    wts[brow] = 0\n",
    "    return wts"
   ]
  },
  {
   "cell_type": "code",
   "execution_count": 7,
   "metadata": {
    "collapsed": false
   },
   "outputs": [
    {
     "name": "stdout",
     "output_type": "stream",
     "text": [
      "time: 18.2 ms\n"
     ]
    }
   ],
   "source": [
    "def get_similarity_features(file_names): #train_file, added_file):\n",
    "    train_file = file_names[0]\n",
    "    added_file = file_names[1]\n",
    "    train = pd.read_csv(train_file, header=None, names=HEADER[1:2] + HEADER[24:], usecols=[1]+range(24,48))\n",
    "    train.fillna(0, inplace=True)\n",
    "    for col in HEADER[24:]:\n",
    "        train[col] = train[col].astype(int)\n",
    "    added_products = pd.read_csv(added_file, usecols=[0])\n",
    "    jacob_pd, cosine_pd = get_similarity_matrices(train)\n",
    "    train.set_index('ncodpers', inplace=True)\n",
    "    train_final = pd.DataFrame()\n",
    "    train_final['ncodpers'] = added_products['ncodpers']\n",
    "    train_final.set_index('ncodpers', inplace=True)\n",
    "    for col in HEADER[24:]:\n",
    "        train_final['jacob_' + col] = [0.0]*train_final.shape[0]\n",
    "        train_final['cosine_' + col] = [0.0]*train_final.shape[0]\n",
    "\n",
    "    for i in tqdm(train_final.index):\n",
    "        row = list(train.loc[i, HEADER[24:]])\n",
    "        jwts = get_wts_from_mat(jacob_pd, row)\n",
    "        cwts = get_wts_from_mat(cosine_pd, row)\n",
    "        train_final.loc[i, ['jacob_' + h for h in HEADER[24:]]] = list(jwts)\n",
    "        train_final.loc[i, ['cosine_' + h for h in HEADER[24:]]] = list(cwts)\n",
    "    return train_final, file_names[2]"
   ]
  },
  {
   "cell_type": "code",
   "execution_count": 8,
   "metadata": {
    "collapsed": false
   },
   "outputs": [
    {
     "name": "stderr",
     "output_type": "stream",
     "text": [
      "100%|██████████| 41745/41745 [04:41<00:00, 148.17it/s]"
     ]
    },
    {
     "name": "stdout",
     "output_type": "stream",
     "text": [
      "time: 4min 45s\n"
     ]
    },
    {
     "name": "stderr",
     "output_type": "stream",
     "text": [
      "\n"
     ]
    }
   ],
   "source": [
    "simi_feat = get_similarity_features('data/train_2015_05_28.csv', 'data/added_product_2015_05_28.csv')"
   ]
  },
  {
   "cell_type": "code",
   "execution_count": null,
   "metadata": {
    "collapsed": true
   },
   "outputs": [],
   "source": []
  }
 ],
 "metadata": {
  "kernelspec": {
   "display_name": "Python 2",
   "language": "python",
   "name": "python2"
  },
  "language_info": {
   "codemirror_mode": {
    "name": "ipython",
    "version": 2
   },
   "file_extension": ".py",
   "mimetype": "text/x-python",
   "name": "python",
   "nbconvert_exporter": "python",
   "pygments_lexer": "ipython2",
   "version": "2.7.12"
  }
 },
 "nbformat": 4,
 "nbformat_minor": 0
}
