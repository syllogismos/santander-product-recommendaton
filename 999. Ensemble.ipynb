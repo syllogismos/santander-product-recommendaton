{
 "cells": [
  {
   "cell_type": "code",
   "execution_count": 6,
   "metadata": {
    "collapsed": false
   },
   "outputs": [
    {
     "name": "stdout",
     "output_type": "stream",
     "text": [
      "time: 513 ms\n"
     ]
    }
   ],
   "source": [
    "import pandas\n",
    "\n",
    "\n",
    "file_name1 = 'data/submissions/ensemble/first_xgb_model.csv'\n",
    "file_name2 = 'data/submissions/ensemble/zfturbo_submission_0.0216724323215_2016-10-28-23-14.csv'\n",
    "file_name3 = 'data/submissions/ensemble/old_bayesian_submission_user_defined_by_previous_subscriptions_with_no_base_prob.csv'\n",
    "\n",
    "weight1 = 5\n",
    "weight2 = 1\n",
    "weight3 = 1\n",
    "\n",
    "submissions = {file_name1: weight1,\n",
    "               file_name2: weight2,\n",
    "               file_name3: weight3}"
   ]
  },
  {
   "cell_type": "code",
   "execution_count": 15,
   "metadata": {
    "collapsed": true
   },
   "outputs": [],
   "source": [
    "rank_weights = [0.01*x for x in range(10, 1, -1)]"
   ]
  },
  {
   "cell_type": "code",
   "execution_count": 16,
   "metadata": {
    "collapsed": false
   },
   "outputs": [],
   "source": [
    "data = {}\n",
    "for x in submissions.keys():\n",
    "    data[x] = pandas.read_csv(x) \n",
    "    data[x] = data[x].set_index('ncodpers')"
   ]
  },
  {
   "cell_type": "code",
   "execution_count": 17,
   "metadata": {
    "collapsed": false
   },
   "outputs": [],
   "source": [
    "ensemble = pandas.DataFrame()\n",
    "ncodpers = data.values()[0].index\n",
    "ensemble['ncodpers'] = ncodpers\n",
    "ensemble['added_products'] = ['']*ncodpers.shape[0]"
   ]
  },
  {
   "cell_type": "code",
   "execution_count": 18,
   "metadata": {
    "collapsed": false
   },
   "outputs": [],
   "source": [
    "from collections import Counter"
   ]
  },
  {
   "cell_type": "code",
   "execution_count": 19,
   "metadata": {
    "collapsed": false
   },
   "outputs": [],
   "source": [
    "def get_added_products(i):\n",
    "    temp_dict = Counter()\n",
    "    products = []\n",
    "    for submission in submissions.keys():\n",
    "        weight = [submissions[submission]*w for w in rank_weights]\n",
    "        products.extend(zip(list(data[submission].loc[i]['added_products'].split()), weight))\n",
    "    for product in products:\n",
    "        # print product\n",
    "        temp_dict[product[0]] += product[1]\n",
    "    sorted_dict = sorted(temp_dict.items(), cmp = lambda x, y: cmp(x[1], y[1]), reverse = True)\n",
    "    # print sorted_dict\n",
    "    # print len(sorted_dict)\n",
    "    return ' '.join([y[0] for y in sorted_dict])\n",
    "    "
   ]
  },
  {
   "cell_type": "code",
   "execution_count": 20,
   "metadata": {
    "collapsed": false
   },
   "outputs": [
    {
     "data": {
      "text/plain": [
       "'ind_recibo_ult1 ind_nom_pens_ult1 ind_reca_fin_ult1 ind_dela_fin_ult1 ind_ecue_fin_ult1 ind_nomina_ult1 ind_ctop_fin_ult1 ind_fond_fin_ult1 ind_cno_fin_ult1'"
      ]
     },
     "execution_count": 20,
     "metadata": {},
     "output_type": "execute_result"
    }
   ],
   "source": [
    "get_added_products(15889)"
   ]
  },
  {
   "cell_type": "code",
   "execution_count": 21,
   "metadata": {
    "collapsed": true
   },
   "outputs": [],
   "source": [
    "ensemble = ensemble.set_index('ncodpers')"
   ]
  },
  {
   "cell_type": "code",
   "execution_count": 22,
   "metadata": {
    "collapsed": false
   },
   "outputs": [
    {
     "name": "stderr",
     "output_type": "stream",
     "text": [
      "100%|██████████| 929615/929615 [08:47<00:00, 1763.96it/s]\n"
     ]
    }
   ],
   "source": [
    "from tqdm import tqdm\n",
    "for i in tqdm(ensemble.index):\n",
    "    ensemble.set_value(i,\"added_products\",get_added_products(i))"
   ]
  },
  {
   "cell_type": "code",
   "execution_count": 10,
   "metadata": {
    "collapsed": true
   },
   "outputs": [],
   "source": [
    "from scripts.kaggle.helpers import make_submission"
   ]
  },
  {
   "cell_type": "code",
   "execution_count": 23,
   "metadata": {
    "collapsed": false
   },
   "outputs": [],
   "source": [
    "file_name = 'data/submissions/first_ensemble_rank_weights_0_01_weighted511.csv'\n",
    "description = 'ranked weights are (0.01*x) for x in range(10, 1, -1) etc.. and submissions weight 5 1 1'"
   ]
  },
  {
   "cell_type": "code",
   "execution_count": 24,
   "metadata": {
    "collapsed": true
   },
   "outputs": [],
   "source": [
    "ensemble.to_csv(file_name)"
   ]
  },
  {
   "cell_type": "code",
   "execution_count": 25,
   "metadata": {
    "collapsed": false
   },
   "outputs": [
    {
     "name": "stdout",
     "output_type": "stream",
     "text": [
      "Compressing file\n",
      "Compression done\n",
      "Uploading submission data/submissions/first_ensemble_rank_weights_0_01_weighted511.csv.zip\n",
      "Upload done\n"
     ]
    }
   ],
   "source": [
    "make_submission(file_name, description=description, compress=True, submit=True)"
   ]
  },
  {
   "cell_type": "code",
   "execution_count": 94,
   "metadata": {
    "collapsed": false
   },
   "outputs": [
    {
     "data": {
      "text/plain": [
       "[0.1, 0.09, 0.08, 0.07, 0.06, 0.05, 0.04, 0.03, 0.02]"
      ]
     },
     "execution_count": 94,
     "metadata": {},
     "output_type": "execute_result"
    }
   ],
   "source": [
    "rank_weights"
   ]
  },
  {
   "cell_type": "code",
   "execution_count": 70,
   "metadata": {
    "collapsed": false
   },
   "outputs": [
    {
     "data": {
      "text/plain": [
       "187"
      ]
     },
     "execution_count": 70,
     "metadata": {},
     "output_type": "execute_result"
    }
   ],
   "source": [
    "del data\n",
    "import gc\n",
    "gc.collect()"
   ]
  },
  {
   "cell_type": "code",
   "execution_count": 76,
   "metadata": {
    "collapsed": false
   },
   "outputs": [
    {
     "data": {
      "text/plain": [
       "2.718281828459045"
      ]
     },
     "execution_count": 76,
     "metadata": {},
     "output_type": "execute_result"
    }
   ],
   "source": [
    "import math\n",
    "math.exp(1)"
   ]
  },
  {
   "cell_type": "code",
   "execution_count": 80,
   "metadata": {
    "collapsed": false
   },
   "outputs": [
    {
     "data": {
      "text/plain": [
       "[2.718281828459045,\n",
       " 2.45960311115695,\n",
       " 2.225540928492468,\n",
       " 2.0137527074704766,\n",
       " 1.822118800390509,\n",
       " 1.6487212707001282,\n",
       " 1.4918246976412703,\n",
       " 1.3498588075760032,\n",
       " 1.2214027581601699]"
      ]
     },
     "execution_count": 80,
     "metadata": {},
     "output_type": "execute_result"
    }
   ],
   "source": [
    "[math.exp(0.1*x) for x in range(10, 1, -1)]"
   ]
  },
  {
   "cell_type": "code",
   "execution_count": null,
   "metadata": {
    "collapsed": true
   },
   "outputs": [],
   "source": []
  }
 ],
 "metadata": {
  "kernelspec": {
   "display_name": "Python 2",
   "language": "python",
   "name": "python2"
  },
  "language_info": {
   "codemirror_mode": {
    "name": "ipython",
    "version": 2
   },
   "file_extension": ".py",
   "mimetype": "text/x-python",
   "name": "python",
   "nbconvert_exporter": "python",
   "pygments_lexer": "ipython2",
   "version": "2.7.12"
  }
 },
 "nbformat": 4,
 "nbformat_minor": 0
}
