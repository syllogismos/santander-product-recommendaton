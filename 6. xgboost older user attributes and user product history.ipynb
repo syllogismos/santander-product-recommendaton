{
 "cells": [
  {
   "cell_type": "code",
   "execution_count": 97,
   "metadata": {
    "collapsed": false
   },
   "outputs": [
    {
     "name": "stdout",
     "output_type": "stream",
     "text": [
      "Populating the interactive namespace from numpy and matplotlib\n"
     ]
    }
   ],
   "source": [
    "import pandas as pd\n",
    "import numpy as np\n",
    "import xgboost as xgb\n",
    "from sklearn.preprocessing import LabelEncoder\n",
    "from scripts.kaggle.helpers import make_submission\n",
    "import datetime\n",
    "from tqdm import tqdm\n",
    "import gc\n",
    "import itertools\n",
    "from multiprocessing import Pool\n",
    "\n",
    "%matplotlib inline\n",
    "import matplotlib.pyplot as plt\n",
    "import seaborn as sns\n",
    "\n",
    "%pylab inline\n",
    "pylab.rcParams['figure.figsize'] = (12, 16)"
   ]
  },
  {
   "cell_type": "code",
   "execution_count": 3,
   "metadata": {
    "collapsed": true
   },
   "outputs": [],
   "source": [
    "def test_train_split(df, wt_col, test_frac):\n",
    "    n = int(len(df)*test_frac)\n",
    "    rows = df.sample(n, weights=wt_col.apply(lambda x: wt_col.value_counts()[x])).index\n",
    "    test = df.ix[rows]\n",
    "    train = df.drop(rows)\n",
    "    return test, train, rows"
   ]
  },
  {
   "cell_type": "code",
   "execution_count": 5,
   "metadata": {
    "collapsed": false
   },
   "outputs": [],
   "source": [
    "TRAIN_MONTH_OLD = '2015_05_28'\n",
    "TRAIN_MONTH_NEW = '2015_06_28'\n",
    "\n",
    "TEST_MONTH_OLD = '2016_05_28'\n",
    "#TEST_MONTH_NEW = '2016_06_28'\n",
    "\n",
    "TRAIN_FILE_OLD = 'data/train_' + TRAIN_MONTH_OLD + '.csv'\n",
    "TRAIN_FILE_NEW = 'data/train_' + TRAIN_MONTH_NEW + '.csv'\n",
    "\n",
    "ADDED_PRODUCTS_FILE = 'data/added_product_' + TRAIN_MONTH_OLD + '.csv'\n",
    "\n",
    "TEST_FILE_OLD = 'data/train_' + TEST_MONTH_OLD + '.csv'\n",
    "TEST_FILE_NEW = 'data/test_ver2.csv'\n",
    "\n",
    "HEADER = [\"fecha_dato\", \"ncodpers\", \"ind_empleado\",\n",
    "          \"pais_residencia\", \"sexo\", \"age\", \"fecha_alta\",\n",
    "          \"ind_nuevo\", \"antiguedad\", \"indrel\", \"ult_fec_cli_1t\",\n",
    "          \"indrel_1mes\", \"tiprel_1mes\", \"indresi\", \"indext\",\n",
    "          \"conyuemp\", \"canal_entrada\", \"indfall\", \"tipodom\",\n",
    "          \"cod_prov\", \"nomprov\", \"ind_actividad_cliente\",\n",
    "          \"renta\", \"segmento\", \"ind_ahor_fin_ult1\",\n",
    "          \"ind_aval_fin_ult1\", \"ind_cco_fin_ult1\",\n",
    "          \"ind_cder_fin_ult1\", \"ind_cno_fin_ult1\",\n",
    "          \"ind_ctju_fin_ult1\", \"ind_ctma_fin_ult1\",\n",
    "          \"ind_ctop_fin_ult1\", \"ind_ctpp_fin_ult1\",\n",
    "          \"ind_deco_fin_ult1\", \"ind_deme_fin_ult1\",\n",
    "          \"ind_dela_fin_ult1\", \"ind_ecue_fin_ult1\",\n",
    "          \"ind_fond_fin_ult1\", \"ind_hip_fin_ult1\",\n",
    "          \"ind_plan_fin_ult1\", \"ind_pres_fin_ult1\",\n",
    "          \"ind_reca_fin_ult1\", \"ind_tjcr_fin_ult1\",\n",
    "          \"ind_valo_fin_ult1\", \"ind_viv_fin_ult1\",\n",
    "          \"ind_nomina_ult1\", \"ind_nom_pens_ult1\",\n",
    "          \"ind_recibo_ult1\"]"
   ]
  },
  {
   "cell_type": "code",
   "execution_count": 7,
   "metadata": {
    "collapsed": false
   },
   "outputs": [
    {
     "name": "stderr",
     "output_type": "stream",
     "text": [
      "/usr/local/lib/python2.7/site-packages/IPython/core/interactiveshell.py:2705: DtypeWarning: Columns (11,15) have mixed types. Specify dtype option on import or set low_memory=False.\n",
      "  interactivity=interactivity, compiler=compiler, result=result)\n"
     ]
    }
   ],
   "source": [
    "train_old = pd.read_csv(TRAIN_FILE_OLD, header=None, names=HEADER)\n",
    "train_new = pd.read_csv(TRAIN_FILE_NEW, header=None, names=HEADER)\n",
    "test_old = pd.read_csv(TEST_FILE_OLD, header=None, names=HEADER)\n",
    "test_new = pd.read_csv(TEST_FILE_NEW)\n",
    "\n",
    "added_products = pd.read_csv(ADDED_PRODUCTS_FILE)"
   ]
  },
  {
   "cell_type": "code",
   "execution_count": 9,
   "metadata": {
    "collapsed": false
   },
   "outputs": [],
   "source": [
    "for col in HEADER[24:]:\n",
    "    test_new[col] = [0]*test_new.shape[0]"
   ]
  },
  {
   "cell_type": "code",
   "execution_count": 25,
   "metadata": {
    "collapsed": true
   },
   "outputs": [],
   "source": [
    "combined = pd.concat((train_old, train_new, test_old, test_new)).reset_index(drop=True)"
   ]
  },
  {
   "cell_type": "code",
   "execution_count": 23,
   "metadata": {
    "collapsed": true
   },
   "outputs": [],
   "source": [
    "def process_data_from_original_dataframe(combined):\n",
    "    # fixing age\n",
    "    combined['age'] = pd.to_numeric(combined['age'], errors='coerce')\n",
    "\n",
    "    combined.loc[combined.age < 18, \"age\"] = \\\n",
    "        combined.loc[(combined.age > 18) &\n",
    "                     (combined.age <= 30), \"age\"].mean(skipna=True)\n",
    "    combined.loc[combined.age > 100, \"age\"] = \\\n",
    "        combined.loc[(combined.age > 30) &\n",
    "                     (combined.age <= 100), \"age\"].mean(skipna=True)\n",
    "    combined['age'].fillna(combined['age'].mean(), inplace=True)\n",
    "    combined['age'] = combined['age'].astype(int)\n",
    "\n",
    "    # fix ind_nuevo..\n",
    "    combined.loc[combined.ind_nuevo.isnull(), 'ind_nuevo'] = 1\n",
    "\n",
    "    # fix antiguedad\n",
    "    combined['antiguedad'] = pd.to_numeric(combined['antiguedad'],\n",
    "                                           errors='coerce')\n",
    "    combined.loc[combined.antiguedad.isnull(), 'antiguedad'] = \\\n",
    "        combined.antiguedad.min()\n",
    "    combined.loc[combined.antiguedad < 0, 'antiguedad'] = 0\n",
    "\n",
    "    # fix indrel\n",
    "    combined.loc[combined.indrel.isnull(), 'indrel'] = 1\n",
    "\n",
    "    # drop useless cols\n",
    "    combined.drop(['tipodom', 'cod_prov'], axis=1, inplace=True)\n",
    "\n",
    "    # fix ind_actividad_cliente\n",
    "    combined.loc[combined.ind_actividad_cliente.isnull(),\n",
    "                 \"ind_actividad_cliente\"] = \\\n",
    "        combined.ind_actividad_cliente.median()\n",
    "\n",
    "    # fix city name\n",
    "    combined.loc[combined.nomprov ==\n",
    "                 \"CORU\\xc3\\x91A, A\", \"nomprov\"] = \"CORUNA, A\"\n",
    "    combined.loc[combined.nomprov.isnull(), 'nomprov'] = 'UNKNOWN'\n",
    "\n",
    "    # fix incomes\n",
    "    # combined.renta = pd.to_numeric(combined.renta, errors='coerce')\n",
    "    combined['renta'] = pd.to_numeric(combined['renta'], errors='coerce')\n",
    "\n",
    "    grouped = combined.groupby('nomprov').\\\n",
    "        agg({'renta': lambda x: x.median(skipna=True)}).reset_index()\n",
    "    new_incomes = pd.merge(combined, grouped,\n",
    "                           how='inner',\n",
    "                           on='nomprov').loc[:, ['nomprov', 'renta_y']]\n",
    "\n",
    "    new_incomes = new_incomes.\\\n",
    "        rename(columns={\"renta_y\": \"renta\"}).\\\n",
    "        sort_values(\"renta\").sort_values(\"nomprov\")\n",
    "\n",
    "    combined.sort_values(\"nomprov\", inplace=True)\n",
    "    combined = combined.reset_index()\n",
    "    new_incomes = new_incomes.reset_index()\n",
    "    combined.loc[combined.renta.isnull(), \"renta\"] = \\\n",
    "        new_incomes.loc[combined.renta.isnull(), \"renta\"].median()\n",
    "    combined.sort_values(by='fecha_dato', inplace=True)\n",
    "\n",
    "    # rest of the columns\n",
    "    string_data = combined.select_dtypes(include=[\"object\"])\n",
    "    missing_columns = [col for col in string_data\n",
    "                       if string_data[col].isnull().any()]\n",
    "    del string_data\n",
    "\n",
    "    combined.loc[combined.indfall.isnull(), 'indfall'] = 'N'\n",
    "    combined.loc[combined.tiprel_1mes.isnull(), 'tiprel_1mes'] = 'A'\n",
    "    combined.tiprel_1mes = combined.tiprel_1mes.astype('category')\n",
    "\n",
    "    map_dict = {\n",
    "        '1.0': '1',\n",
    "        '1': '1',\n",
    "        '3.0': '3',\n",
    "        'P': 'P',\n",
    "        3.0: '3',\n",
    "        2.0: '2',\n",
    "        '3': '3',\n",
    "        '2.0': '2',\n",
    "        '4.0': '4',\n",
    "        '4': '4',\n",
    "        '2': '2',\n",
    "        1.0: '1',\n",
    "        4.0: '4'\n",
    "    }\n",
    "\n",
    "    combined.indrel_1mes.fillna('P', inplace=True)\n",
    "    combined.indrel_1mes = combined.indrel_1mes.apply(lambda x: map_dict[x])\n",
    "    combined.indrel_1mes = combined.indrel_1mes.astype('category')\n",
    "\n",
    "    unknown_cols = [col for col in missing_columns if\n",
    "                    col not in ['indfall', 'tiprel_1mes', 'indrel_1mes']]\n",
    "    for col in unknown_cols:\n",
    "        combined.loc[combined[col].isnull(), col] = \"UNKNOWN\"\n",
    "\n",
    "    # feature cols\n",
    "    feature_cols = combined.iloc[:1, ].filter(regex=\"ind_+.*ult.*\").\\\n",
    "        columns.values\n",
    "    for col in feature_cols:\n",
    "        combined.loc[combined[col].isnull(), col] = 0\n",
    "        combined[col] = combined[col].astype(int)\n",
    "\n",
    "    del combined['ult_fec_cli_1t'], combined['fecha_alta']\n",
    "\n",
    "    encoders = []\n",
    "    for col in ['sexo', 'indrel_1mes', 'pais_residencia', 'ind_empleado',\n",
    "                'segmento', 'tiprel_1mes', 'indresi', 'indext', 'conyuemp',\n",
    "                'canal_entrada', 'indfall', 'nomprov']:\n",
    "        temp_enc = LabelEncoder()\n",
    "        temp_enc.fit(combined[col])\n",
    "        combined[col] = temp_enc.transform(combined[col])\n",
    "        encoders.append(temp_enc)\n",
    "    return combined, encoders\n",
    "\n"
   ]
  },
  {
   "cell_type": "code",
   "execution_count": 26,
   "metadata": {
    "collapsed": false
   },
   "outputs": [],
   "source": [
    "combined, encoders = process_data_from_original_dataframe(combined)"
   ]
  },
  {
   "cell_type": "code",
   "execution_count": 28,
   "metadata": {
    "collapsed": false
   },
   "outputs": [],
   "source": [
    "train_old = combined.loc[combined.fecha_dato == '2015-05-28', :].reset_index(drop=True)\n",
    "train_new = combined.loc[combined.fecha_dato == '2015-06-28', :].reset_index(drop=True)\n",
    "test_old = combined.loc[combined.fecha_dato == '2016-05-28', :].reset_index(drop=True)\n",
    "test_new = combined.loc[combined.fecha_dato == '2016-06-28', :].reset_index(drop=True)"
   ]
  },
  {
   "cell_type": "code",
   "execution_count": 31,
   "metadata": {
    "collapsed": false
   },
   "outputs": [],
   "source": [
    "del train_old['index'], train_new['index'], test_old['index'], test_new['index']\n",
    "del train_old['fecha_dato'], train_new['fecha_dato'], test_old['fecha_dato'], test_new['fecha_dato']"
   ]
  },
  {
   "cell_type": "code",
   "execution_count": 33,
   "metadata": {
    "collapsed": false
   },
   "outputs": [],
   "source": [
    "train_old.set_index('ncodpers', inplace=True)\n",
    "train_new.set_index('ncodpers', inplace=True)\n",
    "test_old.set_index('ncodpers', inplace=True)\n",
    "test_new.set_index('ncodpers', inplace=True)"
   ]
  },
  {
   "cell_type": "code",
   "execution_count": 45,
   "metadata": {
    "collapsed": false
   },
   "outputs": [],
   "source": [
    "train_old['change_ind_empleado'] = train_old['ind_empleado'] == train_new.loc[train_old.index, 'ind_empleado']\n",
    "test_old['change_ind_empleado'] = test_old['ind_empleado'] == test_new.loc[test_old.index, 'ind_empleado']"
   ]
  },
  {
   "cell_type": "code",
   "execution_count": 54,
   "metadata": {
    "collapsed": false
   },
   "outputs": [],
   "source": [
    "train_old['change_age'] = train_new.loc[train_old.index, 'age'] - train_old['age']\n",
    "train_old.loc[train_old.change_age.isnull(), 'change_age'] = 0.0\n",
    "\n",
    "test_old['change_age'] = test_new.loc[train_old.index, 'age'] - test_old['age']\n",
    "test_old.loc[test_old.change_age.isnull(), 'change_age'] = 0.0\n"
   ]
  },
  {
   "cell_type": "code",
   "execution_count": 59,
   "metadata": {
    "collapsed": true
   },
   "outputs": [],
   "source": [
    "train_old['change_ind_nuevo'] = train_old['ind_nuevo'] == train_new.loc[train_old.index, 'ind_nuevo']\n",
    "test_old['change_ind_nuevo'] = test_old['ind_nuevo'] == test_new.loc[test_old.index, 'ind_nuevo']"
   ]
  },
  {
   "cell_type": "code",
   "execution_count": 60,
   "metadata": {
    "collapsed": true
   },
   "outputs": [],
   "source": [
    "train_old['change_antiguedad'] = train_new.loc[train_old.index, 'antiguedad'] - train_old['antiguedad']\n",
    "train_old.loc[train_old.change_antiguedad.isnull(), 'change_antiguedad'] = 0.0\n",
    "\n",
    "test_old['change_antiguedad'] = test_new.loc[train_old.index, 'antiguedad'] - test_old['antiguedad']\n",
    "test_old.loc[test_old.change_antiguedad.isnull(), 'change_antiguedad'] = 0.0\n"
   ]
  },
  {
   "cell_type": "code",
   "execution_count": 61,
   "metadata": {
    "collapsed": true
   },
   "outputs": [],
   "source": [
    "train_old['change_indrel'] = train_old['indrel'] == train_new.loc[train_old.index, 'indrel']\n",
    "test_old['change_indrel'] = test_old['indrel'] == test_new.loc[test_old.index, 'indrel']"
   ]
  },
  {
   "cell_type": "code",
   "execution_count": 64,
   "metadata": {
    "collapsed": true
   },
   "outputs": [],
   "source": [
    "train_old['change_indrel_1mes'] = train_old['indrel_1mes'] == train_new.loc[train_old.index, 'indrel_1mes']\n",
    "test_old['change_indrel_1mes'] = test_old['indrel_1mes'] == test_new.loc[test_old.index, 'indrel_1mes']\n",
    "\n",
    "train_old['change_tiprel_1mes'] = train_old['tiprel_1mes'] == train_new.loc[train_old.index, 'tiprel_1mes']\n",
    "test_old['change_tiprel_1mes'] = test_old['tiprel_1mes'] == test_new.loc[test_old.index, 'tiprel_1mes']\n",
    "\n",
    "train_old['change_conyuemp'] = train_old['conyuemp'] == train_new.loc[train_old.index, 'conyuemp']\n",
    "test_old['change_conyuemp'] = test_old['conyuemp'] == test_new.loc[test_old.index, 'conyuemp']\n",
    "\n",
    "train_old['change_indfall'] = train_old['indfall'] == train_new.loc[train_old.index, 'indfall']\n",
    "test_old['change_indfall'] = test_old['indfall'] == test_new.loc[test_old.index, 'indfall']\n",
    "\n",
    "train_old['change_ind_actividad_cliente'] = train_old['ind_actividad_cliente'] == train_new.loc[train_old.index, 'ind_actividad_cliente']\n",
    "test_old['change_ind_actividad_cliente'] = test_old['ind_actividad_cliente'] == test_new.loc[test_old.index, 'ind_actividad_cliente']\n",
    "\n",
    "train_old['change_renta'] = train_new.loc[train_old.index, 'renta'] - train_old['renta']\n",
    "train_old.loc[train_old.change_renta.isnull(), 'change_renta'] = 0.0\n",
    "\n",
    "test_old['change_renta'] = test_new.loc[train_old.index, 'renta'] - test_old['renta']\n",
    "test_old.loc[test_old.change_renta.isnull(), 'change_renta'] = 0.0\n",
    "\n",
    "train_old['change_segmento'] = train_old['segmento'] == train_new.loc[train_old.index, 'segmento']\n",
    "test_old['change_segmento'] = test_old['segmento'] == test_new.loc[test_old.index, 'segmento']"
   ]
  },
  {
   "cell_type": "code",
   "execution_count": 68,
   "metadata": {
    "collapsed": false
   },
   "outputs": [],
   "source": [
    "train_old['log_renta'] = np.log10(train_old['renta'])\n",
    "test_old['log_renta'] = np.log10(test_old['renta'])"
   ]
  },
  {
   "cell_type": "code",
   "execution_count": 71,
   "metadata": {
    "collapsed": false
   },
   "outputs": [
    {
     "data": {
      "text/plain": [
       "ind_ahor_fin_ult1    0\n",
       "ind_aval_fin_ult1    0\n",
       "ind_cco_fin_ult1     1\n",
       "ind_cder_fin_ult1    0\n",
       "ind_cno_fin_ult1     0\n",
       "ind_ctju_fin_ult1    0\n",
       "ind_ctma_fin_ult1    0\n",
       "ind_ctop_fin_ult1    1\n",
       "ind_ctpp_fin_ult1    0\n",
       "ind_deco_fin_ult1    0\n",
       "ind_deme_fin_ult1    0\n",
       "ind_dela_fin_ult1    0\n",
       "ind_ecue_fin_ult1    0\n",
       "ind_fond_fin_ult1    0\n",
       "ind_hip_fin_ult1     0\n",
       "ind_plan_fin_ult1    0\n",
       "ind_pres_fin_ult1    0\n",
       "ind_reca_fin_ult1    0\n",
       "ind_tjcr_fin_ult1    0\n",
       "ind_valo_fin_ult1    0\n",
       "ind_viv_fin_ult1     0\n",
       "ind_nomina_ult1      0\n",
       "ind_nom_pens_ult1    0\n",
       "ind_recibo_ult1      0\n",
       "Name: 424641, dtype: object"
      ]
     },
     "execution_count": 71,
     "metadata": {},
     "output_type": "execute_result"
    }
   ],
   "source": [
    "train_old.loc[424641, 'ind_ahor_fin_ult1':'ind_recibo_ult1']"
   ]
  },
  {
   "cell_type": "code",
   "execution_count": 72,
   "metadata": {
    "collapsed": true
   },
   "outputs": [],
   "source": [
    "product_history = pd.read_csv('data/product_history.csv')"
   ]
  },
  {
   "cell_type": "code",
   "execution_count": 74,
   "metadata": {
    "collapsed": false
   },
   "outputs": [],
   "source": [
    "product_history.set_index('ncodpers', inplace=True)"
   ]
  },
  {
   "cell_type": "code",
   "execution_count": 76,
   "metadata": {
    "collapsed": false
   },
   "outputs": [
    {
     "data": {
      "text/html": [
       "<div>\n",
       "<table border=\"1\" class=\"dataframe\">\n",
       "  <thead>\n",
       "    <tr style=\"text-align: right;\">\n",
       "      <th></th>\n",
       "      <th>ind_ahor_fin_ult1</th>\n",
       "      <th>ind_aval_fin_ult1</th>\n",
       "      <th>ind_cco_fin_ult1</th>\n",
       "      <th>ind_cder_fin_ult1</th>\n",
       "      <th>ind_cno_fin_ult1</th>\n",
       "      <th>ind_ctju_fin_ult1</th>\n",
       "      <th>ind_ctma_fin_ult1</th>\n",
       "      <th>ind_ctop_fin_ult1</th>\n",
       "      <th>ind_ctpp_fin_ult1</th>\n",
       "      <th>ind_deco_fin_ult1</th>\n",
       "      <th>...</th>\n",
       "      <th>ind_hip_fin_ult1</th>\n",
       "      <th>ind_plan_fin_ult1</th>\n",
       "      <th>ind_pres_fin_ult1</th>\n",
       "      <th>ind_reca_fin_ult1</th>\n",
       "      <th>ind_tjcr_fin_ult1</th>\n",
       "      <th>ind_valo_fin_ult1</th>\n",
       "      <th>ind_viv_fin_ult1</th>\n",
       "      <th>ind_nomina_ult1</th>\n",
       "      <th>ind_nom_pens_ult1</th>\n",
       "      <th>ind_recibo_ult1</th>\n",
       "    </tr>\n",
       "    <tr>\n",
       "      <th>ncodpers</th>\n",
       "      <th></th>\n",
       "      <th></th>\n",
       "      <th></th>\n",
       "      <th></th>\n",
       "      <th></th>\n",
       "      <th></th>\n",
       "      <th></th>\n",
       "      <th></th>\n",
       "      <th></th>\n",
       "      <th></th>\n",
       "      <th></th>\n",
       "      <th></th>\n",
       "      <th></th>\n",
       "      <th></th>\n",
       "      <th></th>\n",
       "      <th></th>\n",
       "      <th></th>\n",
       "      <th></th>\n",
       "      <th></th>\n",
       "      <th></th>\n",
       "      <th></th>\n",
       "    </tr>\n",
       "  </thead>\n",
       "  <tbody>\n",
       "    <tr>\n",
       "      <th>15889</th>\n",
       "      <td>0</td>\n",
       "      <td>0</td>\n",
       "      <td>1</td>\n",
       "      <td>0</td>\n",
       "      <td>0</td>\n",
       "      <td>0</td>\n",
       "      <td>0</td>\n",
       "      <td>0</td>\n",
       "      <td>1</td>\n",
       "      <td>0</td>\n",
       "      <td>...</td>\n",
       "      <td>0</td>\n",
       "      <td>0</td>\n",
       "      <td>0</td>\n",
       "      <td>0</td>\n",
       "      <td>1</td>\n",
       "      <td>1</td>\n",
       "      <td>0</td>\n",
       "      <td>0</td>\n",
       "      <td>0</td>\n",
       "      <td>0</td>\n",
       "    </tr>\n",
       "    <tr>\n",
       "      <th>15890</th>\n",
       "      <td>0</td>\n",
       "      <td>0</td>\n",
       "      <td>0</td>\n",
       "      <td>0</td>\n",
       "      <td>1</td>\n",
       "      <td>0</td>\n",
       "      <td>0</td>\n",
       "      <td>0</td>\n",
       "      <td>1</td>\n",
       "      <td>0</td>\n",
       "      <td>...</td>\n",
       "      <td>0</td>\n",
       "      <td>1</td>\n",
       "      <td>0</td>\n",
       "      <td>0</td>\n",
       "      <td>1</td>\n",
       "      <td>0</td>\n",
       "      <td>0</td>\n",
       "      <td>1</td>\n",
       "      <td>1</td>\n",
       "      <td>1</td>\n",
       "    </tr>\n",
       "    <tr>\n",
       "      <th>15891</th>\n",
       "      <td>0</td>\n",
       "      <td>0</td>\n",
       "      <td>1</td>\n",
       "      <td>0</td>\n",
       "      <td>0</td>\n",
       "      <td>0</td>\n",
       "      <td>0</td>\n",
       "      <td>0</td>\n",
       "      <td>0</td>\n",
       "      <td>0</td>\n",
       "      <td>...</td>\n",
       "      <td>0</td>\n",
       "      <td>0</td>\n",
       "      <td>0</td>\n",
       "      <td>0</td>\n",
       "      <td>0</td>\n",
       "      <td>0</td>\n",
       "      <td>0</td>\n",
       "      <td>0</td>\n",
       "      <td>0</td>\n",
       "      <td>0</td>\n",
       "    </tr>\n",
       "    <tr>\n",
       "      <th>15892</th>\n",
       "      <td>0</td>\n",
       "      <td>0</td>\n",
       "      <td>1</td>\n",
       "      <td>0</td>\n",
       "      <td>1</td>\n",
       "      <td>0</td>\n",
       "      <td>0</td>\n",
       "      <td>0</td>\n",
       "      <td>0</td>\n",
       "      <td>0</td>\n",
       "      <td>...</td>\n",
       "      <td>0</td>\n",
       "      <td>0</td>\n",
       "      <td>0</td>\n",
       "      <td>1</td>\n",
       "      <td>1</td>\n",
       "      <td>1</td>\n",
       "      <td>0</td>\n",
       "      <td>0</td>\n",
       "      <td>0</td>\n",
       "      <td>1</td>\n",
       "    </tr>\n",
       "    <tr>\n",
       "      <th>15893</th>\n",
       "      <td>0</td>\n",
       "      <td>0</td>\n",
       "      <td>0</td>\n",
       "      <td>0</td>\n",
       "      <td>0</td>\n",
       "      <td>0</td>\n",
       "      <td>0</td>\n",
       "      <td>0</td>\n",
       "      <td>0</td>\n",
       "      <td>0</td>\n",
       "      <td>...</td>\n",
       "      <td>0</td>\n",
       "      <td>0</td>\n",
       "      <td>0</td>\n",
       "      <td>0</td>\n",
       "      <td>0</td>\n",
       "      <td>1</td>\n",
       "      <td>0</td>\n",
       "      <td>0</td>\n",
       "      <td>0</td>\n",
       "      <td>0</td>\n",
       "    </tr>\n",
       "  </tbody>\n",
       "</table>\n",
       "<p>5 rows × 24 columns</p>\n",
       "</div>"
      ],
      "text/plain": [
       "          ind_ahor_fin_ult1  ind_aval_fin_ult1  ind_cco_fin_ult1  \\\n",
       "ncodpers                                                           \n",
       "15889                     0                  0                 1   \n",
       "15890                     0                  0                 0   \n",
       "15891                     0                  0                 1   \n",
       "15892                     0                  0                 1   \n",
       "15893                     0                  0                 0   \n",
       "\n",
       "          ind_cder_fin_ult1  ind_cno_fin_ult1  ind_ctju_fin_ult1  \\\n",
       "ncodpers                                                           \n",
       "15889                     0                 0                  0   \n",
       "15890                     0                 1                  0   \n",
       "15891                     0                 0                  0   \n",
       "15892                     0                 1                  0   \n",
       "15893                     0                 0                  0   \n",
       "\n",
       "          ind_ctma_fin_ult1  ind_ctop_fin_ult1  ind_ctpp_fin_ult1  \\\n",
       "ncodpers                                                            \n",
       "15889                     0                  0                  1   \n",
       "15890                     0                  0                  1   \n",
       "15891                     0                  0                  0   \n",
       "15892                     0                  0                  0   \n",
       "15893                     0                  0                  0   \n",
       "\n",
       "          ind_deco_fin_ult1       ...         ind_hip_fin_ult1  \\\n",
       "ncodpers                          ...                            \n",
       "15889                     0       ...                        0   \n",
       "15890                     0       ...                        0   \n",
       "15891                     0       ...                        0   \n",
       "15892                     0       ...                        0   \n",
       "15893                     0       ...                        0   \n",
       "\n",
       "          ind_plan_fin_ult1  ind_pres_fin_ult1  ind_reca_fin_ult1  \\\n",
       "ncodpers                                                            \n",
       "15889                     0                  0                  0   \n",
       "15890                     1                  0                  0   \n",
       "15891                     0                  0                  0   \n",
       "15892                     0                  0                  1   \n",
       "15893                     0                  0                  0   \n",
       "\n",
       "          ind_tjcr_fin_ult1  ind_valo_fin_ult1  ind_viv_fin_ult1  \\\n",
       "ncodpers                                                           \n",
       "15889                     1                  1                 0   \n",
       "15890                     1                  0                 0   \n",
       "15891                     0                  0                 0   \n",
       "15892                     1                  1                 0   \n",
       "15893                     0                  1                 0   \n",
       "\n",
       "          ind_nomina_ult1  ind_nom_pens_ult1  ind_recibo_ult1  \n",
       "ncodpers                                                       \n",
       "15889                   0                  0                0  \n",
       "15890                   1                  1                1  \n",
       "15891                   0                  0                0  \n",
       "15892                   0                  0                1  \n",
       "15893                   0                  0                0  \n",
       "\n",
       "[5 rows x 24 columns]"
      ]
     },
     "execution_count": 76,
     "metadata": {},
     "output_type": "execute_result"
    }
   ],
   "source": [
    "product_history.head()"
   ]
  },
  {
   "cell_type": "code",
   "execution_count": 77,
   "metadata": {
    "collapsed": false
   },
   "outputs": [
    {
     "data": {
      "text/plain": [
       "ncodpers\n",
       "424641     0\n",
       "465510     0\n",
       "178087     0\n",
       "465506     0\n",
       "178089     0\n",
       "465503     0\n",
       "178094     0\n",
       "1183071    0\n",
       "178095     0\n",
       "1183073    0\n",
       "178085     0\n",
       "481503     0\n",
       "178105     0\n",
       "178107     0\n",
       "1183349    0\n",
       "464836     0\n",
       "141577     0\n",
       "481502     0\n",
       "178101     0\n",
       "178045     0\n",
       "465502     0\n",
       "951229     0\n",
       "178042     0\n",
       "178020     0\n",
       "178595     0\n",
       "178586     0\n",
       "178563     0\n",
       "178565     0\n",
       "609662     0\n",
       "178567     0\n",
       "          ..\n",
       "1038074    0\n",
       "1386604    1\n",
       "1368705    0\n",
       "1259548    0\n",
       "509636     0\n",
       "327721     0\n",
       "1045337    0\n",
       "1045339    0\n",
       "1378293    0\n",
       "1046101    0\n",
       "1269083    0\n",
       "785510     0\n",
       "1049147    0\n",
       "816139     0\n",
       "738857     0\n",
       "832092     1\n",
       "327703     0\n",
       "1046104    0\n",
       "816127     0\n",
       "1046123    0\n",
       "1375637    0\n",
       "784620     0\n",
       "988130     0\n",
       "826635     0\n",
       "1045351    0\n",
       "602177     0\n",
       "1386600    0\n",
       "287616     0\n",
       "922980     0\n",
       "371405     0\n",
       "Name: ind_recibo_ult1, dtype: int64"
      ]
     },
     "execution_count": 77,
     "metadata": {},
     "output_type": "execute_result"
    }
   ],
   "source": [
    "train_old['ind_recibo_ult1'] ^ product_history.loc[train_old.index, 'ind_recibo_ult1']"
   ]
  },
  {
   "cell_type": "code",
   "execution_count": 78,
   "metadata": {
    "collapsed": false
   },
   "outputs": [],
   "source": [
    "for col in HEADER[24:]:\n",
    "    train_old['change_from_history_' + col] = train_old[col] ^ product_history.loc[train_old.index, col]\n",
    "    test_old['change_from_history_' + col] = test_old[col] ^ product_history.loc[test_old.index, col]"
   ]
  },
  {
   "cell_type": "code",
   "execution_count": 82,
   "metadata": {
    "collapsed": false
   },
   "outputs": [],
   "source": [
    "added_products.set_index('ncodpers', inplace=True)\n",
    "\n",
    "label_encoder = LabelEncoder()\n",
    "label_encoder.fit(added_products.added_product)\n",
    "added_products['encoded_products'] = label_encoder.\\\n",
    "    transform(added_products['added_product'])\n"
   ]
  },
  {
   "cell_type": "code",
   "execution_count": 84,
   "metadata": {
    "collapsed": false
   },
   "outputs": [],
   "source": [
    "x_main = train_old.loc[added_products.index, :]\n",
    "\n",
    "xgb_main = xgb.DMatrix(x_main, label=added_products.encoded_products)"
   ]
  },
  {
   "cell_type": "code",
   "execution_count": 85,
   "metadata": {
    "collapsed": true
   },
   "outputs": [],
   "source": [
    "def map7eval(preds, dtrain):\n",
    "    actual = dtrain.get_label()\n",
    "    predicted = preds.argsort(axis=1)[:,-np.arange(1,8)]\n",
    "    metric = 0.\n",
    "    for i in range(7):\n",
    "        metric += np.sum(actual==predicted[:,i])/(i+1)\n",
    "    metric /= actual.shape[0]\n",
    "    return 'MAP@7', metric"
   ]
  },
  {
   "cell_type": "code",
   "execution_count": 86,
   "metadata": {
    "collapsed": true
   },
   "outputs": [],
   "source": [
    "param = {}\n",
    "param['objective'] = 'multi:softprob'\n",
    "param['eta'] = 0.05\n",
    "param['max_depth'] = 6\n",
    "param['silent'] = 0\n",
    "param['num_class'] = len(label_encoder.classes_)\n",
    "param['eval_metric'] = \"mlogloss\"\n",
    "param['min_child_weight'] = 2\n",
    "param['subsample'] = 0.9\n",
    "param['colsample_bytree'] = 0.9\n",
    "param['seed'] = 1428\n",
    "num_rounds = 100\n",
    "plist = param.items()\n",
    "\n",
    "evallist = [(xgb_main, 'train')]"
   ]
  },
  {
   "cell_type": "code",
   "execution_count": 87,
   "metadata": {
    "collapsed": true
   },
   "outputs": [
    {
     "name": "stdout",
     "output_type": "stream",
     "text": [
      "[0]\ttrain-MAP@7:0.841634\n",
      "[1]\ttrain-MAP@7:0.843838\n",
      "[2]\ttrain-MAP@7:0.846832\n",
      "[3]\ttrain-MAP@7:0.845179\n",
      "[4]\ttrain-MAP@7:0.84585\n",
      "[5]\ttrain-MAP@7:0.846616\n",
      "[6]\ttrain-MAP@7:0.848293\n",
      "[7]\ttrain-MAP@7:0.848221\n",
      "[8]\ttrain-MAP@7:0.847862\n",
      "[9]\ttrain-MAP@7:0.848461\n",
      "[10]\ttrain-MAP@7:0.848772\n",
      "[11]\ttrain-MAP@7:0.849227\n",
      "[12]\ttrain-MAP@7:0.849395\n",
      "[13]\ttrain-MAP@7:0.849659\n",
      "[14]\ttrain-MAP@7:0.849683\n",
      "[15]\ttrain-MAP@7:0.849874\n",
      "[16]\ttrain-MAP@7:0.850018\n",
      "[17]\ttrain-MAP@7:0.850186\n",
      "[18]\ttrain-MAP@7:0.850449\n",
      "[19]\ttrain-MAP@7:0.850425\n",
      "[20]\ttrain-MAP@7:0.850713\n",
      "[21]\ttrain-MAP@7:0.850808\n",
      "[22]\ttrain-MAP@7:0.850904\n",
      "[23]\ttrain-MAP@7:0.851072\n",
      "[24]\ttrain-MAP@7:0.851192\n",
      "[25]\ttrain-MAP@7:0.851431\n",
      "[26]\ttrain-MAP@7:0.851503\n",
      "[27]\ttrain-MAP@7:0.851671\n",
      "[28]\ttrain-MAP@7:0.851815\n",
      "[29]\ttrain-MAP@7:0.852054\n",
      "[30]\ttrain-MAP@7:0.852246\n",
      "[31]\ttrain-MAP@7:0.852437\n",
      "[32]\ttrain-MAP@7:0.852605\n",
      "[33]\ttrain-MAP@7:0.852821\n",
      "[34]\ttrain-MAP@7:0.852964\n",
      "[35]\ttrain-MAP@7:0.85306\n",
      "[36]\ttrain-MAP@7:0.853156\n",
      "[37]\ttrain-MAP@7:0.853252\n",
      "[38]\ttrain-MAP@7:0.853372\n",
      "[39]\ttrain-MAP@7:0.853444\n",
      "[40]\ttrain-MAP@7:0.853587\n",
      "[41]\ttrain-MAP@7:0.853683\n",
      "[42]\ttrain-MAP@7:0.853779\n",
      "[43]\ttrain-MAP@7:0.853971\n",
      "[44]\ttrain-MAP@7:0.853875\n",
      "[45]\ttrain-MAP@7:0.85409\n",
      "[46]\ttrain-MAP@7:0.854282\n",
      "[47]\ttrain-MAP@7:0.854378\n",
      "[48]\ttrain-MAP@7:0.85445\n",
      "[49]\ttrain-MAP@7:0.854474\n",
      "[50]\ttrain-MAP@7:0.854545\n",
      "[51]\ttrain-MAP@7:0.854713\n",
      "[52]\ttrain-MAP@7:0.854929\n",
      "[53]\ttrain-MAP@7:0.854977\n",
      "[54]\ttrain-MAP@7:0.855168\n",
      "[55]\ttrain-MAP@7:0.855216\n",
      "[56]\ttrain-MAP@7:0.855312\n",
      "[57]\ttrain-MAP@7:0.855336\n",
      "[58]\ttrain-MAP@7:0.855432\n",
      "[59]\ttrain-MAP@7:0.855599\n",
      "[60]\ttrain-MAP@7:0.855671\n",
      "[61]\ttrain-MAP@7:0.855863\n",
      "[62]\ttrain-MAP@7:0.855959\n",
      "[63]\ttrain-MAP@7:0.856055\n",
      "[64]\ttrain-MAP@7:0.856103\n",
      "[65]\ttrain-MAP@7:0.856414\n",
      "[66]\ttrain-MAP@7:0.856486\n",
      "[67]\ttrain-MAP@7:0.856582\n",
      "[68]\ttrain-MAP@7:0.856677\n",
      "[69]\ttrain-MAP@7:0.856701\n",
      "[70]\ttrain-MAP@7:0.856845\n",
      "[71]\ttrain-MAP@7:0.856917\n",
      "[72]\ttrain-MAP@7:0.857013\n",
      "[73]\ttrain-MAP@7:0.857204\n",
      "[74]\ttrain-MAP@7:0.857324\n",
      "[75]\ttrain-MAP@7:0.8573\n",
      "[76]\ttrain-MAP@7:0.857372\n",
      "[77]\ttrain-MAP@7:0.857516\n",
      "[78]\ttrain-MAP@7:0.857636\n",
      "[79]\ttrain-MAP@7:0.857731\n",
      "[80]\ttrain-MAP@7:0.857779\n",
      "[81]\ttrain-MAP@7:0.857851\n",
      "[82]\ttrain-MAP@7:0.857995\n",
      "[83]\ttrain-MAP@7:0.858019\n",
      "[84]\ttrain-MAP@7:0.858115\n",
      "[85]\ttrain-MAP@7:0.858187\n",
      "[86]\ttrain-MAP@7:0.858235\n",
      "[87]\ttrain-MAP@7:0.858306\n",
      "[88]\ttrain-MAP@7:0.858426\n",
      "[89]\ttrain-MAP@7:0.858546\n",
      "[90]\ttrain-MAP@7:0.85857\n",
      "[91]\ttrain-MAP@7:0.858618\n",
      "[92]\ttrain-MAP@7:0.858714\n",
      "[93]\ttrain-MAP@7:0.858809\n",
      "[94]\ttrain-MAP@7:0.858857\n",
      "[95]\ttrain-MAP@7:0.858929\n",
      "[96]\ttrain-MAP@7:0.859049\n",
      "[97]\ttrain-MAP@7:0.859169\n",
      "[98]\ttrain-MAP@7:0.859265\n",
      "[99]\ttrain-MAP@7:0.85936\n"
     ]
    }
   ],
   "source": [
    "xgb_model = xgb.train(plist, xgb_main, num_rounds, evallist, feval=map7eval)"
   ]
  },
  {
   "cell_type": "code",
   "execution_count": 88,
   "metadata": {
    "collapsed": false
   },
   "outputs": [
    {
     "name": "stderr",
     "output_type": "stream",
     "text": [
      "100%|██████████| 931453/931453 [14:25<00:00, 1075.83it/s]\n"
     ]
    }
   ],
   "source": [
    "final_test = xgb.DMatrix(test_old)\n",
    "preds = xgb_model.predict(final_test)\n",
    "top_t_products = label_encoder.inverse_transform(np.argsort(preds, axis=1)\n",
    "                                                 [:, ::-1][:, :])\n",
    "\n",
    "test_old['xgb_preds'] = [' '.join(x) for x in top_t_products]\n",
    "test_old['added_products'] = ['ind_recibo_ult1']*test_old.shape[0]\n",
    "for i in tqdm(test_old.index):\n",
    "    zipped = zip(HEADER[24:],\n",
    "                 test_old.loc[i, 'ind_ahor_fin_ult1':'ind_recibo_ult1'])\n",
    "    products = [x[0] for x in\n",
    "                [y for y in zipped if y[1] == 1]]\n",
    "    pred_products = test_old.loc[i, 'xgb_preds'].split()\n",
    "    prod_string = ' '.join(filter(lambda x: x not in products, pred_products))\n",
    "    test_old.set_value(i, 'added_products', prod_string)"
   ]
  },
  {
   "cell_type": "code",
   "execution_count": 89,
   "metadata": {
    "collapsed": false
   },
   "outputs": [
    {
     "name": "stdout",
     "output_type": "stream",
     "text": [
      "Compressing file\n",
      "Compression done\n",
      "Uploading submission data/submissions/6.xgb_trained_on_jun_2015_only_added_users_change_in_user_features_btwn_old_month_and_change_in_product_history.csv.zip\n",
      "Upload done\n"
     ]
    }
   ],
   "source": [
    "submission = pd.read_csv('data/test_ver2.csv', usecols=[1])\n",
    "submission['added_products'] = ['ind_recibo_ult1']*submission.shape[0]\n",
    "submission.set_index('ncodpers', inplace=True)\n",
    "submission.added_products = test_old.loc[submission.index, 'added_products']\n",
    "\n",
    "filename = 'data/submissions/6.xgb_trained_on_jun_2015_only_added_users_change_in_user_features_btwn_old_month_and_change_in_product_history.csv'\n",
    "description = 'xgb model trained on june 2015 on added products and more features\\\n",
    "               that track changes in ind_empleado, age, ind_nuevo, antiguedad,\\\n",
    "               indrel, indrel_1mes, tiprel_1mes, conyuemp, indfall, ind_actividad_cliente,\\\n",
    "               renta, segmento, between the current month and older month\\\n",
    "               and log of rent, and change whether product is subscribed now and\\\n",
    "               in its entire history:\\n' + str(param)\n",
    "submission.to_csv(filename, columns=['added_products'])\n",
    "make_submission(filename, description=description, submit=True, compress=True)"
   ]
  },
  {
   "cell_type": "code",
   "execution_count": 96,
   "metadata": {
    "collapsed": false
   },
   "outputs": [
    {
     "data": {
      "image/png": "[encoded data removed]",
      "text/plain": [
       "<matplotlib.figure.Figure at 0x16169e310>"
      ]
     },
     "metadata": {},
     "output_type": "display_data"
    }
   ],
   "source": [
    "xgb.plot_importance(xgb_model)\n",
    "# plt.xticks(rotation=90)\n",
    "plt.tick_params(labelsize=16, labelcolor=\"#ffc400\")\n",
    "# plt.ylabel(\"Median Income\", size=32, color=\"#ffc400\")\n",
    "# plt.xlabel(\"City\", size=32, color=\"#ffc400\")\n",
    "# plt.title(\"Income Distribution by City\", size=40, color=\"#ffc400\")\n",
    "# plt.ylim(0, 200000)\n",
    "# plt.yticks(range(0, 200000, 40000))"
   ]
  },
  {
   "cell_type": "code",
   "execution_count": 104,
   "metadata": {
    "collapsed": false
   },
   "outputs": [
    {
     "data": {
      "text/plain": [
       "{'added_products',\n",
       " 'change_age',\n",
       " 'change_antiguedad',\n",
       " 'change_conyuemp',\n",
       " 'change_from_history_ind_ahor_fin_ult1',\n",
       " 'change_from_history_ind_aval_fin_ult1',\n",
       " 'change_from_history_ind_viv_fin_ult1',\n",
       " 'change_ind_actividad_cliente',\n",
       " 'change_ind_empleado',\n",
       " 'change_ind_nuevo',\n",
       " 'change_indfall',\n",
       " 'change_indrel',\n",
       " 'change_indrel_1mes',\n",
       " 'change_renta',\n",
       " 'change_segmento',\n",
       " 'change_tiprel_1mes',\n",
       " 'conyuemp',\n",
       " 'ind_ahor_fin_ult1',\n",
       " 'ind_aval_fin_ult1',\n",
       " 'ind_cder_fin_ult1',\n",
       " 'indfall',\n",
       " 'indrel_1mes',\n",
       " 'indresi',\n",
       " 'xgb_preds'}"
      ]
     },
     "execution_count": 104,
     "metadata": {},
     "output_type": "execute_result"
    }
   ],
   "source": [
    "set(test_old.columns) - set(xgb_model.get_fscore().keys())"
   ]
  },
  {
   "cell_type": "code",
   "execution_count": 106,
   "metadata": {
    "collapsed": false
   },
   "outputs": [
    {
     "data": {
      "text/plain": [
       "79"
      ]
     },
     "execution_count": 106,
     "metadata": {},
     "output_type": "execute_result"
    }
   ],
   "source": [
    "len(final_test.feature_names)"
   ]
  },
  {
   "cell_type": "code",
   "execution_count": 107,
   "metadata": {
    "collapsed": false
   },
   "outputs": [
    {
     "data": {
      "text/plain": [
       "21467"
      ]
     },
     "execution_count": 107,
     "metadata": {},
     "output_type": "execute_result"
    }
   ],
   "source": [
    "orig_params = {'colsample_bytree': 0.6,\n",
    "                'eta': 0.1,\n",
    "                'gamma': 0.4,\n",
    "                'max_delta_step': 7,\n",
    "                'max_depth': 4,\n",
    "                'min_child_weight': 1,\n",
    "                'nthread': 4,\n",
    "                'objective': 'multi:softprob',\n",
    "                'scale_pos_weight': 0,\n",
    "                'subsample': 0.75,\n",
    "                'silent': 1\n",
    "            }\n",
    "\n",
    "tup = lambda t: list(itertools.izip(itertools.repeat(t[0]), t[1]))\n",
    "\n",
    "def get_list_of_params(params_range):\n",
    "    pr = list(map(tup, params_range.items()))\n",
    "    pro = map(dict, list(itertools.product(*pr)))\n",
    "    return pro\n",
    "\n",
    "\n",
    "def grid_search_xgb(params_range_dict):\n",
    "    grid_params_list = get_list_of_params(params_range_dict)\n",
    "    p = Pool(2)\n",
    "    maps = map(get_map_of_xgb, grid_params_list)\n",
    "    p.close()\n",
    "    p.join()\n",
    "    sorted_maps = sorted(maps, cmp = lambda x, y: cmp(x['map'], y['map']), reverse = True)\n",
    "    print \"top map results\", sorted_maps[:3]\n",
    "    return sorted_maps\n",
    "\n",
    "def get_map_of_xgb(grid_param):\n",
    "    cv_params = dict(orig_params)\n",
    "    num_class = {'num_class': len(label_encoder.classes_)}\n",
    "    cv_params.update(num_class)\n",
    "    cv_params.update(grid_param)\n",
    "    # print orig_params, grid_param\n",
    "    temp_cv = xgb.cv(cv_params, xgb_main, num_boost_round = 20, stratified=True,\n",
    "             early_stopping_rounds = 20, feval = map7eval, maximize = True)\n",
    "    temp_map = temp_cv['test-MAP@7-mean'][temp_cv.shape[0]-1]\n",
    "    grid_param['map'] = temp_map\n",
    "    # print \"cv results\", grid_param\n",
    "    return grid_param\n",
    "\n",
    "param_range1 = {\n",
    "    'max_depth': range(2, 7, 2),\n",
    "    'min_child_weight': range(1, 7, 2)\n",
    "}\n",
    "param_range2 = {\n",
    "    'gamma': [i/10.0 for i in range(0, 6)],\n",
    "    'colsample_bylevel': [i/10.0 for i in range(5, 10)]\n",
    "}\n",
    "param_range3 = {\n",
    "    'max_delta_step': range(3, 10, 2)\n",
    "}\n",
    "param_range4 = {\n",
    "    'subsample': [i/100.0 for i in range(80, 100, 5)],\n",
    "    'colsample_bytree': [i/100.0 for i in range(80, 100, 5)]\n",
    "}"
   ]
  },
  {
   "cell_type": "code",
   "execution_count": 112,
   "metadata": {
    "collapsed": false
   },
   "outputs": [
    {
     "data": {
      "text/plain": [
       "True     628603\n",
       "False      3354\n",
       "Name: change_indrel, dtype: int64"
      ]
     },
     "execution_count": 112,
     "metadata": {},
     "output_type": "execute_result"
    }
   ],
   "source": [
    "train_old.change_indrel.value_counts()"
   ]
  },
  {
   "cell_type": "code",
   "execution_count": null,
   "metadata": {
    "collapsed": true
   },
   "outputs": [],
   "source": []
  }
 ],
 "metadata": {
  "kernelspec": {
   "display_name": "Python 2",
   "language": "python",
   "name": "python2"
  },
  "language_info": {
   "codemirror_mode": {
    "name": "ipython",
    "version": 2
   },
   "file_extension": ".py",
   "mimetype": "text/x-python",
   "name": "python",
   "nbconvert_exporter": "python",
   "pygments_lexer": "ipython2",
   "version": "2.7.12"
  }
 },
 "nbformat": 4,
 "nbformat_minor": 0
}
