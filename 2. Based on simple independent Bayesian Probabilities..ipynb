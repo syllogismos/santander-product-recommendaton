{
 "cells": [
  {
   "cell_type": "markdown",
   "metadata": {},
   "source": [
    "# Based on simple bayesian probabilities.\n",
    "\n",
    "The idea is that given previous months products that a user is subscribed to,  \n",
    "identify new products that he will be interested in.\n",
    "\n",
    "\n",
    "lets just consider 2016-05 data.. and from identify what products a given  \n",
    "user will be interested in 2016-06\n",
    "\n",
    "for example consider two products A, B  \n",
    "calculate P(B = 1 on 05th given A = 0 on 04th) and P(B = 1 on 05th given A = 1 on 04th)  \n",
    "While calculating these probabilities you don't consider data where B = 1 on 04th\n",
    "\n",
    "\n",
    "Month |  A  |  B\n",
    "----|----|----\n",
    "2016-04 | 0 | 0\n",
    "2016-05 | 1 | 1\n"
   ]
  },
  {
   "cell_type": "code",
   "execution_count": null,
   "metadata": {
    "collapsed": true
   },
   "outputs": [],
   "source": [
    "from collections import Counter\n",
    "\n",
    "n = 24 # number of products\n",
    "\n",
    "counters = [[Counter() for _ in range(n)] for i in range(n)]\n",
    "old = [0, 1, 1, 1, 0, 1, 0, 1, 0, 1, 0, 0, 0, 0, 1, 0, 1, 1, 1, 0, 1, 1, 0, 0, 1]\n",
    "new = [1, 1, 1, 1, 0, 1, 0, 1, 0, 1, 1, 1, 0, 0, 1, 0, 1, 1, 1, 0, 1, 1, 0, 1, 1]\n",
    "\n",
    "def updateCounter(old, new, counters):\n",
    "    \"\"\"\n",
    "    given older months product data and \n",
    "    newer months product data update counter object\n",
    "    old = [0, 1, 1, 1, 0, 1, 0, 1, 0, 1, 0, 0, 0, 0, 1, 0, 1, 1, 1, 0, 1, 1, 0, 0, 1]\n",
    "    new = [1, 1, 1, 1, 0, 1, 0, 1, 0, 1, 1, 1, 0, 0, 1, 0, 1, 1, 1, 0, 1, 1, 0, 1, 1]\n",
    "    \n",
    "    counters[i][j] contains counter, c = {'00': m, '01': n, '11': o, '10': p}\n",
    "    and p(j = 1 on new given i = 1 on old) = (c['11']*1.0)/(c['10'] + c['11'])\n",
    "    and p(j = 1 on new given i = 0 on old) = (c['01']*1.0)/(c['00'] + c['01]))\n",
    "    \"\"\"\n",
    "    n = len(old)\n",
    "    for i in range(n):\n",
    "        for j in range(n):\n",
    "            if old[j] == 1:\n",
    "                # have this condition if a user subscribed to a product \n",
    "                # in the older month.\n",
    "                continue\n",
    "            a = int(old[i])\n",
    "            b = int(new[j])\n",
    "            ab = str(a) + str(b)\n",
    "            counters[i][j][ab] += 1\n",
    "            \n",
    "    \n",
    "    return counters"
   ]
  },
  {
   "cell_type": "code",
   "execution_count": null,
   "metadata": {
    "collapsed": true
   },
   "outputs": [],
   "source": [
    "def updateCounter2(old, new, counters):\n",
    "    \"\"\"\n",
    "    given older months product data and \n",
    "    newer months product data update counter object\n",
    "    old = [0, 1, 1, 1, 0, 1, 0, 1, 0, 1, 0, 0, 0, 0, 1, 0, 1, 1, 1, 0, 1, 1, 0, 0, 1]\n",
    "    new = [1, 1, 1, 1, 0, 1, 0, 1, 0, 1, 1, 1, 0, 0, 1, 0, 1, 1, 1, 0, 1, 1, 0, 1, 1]\n",
    "    \n",
    "    counters[i][j] contains counter, c = {'00': m, '01': n, '11': o, '10': p}\n",
    "    and p(j = 1 on new given i = 1 on old) = (c['11']*1.0)/(c['10'] + c['11'])\n",
    "    and p(j = 1 on new given i = 0 on old) = (c['01']*1.0)/(c['00'] + c['01]))\n",
    "    \"\"\"\n",
    "    n = len(old)\n",
    "    for i in range(n):\n",
    "        for j in range(n):\n",
    "            #if old[j] == 1:\n",
    "            #    # have this condition if a user subscribed to a product \n",
    "            #    # in the older month.\n",
    "            #    continue\n",
    "            a = int(old[i])\n",
    "            b = int(new[j])\n",
    "            ab = str(a) + str(b)\n",
    "            counters[i][j][ab] += 1\n",
    "            \n",
    "    \n",
    "    return counters"
   ]
  },
  {
   "cell_type": "code",
   "execution_count": null,
   "metadata": {
    "collapsed": false
   },
   "outputs": [],
   "source": [
    "counters = [[Counter() for _ in range(4)] for i in range(4)]\n",
    "old = [0, 1, 0, 1]\n",
    "new = [1, 1, 0, 1]\n",
    "newCounters = updateCounter(old, new, counters)\n",
    "\n",
    "newCounters"
   ]
  },
  {
   "cell_type": "code",
   "execution_count": null,
   "metadata": {
    "collapsed": true
   },
   "outputs": [],
   "source": [
    "import pandas\n",
    "from tqdm import tqdm"
   ]
  },
  {
   "cell_type": "code",
   "execution_count": null,
   "metadata": {
    "collapsed": true
   },
   "outputs": [],
   "source": [
    "\n",
    "\n",
    "header = [\"ncodpers\",\"ind_ahor_fin_ult1\",\"ind_aval_fin_ult1\",\"ind_cco_fin_ult1\",\"ind_cder_fin_ult1\",\"ind_cno_fin_ult1\",\"ind_ctju_fin_ult1\",\"ind_ctma_fin_ult1\",\"ind_ctop_fin_ult1\",\"ind_ctpp_fin_ult1\",\"ind_deco_fin_ult1\",\"ind_deme_fin_ult1\",\"ind_dela_fin_ult1\",\"ind_ecue_fin_ult1\",\"ind_fond_fin_ult1\",\"ind_hip_fin_ult1\",\"ind_plan_fin_ult1\",\"ind_pres_fin_ult1\",\"ind_reca_fin_ult1\",\"ind_tjcr_fin_ult1\",\"ind_valo_fin_ult1\",\"ind_viv_fin_ult1\",\"ind_nomina_ult1\",\"ind_nom_pens_ult1\",\"ind_recibo_ult1\"]\n",
    "\n",
    "old_tr = pandas.read_csv('data/train_2016_04_28.csv', header=None, names=header, usecols=[1] + range(24, 48), index_col=0)\n",
    "new_tr = pandas.read_csv('data/train_2016_05_28.csv', header=None, names=header, usecols=[1] + range(24, 48), index_col=0)\n",
    "\n",
    "indices = list(new_tr.index)\n",
    "\n",
    "n = 24 # number of products"
   ]
  },
  {
   "cell_type": "code",
   "execution_count": null,
   "metadata": {
    "collapsed": false
   },
   "outputs": [],
   "source": [
    "counters = [[Counter() for _ in range(n)] for i in range(n)]\n",
    "actual['apk'] = actual.apply(h, axis = 1)\n",
    "for i in tqdm(indices):\n",
    "    try:\n",
    "        old = list(old_tr.loc[i])\n",
    "        new = list(new_tr.loc[i])\n",
    "        counters = updateCounter(old, new, counters)\n",
    "    except Exception:\n",
    "        pass"
   ]
  },
  {
   "cell_type": "code",
   "execution_count": null,
   "metadata": {
    "collapsed": true
   },
   "outputs": [],
   "source": [
    "counters2 = [[Counter() for _ in range(n)] for i in range(n)]"
   ]
  },
  {
   "cell_type": "code",
   "execution_count": null,
   "metadata": {
    "collapsed": false
   },
   "outputs": [],
   "source": [
    "for i in tqdm(indices):\n",
    "    try:\n",
    "        old = list(old_tr.loc[i])\n",
    "        new = list(new_tr.loc[i])\n",
    "        counters2 = updateCounter2(old, new, counters2)\n",
    "    except Exception:\n",
    "        pass"
   ]
  },
  {
   "cell_type": "code",
   "execution_count": null,
   "metadata": {
    "collapsed": false
   },
   "outputs": [],
   "source": [
    "counters2[0][1]"
   ]
  },
  {
   "cell_type": "code",
   "execution_count": null,
   "metadata": {
    "collapsed": true
   },
   "outputs": [],
   "source": [
    "def get_prob_matrix(counters):\n",
    "    \"\"\"\n",
    "    returns two prob matrices\n",
    "    prob0[i][j] contains P(j_new = 1/i_old = 0)\n",
    "    prob1[i][j] contains P(j_new = 1/i_old = 1)\n",
    "    \"\"\"\n",
    "    prob0 = [[0.0 for i in range(n)] for j in range(n)]\n",
    "    prob1 = [[0.0 for i in range(n)] for j in range(n)]\n",
    "    for i in range(n):\n",
    "        for j in range(n):\n",
    "            c = counters[i][j]\n",
    "            prob1[i][j] = ((c['11'] + 1)*1.0)/(c['10'] + c['11'] + 2)\n",
    "            prob0[i][j] = ((c['01'] + 1)*1.0)/(c['00'] + c['01'] + 2)\n",
    "    return (prob0, prob1)"
   ]
  },
  {
   "cell_type": "code",
   "execution_count": null,
   "metadata": {
    "collapsed": true
   },
   "outputs": [],
   "source": [
    "from operator import mul\n",
    "\n",
    "def get_probabilities_of_unsubscribed_prods(products, counters = counters):\n",
    "    \"\"\"\n",
    "    products = subscription data [0, 1, 1, 0, 0, 1]\n",
    "    returns a list of products in descending order of probs \n",
    "    \"\"\"\n",
    "    prob0, prob1 = get_prob_matrix(counters)\n",
    "    product_names = header[1:]\n",
    "    prob_dict = {}\n",
    "    for i, prod in enumerate(products):\n",
    "        if prod == 0:\n",
    "            temp_list = []\n",
    "            for j in range(n):\n",
    "                if i == j:\n",
    "                    continue\n",
    "                if products[j] == 0:\n",
    "                    temp_list.append(prob0[j][i])\n",
    "                if products[i] == 1:\n",
    "                    temp_list.append(prob1[i][j])\n",
    "            prob_dict[product_names[i]] = reduce(mul, temp_list, 1)\n",
    "    sorted_prods = sorted(prob_dict.items(), cmp = lambda x, y: cmp(x[1], y[1]), reverse = True)[:7]\n",
    "    # print sorted_prods\n",
    "    product_string = ' '.join(map(lambda x: x[0], sorted_prods))\n",
    "    return product_string\n",
    "    "
   ]
  },
  {
   "cell_type": "code",
   "execution_count": null,
   "metadata": {
    "collapsed": false
   },
   "outputs": [],
   "source": [
    "get_probabilities_of_unsubscribed_prods([0]*24)"
   ]
  },
  {
   "cell_type": "code",
   "execution_count": null,
   "metadata": {
    "collapsed": false
   },
   "outputs": [],
   "source": [
    "te = pandas.read_csv('data/test_ver2.csv', usecols = [1])\n",
    "te[\"added_products\"] = [\"ind_tjcr_fin_ult1\"]*te.shape[0]"
   ]
  },
  {
   "cell_type": "code",
   "execution_count": null,
   "metadata": {
    "collapsed": false
   },
   "outputs": [],
   "source": [
    "\n",
    "\n",
    "for i in te.index:\n",
    "    if i % 100000 == 0:\n",
    "        print i, \"rows processed\"\n",
    "    person = te.loc[i][\"ncodpers\"]\n",
    "    # print i, person\n",
    "    row = list(new_tr.loc[person])\n",
    "    # print row\n",
    "    added_products = get_probabilities_of_unsubscribed_prods(row)\n",
    "    # print added_products\n",
    "    te.set_value(i,\"added_products\",added_products)"
   ]
  },
  {
   "cell_type": "code",
   "execution_count": null,
   "metadata": {
    "collapsed": true
   },
   "outputs": [],
   "source": [
    "te.to_csv('data/submissions/2_bayesian_prob_products_counters_with_old_1_ignored.csv', index=False)"
   ]
  },
  {
   "cell_type": "code",
   "execution_count": null,
   "metadata": {
    "collapsed": false
   },
   "outputs": [],
   "source": [
    "from scripts.kaggle.helpers import make_submission\n",
    "make_submission('data/submissions/2_bayesian_prob_products_counters_with_old_1_ignored.csv', description=\"2. based on bayesian probabilities, where probs are calculated only for prods when there is a transition from 0 to 1\", submit=True, compress=True)"
   ]
  },
  {
   "cell_type": "code",
   "execution_count": null,
   "metadata": {
    "collapsed": false
   },
   "outputs": [],
   "source": [
    "## Cross validation code\n",
    "\n",
    "# get predictions for 2016-05-28 from 2016-04-28\n",
    "te = pandas.DataFrame()\n",
    "te['ncodpers'] = new_tr.index\n",
    "te['added_products'] = [\"ind_tjcr_fin_ult1\"]*te.shape[0]\n",
    "\n",
    "for i in te.index:\n",
    "    if i % 100000 == 0:\n",
    "        print i, \"rows processed\"\n",
    "    person = te.loc[i][\"ncodpers\"]\n",
    "    # print i, person\n",
    "    try:\n",
    "        row = list(old_tr.loc[person])\n",
    "    except:\n",
    "        row = [0] * 24\n",
    "    # print row\n",
    "    added_products = get_probabilities_of_unsubscribed_prods(row)\n",
    "    # print added_products\n",
    "    te.set_value(i,\"added_products\",added_products)\n",
    "\n",
    "#actual = pandas.read_csv('data/cv_2016_05_28.csv', index_col = 0)\n",
    "\n",
    "def apk(actual, predicted, k=7):\n",
    "    if len(predicted) > k:\n",
    "        predicted = predicted[:k]\n",
    "\n",
    "    score = 0.0\n",
    "    num_hits = 0.0\n",
    "\n",
    "    for i, p in enumerate(predicted):\n",
    "        if p in actual and p not in predicted[:i]:\n",
    "            num_hits += 1.0\n",
    "            score += num_hits / (i+1.0)\n",
    "\n",
    "    if not actual:\n",
    "        return 0.0\n",
    "\n",
    "    return score / min(len(actual), k)\n",
    "\n",
    "h = lambda x: apk(x[0].split(), x[1].split())\n",
    "\n",
    "actual = pandas.read_csv('data/cv_2016_05_28.csv', index_col = 0)\n",
    "actual['predicted'] = te[\"added_products_03_04_1\"]\n",
    "\n",
    "actual = actual.fillna('a')\n",
    "\n",
    "actual['apk'] = actual.apply(h, axis = 1)"
   ]
  },
  {
   "cell_type": "code",
   "execution_count": null,
   "metadata": {
    "collapsed": false
   },
   "outputs": [],
   "source": [
    "more_apk = actual[actual.iloc[:,2] > 0.5]"
   ]
  },
  {
   "cell_type": "code",
   "execution_count": null,
   "metadata": {
    "collapsed": false
   },
   "outputs": [],
   "source": [
    "numpy.mean(actual['apk'])"
   ]
  },
  {
   "cell_type": "markdown",
   "metadata": {},
   "source": [
    "# Cross validation results\n",
    "Cross validation with probs gotten from 04 to 05 transition and applied on 04\n",
    "mean apk = 0.52377206914256291\n",
    "\n",
    "almost 40k predictions were exact in this way..\n",
    "\n",
    "not a very good measure.. so calculating countres from the trassision from 03 to 04 and applied on 04 subscriptions"
   ]
  },
  {
   "cell_type": "code",
   "execution_count": null,
   "metadata": {
    "collapsed": false
   },
   "outputs": [],
   "source": [
    "more_apk.head()"
   ]
  },
  {
   "cell_type": "code",
   "execution_count": null,
   "metadata": {
    "collapsed": true
   },
   "outputs": [],
   "source": [
    "\n",
    "\n",
    "header = [\"ncodpers\",\"ind_ahor_fin_ult1\",\"ind_aval_fin_ult1\",\"ind_cco_fin_ult1\",\"ind_cder_fin_ult1\",\"ind_cno_fin_ult1\",\"ind_ctju_fin_ult1\",\"ind_ctma_fin_ult1\",\"ind_ctop_fin_ult1\",\"ind_ctpp_fin_ult1\",\"ind_deco_fin_ult1\",\"ind_deme_fin_ult1\",\"ind_dela_fin_ult1\",\"ind_ecue_fin_ult1\",\"ind_fond_fin_ult1\",\"ind_hip_fin_ult1\",\"ind_plan_fin_ult1\",\"ind_pres_fin_ult1\",\"ind_reca_fin_ult1\",\"ind_tjcr_fin_ult1\",\"ind_valo_fin_ult1\",\"ind_viv_fin_ult1\",\"ind_nomina_ult1\",\"ind_nom_pens_ult1\",\"ind_recibo_ult1\"]\n",
    "\n",
    "old_tr = pandas.read_csv('data/train_2016_03_28.csv', header=None, names=header, usecols=[1] + range(24, 48), index_col=0)\n",
    "new_tr = pandas.read_csv('data/train_2016_04_28.csv', header=None, names=header, usecols=[1] + range(24, 48), index_col=0)\n",
    "\n",
    "indices = list(new_tr.index)\n",
    "\n",
    "n = 24 # number of products"
   ]
  },
  {
   "cell_type": "code",
   "execution_count": null,
   "metadata": {
    "collapsed": false
   },
   "outputs": [],
   "source": [
    "counters3 = [[Counter() for _ in range(n)] for i in range(n)]\n",
    "for i in tqdm(indices):\n",
    "    try:\n",
    "        old = list(old_tr.loc[i])\n",
    "        new = list(new_tr.loc[i])\n",
    "        counters3 = updateCounter(old, new, counters3)\n",
    "    except Exception:\n",
    "        pass"
   ]
  },
  {
   "cell_type": "code",
   "execution_count": null,
   "metadata": {
    "collapsed": false
   },
   "outputs": [],
   "source": [
    "te['added_products_03_04_1'] = [\"ind_tjcr_fin_ult1\"]*te.shape[0]\n",
    "\n",
    "for i in te.index:\n",
    "    if i % 100000 == 0:\n",
    "        print i, \"rows processed\"\n",
    "    person = te.loc[i][\"ncodpers\"]\n",
    "    # print i, person\n",
    "    try:\n",
    "        row = list(old_tr.loc[person])\n",
    "    except:\n",
    "        row = [0] * 24\n",
    "    # print row\n",
    "    added_products = get_probabilities_of_unsubscribed_prods(row, counters = counters3)\n",
    "    # print added_products\n",
    "    te.set_value(i,\"added_products_03_04_1\",added_products)"
   ]
  },
  {
   "cell_type": "code",
   "execution_count": null,
   "metadata": {
    "collapsed": false
   },
   "outputs": [],
   "source": [
    "del(actual)"
   ]
  },
  {
   "cell_type": "code",
   "execution_count": null,
   "metadata": {
    "collapsed": false
   },
   "outputs": [],
   "source": [
    "actual = pandas.read_csv('data/cv_2016_05_28.csv', index_col = 0)\n",
    "actual['predicted'] = te[\"added_products_03_04_1\"]\n",
    "\n",
    "actual = actual.fillna('a')\n",
    "\n",
    "actual['apk'] = actual.apply(h, axis = 1)"
   ]
  },
  {
   "cell_type": "code",
   "execution_count": null,
   "metadata": {
    "collapsed": false
   },
   "outputs": [],
   "source": [
    "numpy.mean(actual['apk'])"
   ]
  },
  {
   "cell_type": "code",
   "execution_count": null,
   "metadata": {
    "collapsed": false
   },
   "outputs": [],
   "source": [
    "te.tail()"
   ]
  },
  {
   "cell_type": "code",
   "execution_count": null,
   "metadata": {
    "collapsed": true
   },
   "outputs": [],
   "source": [
    "more_apk = actual[actual.iloc[:,2] > 0.5]"
   ]
  },
  {
   "cell_type": "code",
   "execution_count": null,
   "metadata": {
    "collapsed": false
   },
   "outputs": [],
   "source": [
    "te.tail()"
   ]
  },
  {
   "cell_type": "code",
   "execution_count": null,
   "metadata": {
    "collapsed": true
   },
   "outputs": [],
   "source": [
    "x = te[te.iloc[:, 1] == te.iloc[:, 2]]"
   ]
  },
  {
   "cell_type": "code",
   "execution_count": null,
   "metadata": {
    "collapsed": false
   },
   "outputs": [],
   "source": [
    "x.shape"
   ]
  },
  {
   "cell_type": "code",
   "execution_count": null,
   "metadata": {
    "collapsed": true
   },
   "outputs": [],
   "source": []
  }
 ],
 "metadata": {
  "kernelspec": {
   "display_name": "Python 2",
   "language": "python",
   "name": "python2"
  },
  "language_info": {
   "codemirror_mode": {
    "name": "ipython",
    "version": 2
   },
   "file_extension": ".py",
   "mimetype": "text/x-python",
   "name": "python",
   "nbconvert_exporter": "python",
   "pygments_lexer": "ipython2",
   "version": "2.7.12"
  }
 },
 "nbformat": 4,
 "nbformat_minor": 0
}
