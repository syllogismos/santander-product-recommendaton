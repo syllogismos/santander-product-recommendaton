{
 "cells": [
  {
   "cell_type": "markdown",
   "metadata": {},
   "source": [
    "# Based on simple bayesian probabilities.\n",
    "\n",
    "The idea is that given previous months products that a user is subscribed to,  \n",
    "identify new products that he will be interested in.\n",
    "\n",
    "\n",
    "lets just consider 2016-05 data.. and from identify what products a given  \n",
    "user will be interested in 2016-06\n",
    "\n",
    "for example consider two products A, B  \n",
    "calculate P(B = 1 on 05th given A = 0 on 04th) and P(B = 1 on 05th given A = 1 on 04th)  \n",
    "While calculating these probabilities you don't consider data where B = 1 on 04th\n",
    "\n",
    "\n",
    "Month |  A  |  B\n",
    "----|----|----\n",
    "2016-04 | 0 | 0\n",
    "2016-05 | 1 | 1\n"
   ]
  },
  {
   "cell_type": "code",
   "execution_count": 1,
   "metadata": {
    "collapsed": true
   },
   "outputs": [],
   "source": [
    "from collections import Counter\n",
    "\n",
    "n = 24 # number of products\n",
    "\n",
    "counters = [[Counter() for _ in range(n)] for i in range(n)]\n",
    "old = [0, 1, 1, 1, 0, 1, 0, 1, 0, 1, 0, 0, 0, 0, 1, 0, 1, 1, 1, 0, 1, 1, 0, 0, 1]\n",
    "new = [1, 1, 1, 1, 0, 1, 0, 1, 0, 1, 1, 1, 0, 0, 1, 0, 1, 1, 1, 0, 1, 1, 0, 1, 1]\n",
    "\n",
    "def updateCounter(old, new, counters):\n",
    "    \"\"\"\n",
    "    given older months product data and \n",
    "    newer months product data update counter object\n",
    "    old = [0, 1, 1, 1, 0, 1, 0, 1, 0, 1, 0, 0, 0, 0, 1, 0, 1, 1, 1, 0, 1, 1, 0, 0, 1]\n",
    "    new = [1, 1, 1, 1, 0, 1, 0, 1, 0, 1, 1, 1, 0, 0, 1, 0, 1, 1, 1, 0, 1, 1, 0, 1, 1]\n",
    "    \n",
    "    counters[i][j] contains counter, c = {'00': m, '01': n, '11': o, '10': p}\n",
    "    and p(j = 1 on new given i = 1 on old) = (c['11']*1.0)/(c['10'] + c['11'])\n",
    "    and p(j = 1 on new given i = 0 on old) = (c['01']*1.0)/(c['00'] + c['01]))\n",
    "    \"\"\"\n",
    "    n = len(old)\n",
    "    for i in range(n):\n",
    "        for j in range(n):\n",
    "            if old[j] == 1:\n",
    "                # have this condition if a user subscribed to a product \n",
    "                # in the older month.\n",
    "                continue\n",
    "            a = int(old[i])\n",
    "            b = int(new[j])\n",
    "            ab = str(a) + str(b)\n",
    "            counters[i][j][ab] += 1\n",
    "            \n",
    "    \n",
    "    return counters"
   ]
  },
  {
   "cell_type": "code",
   "execution_count": 2,
   "metadata": {
    "collapsed": true
   },
   "outputs": [],
   "source": [
    "def updateCounter2(old, new, counters):\n",
    "    \"\"\"\n",
    "    given older months product data and \n",
    "    newer months product data update counter object\n",
    "    old = [0, 1, 1, 1, 0, 1, 0, 1, 0, 1, 0, 0, 0, 0, 1, 0, 1, 1, 1, 0, 1, 1, 0, 0, 1]\n",
    "    new = [1, 1, 1, 1, 0, 1, 0, 1, 0, 1, 1, 1, 0, 0, 1, 0, 1, 1, 1, 0, 1, 1, 0, 1, 1]\n",
    "    \n",
    "    counters[i][j] contains counter, c = {'00': m, '01': n, '11': o, '10': p}\n",
    "    and p(j = 1 on new given i = 1 on old) = (c['11']*1.0)/(c['10'] + c['11'])\n",
    "    and p(j = 1 on new given i = 0 on old) = (c['01']*1.0)/(c['00'] + c['01]))\n",
    "    \"\"\"\n",
    "    n = len(old)\n",
    "    for i in range(n):\n",
    "        for j in range(n):\n",
    "            #if old[j] == 1:\n",
    "            #    # have this condition if a user subscribed to a product \n",
    "            #    # in the older month.\n",
    "            #    continue\n",
    "            a = int(old[i])\n",
    "            b = int(new[j])\n",
    "            ab = str(a) + str(b)\n",
    "            counters[i][j][ab] += 1\n",
    "            \n",
    "    \n",
    "    return counters"
   ]
  },
  {
   "cell_type": "code",
   "execution_count": 3,
   "metadata": {
    "collapsed": false
   },
   "outputs": [
    {
     "data": {
      "text/plain": [
       "[[Counter({'01': 1}), Counter(), Counter({'00': 1}), Counter()],\n",
       " [Counter({'11': 1}), Counter(), Counter({'10': 1}), Counter()],\n",
       " [Counter({'01': 1}), Counter(), Counter({'00': 1}), Counter()],\n",
       " [Counter({'11': 1}), Counter(), Counter({'10': 1}), Counter()]]"
      ]
     },
     "execution_count": 3,
     "metadata": {},
     "output_type": "execute_result"
    }
   ],
   "source": [
    "counters = [[Counter() for _ in range(4)] for i in range(4)]\n",
    "old = [0, 1, 0, 1]\n",
    "new = [1, 1, 0, 1]\n",
    "newCounters = updateCounter(old, new, counters)\n",
    "\n",
    "newCounters"
   ]
  },
  {
   "cell_type": "code",
   "execution_count": 1,
   "metadata": {
    "collapsed": true
   },
   "outputs": [],
   "source": [
    "import pandas\n",
    "from tqdm import tqdm"
   ]
  },
  {
   "cell_type": "code",
   "execution_count": 2,
   "metadata": {
    "collapsed": true
   },
   "outputs": [],
   "source": [
    "\n",
    "\n",
    "header = [\"ncodpers\",\"ind_ahor_fin_ult1\",\"ind_aval_fin_ult1\",\"ind_cco_fin_ult1\",\"ind_cder_fin_ult1\",\"ind_cno_fin_ult1\",\"ind_ctju_fin_ult1\",\"ind_ctma_fin_ult1\",\"ind_ctop_fin_ult1\",\"ind_ctpp_fin_ult1\",\"ind_deco_fin_ult1\",\"ind_deme_fin_ult1\",\"ind_dela_fin_ult1\",\"ind_ecue_fin_ult1\",\"ind_fond_fin_ult1\",\"ind_hip_fin_ult1\",\"ind_plan_fin_ult1\",\"ind_pres_fin_ult1\",\"ind_reca_fin_ult1\",\"ind_tjcr_fin_ult1\",\"ind_valo_fin_ult1\",\"ind_viv_fin_ult1\",\"ind_nomina_ult1\",\"ind_nom_pens_ult1\",\"ind_recibo_ult1\"]\n",
    "\n",
    "old_tr = pandas.read_csv('data/train_2016_04_28.csv', header=None, names=header, usecols=[1] + range(24, 48), index_col=0)\n",
    "new_tr = pandas.read_csv('data/train_2016_05_28.csv', header=None, names=header, usecols=[1] + range(24, 48), index_col=0)\n",
    "\n",
    "indices = list(new_tr.index)\n",
    "\n",
    "n = 24 # number of products"
   ]
  },
  {
   "cell_type": "code",
   "execution_count": 6,
   "metadata": {
    "collapsed": false
   },
   "outputs": [
    {
     "name": "stderr",
     "output_type": "stream",
     "text": [
      "100%|██████████| 931453/931453 [16:12<00:00, 957.76it/s] \n"
     ]
    }
   ],
   "source": [
    "counters = [[Counter() for _ in range(n)] for i in range(n)]\n",
    "for i in tqdm(indices):\n",
    "    try:\n",
    "        old = list(old_tr.loc[i])\n",
    "        new = list(new_tr.loc[i])\n",
    "        counters = updateCounter(old, new, counters)\n",
    "    except Exception:\n",
    "        pass"
   ]
  },
  {
   "cell_type": "code",
   "execution_count": null,
   "metadata": {
    "collapsed": true
   },
   "outputs": [],
   "source": [
    "counters2 = [[Counter() for _ in range(n)] for i in range(n)]"
   ]
  },
  {
   "cell_type": "code",
   "execution_count": null,
   "metadata": {
    "collapsed": false
   },
   "outputs": [],
   "source": [
    "for i in tqdm(indices):\n",
    "    try:\n",
    "        old = list(old_tr.loc[i])\n",
    "        new = list(new_tr.loc[i])\n",
    "        counters2 = updateCounter2(old, new, counters2)\n",
    "    except Exception:\n",
    "        pass"
   ]
  },
  {
   "cell_type": "code",
   "execution_count": null,
   "metadata": {
    "collapsed": false
   },
   "outputs": [],
   "source": [
    "counters2[0][1]"
   ]
  },
  {
   "cell_type": "code",
   "execution_count": 7,
   "metadata": {
    "collapsed": true
   },
   "outputs": [],
   "source": [
    "def get_prob_matrix(counters):\n",
    "    \"\"\"\n",
    "    returns two prob matrices\n",
    "    prob0[i][j] contains P(j_new = 1/i_old = 0)\n",
    "    prob1[i][j] contains P(j_new = 1/i_old = 1)\n",
    "    \"\"\"\n",
    "    prob0 = [[0.0 for i in range(n)] for j in range(n)]\n",
    "    prob1 = [[0.0 for i in range(n)] for j in range(n)]\n",
    "    for i in range(n):\n",
    "        for j in range(n):\n",
    "            c = counters[i][j]\n",
    "            prob1[i][j] = ((c['11'] + 1)*1.0)/(c['10'] + c['11'] + 2)\n",
    "            prob0[i][j] = ((c['01'] + 1)*1.0)/(c['00'] + c['01'] + 2)\n",
    "    return (prob0, prob1)"
   ]
  },
  {
   "cell_type": "code",
   "execution_count": 8,
   "metadata": {
    "collapsed": true
   },
   "outputs": [],
   "source": [
    "from operator import mul\n",
    "\n",
    "def get_probabilities_of_unsubscribed_prods(products, counters = counters):\n",
    "    \"\"\"\n",
    "    products = subscription data [0, 1, 1, 0, 0, 1]\n",
    "    returns a list of products in descending order of probs \n",
    "    \"\"\"\n",
    "    prob0, prob1 = get_prob_matrix(counters)\n",
    "    product_names = header[1:]\n",
    "    prob_dict = {}\n",
    "    for i, prod in enumerate(products):\n",
    "        if prod == 0:\n",
    "            temp_list = []\n",
    "            for j in range(n):\n",
    "                if i == j:\n",
    "                    continue\n",
    "                if products[j] == 0:\n",
    "                    temp_list.append(prob0[j][i])\n",
    "                if products[i] == 1:\n",
    "                    temp_list.append(prob1[i][j])\n",
    "            prob_dict[product_names[i]] = reduce(mul, temp_list, 1)\n",
    "    sorted_prods = sorted(prob_dict.items(), cmp = lambda x, y: cmp(x[1], y[1]), reverse = True)[:7]\n",
    "    # print sorted_prods\n",
    "    product_string = ' '.join(map(lambda x: x[0], sorted_prods))\n",
    "    return product_string\n",
    "    "
   ]
  },
  {
   "cell_type": "code",
   "execution_count": 9,
   "metadata": {
    "collapsed": false
   },
   "outputs": [
    {
     "data": {
      "text/plain": [
       "'ind_recibo_ult1 ind_cco_fin_ult1 ind_nom_pens_ult1 ind_nomina_ult1 ind_tjcr_fin_ult1 ind_ecue_fin_ult1 ind_cno_fin_ult1'"
      ]
     },
     "execution_count": 9,
     "metadata": {},
     "output_type": "execute_result"
    }
   ],
   "source": [
    "get_probabilities_of_unsubscribed_prods([0]*24)"
   ]
  },
  {
   "cell_type": "code",
   "execution_count": null,
   "metadata": {
    "collapsed": false
   },
   "outputs": [],
   "source": [
    "te = pandas.read_csv('data/test_ver2.csv', usecols = [1])\n",
    "te[\"added_products\"] = [\"ind_tjcr_fin_ult1\"]*te.shape[0]"
   ]
  },
  {
   "cell_type": "code",
   "execution_count": null,
   "metadata": {
    "collapsed": false
   },
   "outputs": [],
   "source": [
    "\n",
    "\n",
    "for i in te.index:\n",
    "    if i % 100000 == 0:\n",
    "        print i, \"rows processed\"\n",
    "    person = te.loc[i][\"ncodpers\"]\n",
    "    # print i, person\n",
    "    row = list(new_tr.loc[person])\n",
    "    # print row\n",
    "    added_products = get_probabilities_of_unsubscribed_prods(row)\n",
    "    # print added_products\n",
    "    te.set_value(i,\"added_products\",added_products)"
   ]
  },
  {
   "cell_type": "code",
   "execution_count": null,
   "metadata": {
    "collapsed": true
   },
   "outputs": [],
   "source": [
    "te.to_csv('data/submissions/2_bayesian_prob_products_counters_with_old_1_ignored.csv', index=False)"
   ]
  },
  {
   "cell_type": "code",
   "execution_count": null,
   "metadata": {
    "collapsed": false
   },
   "outputs": [],
   "source": [
    "from scripts.kaggle.helpers import make_submission\n",
    "make_submission('data/submissions/2_bayesian_prob_products_counters_with_old_1_ignored.csv', description=\"2. based on bayesian probabilities, where probs are calculated only for prods when there is a transition from 0 to 1\", submit=True, compress=True)"
   ]
  },
  {
   "cell_type": "code",
   "execution_count": null,
   "metadata": {
    "collapsed": false
   },
   "outputs": [],
   "source": [
    "## Cross validation code\n",
    "\n",
    "# get predictions for 2016-05-28 from 2016-04-28\n",
    "te = pandas.DataFrame()\n",
    "te['ncodpers'] = new_tr.index\n",
    "te['added_products'] = [\"ind_tjcr_fin_ult1\"]*te.shape[0]\n",
    "\n",
    "for i in te.index:\n",
    "    if i % 100000 == 0:\n",
    "        print i, \"rows processed\"\n",
    "    person = te.loc[i][\"ncodpers\"]\n",
    "    # print i, person\n",
    "    try:\n",
    "        row = list(old_tr.loc[person])\n",
    "    except:\n",
    "        row = [0] * 24\n",
    "    # print row\n",
    "    added_products = get_probabilities_of_unsubscribed_prods(row)\n",
    "    # print added_products\n",
    "    te.set_value(i,\"added_products\",added_products)\n",
    "\n",
    "#actual = pandas.read_csv('data/cv_2016_05_28.csv', index_col = 0)\n",
    "\n",
    "def apk(actual, predicted, k=7):\n",
    "    if len(predicted) > k:\n",
    "        predicted = predicted[:k]\n",
    "\n",
    "    score = 0.0\n",
    "    num_hits = 0.0\n",
    "\n",
    "    for i, p in enumerate(predicted):\n",
    "        if p in actual and p not in predicted[:i]:\n",
    "            num_hits += 1.0\n",
    "            score += num_hits / (i+1.0)\n",
    "\n",
    "    if not actual:\n",
    "        return 0.0\n",
    "\n",
    "    return score / min(len(actual), k)\n",
    "\n",
    "h = lambda x: apk(x[0].split(), x[1].split())\n",
    "\n",
    "actual = pandas.read_csv('data/cv_2016_05_28.csv', index_col = 0)\n",
    "actual['predicted'] = te[\"added_products_03_04_1\"]\n",
    "\n",
    "actual = actual.fillna('a')\n",
    "\n",
    "actual['apk'] = actual.apply(h, axis = 1)"
   ]
  },
  {
   "cell_type": "code",
   "execution_count": null,
   "metadata": {
    "collapsed": false
   },
   "outputs": [],
   "source": [
    "more_apk = actual[actual.iloc[:,2] > 0.5]"
   ]
  },
  {
   "cell_type": "code",
   "execution_count": null,
   "metadata": {
    "collapsed": false
   },
   "outputs": [],
   "source": [
    "numpy.mean(actual['apk'])"
   ]
  },
  {
   "cell_type": "markdown",
   "metadata": {},
   "source": [
    "# Cross validation results\n",
    "Cross validation with probs gotten from 04 to 05 transition and applied on 04\n",
    "mean apk = 0.52377206914256291\n",
    "\n",
    "almost 40k predictions were exact in this way..\n",
    "\n",
    "not a very good measure.. so calculating countres from the trassision from 03 to 04 and applied on 04 subscriptions"
   ]
  },
  {
   "cell_type": "code",
   "execution_count": null,
   "metadata": {
    "collapsed": false
   },
   "outputs": [],
   "source": [
    "more_apk.head()"
   ]
  },
  {
   "cell_type": "code",
   "execution_count": null,
   "metadata": {
    "collapsed": true
   },
   "outputs": [],
   "source": [
    "\n",
    "\n",
    "header = [\"ncodpers\",\"ind_ahor_fin_ult1\",\"ind_aval_fin_ult1\",\"ind_cco_fin_ult1\",\"ind_cder_fin_ult1\",\"ind_cno_fin_ult1\",\"ind_ctju_fin_ult1\",\"ind_ctma_fin_ult1\",\"ind_ctop_fin_ult1\",\"ind_ctpp_fin_ult1\",\"ind_deco_fin_ult1\",\"ind_deme_fin_ult1\",\"ind_dela_fin_ult1\",\"ind_ecue_fin_ult1\",\"ind_fond_fin_ult1\",\"ind_hip_fin_ult1\",\"ind_plan_fin_ult1\",\"ind_pres_fin_ult1\",\"ind_reca_fin_ult1\",\"ind_tjcr_fin_ult1\",\"ind_valo_fin_ult1\",\"ind_viv_fin_ult1\",\"ind_nomina_ult1\",\"ind_nom_pens_ult1\",\"ind_recibo_ult1\"]\n",
    "\n",
    "old_tr = pandas.read_csv('data/train_2016_03_28.csv', header=None, names=header, usecols=[1] + range(24, 48), index_col=0)\n",
    "new_tr = pandas.read_csv('data/train_2016_04_28.csv', header=None, names=header, usecols=[1] + range(24, 48), index_col=0)\n",
    "\n",
    "indices = list(new_tr.index)\n",
    "\n",
    "n = 24 # number of products"
   ]
  },
  {
   "cell_type": "code",
   "execution_count": null,
   "metadata": {
    "collapsed": false
   },
   "outputs": [],
   "source": [
    "counters3 = [[Counter() for _ in range(n)] for i in range(n)]\n",
    "for i in tqdm(indices):\n",
    "    try:\n",
    "        old = list(old_tr.loc[i])\n",
    "        new = list(new_tr.loc[i])\n",
    "        counters3 = updateCounter(old, new, counters3)\n",
    "    except Exception:\n",
    "        pass"
   ]
  },
  {
   "cell_type": "code",
   "execution_count": null,
   "metadata": {
    "collapsed": false
   },
   "outputs": [],
   "source": [
    "te['added_products_03_04_1'] = [\"ind_tjcr_fin_ult1\"]*te.shape[0]\n",
    "\n",
    "for i in te.index:\n",
    "    if i % 100000 == 0:\n",
    "        print i, \"rows processed\"\n",
    "    person = te.loc[i][\"ncodpers\"]\n",
    "    # print i, person\n",
    "    try:\n",
    "        row = list(old_tr.loc[person])\n",
    "    except:\n",
    "        row = [0] * 24\n",
    "    # print row\n",
    "    added_products = get_probabilities_of_unsubscribed_prods(row, counters = counters3)\n",
    "    # print added_products\n",
    "    te.set_value(i,\"added_products_03_04_1\",added_products)"
   ]
  },
  {
   "cell_type": "code",
   "execution_count": null,
   "metadata": {
    "collapsed": false
   },
   "outputs": [],
   "source": [
    "del(actual)"
   ]
  },
  {
   "cell_type": "code",
   "execution_count": null,
   "metadata": {
    "collapsed": false
   },
   "outputs": [],
   "source": [
    "actual = pandas.read_csv('data/cv_2016_05_28.csv', index_col = 0)\n",
    "actual['predicted'] = te[\"added_products_03_04_1\"]\n",
    "\n",
    "actual = actual.fillna('a')\n",
    "\n",
    "actual['apk'] = actual.apply(h, axis = 1)"
   ]
  },
  {
   "cell_type": "code",
   "execution_count": null,
   "metadata": {
    "collapsed": false
   },
   "outputs": [],
   "source": [
    "numpy.mean(actual['apk'])"
   ]
  },
  {
   "cell_type": "code",
   "execution_count": null,
   "metadata": {
    "collapsed": false
   },
   "outputs": [],
   "source": [
    "te.tail()"
   ]
  },
  {
   "cell_type": "code",
   "execution_count": null,
   "metadata": {
    "collapsed": true
   },
   "outputs": [],
   "source": [
    "more_apk = actual[actual.iloc[:,2] > 0.5]"
   ]
  },
  {
   "cell_type": "code",
   "execution_count": null,
   "metadata": {
    "collapsed": false
   },
   "outputs": [],
   "source": [
    "te.tail()"
   ]
  },
  {
   "cell_type": "code",
   "execution_count": null,
   "metadata": {
    "collapsed": true
   },
   "outputs": [],
   "source": [
    "x = te[te.iloc[:, 1] == te.iloc[:, 2]]"
   ]
  },
  {
   "cell_type": "code",
   "execution_count": null,
   "metadata": {
    "collapsed": false
   },
   "outputs": [],
   "source": [
    "x.shape"
   ]
  },
  {
   "cell_type": "code",
   "execution_count": 6,
   "metadata": {
    "collapsed": false
   },
   "outputs": [
    {
     "data": {
      "text/plain": [
       "77"
      ]
     },
     "execution_count": 6,
     "metadata": {},
     "output_type": "execute_result"
    }
   ],
   "source": [
    "sum(old_tr[header[1]])"
   ]
  },
  {
   "cell_type": "code",
   "execution_count": 8,
   "metadata": {
    "collapsed": false
   },
   "outputs": [
    {
     "data": {
      "text/plain": [
       "[0.00019067645975218524,\n",
       " 0.0001249631035664039,\n",
       " 0.605324505480063,\n",
       " 0.00044598900755595867,\n",
       " 0.077409256318716244,\n",
       " 0.0083003509739581205,\n",
       " 0.0094282507104583337,\n",
       " 0.10895489909229387,\n",
       " 0.036168200337400383,\n",
       " 0.00045460715262950381,\n",
       " 0.0012226993323092104,\n",
       " 0.034964891831506646,\n",
       " 0.07953578361561349,\n",
       " 0.016067454221490637,\n",
       " 0.0050028332151929276,\n",
       " 0.0080418066217517667,\n",
       " 0.0022482585960610767,\n",
       " 0.048881041589013588,\n",
       " 0.037604198760279831,\n",
       " 0.023145105863139549,\n",
       " 0.0032985950268993851,\n",
       " 0.049822573938298392,\n",
       " 0.054695057709253946,\n",
       " 0.12049028627323398]"
      ]
     },
     "execution_count": 8,
     "metadata": {},
     "output_type": "execute_result"
    }
   ],
   "source": [
    " map(lambda x: (sum(old_tr[x]) + 100.0)/old_tr.shape[0], header[1:])"
   ]
  },
  {
   "cell_type": "code",
   "execution_count": 9,
   "metadata": {
    "collapsed": false
   },
   "outputs": [
    {
     "ename": "KeyError",
     "evalue": "'the label [1567] is not in the [index]'",
     "output_type": "error",
     "traceback": [
      "\u001b[0;31m---------------------------------------------------------------------------\u001b[0m",
      "\u001b[0;31mKeyError\u001b[0m                                  Traceback (most recent call last)",
      "\u001b[0;32m<ipython-input-9-2d5f9fd898fd>\u001b[0m in \u001b[0;36m<module>\u001b[0;34m()\u001b[0m\n\u001b[0;32m----> 1\u001b[0;31m \u001b[0mold_tr\u001b[0m\u001b[0;34m.\u001b[0m\u001b[0mloc\u001b[0m\u001b[0;34m[\u001b[0m\u001b[0;36m1567\u001b[0m\u001b[0;34m]\u001b[0m\u001b[0;34m\u001b[0m\u001b[0m\n\u001b[0m",
      "\u001b[0;32m/usr/local/lib/python2.7/site-packages/pandas/core/indexing.pyc\u001b[0m in \u001b[0;36m__getitem__\u001b[0;34m(self, key)\u001b[0m\n\u001b[1;32m   1294\u001b[0m             \u001b[0;32mreturn\u001b[0m \u001b[0mself\u001b[0m\u001b[0;34m.\u001b[0m\u001b[0m_getitem_tuple\u001b[0m\u001b[0;34m(\u001b[0m\u001b[0mkey\u001b[0m\u001b[0;34m)\u001b[0m\u001b[0;34m\u001b[0m\u001b[0m\n\u001b[1;32m   1295\u001b[0m         \u001b[0;32melse\u001b[0m\u001b[0;34m:\u001b[0m\u001b[0;34m\u001b[0m\u001b[0m\n\u001b[0;32m-> 1296\u001b[0;31m             \u001b[0;32mreturn\u001b[0m \u001b[0mself\u001b[0m\u001b[0;34m.\u001b[0m\u001b[0m_getitem_axis\u001b[0m\u001b[0;34m(\u001b[0m\u001b[0mkey\u001b[0m\u001b[0;34m,\u001b[0m \u001b[0maxis\u001b[0m\u001b[0;34m=\u001b[0m\u001b[0;36m0\u001b[0m\u001b[0;34m)\u001b[0m\u001b[0;34m\u001b[0m\u001b[0m\n\u001b[0m\u001b[1;32m   1297\u001b[0m \u001b[0;34m\u001b[0m\u001b[0m\n\u001b[1;32m   1298\u001b[0m     \u001b[0;32mdef\u001b[0m \u001b[0m_getitem_axis\u001b[0m\u001b[0;34m(\u001b[0m\u001b[0mself\u001b[0m\u001b[0;34m,\u001b[0m \u001b[0mkey\u001b[0m\u001b[0;34m,\u001b[0m \u001b[0maxis\u001b[0m\u001b[0;34m=\u001b[0m\u001b[0;36m0\u001b[0m\u001b[0;34m)\u001b[0m\u001b[0;34m:\u001b[0m\u001b[0;34m\u001b[0m\u001b[0m\n",
      "\u001b[0;32m/usr/local/lib/python2.7/site-packages/pandas/core/indexing.pyc\u001b[0m in \u001b[0;36m_getitem_axis\u001b[0;34m(self, key, axis)\u001b[0m\n\u001b[1;32m   1464\u001b[0m \u001b[0;34m\u001b[0m\u001b[0m\n\u001b[1;32m   1465\u001b[0m         \u001b[0;31m# fall thru to straight lookup\u001b[0m\u001b[0;34m\u001b[0m\u001b[0;34m\u001b[0m\u001b[0m\n\u001b[0;32m-> 1466\u001b[0;31m         \u001b[0mself\u001b[0m\u001b[0;34m.\u001b[0m\u001b[0m_has_valid_type\u001b[0m\u001b[0;34m(\u001b[0m\u001b[0mkey\u001b[0m\u001b[0;34m,\u001b[0m \u001b[0maxis\u001b[0m\u001b[0;34m)\u001b[0m\u001b[0;34m\u001b[0m\u001b[0m\n\u001b[0m\u001b[1;32m   1467\u001b[0m         \u001b[0;32mreturn\u001b[0m \u001b[0mself\u001b[0m\u001b[0;34m.\u001b[0m\u001b[0m_get_label\u001b[0m\u001b[0;34m(\u001b[0m\u001b[0mkey\u001b[0m\u001b[0;34m,\u001b[0m \u001b[0maxis\u001b[0m\u001b[0;34m=\u001b[0m\u001b[0maxis\u001b[0m\u001b[0;34m)\u001b[0m\u001b[0;34m\u001b[0m\u001b[0m\n\u001b[1;32m   1468\u001b[0m \u001b[0;34m\u001b[0m\u001b[0m\n",
      "\u001b[0;32m/usr/local/lib/python2.7/site-packages/pandas/core/indexing.pyc\u001b[0m in \u001b[0;36m_has_valid_type\u001b[0;34m(self, key, axis)\u001b[0m\n\u001b[1;32m   1401\u001b[0m                 \u001b[0;32mraise\u001b[0m\u001b[0;34m\u001b[0m\u001b[0m\n\u001b[1;32m   1402\u001b[0m             \u001b[0;32mexcept\u001b[0m\u001b[0;34m:\u001b[0m\u001b[0;34m\u001b[0m\u001b[0m\n\u001b[0;32m-> 1403\u001b[0;31m                 \u001b[0merror\u001b[0m\u001b[0;34m(\u001b[0m\u001b[0;34m)\u001b[0m\u001b[0;34m\u001b[0m\u001b[0m\n\u001b[0m\u001b[1;32m   1404\u001b[0m \u001b[0;34m\u001b[0m\u001b[0m\n\u001b[1;32m   1405\u001b[0m         \u001b[0;32mreturn\u001b[0m \u001b[0mTrue\u001b[0m\u001b[0;34m\u001b[0m\u001b[0m\n",
      "\u001b[0;32m/usr/local/lib/python2.7/site-packages/pandas/core/indexing.pyc\u001b[0m in \u001b[0;36merror\u001b[0;34m()\u001b[0m\n\u001b[1;32m   1388\u001b[0m                                     \"key\")\n\u001b[1;32m   1389\u001b[0m                 raise KeyError(\"the label [%s] is not in the [%s]\" %\n\u001b[0;32m-> 1390\u001b[0;31m                                (key, self.obj._get_axis_name(axis)))\n\u001b[0m\u001b[1;32m   1391\u001b[0m \u001b[0;34m\u001b[0m\u001b[0m\n\u001b[1;32m   1392\u001b[0m             \u001b[0;32mtry\u001b[0m\u001b[0;34m:\u001b[0m\u001b[0;34m\u001b[0m\u001b[0m\n",
      "\u001b[0;31mKeyError\u001b[0m: 'the label [1567] is not in the [index]'"
     ]
    }
   ],
   "source": [
    "old_tr.loc[1567]"
   ]
  },
  {
   "cell_type": "code",
   "execution_count": 1,
   "metadata": {
    "collapsed": true
   },
   "outputs": [],
   "source": [
    "from scripts import bayesian"
   ]
  },
  {
   "cell_type": "code",
   "execution_count": null,
   "metadata": {
    "collapsed": false
   },
   "outputs": [
    {
     "name": "stderr",
     "output_type": "stream",
     "text": [
      "\n",
      "  0%|          | 0/931453 [00:00<?, ?it/s]\u001b[A\n",
      "  0%|          | 1/931453 [00:00<49:13:38,  5.26it/s]\u001b[A\n",
      "  0%|          | 57/931453 [00:00<34:36:19,  7.48it/s]\u001b[A\n",
      "  0%|          | 114/931453 [00:00<24:21:31, 10.62it/s]\u001b[A\n",
      "  0%|          | 173/931453 [00:00<17:10:58, 15.05it/s]\u001b[A\n",
      "  0%|          | 232/931453 [00:00<12:09:34, 21.27it/s]\u001b[A\n",
      "  0%|          | 293/931453 [00:00<8:38:18, 29.94it/s] \u001b[A\n",
      "  0%|          | 350/931453 [00:00<6:10:59, 41.83it/s]\u001b[A\n",
      "  0%|          | 402/931453 [00:00<4:29:26, 57.59it/s]\u001b[A\n",
      "  0%|          | 453/931453 [00:01<3:18:19, 78.24it/s]\u001b[A\n",
      "  0%|          | 503/931453 [00:01<2:30:40, 102.97it/s]\u001b[A\n",
      "  0%|          | 564/931453 [00:01<1:53:12, 137.05it/s]\u001b[A\n",
      "  0%|          | 626/931453 [00:01<1:26:47, 178.76it/s]\u001b[A\n",
      "  0%|          | 680/931453 [00:01<1:10:42, 219.40it/s]\u001b[A\n",
      "  0%|          | 732/931453 [00:01<1:03:24, 244.62it/s]\u001b[A\n",
      "  0%|          | 779/931453 [00:01<55:55, 277.36it/s]  \u001b[A\n",
      "  0%|          | 824/931453 [00:01<49:42, 312.06it/s]\u001b[A\n",
      "  0%|          | 869/931453 [00:01<45:10, 343.32it/s]\u001b[A\n",
      "  0%|          | 917/931453 [00:02<41:21, 375.04it/s]\u001b[A\n",
      "  0%|          | 968/931453 [00:02<38:07, 406.78it/s]\u001b[A\n",
      "  0%|          | 1016/931453 [00:02<42:56, 361.17it/s]\u001b[A\n",
      "  0%|          | 1058/931453 [00:02<46:09, 335.96it/s]\u001b[A\n",
      "  0%|          | 1096/931453 [00:02<46:03, 336.71it/s]\u001b[A\n",
      "  0%|          | 1137/931453 [00:02<43:41, 354.87it/s]\u001b[A\n",
      "  0%|          | 1188/931453 [00:02<39:46, 389.88it/s]\u001b[A\n",
      "  0%|          | 1247/931453 [00:02<35:51, 432.45it/s]\u001b[A\n",
      "  0%|          | 1306/931453 [00:02<32:59, 469.88it/s]\u001b[A\n",
      "  0%|          | 1367/931453 [00:03<30:45, 503.85it/s]\u001b[A\n",
      "  0%|          | 1421/931453 [00:03<32:24, 478.17it/s]\u001b[A\n",
      "  0%|          | 1472/931453 [00:03<37:55, 408.66it/s]\u001b[A\n",
      "  0%|          | 1517/931453 [00:03<38:50, 399.05it/s]\u001b[A\n",
      "  0%|          | 1560/931453 [00:03<39:41, 390.49it/s]\u001b[A\n",
      "  0%|          | 1604/931453 [00:03<38:27, 402.98it/s]\u001b[A\n",
      "  0%|          | 1650/931453 [00:03<37:10, 416.81it/s]\u001b[A\n",
      "  0%|          | 1702/931453 [00:03<35:00, 442.62it/s]\u001b[A\n",
      "  0%|          | 1749/931453 [00:03<34:34, 448.08it/s]\u001b[A\n",
      "  0%|          | 1795/931453 [00:04<36:50, 420.48it/s]\u001b[A\n",
      "  0%|          | 1838/931453 [00:04<36:57, 419.21it/s]\u001b[A\n",
      "  0%|          | 1881/931453 [00:04<36:45, 421.45it/s]\u001b[A\n",
      "  0%|          | 1934/931453 [00:04<34:34, 447.97it/s]\u001b[A\n",
      "  0%|          | 1986/931453 [00:04<33:11, 466.81it/s]\u001b[A\n",
      "  0%|          | 2034/931453 [00:04<36:29, 424.51it/s]\u001b[A\n",
      "  0%|          | 2088/931453 [00:04<34:14, 452.44it/s]\u001b[A\n",
      "  0%|          | 2135/931453 [00:04<34:52, 444.03it/s]\u001b[A\n",
      "  0%|          | 2181/931453 [00:05<38:50, 398.71it/s]\u001b[A\n",
      "  0%|          | 2223/931453 [00:05<38:43, 399.89it/s]\u001b[A\n",
      "  0%|          | 2265/931453 [00:05<40:40, 380.70it/s]\u001b[A\n",
      "  0%|          | 2305/931453 [00:05<41:30, 373.05it/s]\u001b[A\n",
      "  0%|          | 2359/931453 [00:05<37:43, 410.48it/s]\u001b[A\n",
      "  0%|          | 2413/931453 [00:05<35:05, 441.27it/s]\u001b[A\n",
      "  0%|          | 2459/931453 [00:05<34:55, 443.36it/s]\u001b[A\n",
      "  0%|          | 2505/931453 [00:05<38:21, 403.69it/s]\u001b[A\n",
      "  0%|          | 2547/931453 [00:05<41:00, 377.51it/s]\u001b[A\n",
      "  0%|          | 2587/931453 [00:06<41:58, 368.81it/s]\u001b[A\n",
      "  0%|          | 2625/931453 [00:06<41:57, 368.94it/s]\u001b[A\n",
      "  0%|          | 2670/931453 [00:06<39:53, 388.11it/s]\u001b[A\n",
      "  0%|          | 2711/931453 [00:06<39:28, 392.11it/s]\u001b[A\n",
      "  0%|          | 2751/931453 [00:06<40:47, 379.41it/s]\u001b[A\n",
      "  0%|          | 2800/931453 [00:06<38:02, 406.80it/s]\u001b[A\n",
      "  0%|          | 2854/931453 [00:06<35:21, 437.63it/s]\u001b[A\n",
      "  0%|          | 2905/931453 [00:06<33:56, 456.01it/s]\u001b[A\n",
      "  0%|          | 2952/931453 [00:06<34:16, 451.47it/s]\u001b[A\n",
      "  0%|          | 3003/931453 [00:06<33:12, 465.93it/s]\u001b[A\n",
      "  0%|          | 3061/931453 [00:07<31:19, 493.84it/s]"
     ]
    }
   ],
   "source": [
    "td = bayesian.generate_submission((2016, 5, 28), (2016, 6, 28))"
   ]
  },
  {
   "cell_type": "code",
   "execution_count": null,
   "metadata": {
    "collapsed": true
   },
   "outputs": [],
   "source": [
    "from scripts.kaggle.helpers import make_submission\n",
    "filename = 'data/submissions/proper_bayesian_submission_user_defined_by_previous_subscriptions.csv'\n",
    "description = 'bayes submission, where user is defined by his previous subscriptions'\n",
    "test_data.to_csv(filename, index=False)\n",
    "make_submission(filename, description=description, submit=True, compress=True)\n",
    "# make_submission('data/submissions/2_bayesian_prob_products_counters_with_old_1_ignored.csv', description=\"2. based on bayesian probabilities, where probs are calculated only for prods when there is a transition from 0 to 1\", submit=True, compress=True)\n"
   ]
  }
 ],
 "metadata": {
  "kernelspec": {
   "display_name": "Python 2",
   "language": "python",
   "name": "python2"
  },
  "language_info": {
   "codemirror_mode": {
    "name": "ipython",
    "version": 2
   },
   "file_extension": ".py",
   "mimetype": "text/x-python",
   "name": "python",
   "nbconvert_exporter": "python",
   "pygments_lexer": "ipython2",
   "version": "2.7.12"
  }
 },
 "nbformat": 4,
 "nbformat_minor": 0
}
