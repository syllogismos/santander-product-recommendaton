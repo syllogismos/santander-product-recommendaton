{
 "cells": [
  {
   "cell_type": "markdown",
   "metadata": {},
   "source": [
    "# Based on simple bayesian probabilities.\n",
    "\n",
    "The idea is that given previous months products that a user is subscribed to,  \n",
    "identify new products that he will be interested in.\n",
    "\n",
    "\n",
    "lets just consider 2016-05 data.. and from identify what products a given  \n",
    "user will be interested in 2016-06\n",
    "\n",
    "for example consider two products A, B  \n",
    "calculate P(B = 1 on 05th given A = 0 on 04th) and P(B = 1 on 05th given A = 1 on 04th)  \n",
    "While calculating these probabilities you don't consider data where B = 1 on 04th\n",
    "\n",
    "\n",
    "Month |  A  |  B\n",
    "----|----|----\n",
    "2016-04 | 0 | 0\n",
    "2016-05 | 1 | 1\n"
   ]
  },
  {
   "cell_type": "code",
   "execution_count": 1,
   "metadata": {
    "collapsed": true
   },
   "outputs": [],
   "source": [
    "from collections import Counter\n",
    "\n",
    "n = 24 # number of products\n",
    "\n",
    "counters = [[Counter() for _ in range(n)] for i in range(n)]\n",
    "old = [0, 1, 1, 1, 0, 1, 0, 1, 0, 1, 0, 0, 0, 0, 1, 0, 1, 1, 1, 0, 1, 1, 0, 0, 1]\n",
    "new = [1, 1, 1, 1, 0, 1, 0, 1, 0, 1, 1, 1, 0, 0, 1, 0, 1, 1, 1, 0, 1, 1, 0, 1, 1]\n",
    "\n",
    "def updateCounter(old, new, counters):\n",
    "    \"\"\"\n",
    "    given older months product data and \n",
    "    newer months product data update counter object\n",
    "    old = [0, 1, 1, 1, 0, 1, 0, 1, 0, 1, 0, 0, 0, 0, 1, 0, 1, 1, 1, 0, 1, 1, 0, 0, 1]\n",
    "    new = [1, 1, 1, 1, 0, 1, 0, 1, 0, 1, 1, 1, 0, 0, 1, 0, 1, 1, 1, 0, 1, 1, 0, 1, 1]\n",
    "    \n",
    "    counters[i][j] contains counter, c = {'00': m, '01': n, '11': o, '10': p}\n",
    "    and p(j = 1 on new given i = 1 on old) = (c['11']*1.0)/(c['10'] + c['11'])\n",
    "    and p(j = 1 on new given i = 0 on old) = (c['01']*1.0)/(c['00'] + c['01]))\n",
    "    \"\"\"\n",
    "    n = len(old)\n",
    "    for i in range(n):\n",
    "        for j in range(n):\n",
    "            if old[j] == 1:\n",
    "                # have this condition if a user subscribed to a product \n",
    "                # in the older month.\n",
    "                continue\n",
    "            a = int(old[i])\n",
    "            b = int(new[j])\n",
    "            ab = str(a) + str(b)\n",
    "            counters[i][j][ab] += 1\n",
    "            \n",
    "    \n",
    "    return counters"
   ]
  },
  {
   "cell_type": "code",
   "execution_count": 2,
   "metadata": {
    "collapsed": true
   },
   "outputs": [],
   "source": [
    "def updateCounter2(old, new, counters):\n",
    "    \"\"\"\n",
    "    given older months product data and \n",
    "    newer months product data update counter object\n",
    "    old = [0, 1, 1, 1, 0, 1, 0, 1, 0, 1, 0, 0, 0, 0, 1, 0, 1, 1, 1, 0, 1, 1, 0, 0, 1]\n",
    "    new = [1, 1, 1, 1, 0, 1, 0, 1, 0, 1, 1, 1, 0, 0, 1, 0, 1, 1, 1, 0, 1, 1, 0, 1, 1]\n",
    "    \n",
    "    counters[i][j] contains counter, c = {'00': m, '01': n, '11': o, '10': p}\n",
    "    and p(j = 1 on new given i = 1 on old) = (c['11']*1.0)/(c['10'] + c['11'])\n",
    "    and p(j = 1 on new given i = 0 on old) = (c['01']*1.0)/(c['00'] + c['01]))\n",
    "    \"\"\"\n",
    "    n = len(old)\n",
    "    for i in range(n):\n",
    "        for j in range(n):\n",
    "            #if old[j] == 1:\n",
    "            #    # have this condition if a user subscribed to a product \n",
    "            #    # in the older month.\n",
    "            #    continue\n",
    "            a = int(old[i])\n",
    "            b = int(new[j])\n",
    "            ab = str(a) + str(b)\n",
    "            counters[i][j][ab] += 1\n",
    "            \n",
    "    \n",
    "    return counters"
   ]
  },
  {
   "cell_type": "code",
   "execution_count": 3,
   "metadata": {
    "collapsed": false
   },
   "outputs": [
    {
     "data": {
      "text/plain": [
       "[[Counter({'01': 1}), Counter(), Counter({'00': 1}), Counter()],\n",
       " [Counter({'11': 1}), Counter(), Counter({'10': 1}), Counter()],\n",
       " [Counter({'01': 1}), Counter(), Counter({'00': 1}), Counter()],\n",
       " [Counter({'11': 1}), Counter(), Counter({'10': 1}), Counter()]]"
      ]
     },
     "execution_count": 3,
     "metadata": {},
     "output_type": "execute_result"
    }
   ],
   "source": [
    "counters = [[Counter() for _ in range(4)] for i in range(4)]\n",
    "old = [0, 1, 0, 1]\n",
    "new = [1, 1, 0, 1]\n",
    "newCounters = updateCounter(old, new, counters)\n",
    "\n",
    "newCounters"
   ]
  },
  {
   "cell_type": "code",
   "execution_count": 4,
   "metadata": {
    "collapsed": true
   },
   "outputs": [],
   "source": [
    "import pandas\n",
    "from tqdm import tqdm"
   ]
  },
  {
   "cell_type": "code",
   "execution_count": 5,
   "metadata": {
    "collapsed": true
   },
   "outputs": [],
   "source": [
    "\n",
    "\n",
    "header = [\"ncodpers\",\"ind_ahor_fin_ult1\",\"ind_aval_fin_ult1\",\"ind_cco_fin_ult1\",\"ind_cder_fin_ult1\",\"ind_cno_fin_ult1\",\"ind_ctju_fin_ult1\",\"ind_ctma_fin_ult1\",\"ind_ctop_fin_ult1\",\"ind_ctpp_fin_ult1\",\"ind_deco_fin_ult1\",\"ind_deme_fin_ult1\",\"ind_dela_fin_ult1\",\"ind_ecue_fin_ult1\",\"ind_fond_fin_ult1\",\"ind_hip_fin_ult1\",\"ind_plan_fin_ult1\",\"ind_pres_fin_ult1\",\"ind_reca_fin_ult1\",\"ind_tjcr_fin_ult1\",\"ind_valo_fin_ult1\",\"ind_viv_fin_ult1\",\"ind_nomina_ult1\",\"ind_nom_pens_ult1\",\"ind_recibo_ult1\"]\n",
    "\n",
    "old_tr = pandas.read_csv('data/train_2016_04_28.csv', header=None, names=header, usecols=[1] + range(24, 48), index_col=0)\n",
    "new_tr = pandas.read_csv('data/train_2016_05_28.csv', header=None, names=header, usecols=[1] + range(24, 48), index_col=0)"
   ]
  },
  {
   "cell_type": "code",
   "execution_count": 6,
   "metadata": {
    "collapsed": false
   },
   "outputs": [],
   "source": [
    "indices = list(new_tr.index)"
   ]
  },
  {
   "cell_type": "code",
   "execution_count": 7,
   "metadata": {
    "collapsed": false
   },
   "outputs": [],
   "source": [
    "n = 24 # number of products\n",
    "\n",
    "counters = [[Counter() for _ in range(n)] for i in range(n)]"
   ]
  },
  {
   "cell_type": "code",
   "execution_count": 8,
   "metadata": {
    "collapsed": false
   },
   "outputs": [
    {
     "name": "stderr",
     "output_type": "stream",
     "text": [
      "100%|██████████| 931453/931453 [16:57<00:00, 915.77it/s] \n"
     ]
    }
   ],
   "source": [
    "for i in tqdm(indices):\n",
    "    try:\n",
    "        old = list(old_tr.loc[i])\n",
    "        new = list(new_tr.loc[i])\n",
    "        counters = updateCounter(old, new, counters)\n",
    "    except Exception:\n",
    "        pass"
   ]
  },
  {
   "cell_type": "code",
   "execution_count": 9,
   "metadata": {
    "collapsed": true
   },
   "outputs": [],
   "source": [
    "counters2 = [[Counter() for _ in range(n)] for i in range(n)]"
   ]
  },
  {
   "cell_type": "code",
   "execution_count": 10,
   "metadata": {
    "collapsed": false
   },
   "outputs": [
    {
     "name": "stderr",
     "output_type": "stream",
     "text": [
      "100%|██████████| 931453/931453 [15:58<00:00, 971.47it/s] \n"
     ]
    }
   ],
   "source": [
    "for i in tqdm(indices):\n",
    "    try:\n",
    "        old = list(old_tr.loc[i])\n",
    "        new = list(new_tr.loc[i])\n",
    "        counters2 = updateCounter2(old, new, counters2)\n",
    "    except Exception:\n",
    "        pass"
   ]
  },
  {
   "cell_type": "code",
   "execution_count": 15,
   "metadata": {
    "collapsed": false
   },
   "outputs": [
    {
     "data": {
      "text/plain": [
       "Counter({'00': 926570, '01': 16, '10': 77})"
      ]
     },
     "execution_count": 15,
     "metadata": {},
     "output_type": "execute_result"
    }
   ],
   "source": [
    "counters2[0][1]"
   ]
  },
  {
   "cell_type": "code",
   "execution_count": 16,
   "metadata": {
    "collapsed": true
   },
   "outputs": [],
   "source": [
    "def get_prob_matrix(counters):\n",
    "    \"\"\"\n",
    "    returns two prob matrices\n",
    "    prob0[i][j] contains P(j_new = 1/i_old = 0)\n",
    "    prob1[i][j] contains P(j_new = 1/i_old = 1)\n",
    "    \"\"\"\n",
    "    prob0 = [[0.0 for i in range(n)] for j in range(n)]\n",
    "    prob1 = [[0.0 for i in range(n)] for j in range(n)]\n",
    "    for i in range(n):\n",
    "        for j in range(n):\n",
    "            c = counters[i][j]\n",
    "            prob1[i][j] = ((c['11'] + 1)*1.0)/(c['10'] + c['11'] + 2)\n",
    "            prob0[i][j] = ((c['01'] + 1)*1.0)/(c['00'] + c['01'] + 2)\n",
    "    return (prob0, prob1)"
   ]
  },
  {
   "cell_type": "code",
   "execution_count": 47,
   "metadata": {
    "collapsed": true
   },
   "outputs": [],
   "source": [
    "from operator import mul\n",
    "prob0, prob1 = get_prob_matrix(counters)\n",
    "\n",
    "def get_probabilities_of_unsubscribed_prods(products):\n",
    "    \"\"\"\n",
    "    products = subscription data [0, 1, 1, 0, 0, 1]\n",
    "    returns a list of products in descending order of probs \n",
    "    \"\"\"\n",
    "    product_names = header[1:]\n",
    "    prob_dict = {}\n",
    "    for i, prod in enumerate(products):\n",
    "        if prod == 0:\n",
    "            temp_list = []\n",
    "            for j in range(n):\n",
    "                if i == j:\n",
    "                    continue\n",
    "                if products[j] == 0:\n",
    "                    temp_list.append(prob0[j][i])\n",
    "                if products[i] == 1:\n",
    "                    temp_list.append(prob1[i][j])\n",
    "            prob_dict[product_names[i]] = reduce(mul, temp_list, 1)\n",
    "    sorted_prods = sorted(prob_dict.items(), cmp = lambda x, y: cmp(x[1], y[1]), reverse = True)[:7]\n",
    "    # print sorted_prods\n",
    "    product_string = ' '.join(map(lambda x: x[0], sorted_prods))\n",
    "    return product_string\n",
    "    "
   ]
  },
  {
   "cell_type": "code",
   "execution_count": 48,
   "metadata": {
    "collapsed": false
   },
   "outputs": [
    {
     "data": {
      "text/plain": [
       "'ind_recibo_ult1 ind_cco_fin_ult1 ind_nom_pens_ult1 ind_nomina_ult1 ind_tjcr_fin_ult1 ind_ecue_fin_ult1 ind_cno_fin_ult1'"
      ]
     },
     "execution_count": 48,
     "metadata": {},
     "output_type": "execute_result"
    }
   ],
   "source": [
    "get_probabilities_of_unsubscribed_prods([0]*24)"
   ]
  },
  {
   "cell_type": "code",
   "execution_count": 30,
   "metadata": {
    "collapsed": false
   },
   "outputs": [],
   "source": [
    "te = pandas.read_csv('data/test_ver2.csv', usecols = [1])\n",
    "te[\"added_products\"] = [\"ind_tjcr_fin_ult1\"]*te.shape[0]"
   ]
  },
  {
   "cell_type": "code",
   "execution_count": 49,
   "metadata": {
    "collapsed": false
   },
   "outputs": [
    {
     "name": "stdout",
     "output_type": "stream",
     "text": [
      "0 rows processed\n",
      "100000 rows processed\n",
      "200000 rows processed\n",
      "300000 rows processed\n",
      "400000 rows processed\n",
      "500000 rows processed\n",
      "600000 rows processed\n",
      "700000 rows processed\n",
      "800000 rows processed\n",
      "900000 rows processed\n"
     ]
    }
   ],
   "source": [
    "\n",
    "\n",
    "for i in te.index:\n",
    "    if i % 100000 == 0:\n",
    "        print i, \"rows processed\"\n",
    "    person = te.loc[i][\"ncodpers\"]\n",
    "    # print i, person\n",
    "    row = list(new_tr.loc[person])\n",
    "    # print row\n",
    "    added_products = get_probabilities_of_unsubscribed_prods(row)\n",
    "    # print added_products\n",
    "    te.set_value(i,\"added_products\",added_products)"
   ]
  },
  {
   "cell_type": "code",
   "execution_count": 50,
   "metadata": {
    "collapsed": true
   },
   "outputs": [],
   "source": [
    "te.to_csv('data/submissions/2_bayesian_prob_products_counters_with_old_1_ignored.csv', index=False)"
   ]
  },
  {
   "cell_type": "code",
   "execution_count": 51,
   "metadata": {
    "collapsed": false
   },
   "outputs": [
    {
     "name": "stdout",
     "output_type": "stream",
     "text": [
      "Compressing file\n",
      "Compression done\n",
      "Uploading submission data/submissions/2_bayesian_prob_products_counters_with_old_1_ignored.csv.zip\n",
      "Upload done\n"
     ]
    }
   ],
   "source": [
    "from scripts.kaggle.helpers import make_submission\n",
    "make_submission('data/submissions/2_bayesian_prob_products_counters_with_old_1_ignored.csv', description=\"2. based on bayesian probabilities, where probs are calculated only for prods when there is a transition from 0 to 1\", submit=True, compress=True)"
   ]
  },
  {
   "cell_type": "code",
   "execution_count": null,
   "metadata": {
    "collapsed": true
   },
   "outputs": [],
   "source": []
  }
 ],
 "metadata": {
  "kernelspec": {
   "display_name": "Python 2",
   "language": "python",
   "name": "python2"
  },
  "language_info": {
   "codemirror_mode": {
    "name": "ipython",
    "version": 2
   },
   "file_extension": ".py",
   "mimetype": "text/x-python",
   "name": "python",
   "nbconvert_exporter": "python",
   "pygments_lexer": "ipython2",
   "version": "2.7.12"
  }
 },
 "nbformat": 4,
 "nbformat_minor": 0
}
